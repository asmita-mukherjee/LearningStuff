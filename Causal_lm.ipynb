{
  "metadata": {
    "kernelspec": {
      "display_name": "Python 3",
      "name": "python3"
    },
    "language_info": {
      "name": "python",
      "version": "3.10.12",
      "mimetype": "text/x-python",
      "codemirror_mode": {
        "name": "ipython",
        "version": 3
      },
      "pygments_lexer": "ipython3",
      "nbconvert_exporter": "python",
      "file_extension": ".py"
    },
    "kaggle": {
      "accelerator": "gpu",
      "dataSources": [
        {
          "sourceId": 6667539,
          "sourceType": "datasetVersion",
          "datasetId": 3847392
        },
        {
          "sourceId": 7045013,
          "sourceType": "datasetVersion",
          "datasetId": 4053823
        }
      ],
      "dockerImageVersionId": 30587,
      "isInternetEnabled": true,
      "language": "python",
      "sourceType": "notebook",
      "isGpuEnabled": true
    },
    "colab": {
      "provenance": [],
      "include_colab_link": true
    },
    "widgets": {
      "application/vnd.jupyter.widget-state+json": {
        "cad4d797e5064d7eab18073c91ef8427": {
          "model_module": "@jupyter-widgets/controls",
          "model_name": "HBoxModel",
          "model_module_version": "1.5.0",
          "state": {
            "_dom_classes": [],
            "_model_module": "@jupyter-widgets/controls",
            "_model_module_version": "1.5.0",
            "_model_name": "HBoxModel",
            "_view_count": null,
            "_view_module": "@jupyter-widgets/controls",
            "_view_module_version": "1.5.0",
            "_view_name": "HBoxView",
            "box_style": "",
            "children": [
              "IPY_MODEL_584af331043445ffab31db889d79b4ee",
              "IPY_MODEL_7057389cb1954520b0255d775f75467e",
              "IPY_MODEL_8bff2768f1894fce9c10917a978d84dc"
            ],
            "layout": "IPY_MODEL_8fa16de2d57e43b6a412430fc13acea5"
          }
        },
        "584af331043445ffab31db889d79b4ee": {
          "model_module": "@jupyter-widgets/controls",
          "model_name": "HTMLModel",
          "model_module_version": "1.5.0",
          "state": {
            "_dom_classes": [],
            "_model_module": "@jupyter-widgets/controls",
            "_model_module_version": "1.5.0",
            "_model_name": "HTMLModel",
            "_view_count": null,
            "_view_module": "@jupyter-widgets/controls",
            "_view_module_version": "1.5.0",
            "_view_name": "HTMLView",
            "description": "",
            "description_tooltip": null,
            "layout": "IPY_MODEL_da2aef09ebb94d5ea67e89ca672dcb87",
            "placeholder": "​",
            "style": "IPY_MODEL_6c132a0d842b4b9281185e060413eadf",
            "value": "100%"
          }
        },
        "7057389cb1954520b0255d775f75467e": {
          "model_module": "@jupyter-widgets/controls",
          "model_name": "FloatProgressModel",
          "model_module_version": "1.5.0",
          "state": {
            "_dom_classes": [],
            "_model_module": "@jupyter-widgets/controls",
            "_model_module_version": "1.5.0",
            "_model_name": "FloatProgressModel",
            "_view_count": null,
            "_view_module": "@jupyter-widgets/controls",
            "_view_module_version": "1.5.0",
            "_view_name": "ProgressView",
            "bar_style": "success",
            "description": "",
            "description_tooltip": null,
            "layout": "IPY_MODEL_65ebef1e3a77469da40fcfbbb6d1d4a2",
            "max": 1,
            "min": 0,
            "orientation": "horizontal",
            "style": "IPY_MODEL_6a3fc8ed77dc48018b29394a5a7309e0",
            "value": 1
          }
        },
        "8bff2768f1894fce9c10917a978d84dc": {
          "model_module": "@jupyter-widgets/controls",
          "model_name": "HTMLModel",
          "model_module_version": "1.5.0",
          "state": {
            "_dom_classes": [],
            "_model_module": "@jupyter-widgets/controls",
            "_model_module_version": "1.5.0",
            "_model_name": "HTMLModel",
            "_view_count": null,
            "_view_module": "@jupyter-widgets/controls",
            "_view_module_version": "1.5.0",
            "_view_name": "HTMLView",
            "description": "",
            "description_tooltip": null,
            "layout": "IPY_MODEL_ac055765fb5141d9a6396577568cc848",
            "placeholder": "​",
            "style": "IPY_MODEL_a2a7464c486746d0878d17f204a36119",
            "value": " 1/1 [00:00&lt;00:00, 31.40it/s]"
          }
        },
        "8fa16de2d57e43b6a412430fc13acea5": {
          "model_module": "@jupyter-widgets/base",
          "model_name": "LayoutModel",
          "model_module_version": "1.2.0",
          "state": {
            "_model_module": "@jupyter-widgets/base",
            "_model_module_version": "1.2.0",
            "_model_name": "LayoutModel",
            "_view_count": null,
            "_view_module": "@jupyter-widgets/base",
            "_view_module_version": "1.2.0",
            "_view_name": "LayoutView",
            "align_content": null,
            "align_items": null,
            "align_self": null,
            "border": null,
            "bottom": null,
            "display": null,
            "flex": null,
            "flex_flow": null,
            "grid_area": null,
            "grid_auto_columns": null,
            "grid_auto_flow": null,
            "grid_auto_rows": null,
            "grid_column": null,
            "grid_gap": null,
            "grid_row": null,
            "grid_template_areas": null,
            "grid_template_columns": null,
            "grid_template_rows": null,
            "height": null,
            "justify_content": null,
            "justify_items": null,
            "left": null,
            "margin": null,
            "max_height": null,
            "max_width": null,
            "min_height": null,
            "min_width": null,
            "object_fit": null,
            "object_position": null,
            "order": null,
            "overflow": null,
            "overflow_x": null,
            "overflow_y": null,
            "padding": null,
            "right": null,
            "top": null,
            "visibility": null,
            "width": null
          }
        },
        "da2aef09ebb94d5ea67e89ca672dcb87": {
          "model_module": "@jupyter-widgets/base",
          "model_name": "LayoutModel",
          "model_module_version": "1.2.0",
          "state": {
            "_model_module": "@jupyter-widgets/base",
            "_model_module_version": "1.2.0",
            "_model_name": "LayoutModel",
            "_view_count": null,
            "_view_module": "@jupyter-widgets/base",
            "_view_module_version": "1.2.0",
            "_view_name": "LayoutView",
            "align_content": null,
            "align_items": null,
            "align_self": null,
            "border": null,
            "bottom": null,
            "display": null,
            "flex": null,
            "flex_flow": null,
            "grid_area": null,
            "grid_auto_columns": null,
            "grid_auto_flow": null,
            "grid_auto_rows": null,
            "grid_column": null,
            "grid_gap": null,
            "grid_row": null,
            "grid_template_areas": null,
            "grid_template_columns": null,
            "grid_template_rows": null,
            "height": null,
            "justify_content": null,
            "justify_items": null,
            "left": null,
            "margin": null,
            "max_height": null,
            "max_width": null,
            "min_height": null,
            "min_width": null,
            "object_fit": null,
            "object_position": null,
            "order": null,
            "overflow": null,
            "overflow_x": null,
            "overflow_y": null,
            "padding": null,
            "right": null,
            "top": null,
            "visibility": null,
            "width": null
          }
        },
        "6c132a0d842b4b9281185e060413eadf": {
          "model_module": "@jupyter-widgets/controls",
          "model_name": "DescriptionStyleModel",
          "model_module_version": "1.5.0",
          "state": {
            "_model_module": "@jupyter-widgets/controls",
            "_model_module_version": "1.5.0",
            "_model_name": "DescriptionStyleModel",
            "_view_count": null,
            "_view_module": "@jupyter-widgets/base",
            "_view_module_version": "1.2.0",
            "_view_name": "StyleView",
            "description_width": ""
          }
        },
        "65ebef1e3a77469da40fcfbbb6d1d4a2": {
          "model_module": "@jupyter-widgets/base",
          "model_name": "LayoutModel",
          "model_module_version": "1.2.0",
          "state": {
            "_model_module": "@jupyter-widgets/base",
            "_model_module_version": "1.2.0",
            "_model_name": "LayoutModel",
            "_view_count": null,
            "_view_module": "@jupyter-widgets/base",
            "_view_module_version": "1.2.0",
            "_view_name": "LayoutView",
            "align_content": null,
            "align_items": null,
            "align_self": null,
            "border": null,
            "bottom": null,
            "display": null,
            "flex": null,
            "flex_flow": null,
            "grid_area": null,
            "grid_auto_columns": null,
            "grid_auto_flow": null,
            "grid_auto_rows": null,
            "grid_column": null,
            "grid_gap": null,
            "grid_row": null,
            "grid_template_areas": null,
            "grid_template_columns": null,
            "grid_template_rows": null,
            "height": null,
            "justify_content": null,
            "justify_items": null,
            "left": null,
            "margin": null,
            "max_height": null,
            "max_width": null,
            "min_height": null,
            "min_width": null,
            "object_fit": null,
            "object_position": null,
            "order": null,
            "overflow": null,
            "overflow_x": null,
            "overflow_y": null,
            "padding": null,
            "right": null,
            "top": null,
            "visibility": null,
            "width": null
          }
        },
        "6a3fc8ed77dc48018b29394a5a7309e0": {
          "model_module": "@jupyter-widgets/controls",
          "model_name": "ProgressStyleModel",
          "model_module_version": "1.5.0",
          "state": {
            "_model_module": "@jupyter-widgets/controls",
            "_model_module_version": "1.5.0",
            "_model_name": "ProgressStyleModel",
            "_view_count": null,
            "_view_module": "@jupyter-widgets/base",
            "_view_module_version": "1.2.0",
            "_view_name": "StyleView",
            "bar_color": null,
            "description_width": ""
          }
        },
        "ac055765fb5141d9a6396577568cc848": {
          "model_module": "@jupyter-widgets/base",
          "model_name": "LayoutModel",
          "model_module_version": "1.2.0",
          "state": {
            "_model_module": "@jupyter-widgets/base",
            "_model_module_version": "1.2.0",
            "_model_name": "LayoutModel",
            "_view_count": null,
            "_view_module": "@jupyter-widgets/base",
            "_view_module_version": "1.2.0",
            "_view_name": "LayoutView",
            "align_content": null,
            "align_items": null,
            "align_self": null,
            "border": null,
            "bottom": null,
            "display": null,
            "flex": null,
            "flex_flow": null,
            "grid_area": null,
            "grid_auto_columns": null,
            "grid_auto_flow": null,
            "grid_auto_rows": null,
            "grid_column": null,
            "grid_gap": null,
            "grid_row": null,
            "grid_template_areas": null,
            "grid_template_columns": null,
            "grid_template_rows": null,
            "height": null,
            "justify_content": null,
            "justify_items": null,
            "left": null,
            "margin": null,
            "max_height": null,
            "max_width": null,
            "min_height": null,
            "min_width": null,
            "object_fit": null,
            "object_position": null,
            "order": null,
            "overflow": null,
            "overflow_x": null,
            "overflow_y": null,
            "padding": null,
            "right": null,
            "top": null,
            "visibility": null,
            "width": null
          }
        },
        "a2a7464c486746d0878d17f204a36119": {
          "model_module": "@jupyter-widgets/controls",
          "model_name": "DescriptionStyleModel",
          "model_module_version": "1.5.0",
          "state": {
            "_model_module": "@jupyter-widgets/controls",
            "_model_module_version": "1.5.0",
            "_model_name": "DescriptionStyleModel",
            "_view_count": null,
            "_view_module": "@jupyter-widgets/base",
            "_view_module_version": "1.2.0",
            "_view_name": "StyleView",
            "description_width": ""
          }
        },
        "b0b88893dbc549af87fae2f25f8734c1": {
          "model_module": "@jupyter-widgets/controls",
          "model_name": "HBoxModel",
          "model_module_version": "1.5.0",
          "state": {
            "_dom_classes": [],
            "_model_module": "@jupyter-widgets/controls",
            "_model_module_version": "1.5.0",
            "_model_name": "HBoxModel",
            "_view_count": null,
            "_view_module": "@jupyter-widgets/controls",
            "_view_module_version": "1.5.0",
            "_view_name": "HBoxView",
            "box_style": "",
            "children": [
              "IPY_MODEL_a34b93c82d4c4a13b60bd391cbbe103c",
              "IPY_MODEL_11caa02ba2384ead81a6c75573f3cc88",
              "IPY_MODEL_5ccd65f3c0c94fb897fb62f10574b0cd"
            ],
            "layout": "IPY_MODEL_e1463a2ae98349479650680a11045871"
          }
        },
        "a34b93c82d4c4a13b60bd391cbbe103c": {
          "model_module": "@jupyter-widgets/controls",
          "model_name": "HTMLModel",
          "model_module_version": "1.5.0",
          "state": {
            "_dom_classes": [],
            "_model_module": "@jupyter-widgets/controls",
            "_model_module_version": "1.5.0",
            "_model_name": "HTMLModel",
            "_view_count": null,
            "_view_module": "@jupyter-widgets/controls",
            "_view_module_version": "1.5.0",
            "_view_name": "HTMLView",
            "description": "",
            "description_tooltip": null,
            "layout": "IPY_MODEL_122172ac86874715a27d2a0d93273856",
            "placeholder": "​",
            "style": "IPY_MODEL_ae4005b846a8409798ada77601b93256",
            "value": "100%"
          }
        },
        "11caa02ba2384ead81a6c75573f3cc88": {
          "model_module": "@jupyter-widgets/controls",
          "model_name": "FloatProgressModel",
          "model_module_version": "1.5.0",
          "state": {
            "_dom_classes": [],
            "_model_module": "@jupyter-widgets/controls",
            "_model_module_version": "1.5.0",
            "_model_name": "FloatProgressModel",
            "_view_count": null,
            "_view_module": "@jupyter-widgets/controls",
            "_view_module_version": "1.5.0",
            "_view_name": "ProgressView",
            "bar_style": "success",
            "description": "",
            "description_tooltip": null,
            "layout": "IPY_MODEL_d1ec51d1884641c6b51efc542d885003",
            "max": 50,
            "min": 0,
            "orientation": "horizontal",
            "style": "IPY_MODEL_257c58e378164a83a2f569bb6a41f803",
            "value": 50
          }
        },
        "5ccd65f3c0c94fb897fb62f10574b0cd": {
          "model_module": "@jupyter-widgets/controls",
          "model_name": "HTMLModel",
          "model_module_version": "1.5.0",
          "state": {
            "_dom_classes": [],
            "_model_module": "@jupyter-widgets/controls",
            "_model_module_version": "1.5.0",
            "_model_name": "HTMLModel",
            "_view_count": null,
            "_view_module": "@jupyter-widgets/controls",
            "_view_module_version": "1.5.0",
            "_view_name": "HTMLView",
            "description": "",
            "description_tooltip": null,
            "layout": "IPY_MODEL_a42d0c88d84f488bba6198c0b4938eb8",
            "placeholder": "​",
            "style": "IPY_MODEL_9af8b469e3044f2db4cabbd3b9258e45",
            "value": " 50/50 [00:06&lt;00:00,  7.87it/s]"
          }
        },
        "e1463a2ae98349479650680a11045871": {
          "model_module": "@jupyter-widgets/base",
          "model_name": "LayoutModel",
          "model_module_version": "1.2.0",
          "state": {
            "_model_module": "@jupyter-widgets/base",
            "_model_module_version": "1.2.0",
            "_model_name": "LayoutModel",
            "_view_count": null,
            "_view_module": "@jupyter-widgets/base",
            "_view_module_version": "1.2.0",
            "_view_name": "LayoutView",
            "align_content": null,
            "align_items": null,
            "align_self": null,
            "border": null,
            "bottom": null,
            "display": null,
            "flex": null,
            "flex_flow": null,
            "grid_area": null,
            "grid_auto_columns": null,
            "grid_auto_flow": null,
            "grid_auto_rows": null,
            "grid_column": null,
            "grid_gap": null,
            "grid_row": null,
            "grid_template_areas": null,
            "grid_template_columns": null,
            "grid_template_rows": null,
            "height": null,
            "justify_content": null,
            "justify_items": null,
            "left": null,
            "margin": null,
            "max_height": null,
            "max_width": null,
            "min_height": null,
            "min_width": null,
            "object_fit": null,
            "object_position": null,
            "order": null,
            "overflow": null,
            "overflow_x": null,
            "overflow_y": null,
            "padding": null,
            "right": null,
            "top": null,
            "visibility": null,
            "width": null
          }
        },
        "122172ac86874715a27d2a0d93273856": {
          "model_module": "@jupyter-widgets/base",
          "model_name": "LayoutModel",
          "model_module_version": "1.2.0",
          "state": {
            "_model_module": "@jupyter-widgets/base",
            "_model_module_version": "1.2.0",
            "_model_name": "LayoutModel",
            "_view_count": null,
            "_view_module": "@jupyter-widgets/base",
            "_view_module_version": "1.2.0",
            "_view_name": "LayoutView",
            "align_content": null,
            "align_items": null,
            "align_self": null,
            "border": null,
            "bottom": null,
            "display": null,
            "flex": null,
            "flex_flow": null,
            "grid_area": null,
            "grid_auto_columns": null,
            "grid_auto_flow": null,
            "grid_auto_rows": null,
            "grid_column": null,
            "grid_gap": null,
            "grid_row": null,
            "grid_template_areas": null,
            "grid_template_columns": null,
            "grid_template_rows": null,
            "height": null,
            "justify_content": null,
            "justify_items": null,
            "left": null,
            "margin": null,
            "max_height": null,
            "max_width": null,
            "min_height": null,
            "min_width": null,
            "object_fit": null,
            "object_position": null,
            "order": null,
            "overflow": null,
            "overflow_x": null,
            "overflow_y": null,
            "padding": null,
            "right": null,
            "top": null,
            "visibility": null,
            "width": null
          }
        },
        "ae4005b846a8409798ada77601b93256": {
          "model_module": "@jupyter-widgets/controls",
          "model_name": "DescriptionStyleModel",
          "model_module_version": "1.5.0",
          "state": {
            "_model_module": "@jupyter-widgets/controls",
            "_model_module_version": "1.5.0",
            "_model_name": "DescriptionStyleModel",
            "_view_count": null,
            "_view_module": "@jupyter-widgets/base",
            "_view_module_version": "1.2.0",
            "_view_name": "StyleView",
            "description_width": ""
          }
        },
        "d1ec51d1884641c6b51efc542d885003": {
          "model_module": "@jupyter-widgets/base",
          "model_name": "LayoutModel",
          "model_module_version": "1.2.0",
          "state": {
            "_model_module": "@jupyter-widgets/base",
            "_model_module_version": "1.2.0",
            "_model_name": "LayoutModel",
            "_view_count": null,
            "_view_module": "@jupyter-widgets/base",
            "_view_module_version": "1.2.0",
            "_view_name": "LayoutView",
            "align_content": null,
            "align_items": null,
            "align_self": null,
            "border": null,
            "bottom": null,
            "display": null,
            "flex": null,
            "flex_flow": null,
            "grid_area": null,
            "grid_auto_columns": null,
            "grid_auto_flow": null,
            "grid_auto_rows": null,
            "grid_column": null,
            "grid_gap": null,
            "grid_row": null,
            "grid_template_areas": null,
            "grid_template_columns": null,
            "grid_template_rows": null,
            "height": null,
            "justify_content": null,
            "justify_items": null,
            "left": null,
            "margin": null,
            "max_height": null,
            "max_width": null,
            "min_height": null,
            "min_width": null,
            "object_fit": null,
            "object_position": null,
            "order": null,
            "overflow": null,
            "overflow_x": null,
            "overflow_y": null,
            "padding": null,
            "right": null,
            "top": null,
            "visibility": null,
            "width": null
          }
        },
        "257c58e378164a83a2f569bb6a41f803": {
          "model_module": "@jupyter-widgets/controls",
          "model_name": "ProgressStyleModel",
          "model_module_version": "1.5.0",
          "state": {
            "_model_module": "@jupyter-widgets/controls",
            "_model_module_version": "1.5.0",
            "_model_name": "ProgressStyleModel",
            "_view_count": null,
            "_view_module": "@jupyter-widgets/base",
            "_view_module_version": "1.2.0",
            "_view_name": "StyleView",
            "bar_color": null,
            "description_width": ""
          }
        },
        "a42d0c88d84f488bba6198c0b4938eb8": {
          "model_module": "@jupyter-widgets/base",
          "model_name": "LayoutModel",
          "model_module_version": "1.2.0",
          "state": {
            "_model_module": "@jupyter-widgets/base",
            "_model_module_version": "1.2.0",
            "_model_name": "LayoutModel",
            "_view_count": null,
            "_view_module": "@jupyter-widgets/base",
            "_view_module_version": "1.2.0",
            "_view_name": "LayoutView",
            "align_content": null,
            "align_items": null,
            "align_self": null,
            "border": null,
            "bottom": null,
            "display": null,
            "flex": null,
            "flex_flow": null,
            "grid_area": null,
            "grid_auto_columns": null,
            "grid_auto_flow": null,
            "grid_auto_rows": null,
            "grid_column": null,
            "grid_gap": null,
            "grid_row": null,
            "grid_template_areas": null,
            "grid_template_columns": null,
            "grid_template_rows": null,
            "height": null,
            "justify_content": null,
            "justify_items": null,
            "left": null,
            "margin": null,
            "max_height": null,
            "max_width": null,
            "min_height": null,
            "min_width": null,
            "object_fit": null,
            "object_position": null,
            "order": null,
            "overflow": null,
            "overflow_x": null,
            "overflow_y": null,
            "padding": null,
            "right": null,
            "top": null,
            "visibility": null,
            "width": null
          }
        },
        "9af8b469e3044f2db4cabbd3b9258e45": {
          "model_module": "@jupyter-widgets/controls",
          "model_name": "DescriptionStyleModel",
          "model_module_version": "1.5.0",
          "state": {
            "_model_module": "@jupyter-widgets/controls",
            "_model_module_version": "1.5.0",
            "_model_name": "DescriptionStyleModel",
            "_view_count": null,
            "_view_module": "@jupyter-widgets/base",
            "_view_module_version": "1.2.0",
            "_view_name": "StyleView",
            "description_width": ""
          }
        },
        "1bf2ed52f3404b968de352cd959cb6dd": {
          "model_module": "@jupyter-widgets/controls",
          "model_name": "HBoxModel",
          "model_module_version": "1.5.0",
          "state": {
            "_dom_classes": [],
            "_model_module": "@jupyter-widgets/controls",
            "_model_module_version": "1.5.0",
            "_model_name": "HBoxModel",
            "_view_count": null,
            "_view_module": "@jupyter-widgets/controls",
            "_view_module_version": "1.5.0",
            "_view_name": "HBoxView",
            "box_style": "",
            "children": [
              "IPY_MODEL_4b92524ae6314b88b201817725a62493",
              "IPY_MODEL_1477d62a963b402bbec5c6d52c73018b",
              "IPY_MODEL_24e13e960d234c489eab45228b7caff0"
            ],
            "layout": "IPY_MODEL_2472d79413174f5ba2abecea9f246a61"
          }
        },
        "4b92524ae6314b88b201817725a62493": {
          "model_module": "@jupyter-widgets/controls",
          "model_name": "HTMLModel",
          "model_module_version": "1.5.0",
          "state": {
            "_dom_classes": [],
            "_model_module": "@jupyter-widgets/controls",
            "_model_module_version": "1.5.0",
            "_model_name": "HTMLModel",
            "_view_count": null,
            "_view_module": "@jupyter-widgets/controls",
            "_view_module_version": "1.5.0",
            "_view_name": "HTMLView",
            "description": "",
            "description_tooltip": null,
            "layout": "IPY_MODEL_d4d862d4d9904046942cfcd9a7455c56",
            "placeholder": "​",
            "style": "IPY_MODEL_25af78cd369b4c549b5cbb87a81a51c1",
            "value": "100%"
          }
        },
        "1477d62a963b402bbec5c6d52c73018b": {
          "model_module": "@jupyter-widgets/controls",
          "model_name": "FloatProgressModel",
          "model_module_version": "1.5.0",
          "state": {
            "_dom_classes": [],
            "_model_module": "@jupyter-widgets/controls",
            "_model_module_version": "1.5.0",
            "_model_name": "FloatProgressModel",
            "_view_count": null,
            "_view_module": "@jupyter-widgets/controls",
            "_view_module_version": "1.5.0",
            "_view_name": "ProgressView",
            "bar_style": "success",
            "description": "",
            "description_tooltip": null,
            "layout": "IPY_MODEL_006b2e6c361844d6bea2eeb3d46a789c",
            "max": 5,
            "min": 0,
            "orientation": "horizontal",
            "style": "IPY_MODEL_56047628e79e43fea5de54bdaa99ab09",
            "value": 5
          }
        },
        "24e13e960d234c489eab45228b7caff0": {
          "model_module": "@jupyter-widgets/controls",
          "model_name": "HTMLModel",
          "model_module_version": "1.5.0",
          "state": {
            "_dom_classes": [],
            "_model_module": "@jupyter-widgets/controls",
            "_model_module_version": "1.5.0",
            "_model_name": "HTMLModel",
            "_view_count": null,
            "_view_module": "@jupyter-widgets/controls",
            "_view_module_version": "1.5.0",
            "_view_name": "HTMLView",
            "description": "",
            "description_tooltip": null,
            "layout": "IPY_MODEL_384a9572f49b4010838f58bef98d55ad",
            "placeholder": "​",
            "style": "IPY_MODEL_7881be3211be4acab76c130655ee7c25",
            "value": " 5/5 [00:00&lt;00:00,  8.67it/s]"
          }
        },
        "2472d79413174f5ba2abecea9f246a61": {
          "model_module": "@jupyter-widgets/base",
          "model_name": "LayoutModel",
          "model_module_version": "1.2.0",
          "state": {
            "_model_module": "@jupyter-widgets/base",
            "_model_module_version": "1.2.0",
            "_model_name": "LayoutModel",
            "_view_count": null,
            "_view_module": "@jupyter-widgets/base",
            "_view_module_version": "1.2.0",
            "_view_name": "LayoutView",
            "align_content": null,
            "align_items": null,
            "align_self": null,
            "border": null,
            "bottom": null,
            "display": null,
            "flex": null,
            "flex_flow": null,
            "grid_area": null,
            "grid_auto_columns": null,
            "grid_auto_flow": null,
            "grid_auto_rows": null,
            "grid_column": null,
            "grid_gap": null,
            "grid_row": null,
            "grid_template_areas": null,
            "grid_template_columns": null,
            "grid_template_rows": null,
            "height": null,
            "justify_content": null,
            "justify_items": null,
            "left": null,
            "margin": null,
            "max_height": null,
            "max_width": null,
            "min_height": null,
            "min_width": null,
            "object_fit": null,
            "object_position": null,
            "order": null,
            "overflow": null,
            "overflow_x": null,
            "overflow_y": null,
            "padding": null,
            "right": null,
            "top": null,
            "visibility": null,
            "width": null
          }
        },
        "d4d862d4d9904046942cfcd9a7455c56": {
          "model_module": "@jupyter-widgets/base",
          "model_name": "LayoutModel",
          "model_module_version": "1.2.0",
          "state": {
            "_model_module": "@jupyter-widgets/base",
            "_model_module_version": "1.2.0",
            "_model_name": "LayoutModel",
            "_view_count": null,
            "_view_module": "@jupyter-widgets/base",
            "_view_module_version": "1.2.0",
            "_view_name": "LayoutView",
            "align_content": null,
            "align_items": null,
            "align_self": null,
            "border": null,
            "bottom": null,
            "display": null,
            "flex": null,
            "flex_flow": null,
            "grid_area": null,
            "grid_auto_columns": null,
            "grid_auto_flow": null,
            "grid_auto_rows": null,
            "grid_column": null,
            "grid_gap": null,
            "grid_row": null,
            "grid_template_areas": null,
            "grid_template_columns": null,
            "grid_template_rows": null,
            "height": null,
            "justify_content": null,
            "justify_items": null,
            "left": null,
            "margin": null,
            "max_height": null,
            "max_width": null,
            "min_height": null,
            "min_width": null,
            "object_fit": null,
            "object_position": null,
            "order": null,
            "overflow": null,
            "overflow_x": null,
            "overflow_y": null,
            "padding": null,
            "right": null,
            "top": null,
            "visibility": null,
            "width": null
          }
        },
        "25af78cd369b4c549b5cbb87a81a51c1": {
          "model_module": "@jupyter-widgets/controls",
          "model_name": "DescriptionStyleModel",
          "model_module_version": "1.5.0",
          "state": {
            "_model_module": "@jupyter-widgets/controls",
            "_model_module_version": "1.5.0",
            "_model_name": "DescriptionStyleModel",
            "_view_count": null,
            "_view_module": "@jupyter-widgets/base",
            "_view_module_version": "1.2.0",
            "_view_name": "StyleView",
            "description_width": ""
          }
        },
        "006b2e6c361844d6bea2eeb3d46a789c": {
          "model_module": "@jupyter-widgets/base",
          "model_name": "LayoutModel",
          "model_module_version": "1.2.0",
          "state": {
            "_model_module": "@jupyter-widgets/base",
            "_model_module_version": "1.2.0",
            "_model_name": "LayoutModel",
            "_view_count": null,
            "_view_module": "@jupyter-widgets/base",
            "_view_module_version": "1.2.0",
            "_view_name": "LayoutView",
            "align_content": null,
            "align_items": null,
            "align_self": null,
            "border": null,
            "bottom": null,
            "display": null,
            "flex": null,
            "flex_flow": null,
            "grid_area": null,
            "grid_auto_columns": null,
            "grid_auto_flow": null,
            "grid_auto_rows": null,
            "grid_column": null,
            "grid_gap": null,
            "grid_row": null,
            "grid_template_areas": null,
            "grid_template_columns": null,
            "grid_template_rows": null,
            "height": null,
            "justify_content": null,
            "justify_items": null,
            "left": null,
            "margin": null,
            "max_height": null,
            "max_width": null,
            "min_height": null,
            "min_width": null,
            "object_fit": null,
            "object_position": null,
            "order": null,
            "overflow": null,
            "overflow_x": null,
            "overflow_y": null,
            "padding": null,
            "right": null,
            "top": null,
            "visibility": null,
            "width": null
          }
        },
        "56047628e79e43fea5de54bdaa99ab09": {
          "model_module": "@jupyter-widgets/controls",
          "model_name": "ProgressStyleModel",
          "model_module_version": "1.5.0",
          "state": {
            "_model_module": "@jupyter-widgets/controls",
            "_model_module_version": "1.5.0",
            "_model_name": "ProgressStyleModel",
            "_view_count": null,
            "_view_module": "@jupyter-widgets/base",
            "_view_module_version": "1.2.0",
            "_view_name": "StyleView",
            "bar_color": null,
            "description_width": ""
          }
        },
        "384a9572f49b4010838f58bef98d55ad": {
          "model_module": "@jupyter-widgets/base",
          "model_name": "LayoutModel",
          "model_module_version": "1.2.0",
          "state": {
            "_model_module": "@jupyter-widgets/base",
            "_model_module_version": "1.2.0",
            "_model_name": "LayoutModel",
            "_view_count": null,
            "_view_module": "@jupyter-widgets/base",
            "_view_module_version": "1.2.0",
            "_view_name": "LayoutView",
            "align_content": null,
            "align_items": null,
            "align_self": null,
            "border": null,
            "bottom": null,
            "display": null,
            "flex": null,
            "flex_flow": null,
            "grid_area": null,
            "grid_auto_columns": null,
            "grid_auto_flow": null,
            "grid_auto_rows": null,
            "grid_column": null,
            "grid_gap": null,
            "grid_row": null,
            "grid_template_areas": null,
            "grid_template_columns": null,
            "grid_template_rows": null,
            "height": null,
            "justify_content": null,
            "justify_items": null,
            "left": null,
            "margin": null,
            "max_height": null,
            "max_width": null,
            "min_height": null,
            "min_width": null,
            "object_fit": null,
            "object_position": null,
            "order": null,
            "overflow": null,
            "overflow_x": null,
            "overflow_y": null,
            "padding": null,
            "right": null,
            "top": null,
            "visibility": null,
            "width": null
          }
        },
        "7881be3211be4acab76c130655ee7c25": {
          "model_module": "@jupyter-widgets/controls",
          "model_name": "DescriptionStyleModel",
          "model_module_version": "1.5.0",
          "state": {
            "_model_module": "@jupyter-widgets/controls",
            "_model_module_version": "1.5.0",
            "_model_name": "DescriptionStyleModel",
            "_view_count": null,
            "_view_module": "@jupyter-widgets/base",
            "_view_module_version": "1.2.0",
            "_view_name": "StyleView",
            "description_width": ""
          }
        },
        "54fc4422c9f940399d053ccfce8c1560": {
          "model_module": "@jupyter-widgets/controls",
          "model_name": "HBoxModel",
          "model_module_version": "1.5.0",
          "state": {
            "_dom_classes": [],
            "_model_module": "@jupyter-widgets/controls",
            "_model_module_version": "1.5.0",
            "_model_name": "HBoxModel",
            "_view_count": null,
            "_view_module": "@jupyter-widgets/controls",
            "_view_module_version": "1.5.0",
            "_view_name": "HBoxView",
            "box_style": "",
            "children": [
              "IPY_MODEL_701ec5cfd7934b8386dec066aaa8f830",
              "IPY_MODEL_28474dd5e03a48cc91f09cdf459eb8bd",
              "IPY_MODEL_7e11bece4a364ab082485bfee20c9d6d"
            ],
            "layout": "IPY_MODEL_bb65c2c1bb80448d95545a320ab61be3"
          }
        },
        "701ec5cfd7934b8386dec066aaa8f830": {
          "model_module": "@jupyter-widgets/controls",
          "model_name": "HTMLModel",
          "model_module_version": "1.5.0",
          "state": {
            "_dom_classes": [],
            "_model_module": "@jupyter-widgets/controls",
            "_model_module_version": "1.5.0",
            "_model_name": "HTMLModel",
            "_view_count": null,
            "_view_module": "@jupyter-widgets/controls",
            "_view_module_version": "1.5.0",
            "_view_name": "HTMLView",
            "description": "",
            "description_tooltip": null,
            "layout": "IPY_MODEL_f39a7be866114590b3ebc4940aaec2bd",
            "placeholder": "​",
            "style": "IPY_MODEL_0648c87a7f4c4cdcbd5944bd3d3ccb4c",
            "value": ""
          }
        },
        "28474dd5e03a48cc91f09cdf459eb8bd": {
          "model_module": "@jupyter-widgets/controls",
          "model_name": "FloatProgressModel",
          "model_module_version": "1.5.0",
          "state": {
            "_dom_classes": [],
            "_model_module": "@jupyter-widgets/controls",
            "_model_module_version": "1.5.0",
            "_model_name": "FloatProgressModel",
            "_view_count": null,
            "_view_module": "@jupyter-widgets/controls",
            "_view_module_version": "1.5.0",
            "_view_name": "ProgressView",
            "bar_style": "success",
            "description": "",
            "description_tooltip": null,
            "layout": "IPY_MODEL_c72481d637bf4d1eba13b673dff5e6ee",
            "max": 1,
            "min": 0,
            "orientation": "horizontal",
            "style": "IPY_MODEL_13e8c5211e0f4421a882436410021452",
            "value": 1
          }
        },
        "7e11bece4a364ab082485bfee20c9d6d": {
          "model_module": "@jupyter-widgets/controls",
          "model_name": "HTMLModel",
          "model_module_version": "1.5.0",
          "state": {
            "_dom_classes": [],
            "_model_module": "@jupyter-widgets/controls",
            "_model_module_version": "1.5.0",
            "_model_name": "HTMLModel",
            "_view_count": null,
            "_view_module": "@jupyter-widgets/controls",
            "_view_module_version": "1.5.0",
            "_view_name": "HTMLView",
            "description": "",
            "description_tooltip": null,
            "layout": "IPY_MODEL_1ffdf97d91404beaad4ba734967fd12d",
            "placeholder": "​",
            "style": "IPY_MODEL_a124582fdfbc436588040d117b1cd262",
            "value": " 360/? [01:30&lt;00:00,  5.24it/s]"
          }
        },
        "bb65c2c1bb80448d95545a320ab61be3": {
          "model_module": "@jupyter-widgets/base",
          "model_name": "LayoutModel",
          "model_module_version": "1.2.0",
          "state": {
            "_model_module": "@jupyter-widgets/base",
            "_model_module_version": "1.2.0",
            "_model_name": "LayoutModel",
            "_view_count": null,
            "_view_module": "@jupyter-widgets/base",
            "_view_module_version": "1.2.0",
            "_view_name": "LayoutView",
            "align_content": null,
            "align_items": null,
            "align_self": null,
            "border": null,
            "bottom": null,
            "display": null,
            "flex": null,
            "flex_flow": null,
            "grid_area": null,
            "grid_auto_columns": null,
            "grid_auto_flow": null,
            "grid_auto_rows": null,
            "grid_column": null,
            "grid_gap": null,
            "grid_row": null,
            "grid_template_areas": null,
            "grid_template_columns": null,
            "grid_template_rows": null,
            "height": null,
            "justify_content": null,
            "justify_items": null,
            "left": null,
            "margin": null,
            "max_height": null,
            "max_width": null,
            "min_height": null,
            "min_width": null,
            "object_fit": null,
            "object_position": null,
            "order": null,
            "overflow": null,
            "overflow_x": null,
            "overflow_y": null,
            "padding": null,
            "right": null,
            "top": null,
            "visibility": null,
            "width": null
          }
        },
        "f39a7be866114590b3ebc4940aaec2bd": {
          "model_module": "@jupyter-widgets/base",
          "model_name": "LayoutModel",
          "model_module_version": "1.2.0",
          "state": {
            "_model_module": "@jupyter-widgets/base",
            "_model_module_version": "1.2.0",
            "_model_name": "LayoutModel",
            "_view_count": null,
            "_view_module": "@jupyter-widgets/base",
            "_view_module_version": "1.2.0",
            "_view_name": "LayoutView",
            "align_content": null,
            "align_items": null,
            "align_self": null,
            "border": null,
            "bottom": null,
            "display": null,
            "flex": null,
            "flex_flow": null,
            "grid_area": null,
            "grid_auto_columns": null,
            "grid_auto_flow": null,
            "grid_auto_rows": null,
            "grid_column": null,
            "grid_gap": null,
            "grid_row": null,
            "grid_template_areas": null,
            "grid_template_columns": null,
            "grid_template_rows": null,
            "height": null,
            "justify_content": null,
            "justify_items": null,
            "left": null,
            "margin": null,
            "max_height": null,
            "max_width": null,
            "min_height": null,
            "min_width": null,
            "object_fit": null,
            "object_position": null,
            "order": null,
            "overflow": null,
            "overflow_x": null,
            "overflow_y": null,
            "padding": null,
            "right": null,
            "top": null,
            "visibility": null,
            "width": null
          }
        },
        "0648c87a7f4c4cdcbd5944bd3d3ccb4c": {
          "model_module": "@jupyter-widgets/controls",
          "model_name": "DescriptionStyleModel",
          "model_module_version": "1.5.0",
          "state": {
            "_model_module": "@jupyter-widgets/controls",
            "_model_module_version": "1.5.0",
            "_model_name": "DescriptionStyleModel",
            "_view_count": null,
            "_view_module": "@jupyter-widgets/base",
            "_view_module_version": "1.2.0",
            "_view_name": "StyleView",
            "description_width": ""
          }
        },
        "c72481d637bf4d1eba13b673dff5e6ee": {
          "model_module": "@jupyter-widgets/base",
          "model_name": "LayoutModel",
          "model_module_version": "1.2.0",
          "state": {
            "_model_module": "@jupyter-widgets/base",
            "_model_module_version": "1.2.0",
            "_model_name": "LayoutModel",
            "_view_count": null,
            "_view_module": "@jupyter-widgets/base",
            "_view_module_version": "1.2.0",
            "_view_name": "LayoutView",
            "align_content": null,
            "align_items": null,
            "align_self": null,
            "border": null,
            "bottom": null,
            "display": null,
            "flex": null,
            "flex_flow": null,
            "grid_area": null,
            "grid_auto_columns": null,
            "grid_auto_flow": null,
            "grid_auto_rows": null,
            "grid_column": null,
            "grid_gap": null,
            "grid_row": null,
            "grid_template_areas": null,
            "grid_template_columns": null,
            "grid_template_rows": null,
            "height": null,
            "justify_content": null,
            "justify_items": null,
            "left": null,
            "margin": null,
            "max_height": null,
            "max_width": null,
            "min_height": null,
            "min_width": null,
            "object_fit": null,
            "object_position": null,
            "order": null,
            "overflow": null,
            "overflow_x": null,
            "overflow_y": null,
            "padding": null,
            "right": null,
            "top": null,
            "visibility": null,
            "width": "20px"
          }
        },
        "13e8c5211e0f4421a882436410021452": {
          "model_module": "@jupyter-widgets/controls",
          "model_name": "ProgressStyleModel",
          "model_module_version": "1.5.0",
          "state": {
            "_model_module": "@jupyter-widgets/controls",
            "_model_module_version": "1.5.0",
            "_model_name": "ProgressStyleModel",
            "_view_count": null,
            "_view_module": "@jupyter-widgets/base",
            "_view_module_version": "1.2.0",
            "_view_name": "StyleView",
            "bar_color": null,
            "description_width": ""
          }
        },
        "1ffdf97d91404beaad4ba734967fd12d": {
          "model_module": "@jupyter-widgets/base",
          "model_name": "LayoutModel",
          "model_module_version": "1.2.0",
          "state": {
            "_model_module": "@jupyter-widgets/base",
            "_model_module_version": "1.2.0",
            "_model_name": "LayoutModel",
            "_view_count": null,
            "_view_module": "@jupyter-widgets/base",
            "_view_module_version": "1.2.0",
            "_view_name": "LayoutView",
            "align_content": null,
            "align_items": null,
            "align_self": null,
            "border": null,
            "bottom": null,
            "display": null,
            "flex": null,
            "flex_flow": null,
            "grid_area": null,
            "grid_auto_columns": null,
            "grid_auto_flow": null,
            "grid_auto_rows": null,
            "grid_column": null,
            "grid_gap": null,
            "grid_row": null,
            "grid_template_areas": null,
            "grid_template_columns": null,
            "grid_template_rows": null,
            "height": null,
            "justify_content": null,
            "justify_items": null,
            "left": null,
            "margin": null,
            "max_height": null,
            "max_width": null,
            "min_height": null,
            "min_width": null,
            "object_fit": null,
            "object_position": null,
            "order": null,
            "overflow": null,
            "overflow_x": null,
            "overflow_y": null,
            "padding": null,
            "right": null,
            "top": null,
            "visibility": null,
            "width": null
          }
        },
        "a124582fdfbc436588040d117b1cd262": {
          "model_module": "@jupyter-widgets/controls",
          "model_name": "DescriptionStyleModel",
          "model_module_version": "1.5.0",
          "state": {
            "_model_module": "@jupyter-widgets/controls",
            "_model_module_version": "1.5.0",
            "_model_name": "DescriptionStyleModel",
            "_view_count": null,
            "_view_module": "@jupyter-widgets/base",
            "_view_module_version": "1.2.0",
            "_view_name": "StyleView",
            "description_width": ""
          }
        },
        "f829486eabe24bd1bcd9626bb09f2c1b": {
          "model_module": "@jupyter-widgets/controls",
          "model_name": "HBoxModel",
          "model_module_version": "1.5.0",
          "state": {
            "_dom_classes": [],
            "_model_module": "@jupyter-widgets/controls",
            "_model_module_version": "1.5.0",
            "_model_name": "HBoxModel",
            "_view_count": null,
            "_view_module": "@jupyter-widgets/controls",
            "_view_module_version": "1.5.0",
            "_view_name": "HBoxView",
            "box_style": "",
            "children": [
              "IPY_MODEL_5f1d467e752d422d813ab35373e6acd5",
              "IPY_MODEL_4d6a6948940a44738b756c1a828a9d91",
              "IPY_MODEL_b1311abc5cbd4245862728398d052f65"
            ],
            "layout": "IPY_MODEL_a4b2fabce1c04465b02940a95ecbc3fe"
          }
        },
        "5f1d467e752d422d813ab35373e6acd5": {
          "model_module": "@jupyter-widgets/controls",
          "model_name": "HTMLModel",
          "model_module_version": "1.5.0",
          "state": {
            "_dom_classes": [],
            "_model_module": "@jupyter-widgets/controls",
            "_model_module_version": "1.5.0",
            "_model_name": "HTMLModel",
            "_view_count": null,
            "_view_module": "@jupyter-widgets/controls",
            "_view_module_version": "1.5.0",
            "_view_name": "HTMLView",
            "description": "",
            "description_tooltip": null,
            "layout": "IPY_MODEL_3713a12aeee84232b602cff22001936b",
            "placeholder": "​",
            "style": "IPY_MODEL_8018b88007984b6d97e36c23ca84f5f9",
            "value": ""
          }
        },
        "4d6a6948940a44738b756c1a828a9d91": {
          "model_module": "@jupyter-widgets/controls",
          "model_name": "FloatProgressModel",
          "model_module_version": "1.5.0",
          "state": {
            "_dom_classes": [],
            "_model_module": "@jupyter-widgets/controls",
            "_model_module_version": "1.5.0",
            "_model_name": "FloatProgressModel",
            "_view_count": null,
            "_view_module": "@jupyter-widgets/controls",
            "_view_module_version": "1.5.0",
            "_view_name": "ProgressView",
            "bar_style": "success",
            "description": "",
            "description_tooltip": null,
            "layout": "IPY_MODEL_4e87e06062a94a8691746affb4906fb7",
            "max": 1,
            "min": 0,
            "orientation": "horizontal",
            "style": "IPY_MODEL_fa76b98626284e5ba39a77f60f2d03e8",
            "value": 1
          }
        },
        "b1311abc5cbd4245862728398d052f65": {
          "model_module": "@jupyter-widgets/controls",
          "model_name": "HTMLModel",
          "model_module_version": "1.5.0",
          "state": {
            "_dom_classes": [],
            "_model_module": "@jupyter-widgets/controls",
            "_model_module_version": "1.5.0",
            "_model_name": "HTMLModel",
            "_view_count": null,
            "_view_module": "@jupyter-widgets/controls",
            "_view_module_version": "1.5.0",
            "_view_name": "HTMLView",
            "description": "",
            "description_tooltip": null,
            "layout": "IPY_MODEL_055d17e0c2064587bac34dd51778fb31",
            "placeholder": "​",
            "style": "IPY_MODEL_3b0326dd10114cadae8da36e4c65137e",
            "value": " 36/? [00:08&lt;00:00,  4.00it/s]"
          }
        },
        "a4b2fabce1c04465b02940a95ecbc3fe": {
          "model_module": "@jupyter-widgets/base",
          "model_name": "LayoutModel",
          "model_module_version": "1.2.0",
          "state": {
            "_model_module": "@jupyter-widgets/base",
            "_model_module_version": "1.2.0",
            "_model_name": "LayoutModel",
            "_view_count": null,
            "_view_module": "@jupyter-widgets/base",
            "_view_module_version": "1.2.0",
            "_view_name": "LayoutView",
            "align_content": null,
            "align_items": null,
            "align_self": null,
            "border": null,
            "bottom": null,
            "display": null,
            "flex": null,
            "flex_flow": null,
            "grid_area": null,
            "grid_auto_columns": null,
            "grid_auto_flow": null,
            "grid_auto_rows": null,
            "grid_column": null,
            "grid_gap": null,
            "grid_row": null,
            "grid_template_areas": null,
            "grid_template_columns": null,
            "grid_template_rows": null,
            "height": null,
            "justify_content": null,
            "justify_items": null,
            "left": null,
            "margin": null,
            "max_height": null,
            "max_width": null,
            "min_height": null,
            "min_width": null,
            "object_fit": null,
            "object_position": null,
            "order": null,
            "overflow": null,
            "overflow_x": null,
            "overflow_y": null,
            "padding": null,
            "right": null,
            "top": null,
            "visibility": null,
            "width": null
          }
        },
        "3713a12aeee84232b602cff22001936b": {
          "model_module": "@jupyter-widgets/base",
          "model_name": "LayoutModel",
          "model_module_version": "1.2.0",
          "state": {
            "_model_module": "@jupyter-widgets/base",
            "_model_module_version": "1.2.0",
            "_model_name": "LayoutModel",
            "_view_count": null,
            "_view_module": "@jupyter-widgets/base",
            "_view_module_version": "1.2.0",
            "_view_name": "LayoutView",
            "align_content": null,
            "align_items": null,
            "align_self": null,
            "border": null,
            "bottom": null,
            "display": null,
            "flex": null,
            "flex_flow": null,
            "grid_area": null,
            "grid_auto_columns": null,
            "grid_auto_flow": null,
            "grid_auto_rows": null,
            "grid_column": null,
            "grid_gap": null,
            "grid_row": null,
            "grid_template_areas": null,
            "grid_template_columns": null,
            "grid_template_rows": null,
            "height": null,
            "justify_content": null,
            "justify_items": null,
            "left": null,
            "margin": null,
            "max_height": null,
            "max_width": null,
            "min_height": null,
            "min_width": null,
            "object_fit": null,
            "object_position": null,
            "order": null,
            "overflow": null,
            "overflow_x": null,
            "overflow_y": null,
            "padding": null,
            "right": null,
            "top": null,
            "visibility": null,
            "width": null
          }
        },
        "8018b88007984b6d97e36c23ca84f5f9": {
          "model_module": "@jupyter-widgets/controls",
          "model_name": "DescriptionStyleModel",
          "model_module_version": "1.5.0",
          "state": {
            "_model_module": "@jupyter-widgets/controls",
            "_model_module_version": "1.5.0",
            "_model_name": "DescriptionStyleModel",
            "_view_count": null,
            "_view_module": "@jupyter-widgets/base",
            "_view_module_version": "1.2.0",
            "_view_name": "StyleView",
            "description_width": ""
          }
        },
        "4e87e06062a94a8691746affb4906fb7": {
          "model_module": "@jupyter-widgets/base",
          "model_name": "LayoutModel",
          "model_module_version": "1.2.0",
          "state": {
            "_model_module": "@jupyter-widgets/base",
            "_model_module_version": "1.2.0",
            "_model_name": "LayoutModel",
            "_view_count": null,
            "_view_module": "@jupyter-widgets/base",
            "_view_module_version": "1.2.0",
            "_view_name": "LayoutView",
            "align_content": null,
            "align_items": null,
            "align_self": null,
            "border": null,
            "bottom": null,
            "display": null,
            "flex": null,
            "flex_flow": null,
            "grid_area": null,
            "grid_auto_columns": null,
            "grid_auto_flow": null,
            "grid_auto_rows": null,
            "grid_column": null,
            "grid_gap": null,
            "grid_row": null,
            "grid_template_areas": null,
            "grid_template_columns": null,
            "grid_template_rows": null,
            "height": null,
            "justify_content": null,
            "justify_items": null,
            "left": null,
            "margin": null,
            "max_height": null,
            "max_width": null,
            "min_height": null,
            "min_width": null,
            "object_fit": null,
            "object_position": null,
            "order": null,
            "overflow": null,
            "overflow_x": null,
            "overflow_y": null,
            "padding": null,
            "right": null,
            "top": null,
            "visibility": null,
            "width": "20px"
          }
        },
        "fa76b98626284e5ba39a77f60f2d03e8": {
          "model_module": "@jupyter-widgets/controls",
          "model_name": "ProgressStyleModel",
          "model_module_version": "1.5.0",
          "state": {
            "_model_module": "@jupyter-widgets/controls",
            "_model_module_version": "1.5.0",
            "_model_name": "ProgressStyleModel",
            "_view_count": null,
            "_view_module": "@jupyter-widgets/base",
            "_view_module_version": "1.2.0",
            "_view_name": "StyleView",
            "bar_color": null,
            "description_width": ""
          }
        },
        "055d17e0c2064587bac34dd51778fb31": {
          "model_module": "@jupyter-widgets/base",
          "model_name": "LayoutModel",
          "model_module_version": "1.2.0",
          "state": {
            "_model_module": "@jupyter-widgets/base",
            "_model_module_version": "1.2.0",
            "_model_name": "LayoutModel",
            "_view_count": null,
            "_view_module": "@jupyter-widgets/base",
            "_view_module_version": "1.2.0",
            "_view_name": "LayoutView",
            "align_content": null,
            "align_items": null,
            "align_self": null,
            "border": null,
            "bottom": null,
            "display": null,
            "flex": null,
            "flex_flow": null,
            "grid_area": null,
            "grid_auto_columns": null,
            "grid_auto_flow": null,
            "grid_auto_rows": null,
            "grid_column": null,
            "grid_gap": null,
            "grid_row": null,
            "grid_template_areas": null,
            "grid_template_columns": null,
            "grid_template_rows": null,
            "height": null,
            "justify_content": null,
            "justify_items": null,
            "left": null,
            "margin": null,
            "max_height": null,
            "max_width": null,
            "min_height": null,
            "min_width": null,
            "object_fit": null,
            "object_position": null,
            "order": null,
            "overflow": null,
            "overflow_x": null,
            "overflow_y": null,
            "padding": null,
            "right": null,
            "top": null,
            "visibility": null,
            "width": null
          }
        },
        "3b0326dd10114cadae8da36e4c65137e": {
          "model_module": "@jupyter-widgets/controls",
          "model_name": "DescriptionStyleModel",
          "model_module_version": "1.5.0",
          "state": {
            "_model_module": "@jupyter-widgets/controls",
            "_model_module_version": "1.5.0",
            "_model_name": "DescriptionStyleModel",
            "_view_count": null,
            "_view_module": "@jupyter-widgets/base",
            "_view_module_version": "1.2.0",
            "_view_name": "StyleView",
            "description_width": ""
          }
        },
        "ada41b83e75a46f7be275a50c680d433": {
          "model_module": "@jupyter-widgets/controls",
          "model_name": "HBoxModel",
          "model_module_version": "1.5.0",
          "state": {
            "_dom_classes": [],
            "_model_module": "@jupyter-widgets/controls",
            "_model_module_version": "1.5.0",
            "_model_name": "HBoxModel",
            "_view_count": null,
            "_view_module": "@jupyter-widgets/controls",
            "_view_module_version": "1.5.0",
            "_view_name": "HBoxView",
            "box_style": "",
            "children": [
              "IPY_MODEL_47cc2fe08b844b6ba73ee1fda59a6d8e",
              "IPY_MODEL_95506a7bc1f848e0996603521b39cb40",
              "IPY_MODEL_b5adebc70e014ca6a6824fb9feda88fa"
            ],
            "layout": "IPY_MODEL_1f4980bce1d54856947a7b3421270d09"
          }
        },
        "47cc2fe08b844b6ba73ee1fda59a6d8e": {
          "model_module": "@jupyter-widgets/controls",
          "model_name": "HTMLModel",
          "model_module_version": "1.5.0",
          "state": {
            "_dom_classes": [],
            "_model_module": "@jupyter-widgets/controls",
            "_model_module_version": "1.5.0",
            "_model_name": "HTMLModel",
            "_view_count": null,
            "_view_module": "@jupyter-widgets/controls",
            "_view_module_version": "1.5.0",
            "_view_name": "HTMLView",
            "description": "",
            "description_tooltip": null,
            "layout": "IPY_MODEL_3e78c04a398e471d931b47e6b5778eb7",
            "placeholder": "​",
            "style": "IPY_MODEL_e0f2c9bee4dd45638f8778db8f056fee",
            "value": ""
          }
        },
        "95506a7bc1f848e0996603521b39cb40": {
          "model_module": "@jupyter-widgets/controls",
          "model_name": "FloatProgressModel",
          "model_module_version": "1.5.0",
          "state": {
            "_dom_classes": [],
            "_model_module": "@jupyter-widgets/controls",
            "_model_module_version": "1.5.0",
            "_model_name": "FloatProgressModel",
            "_view_count": null,
            "_view_module": "@jupyter-widgets/controls",
            "_view_module_version": "1.5.0",
            "_view_name": "ProgressView",
            "bar_style": "success",
            "description": "",
            "description_tooltip": null,
            "layout": "IPY_MODEL_0aba8b70a6af4c5d8f280ac752f4c756",
            "max": 1,
            "min": 0,
            "orientation": "horizontal",
            "style": "IPY_MODEL_ee860463ea1444f895224a4ef8c3536c",
            "value": 1
          }
        },
        "b5adebc70e014ca6a6824fb9feda88fa": {
          "model_module": "@jupyter-widgets/controls",
          "model_name": "HTMLModel",
          "model_module_version": "1.5.0",
          "state": {
            "_dom_classes": [],
            "_model_module": "@jupyter-widgets/controls",
            "_model_module_version": "1.5.0",
            "_model_name": "HTMLModel",
            "_view_count": null,
            "_view_module": "@jupyter-widgets/controls",
            "_view_module_version": "1.5.0",
            "_view_name": "HTMLView",
            "description": "",
            "description_tooltip": null,
            "layout": "IPY_MODEL_14c48f0dee1b452c911f0c645a1809f9",
            "placeholder": "​",
            "style": "IPY_MODEL_53a3401b0d3842a88c88e24d890d697c",
            "value": " 360/? [00:00&lt;00:00, 3698.43it/s]"
          }
        },
        "1f4980bce1d54856947a7b3421270d09": {
          "model_module": "@jupyter-widgets/base",
          "model_name": "LayoutModel",
          "model_module_version": "1.2.0",
          "state": {
            "_model_module": "@jupyter-widgets/base",
            "_model_module_version": "1.2.0",
            "_model_name": "LayoutModel",
            "_view_count": null,
            "_view_module": "@jupyter-widgets/base",
            "_view_module_version": "1.2.0",
            "_view_name": "LayoutView",
            "align_content": null,
            "align_items": null,
            "align_self": null,
            "border": null,
            "bottom": null,
            "display": null,
            "flex": null,
            "flex_flow": null,
            "grid_area": null,
            "grid_auto_columns": null,
            "grid_auto_flow": null,
            "grid_auto_rows": null,
            "grid_column": null,
            "grid_gap": null,
            "grid_row": null,
            "grid_template_areas": null,
            "grid_template_columns": null,
            "grid_template_rows": null,
            "height": null,
            "justify_content": null,
            "justify_items": null,
            "left": null,
            "margin": null,
            "max_height": null,
            "max_width": null,
            "min_height": null,
            "min_width": null,
            "object_fit": null,
            "object_position": null,
            "order": null,
            "overflow": null,
            "overflow_x": null,
            "overflow_y": null,
            "padding": null,
            "right": null,
            "top": null,
            "visibility": null,
            "width": null
          }
        },
        "3e78c04a398e471d931b47e6b5778eb7": {
          "model_module": "@jupyter-widgets/base",
          "model_name": "LayoutModel",
          "model_module_version": "1.2.0",
          "state": {
            "_model_module": "@jupyter-widgets/base",
            "_model_module_version": "1.2.0",
            "_model_name": "LayoutModel",
            "_view_count": null,
            "_view_module": "@jupyter-widgets/base",
            "_view_module_version": "1.2.0",
            "_view_name": "LayoutView",
            "align_content": null,
            "align_items": null,
            "align_self": null,
            "border": null,
            "bottom": null,
            "display": null,
            "flex": null,
            "flex_flow": null,
            "grid_area": null,
            "grid_auto_columns": null,
            "grid_auto_flow": null,
            "grid_auto_rows": null,
            "grid_column": null,
            "grid_gap": null,
            "grid_row": null,
            "grid_template_areas": null,
            "grid_template_columns": null,
            "grid_template_rows": null,
            "height": null,
            "justify_content": null,
            "justify_items": null,
            "left": null,
            "margin": null,
            "max_height": null,
            "max_width": null,
            "min_height": null,
            "min_width": null,
            "object_fit": null,
            "object_position": null,
            "order": null,
            "overflow": null,
            "overflow_x": null,
            "overflow_y": null,
            "padding": null,
            "right": null,
            "top": null,
            "visibility": null,
            "width": null
          }
        },
        "e0f2c9bee4dd45638f8778db8f056fee": {
          "model_module": "@jupyter-widgets/controls",
          "model_name": "DescriptionStyleModel",
          "model_module_version": "1.5.0",
          "state": {
            "_model_module": "@jupyter-widgets/controls",
            "_model_module_version": "1.5.0",
            "_model_name": "DescriptionStyleModel",
            "_view_count": null,
            "_view_module": "@jupyter-widgets/base",
            "_view_module_version": "1.2.0",
            "_view_name": "StyleView",
            "description_width": ""
          }
        },
        "0aba8b70a6af4c5d8f280ac752f4c756": {
          "model_module": "@jupyter-widgets/base",
          "model_name": "LayoutModel",
          "model_module_version": "1.2.0",
          "state": {
            "_model_module": "@jupyter-widgets/base",
            "_model_module_version": "1.2.0",
            "_model_name": "LayoutModel",
            "_view_count": null,
            "_view_module": "@jupyter-widgets/base",
            "_view_module_version": "1.2.0",
            "_view_name": "LayoutView",
            "align_content": null,
            "align_items": null,
            "align_self": null,
            "border": null,
            "bottom": null,
            "display": null,
            "flex": null,
            "flex_flow": null,
            "grid_area": null,
            "grid_auto_columns": null,
            "grid_auto_flow": null,
            "grid_auto_rows": null,
            "grid_column": null,
            "grid_gap": null,
            "grid_row": null,
            "grid_template_areas": null,
            "grid_template_columns": null,
            "grid_template_rows": null,
            "height": null,
            "justify_content": null,
            "justify_items": null,
            "left": null,
            "margin": null,
            "max_height": null,
            "max_width": null,
            "min_height": null,
            "min_width": null,
            "object_fit": null,
            "object_position": null,
            "order": null,
            "overflow": null,
            "overflow_x": null,
            "overflow_y": null,
            "padding": null,
            "right": null,
            "top": null,
            "visibility": null,
            "width": "20px"
          }
        },
        "ee860463ea1444f895224a4ef8c3536c": {
          "model_module": "@jupyter-widgets/controls",
          "model_name": "ProgressStyleModel",
          "model_module_version": "1.5.0",
          "state": {
            "_model_module": "@jupyter-widgets/controls",
            "_model_module_version": "1.5.0",
            "_model_name": "ProgressStyleModel",
            "_view_count": null,
            "_view_module": "@jupyter-widgets/base",
            "_view_module_version": "1.2.0",
            "_view_name": "StyleView",
            "bar_color": null,
            "description_width": ""
          }
        },
        "14c48f0dee1b452c911f0c645a1809f9": {
          "model_module": "@jupyter-widgets/base",
          "model_name": "LayoutModel",
          "model_module_version": "1.2.0",
          "state": {
            "_model_module": "@jupyter-widgets/base",
            "_model_module_version": "1.2.0",
            "_model_name": "LayoutModel",
            "_view_count": null,
            "_view_module": "@jupyter-widgets/base",
            "_view_module_version": "1.2.0",
            "_view_name": "LayoutView",
            "align_content": null,
            "align_items": null,
            "align_self": null,
            "border": null,
            "bottom": null,
            "display": null,
            "flex": null,
            "flex_flow": null,
            "grid_area": null,
            "grid_auto_columns": null,
            "grid_auto_flow": null,
            "grid_auto_rows": null,
            "grid_column": null,
            "grid_gap": null,
            "grid_row": null,
            "grid_template_areas": null,
            "grid_template_columns": null,
            "grid_template_rows": null,
            "height": null,
            "justify_content": null,
            "justify_items": null,
            "left": null,
            "margin": null,
            "max_height": null,
            "max_width": null,
            "min_height": null,
            "min_width": null,
            "object_fit": null,
            "object_position": null,
            "order": null,
            "overflow": null,
            "overflow_x": null,
            "overflow_y": null,
            "padding": null,
            "right": null,
            "top": null,
            "visibility": null,
            "width": null
          }
        },
        "53a3401b0d3842a88c88e24d890d697c": {
          "model_module": "@jupyter-widgets/controls",
          "model_name": "DescriptionStyleModel",
          "model_module_version": "1.5.0",
          "state": {
            "_model_module": "@jupyter-widgets/controls",
            "_model_module_version": "1.5.0",
            "_model_name": "DescriptionStyleModel",
            "_view_count": null,
            "_view_module": "@jupyter-widgets/base",
            "_view_module_version": "1.2.0",
            "_view_name": "StyleView",
            "description_width": ""
          }
        },
        "56877e392d6b4ca98a49a38d9ac9b653": {
          "model_module": "@jupyter-widgets/controls",
          "model_name": "HBoxModel",
          "model_module_version": "1.5.0",
          "state": {
            "_dom_classes": [],
            "_model_module": "@jupyter-widgets/controls",
            "_model_module_version": "1.5.0",
            "_model_name": "HBoxModel",
            "_view_count": null,
            "_view_module": "@jupyter-widgets/controls",
            "_view_module_version": "1.5.0",
            "_view_name": "HBoxView",
            "box_style": "",
            "children": [
              "IPY_MODEL_e55175c4d763471b88dadebfd8437ef6",
              "IPY_MODEL_50e251ca85f547fc8b2d36d905cdbfd2",
              "IPY_MODEL_989ae5137419407f9ada1adc81d588f5"
            ],
            "layout": "IPY_MODEL_5540d817676b47d7864a11a7e026148a"
          }
        },
        "e55175c4d763471b88dadebfd8437ef6": {
          "model_module": "@jupyter-widgets/controls",
          "model_name": "HTMLModel",
          "model_module_version": "1.5.0",
          "state": {
            "_dom_classes": [],
            "_model_module": "@jupyter-widgets/controls",
            "_model_module_version": "1.5.0",
            "_model_name": "HTMLModel",
            "_view_count": null,
            "_view_module": "@jupyter-widgets/controls",
            "_view_module_version": "1.5.0",
            "_view_name": "HTMLView",
            "description": "",
            "description_tooltip": null,
            "layout": "IPY_MODEL_7f03630019cf456eb2615f5503beb399",
            "placeholder": "​",
            "style": "IPY_MODEL_e9344fa960a1499293af8cd4e1ae2a3e",
            "value": ""
          }
        },
        "50e251ca85f547fc8b2d36d905cdbfd2": {
          "model_module": "@jupyter-widgets/controls",
          "model_name": "FloatProgressModel",
          "model_module_version": "1.5.0",
          "state": {
            "_dom_classes": [],
            "_model_module": "@jupyter-widgets/controls",
            "_model_module_version": "1.5.0",
            "_model_name": "FloatProgressModel",
            "_view_count": null,
            "_view_module": "@jupyter-widgets/controls",
            "_view_module_version": "1.5.0",
            "_view_name": "ProgressView",
            "bar_style": "success",
            "description": "",
            "description_tooltip": null,
            "layout": "IPY_MODEL_fdaf802e6e254941abe645b5fb17bcd2",
            "max": 1,
            "min": 0,
            "orientation": "horizontal",
            "style": "IPY_MODEL_2846e0f2f0264e63b2efa3985895746b",
            "value": 1
          }
        },
        "989ae5137419407f9ada1adc81d588f5": {
          "model_module": "@jupyter-widgets/controls",
          "model_name": "HTMLModel",
          "model_module_version": "1.5.0",
          "state": {
            "_dom_classes": [],
            "_model_module": "@jupyter-widgets/controls",
            "_model_module_version": "1.5.0",
            "_model_name": "HTMLModel",
            "_view_count": null,
            "_view_module": "@jupyter-widgets/controls",
            "_view_module_version": "1.5.0",
            "_view_name": "HTMLView",
            "description": "",
            "description_tooltip": null,
            "layout": "IPY_MODEL_4f112c3c6eab4616b6c686ceb6b983e2",
            "placeholder": "​",
            "style": "IPY_MODEL_7d71e1ab0bc4402fab80b1dd37068e6b",
            "value": " 36/? [00:00&lt;00:00, 1170.52it/s]"
          }
        },
        "5540d817676b47d7864a11a7e026148a": {
          "model_module": "@jupyter-widgets/base",
          "model_name": "LayoutModel",
          "model_module_version": "1.2.0",
          "state": {
            "_model_module": "@jupyter-widgets/base",
            "_model_module_version": "1.2.0",
            "_model_name": "LayoutModel",
            "_view_count": null,
            "_view_module": "@jupyter-widgets/base",
            "_view_module_version": "1.2.0",
            "_view_name": "LayoutView",
            "align_content": null,
            "align_items": null,
            "align_self": null,
            "border": null,
            "bottom": null,
            "display": null,
            "flex": null,
            "flex_flow": null,
            "grid_area": null,
            "grid_auto_columns": null,
            "grid_auto_flow": null,
            "grid_auto_rows": null,
            "grid_column": null,
            "grid_gap": null,
            "grid_row": null,
            "grid_template_areas": null,
            "grid_template_columns": null,
            "grid_template_rows": null,
            "height": null,
            "justify_content": null,
            "justify_items": null,
            "left": null,
            "margin": null,
            "max_height": null,
            "max_width": null,
            "min_height": null,
            "min_width": null,
            "object_fit": null,
            "object_position": null,
            "order": null,
            "overflow": null,
            "overflow_x": null,
            "overflow_y": null,
            "padding": null,
            "right": null,
            "top": null,
            "visibility": null,
            "width": null
          }
        },
        "7f03630019cf456eb2615f5503beb399": {
          "model_module": "@jupyter-widgets/base",
          "model_name": "LayoutModel",
          "model_module_version": "1.2.0",
          "state": {
            "_model_module": "@jupyter-widgets/base",
            "_model_module_version": "1.2.0",
            "_model_name": "LayoutModel",
            "_view_count": null,
            "_view_module": "@jupyter-widgets/base",
            "_view_module_version": "1.2.0",
            "_view_name": "LayoutView",
            "align_content": null,
            "align_items": null,
            "align_self": null,
            "border": null,
            "bottom": null,
            "display": null,
            "flex": null,
            "flex_flow": null,
            "grid_area": null,
            "grid_auto_columns": null,
            "grid_auto_flow": null,
            "grid_auto_rows": null,
            "grid_column": null,
            "grid_gap": null,
            "grid_row": null,
            "grid_template_areas": null,
            "grid_template_columns": null,
            "grid_template_rows": null,
            "height": null,
            "justify_content": null,
            "justify_items": null,
            "left": null,
            "margin": null,
            "max_height": null,
            "max_width": null,
            "min_height": null,
            "min_width": null,
            "object_fit": null,
            "object_position": null,
            "order": null,
            "overflow": null,
            "overflow_x": null,
            "overflow_y": null,
            "padding": null,
            "right": null,
            "top": null,
            "visibility": null,
            "width": null
          }
        },
        "e9344fa960a1499293af8cd4e1ae2a3e": {
          "model_module": "@jupyter-widgets/controls",
          "model_name": "DescriptionStyleModel",
          "model_module_version": "1.5.0",
          "state": {
            "_model_module": "@jupyter-widgets/controls",
            "_model_module_version": "1.5.0",
            "_model_name": "DescriptionStyleModel",
            "_view_count": null,
            "_view_module": "@jupyter-widgets/base",
            "_view_module_version": "1.2.0",
            "_view_name": "StyleView",
            "description_width": ""
          }
        },
        "fdaf802e6e254941abe645b5fb17bcd2": {
          "model_module": "@jupyter-widgets/base",
          "model_name": "LayoutModel",
          "model_module_version": "1.2.0",
          "state": {
            "_model_module": "@jupyter-widgets/base",
            "_model_module_version": "1.2.0",
            "_model_name": "LayoutModel",
            "_view_count": null,
            "_view_module": "@jupyter-widgets/base",
            "_view_module_version": "1.2.0",
            "_view_name": "LayoutView",
            "align_content": null,
            "align_items": null,
            "align_self": null,
            "border": null,
            "bottom": null,
            "display": null,
            "flex": null,
            "flex_flow": null,
            "grid_area": null,
            "grid_auto_columns": null,
            "grid_auto_flow": null,
            "grid_auto_rows": null,
            "grid_column": null,
            "grid_gap": null,
            "grid_row": null,
            "grid_template_areas": null,
            "grid_template_columns": null,
            "grid_template_rows": null,
            "height": null,
            "justify_content": null,
            "justify_items": null,
            "left": null,
            "margin": null,
            "max_height": null,
            "max_width": null,
            "min_height": null,
            "min_width": null,
            "object_fit": null,
            "object_position": null,
            "order": null,
            "overflow": null,
            "overflow_x": null,
            "overflow_y": null,
            "padding": null,
            "right": null,
            "top": null,
            "visibility": null,
            "width": "20px"
          }
        },
        "2846e0f2f0264e63b2efa3985895746b": {
          "model_module": "@jupyter-widgets/controls",
          "model_name": "ProgressStyleModel",
          "model_module_version": "1.5.0",
          "state": {
            "_model_module": "@jupyter-widgets/controls",
            "_model_module_version": "1.5.0",
            "_model_name": "ProgressStyleModel",
            "_view_count": null,
            "_view_module": "@jupyter-widgets/base",
            "_view_module_version": "1.2.0",
            "_view_name": "StyleView",
            "bar_color": null,
            "description_width": ""
          }
        },
        "4f112c3c6eab4616b6c686ceb6b983e2": {
          "model_module": "@jupyter-widgets/base",
          "model_name": "LayoutModel",
          "model_module_version": "1.2.0",
          "state": {
            "_model_module": "@jupyter-widgets/base",
            "_model_module_version": "1.2.0",
            "_model_name": "LayoutModel",
            "_view_count": null,
            "_view_module": "@jupyter-widgets/base",
            "_view_module_version": "1.2.0",
            "_view_name": "LayoutView",
            "align_content": null,
            "align_items": null,
            "align_self": null,
            "border": null,
            "bottom": null,
            "display": null,
            "flex": null,
            "flex_flow": null,
            "grid_area": null,
            "grid_auto_columns": null,
            "grid_auto_flow": null,
            "grid_auto_rows": null,
            "grid_column": null,
            "grid_gap": null,
            "grid_row": null,
            "grid_template_areas": null,
            "grid_template_columns": null,
            "grid_template_rows": null,
            "height": null,
            "justify_content": null,
            "justify_items": null,
            "left": null,
            "margin": null,
            "max_height": null,
            "max_width": null,
            "min_height": null,
            "min_width": null,
            "object_fit": null,
            "object_position": null,
            "order": null,
            "overflow": null,
            "overflow_x": null,
            "overflow_y": null,
            "padding": null,
            "right": null,
            "top": null,
            "visibility": null,
            "width": null
          }
        },
        "7d71e1ab0bc4402fab80b1dd37068e6b": {
          "model_module": "@jupyter-widgets/controls",
          "model_name": "DescriptionStyleModel",
          "model_module_version": "1.5.0",
          "state": {
            "_model_module": "@jupyter-widgets/controls",
            "_model_module_version": "1.5.0",
            "_model_name": "DescriptionStyleModel",
            "_view_count": null,
            "_view_module": "@jupyter-widgets/base",
            "_view_module_version": "1.2.0",
            "_view_name": "StyleView",
            "description_width": ""
          }
        }
      }
    }
  },
  "nbformat_minor": 0,
  "nbformat": 4,
  "cells": [
    {
      "cell_type": "markdown",
      "metadata": {
        "id": "view-in-github",
        "colab_type": "text"
      },
      "source": [
        "<a href=\"https://colab.research.google.com/github/asmita-mukherjee/LearningStuff/blob/main/Causal_lm.ipynb\" target=\"_parent\"><img src=\"https://colab.research.google.com/assets/colab-badge.svg\" alt=\"Open In Colab\"/></a>"
      ]
    },
    {
      "cell_type": "markdown",
      "source": [
        "## Get the Data from kaggle"
      ],
      "metadata": {
        "id": "ADtoTMAh9OZD"
      }
    },
    {
      "cell_type": "code",
      "source": [
        "!pip install -q opendatasets"
      ],
      "metadata": {
        "id": "9Fig0WMp9QoK"
      },
      "execution_count": null,
      "outputs": []
    },
    {
      "cell_type": "code",
      "source": [
        "import opendatasets as od"
      ],
      "metadata": {
        "id": "xCXRSp2T9WVt"
      },
      "execution_count": null,
      "outputs": []
    },
    {
      "cell_type": "code",
      "source": [
        "# download custom tokenizer and vocab\n",
        "od.download(\"https://www.kaggle.com/datasets/asmitamukh/tinystories-custom-bpe\")\n",
        "\n",
        "#download the train and validation dataset\n",
        "od.download(\"https://www.kaggle.com/datasets/thedevastator/tinystories-narrative-classification\")"
      ],
      "metadata": {
        "colab": {
          "base_uri": "https://localhost:8080/"
        },
        "id": "SEd2f9ik9aMX",
        "outputId": "32876846-ffb7-4436-9779-229385404436"
      },
      "execution_count": null,
      "outputs": [
        {
          "output_type": "stream",
          "name": "stdout",
          "text": [
            "Please provide your Kaggle credentials to download this dataset. Learn more: http://bit.ly/kaggle-creds\n",
            "Your Kaggle username: asmitamukh\n",
            "Your Kaggle Key: ··········\n",
            "Downloading tinystories-custom-bpe.zip to ./tinystories-custom-bpe\n"
          ]
        },
        {
          "output_type": "stream",
          "name": "stderr",
          "text": [
            "100%|██████████| 292k/292k [00:00<00:00, 877kB/s]"
          ]
        },
        {
          "output_type": "stream",
          "name": "stdout",
          "text": [
            "\n",
            "Please provide your Kaggle credentials to download this dataset. Learn more: http://bit.ly/kaggle-creds\n",
            "Your Kaggle username:"
          ]
        },
        {
          "output_type": "stream",
          "name": "stderr",
          "text": [
            "\n"
          ]
        },
        {
          "output_type": "stream",
          "name": "stdout",
          "text": [
            " asmitamukh\n",
            "Your Kaggle Key: ··········\n",
            "Downloading tinystories-narrative-classification.zip to ./tinystories-narrative-classification\n"
          ]
        },
        {
          "output_type": "stream",
          "name": "stderr",
          "text": [
            "100%|██████████| 576M/576M [00:21<00:00, 28.5MB/s]\n"
          ]
        },
        {
          "output_type": "stream",
          "name": "stdout",
          "text": [
            "\n"
          ]
        }
      ]
    },
    {
      "cell_type": "code",
      "source": [
        "import logging\n",
        "logging.basicConfig(format=\"%(asctime)s - %(message)s\",level=logging.INFO,force=True)"
      ],
      "metadata": {
        "execution": {
          "iopub.status.busy": "2024-01-08T17:24:29.977061Z",
          "iopub.execute_input": "2024-01-08T17:24:29.977795Z",
          "iopub.status.idle": "2024-01-08T17:24:29.982544Z",
          "shell.execute_reply.started": "2024-01-08T17:24:29.977762Z",
          "shell.execute_reply": "2024-01-08T17:24:29.981532Z"
        },
        "trusted": true,
        "id": "7BkLT8K39HCj"
      },
      "execution_count": null,
      "outputs": []
    },
    {
      "cell_type": "code",
      "source": [
        "!pip install -q torchinfo wandb"
      ],
      "metadata": {
        "execution": {
          "iopub.status.busy": "2024-01-08T17:24:29.986368Z",
          "iopub.execute_input": "2024-01-08T17:24:29.986673Z",
          "iopub.status.idle": "2024-01-08T17:24:31.793851Z",
          "shell.execute_reply.started": "2024-01-08T17:24:29.986649Z",
          "shell.execute_reply": "2024-01-08T17:24:31.792824Z"
        },
        "trusted": true,
        "id": "q7stPF1W9HCn",
        "colab": {
          "base_uri": "https://localhost:8080/"
        },
        "outputId": "9ed3ea28-5874-4894-c27f-1ba054fd39f6"
      },
      "execution_count": null,
      "outputs": [
        {
          "output_type": "stream",
          "name": "stdout",
          "text": [
            "\u001b[2K     \u001b[90m━━━━━━━━━━━━━━━━━━━━━━━━━━━━━━━━━━━━━━━━\u001b[0m \u001b[32m2.2/2.2 MB\u001b[0m \u001b[31m14.0 MB/s\u001b[0m eta \u001b[36m0:00:00\u001b[0m\n",
            "\u001b[2K     \u001b[90m━━━━━━━━━━━━━━━━━━━━━━━━━━━━━━━━━━━━━━━━\u001b[0m \u001b[32m196.4/196.4 kB\u001b[0m \u001b[31m16.4 MB/s\u001b[0m eta \u001b[36m0:00:00\u001b[0m\n",
            "\u001b[2K     \u001b[90m━━━━━━━━━━━━━━━━━━━━━━━━━━━━━━━━━━━━━━━━\u001b[0m \u001b[32m254.1/254.1 kB\u001b[0m \u001b[31m21.8 MB/s\u001b[0m eta \u001b[36m0:00:00\u001b[0m\n",
            "\u001b[2K     \u001b[90m━━━━━━━━━━━━━━━━━━━━━━━━━━━━━━━━━━━━━━━━\u001b[0m \u001b[32m62.7/62.7 kB\u001b[0m \u001b[31m7.3 MB/s\u001b[0m eta \u001b[36m0:00:00\u001b[0m\n",
            "\u001b[?25h"
          ]
        }
      ]
    },
    {
      "cell_type": "code",
      "source": [
        "from torchinfo import summary"
      ],
      "metadata": {
        "execution": {
          "iopub.status.busy": "2024-01-08T17:24:31.795916Z",
          "iopub.execute_input": "2024-01-08T17:24:31.796242Z",
          "iopub.status.idle": "2024-01-08T17:24:31.801015Z",
          "shell.execute_reply.started": "2024-01-08T17:24:31.796214Z",
          "shell.execute_reply": "2024-01-08T17:24:31.800090Z"
        },
        "trusted": true,
        "id": "RJrN0Osz9HCp"
      },
      "execution_count": null,
      "outputs": []
    },
    {
      "cell_type": "code",
      "source": [
        "import torch"
      ],
      "metadata": {
        "execution": {
          "iopub.status.busy": "2024-01-08T17:24:31.802273Z",
          "iopub.execute_input": "2024-01-08T17:24:31.802591Z",
          "iopub.status.idle": "2024-01-08T17:24:31.814705Z",
          "shell.execute_reply.started": "2024-01-08T17:24:31.802561Z",
          "shell.execute_reply": "2024-01-08T17:24:31.813730Z"
        },
        "trusted": true,
        "id": "rYxEiYi_9HCp"
      },
      "execution_count": null,
      "outputs": []
    },
    {
      "cell_type": "code",
      "source": [
        "import nltk\n",
        "nltk.download('all')"
      ],
      "metadata": {
        "scrolled": true,
        "execution": {
          "iopub.status.busy": "2024-01-08T17:24:31.817529Z",
          "iopub.execute_input": "2024-01-08T17:24:31.817965Z",
          "iopub.status.idle": "2024-01-08T17:24:32.578069Z",
          "shell.execute_reply.started": "2024-01-08T17:24:31.817934Z",
          "shell.execute_reply": "2024-01-08T17:24:32.577145Z"
        },
        "trusted": true,
        "id": "1Y6FOonT9HCq",
        "colab": {
          "base_uri": "https://localhost:8080/"
        },
        "outputId": "f426e631-be4a-40d7-82bf-eecc5366d364"
      },
      "execution_count": null,
      "outputs": [
        {
          "output_type": "stream",
          "name": "stderr",
          "text": [
            "[nltk_data] Downloading collection 'all'\n",
            "[nltk_data]    | \n",
            "[nltk_data]    | Downloading package abc to /root/nltk_data...\n",
            "[nltk_data]    |   Unzipping corpora/abc.zip.\n",
            "[nltk_data]    | Downloading package alpino to /root/nltk_data...\n",
            "[nltk_data]    |   Unzipping corpora/alpino.zip.\n",
            "[nltk_data]    | Downloading package averaged_perceptron_tagger to\n",
            "[nltk_data]    |     /root/nltk_data...\n",
            "[nltk_data]    |   Unzipping taggers/averaged_perceptron_tagger.zip.\n",
            "[nltk_data]    | Downloading package averaged_perceptron_tagger_ru to\n",
            "[nltk_data]    |     /root/nltk_data...\n",
            "[nltk_data]    |   Unzipping\n",
            "[nltk_data]    |       taggers/averaged_perceptron_tagger_ru.zip.\n",
            "[nltk_data]    | Downloading package basque_grammars to\n",
            "[nltk_data]    |     /root/nltk_data...\n",
            "[nltk_data]    |   Unzipping grammars/basque_grammars.zip.\n",
            "[nltk_data]    | Downloading package bcp47 to /root/nltk_data...\n",
            "[nltk_data]    | Downloading package biocreative_ppi to\n",
            "[nltk_data]    |     /root/nltk_data...\n",
            "[nltk_data]    |   Unzipping corpora/biocreative_ppi.zip.\n",
            "[nltk_data]    | Downloading package bllip_wsj_no_aux to\n",
            "[nltk_data]    |     /root/nltk_data...\n",
            "[nltk_data]    |   Unzipping models/bllip_wsj_no_aux.zip.\n",
            "[nltk_data]    | Downloading package book_grammars to\n",
            "[nltk_data]    |     /root/nltk_data...\n",
            "[nltk_data]    |   Unzipping grammars/book_grammars.zip.\n",
            "[nltk_data]    | Downloading package brown to /root/nltk_data...\n",
            "[nltk_data]    |   Unzipping corpora/brown.zip.\n",
            "[nltk_data]    | Downloading package brown_tei to /root/nltk_data...\n",
            "[nltk_data]    |   Unzipping corpora/brown_tei.zip.\n",
            "[nltk_data]    | Downloading package cess_cat to /root/nltk_data...\n",
            "[nltk_data]    |   Unzipping corpora/cess_cat.zip.\n",
            "[nltk_data]    | Downloading package cess_esp to /root/nltk_data...\n",
            "[nltk_data]    |   Unzipping corpora/cess_esp.zip.\n",
            "[nltk_data]    | Downloading package chat80 to /root/nltk_data...\n",
            "[nltk_data]    |   Unzipping corpora/chat80.zip.\n",
            "[nltk_data]    | Downloading package city_database to\n",
            "[nltk_data]    |     /root/nltk_data...\n",
            "[nltk_data]    |   Unzipping corpora/city_database.zip.\n",
            "[nltk_data]    | Downloading package cmudict to /root/nltk_data...\n",
            "[nltk_data]    |   Unzipping corpora/cmudict.zip.\n",
            "[nltk_data]    | Downloading package comparative_sentences to\n",
            "[nltk_data]    |     /root/nltk_data...\n",
            "[nltk_data]    |   Unzipping corpora/comparative_sentences.zip.\n",
            "[nltk_data]    | Downloading package comtrans to /root/nltk_data...\n",
            "[nltk_data]    | Downloading package conll2000 to /root/nltk_data...\n",
            "[nltk_data]    |   Unzipping corpora/conll2000.zip.\n",
            "[nltk_data]    | Downloading package conll2002 to /root/nltk_data...\n",
            "[nltk_data]    |   Unzipping corpora/conll2002.zip.\n",
            "[nltk_data]    | Downloading package conll2007 to /root/nltk_data...\n",
            "[nltk_data]    | Downloading package crubadan to /root/nltk_data...\n",
            "[nltk_data]    |   Unzipping corpora/crubadan.zip.\n",
            "[nltk_data]    | Downloading package dependency_treebank to\n",
            "[nltk_data]    |     /root/nltk_data...\n",
            "[nltk_data]    |   Unzipping corpora/dependency_treebank.zip.\n",
            "[nltk_data]    | Downloading package dolch to /root/nltk_data...\n",
            "[nltk_data]    |   Unzipping corpora/dolch.zip.\n",
            "[nltk_data]    | Downloading package europarl_raw to\n",
            "[nltk_data]    |     /root/nltk_data...\n",
            "[nltk_data]    |   Unzipping corpora/europarl_raw.zip.\n",
            "[nltk_data]    | Downloading package extended_omw to\n",
            "[nltk_data]    |     /root/nltk_data...\n",
            "[nltk_data]    | Downloading package floresta to /root/nltk_data...\n",
            "[nltk_data]    |   Unzipping corpora/floresta.zip.\n",
            "[nltk_data]    | Downloading package framenet_v15 to\n",
            "[nltk_data]    |     /root/nltk_data...\n",
            "[nltk_data]    |   Unzipping corpora/framenet_v15.zip.\n",
            "[nltk_data]    | Downloading package framenet_v17 to\n",
            "[nltk_data]    |     /root/nltk_data...\n",
            "[nltk_data]    |   Unzipping corpora/framenet_v17.zip.\n",
            "[nltk_data]    | Downloading package gazetteers to /root/nltk_data...\n",
            "[nltk_data]    |   Unzipping corpora/gazetteers.zip.\n",
            "[nltk_data]    | Downloading package genesis to /root/nltk_data...\n",
            "[nltk_data]    |   Unzipping corpora/genesis.zip.\n",
            "[nltk_data]    | Downloading package gutenberg to /root/nltk_data...\n",
            "[nltk_data]    |   Unzipping corpora/gutenberg.zip.\n",
            "[nltk_data]    | Downloading package ieer to /root/nltk_data...\n",
            "[nltk_data]    |   Unzipping corpora/ieer.zip.\n",
            "[nltk_data]    | Downloading package inaugural to /root/nltk_data...\n",
            "[nltk_data]    |   Unzipping corpora/inaugural.zip.\n",
            "[nltk_data]    | Downloading package indian to /root/nltk_data...\n",
            "[nltk_data]    |   Unzipping corpora/indian.zip.\n",
            "[nltk_data]    | Downloading package jeita to /root/nltk_data...\n",
            "[nltk_data]    | Downloading package kimmo to /root/nltk_data...\n",
            "[nltk_data]    |   Unzipping corpora/kimmo.zip.\n",
            "[nltk_data]    | Downloading package knbc to /root/nltk_data...\n",
            "[nltk_data]    | Downloading package large_grammars to\n",
            "[nltk_data]    |     /root/nltk_data...\n",
            "[nltk_data]    |   Unzipping grammars/large_grammars.zip.\n",
            "[nltk_data]    | Downloading package lin_thesaurus to\n",
            "[nltk_data]    |     /root/nltk_data...\n",
            "[nltk_data]    |   Unzipping corpora/lin_thesaurus.zip.\n",
            "[nltk_data]    | Downloading package mac_morpho to /root/nltk_data...\n",
            "[nltk_data]    |   Unzipping corpora/mac_morpho.zip.\n",
            "[nltk_data]    | Downloading package machado to /root/nltk_data...\n",
            "[nltk_data]    | Downloading package masc_tagged to /root/nltk_data...\n",
            "[nltk_data]    | Downloading package maxent_ne_chunker to\n",
            "[nltk_data]    |     /root/nltk_data...\n",
            "[nltk_data]    |   Unzipping chunkers/maxent_ne_chunker.zip.\n",
            "[nltk_data]    | Downloading package maxent_treebank_pos_tagger to\n",
            "[nltk_data]    |     /root/nltk_data...\n",
            "[nltk_data]    |   Unzipping taggers/maxent_treebank_pos_tagger.zip.\n",
            "[nltk_data]    | Downloading package moses_sample to\n",
            "[nltk_data]    |     /root/nltk_data...\n",
            "[nltk_data]    |   Unzipping models/moses_sample.zip.\n",
            "[nltk_data]    | Downloading package movie_reviews to\n",
            "[nltk_data]    |     /root/nltk_data...\n",
            "[nltk_data]    |   Unzipping corpora/movie_reviews.zip.\n",
            "[nltk_data]    | Downloading package mte_teip5 to /root/nltk_data...\n",
            "[nltk_data]    |   Unzipping corpora/mte_teip5.zip.\n",
            "[nltk_data]    | Downloading package mwa_ppdb to /root/nltk_data...\n",
            "[nltk_data]    |   Unzipping misc/mwa_ppdb.zip.\n",
            "[nltk_data]    | Downloading package names to /root/nltk_data...\n",
            "[nltk_data]    |   Unzipping corpora/names.zip.\n",
            "[nltk_data]    | Downloading package nombank.1.0 to /root/nltk_data...\n",
            "[nltk_data]    | Downloading package nonbreaking_prefixes to\n",
            "[nltk_data]    |     /root/nltk_data...\n",
            "[nltk_data]    |   Unzipping corpora/nonbreaking_prefixes.zip.\n",
            "[nltk_data]    | Downloading package nps_chat to /root/nltk_data...\n",
            "[nltk_data]    |   Unzipping corpora/nps_chat.zip.\n",
            "[nltk_data]    | Downloading package omw to /root/nltk_data...\n",
            "[nltk_data]    | Downloading package omw-1.4 to /root/nltk_data...\n",
            "[nltk_data]    | Downloading package opinion_lexicon to\n",
            "[nltk_data]    |     /root/nltk_data...\n",
            "[nltk_data]    |   Unzipping corpora/opinion_lexicon.zip.\n",
            "[nltk_data]    | Downloading package panlex_swadesh to\n",
            "[nltk_data]    |     /root/nltk_data...\n",
            "[nltk_data]    | Downloading package paradigms to /root/nltk_data...\n",
            "[nltk_data]    |   Unzipping corpora/paradigms.zip.\n",
            "[nltk_data]    | Downloading package pe08 to /root/nltk_data...\n",
            "[nltk_data]    |   Unzipping corpora/pe08.zip.\n",
            "[nltk_data]    | Downloading package perluniprops to\n",
            "[nltk_data]    |     /root/nltk_data...\n",
            "[nltk_data]    |   Unzipping misc/perluniprops.zip.\n",
            "[nltk_data]    | Downloading package pil to /root/nltk_data...\n",
            "[nltk_data]    |   Unzipping corpora/pil.zip.\n",
            "[nltk_data]    | Downloading package pl196x to /root/nltk_data...\n",
            "[nltk_data]    |   Unzipping corpora/pl196x.zip.\n",
            "[nltk_data]    | Downloading package porter_test to /root/nltk_data...\n",
            "[nltk_data]    |   Unzipping stemmers/porter_test.zip.\n",
            "[nltk_data]    | Downloading package ppattach to /root/nltk_data...\n",
            "[nltk_data]    |   Unzipping corpora/ppattach.zip.\n",
            "[nltk_data]    | Downloading package problem_reports to\n",
            "[nltk_data]    |     /root/nltk_data...\n",
            "[nltk_data]    |   Unzipping corpora/problem_reports.zip.\n",
            "[nltk_data]    | Downloading package product_reviews_1 to\n",
            "[nltk_data]    |     /root/nltk_data...\n",
            "[nltk_data]    |   Unzipping corpora/product_reviews_1.zip.\n",
            "[nltk_data]    | Downloading package product_reviews_2 to\n",
            "[nltk_data]    |     /root/nltk_data...\n",
            "[nltk_data]    |   Unzipping corpora/product_reviews_2.zip.\n",
            "[nltk_data]    | Downloading package propbank to /root/nltk_data...\n",
            "[nltk_data]    | Downloading package pros_cons to /root/nltk_data...\n",
            "[nltk_data]    |   Unzipping corpora/pros_cons.zip.\n",
            "[nltk_data]    | Downloading package ptb to /root/nltk_data...\n",
            "[nltk_data]    |   Unzipping corpora/ptb.zip.\n",
            "[nltk_data]    | Downloading package punkt to /root/nltk_data...\n",
            "[nltk_data]    |   Unzipping tokenizers/punkt.zip.\n",
            "[nltk_data]    | Downloading package qc to /root/nltk_data...\n",
            "[nltk_data]    |   Unzipping corpora/qc.zip.\n",
            "[nltk_data]    | Downloading package reuters to /root/nltk_data...\n",
            "[nltk_data]    | Downloading package rslp to /root/nltk_data...\n",
            "[nltk_data]    |   Unzipping stemmers/rslp.zip.\n",
            "[nltk_data]    | Downloading package rte to /root/nltk_data...\n",
            "[nltk_data]    |   Unzipping corpora/rte.zip.\n",
            "[nltk_data]    | Downloading package sample_grammars to\n",
            "[nltk_data]    |     /root/nltk_data...\n",
            "[nltk_data]    |   Unzipping grammars/sample_grammars.zip.\n",
            "[nltk_data]    | Downloading package semcor to /root/nltk_data...\n",
            "[nltk_data]    | Downloading package senseval to /root/nltk_data...\n",
            "[nltk_data]    |   Unzipping corpora/senseval.zip.\n",
            "[nltk_data]    | Downloading package sentence_polarity to\n",
            "[nltk_data]    |     /root/nltk_data...\n",
            "[nltk_data]    |   Unzipping corpora/sentence_polarity.zip.\n",
            "[nltk_data]    | Downloading package sentiwordnet to\n",
            "[nltk_data]    |     /root/nltk_data...\n",
            "[nltk_data]    |   Unzipping corpora/sentiwordnet.zip.\n",
            "[nltk_data]    | Downloading package shakespeare to /root/nltk_data...\n",
            "[nltk_data]    |   Unzipping corpora/shakespeare.zip.\n",
            "[nltk_data]    | Downloading package sinica_treebank to\n",
            "[nltk_data]    |     /root/nltk_data...\n",
            "[nltk_data]    |   Unzipping corpora/sinica_treebank.zip.\n",
            "[nltk_data]    | Downloading package smultron to /root/nltk_data...\n",
            "[nltk_data]    |   Unzipping corpora/smultron.zip.\n",
            "[nltk_data]    | Downloading package snowball_data to\n",
            "[nltk_data]    |     /root/nltk_data...\n",
            "[nltk_data]    | Downloading package spanish_grammars to\n",
            "[nltk_data]    |     /root/nltk_data...\n",
            "[nltk_data]    |   Unzipping grammars/spanish_grammars.zip.\n",
            "[nltk_data]    | Downloading package state_union to /root/nltk_data...\n",
            "[nltk_data]    |   Unzipping corpora/state_union.zip.\n",
            "[nltk_data]    | Downloading package stopwords to /root/nltk_data...\n",
            "[nltk_data]    |   Unzipping corpora/stopwords.zip.\n",
            "[nltk_data]    | Downloading package subjectivity to\n",
            "[nltk_data]    |     /root/nltk_data...\n",
            "[nltk_data]    |   Unzipping corpora/subjectivity.zip.\n",
            "[nltk_data]    | Downloading package swadesh to /root/nltk_data...\n",
            "[nltk_data]    |   Unzipping corpora/swadesh.zip.\n",
            "[nltk_data]    | Downloading package switchboard to /root/nltk_data...\n",
            "[nltk_data]    |   Unzipping corpora/switchboard.zip.\n",
            "[nltk_data]    | Downloading package tagsets to /root/nltk_data...\n",
            "[nltk_data]    |   Unzipping help/tagsets.zip.\n",
            "[nltk_data]    | Downloading package timit to /root/nltk_data...\n",
            "[nltk_data]    |   Unzipping corpora/timit.zip.\n",
            "[nltk_data]    | Downloading package toolbox to /root/nltk_data...\n",
            "[nltk_data]    |   Unzipping corpora/toolbox.zip.\n",
            "[nltk_data]    | Downloading package treebank to /root/nltk_data...\n",
            "[nltk_data]    |   Unzipping corpora/treebank.zip.\n",
            "[nltk_data]    | Downloading package twitter_samples to\n",
            "[nltk_data]    |     /root/nltk_data...\n",
            "[nltk_data]    |   Unzipping corpora/twitter_samples.zip.\n",
            "[nltk_data]    | Downloading package udhr to /root/nltk_data...\n",
            "[nltk_data]    |   Unzipping corpora/udhr.zip.\n",
            "[nltk_data]    | Downloading package udhr2 to /root/nltk_data...\n",
            "[nltk_data]    |   Unzipping corpora/udhr2.zip.\n",
            "[nltk_data]    | Downloading package unicode_samples to\n",
            "[nltk_data]    |     /root/nltk_data...\n",
            "[nltk_data]    |   Unzipping corpora/unicode_samples.zip.\n",
            "[nltk_data]    | Downloading package universal_tagset to\n",
            "[nltk_data]    |     /root/nltk_data...\n",
            "[nltk_data]    |   Unzipping taggers/universal_tagset.zip.\n",
            "[nltk_data]    | Downloading package universal_treebanks_v20 to\n",
            "[nltk_data]    |     /root/nltk_data...\n",
            "[nltk_data]    | Downloading package vader_lexicon to\n",
            "[nltk_data]    |     /root/nltk_data...\n",
            "[nltk_data]    | Downloading package verbnet to /root/nltk_data...\n",
            "[nltk_data]    |   Unzipping corpora/verbnet.zip.\n",
            "[nltk_data]    | Downloading package verbnet3 to /root/nltk_data...\n",
            "[nltk_data]    |   Unzipping corpora/verbnet3.zip.\n",
            "[nltk_data]    | Downloading package webtext to /root/nltk_data...\n",
            "[nltk_data]    |   Unzipping corpora/webtext.zip.\n",
            "[nltk_data]    | Downloading package wmt15_eval to /root/nltk_data...\n",
            "[nltk_data]    |   Unzipping models/wmt15_eval.zip.\n",
            "[nltk_data]    | Downloading package word2vec_sample to\n",
            "[nltk_data]    |     /root/nltk_data...\n",
            "[nltk_data]    |   Unzipping models/word2vec_sample.zip.\n",
            "[nltk_data]    | Downloading package wordnet to /root/nltk_data...\n",
            "[nltk_data]    | Downloading package wordnet2021 to /root/nltk_data...\n",
            "[nltk_data]    | Downloading package wordnet2022 to /root/nltk_data...\n",
            "[nltk_data]    |   Unzipping corpora/wordnet2022.zip.\n",
            "[nltk_data]    | Downloading package wordnet31 to /root/nltk_data...\n",
            "[nltk_data]    | Downloading package wordnet_ic to /root/nltk_data...\n",
            "[nltk_data]    |   Unzipping corpora/wordnet_ic.zip.\n",
            "[nltk_data]    | Downloading package words to /root/nltk_data...\n",
            "[nltk_data]    |   Unzipping corpora/words.zip.\n",
            "[nltk_data]    | Downloading package ycoe to /root/nltk_data...\n",
            "[nltk_data]    |   Unzipping corpora/ycoe.zip.\n",
            "[nltk_data]    | \n",
            "[nltk_data]  Done downloading collection all\n"
          ]
        },
        {
          "output_type": "execute_result",
          "data": {
            "text/plain": [
              "True"
            ]
          },
          "metadata": {},
          "execution_count": 8
        }
      ]
    },
    {
      "cell_type": "code",
      "source": [
        "import torch\n",
        "import torch.nn as nn"
      ],
      "metadata": {
        "execution": {
          "iopub.status.busy": "2024-01-08T17:24:32.579457Z",
          "iopub.execute_input": "2024-01-08T17:24:32.580252Z",
          "iopub.status.idle": "2024-01-08T17:24:32.585434Z",
          "shell.execute_reply.started": "2024-01-08T17:24:32.580217Z",
          "shell.execute_reply": "2024-01-08T17:24:32.584606Z"
        },
        "trusted": true,
        "id": "4QkwK4W59HCq"
      },
      "execution_count": null,
      "outputs": []
    },
    {
      "cell_type": "code",
      "source": [
        "import numpy as np"
      ],
      "metadata": {
        "execution": {
          "iopub.status.busy": "2024-01-08T17:24:32.586530Z",
          "iopub.execute_input": "2024-01-08T17:24:32.586831Z",
          "iopub.status.idle": "2024-01-08T17:24:32.596002Z",
          "shell.execute_reply.started": "2024-01-08T17:24:32.586807Z",
          "shell.execute_reply": "2024-01-08T17:24:32.595232Z"
        },
        "trusted": true,
        "id": "ARI6-WFt9HCq"
      },
      "execution_count": null,
      "outputs": []
    },
    {
      "cell_type": "code",
      "source": [
        "import pandas as pd\n",
        "import pickle\n",
        "from tqdm.notebook import tqdm\n",
        "import wandb\n",
        "wandb.login(key=\"b9fca33ebeeea7e66c03c7145a1072cc1bb07412\")"
      ],
      "metadata": {
        "execution": {
          "iopub.status.busy": "2024-01-08T17:24:32.597047Z",
          "iopub.execute_input": "2024-01-08T17:24:32.598705Z",
          "iopub.status.idle": "2024-01-08T17:24:32.766129Z",
          "shell.execute_reply.started": "2024-01-08T17:24:32.598679Z",
          "shell.execute_reply": "2024-01-08T17:24:32.765148Z"
        },
        "trusted": true,
        "id": "eNU8yJXx9HCr",
        "colab": {
          "base_uri": "https://localhost:8080/"
        },
        "outputId": "4389a768-9537-49e7-cd52-3699b10e6e53"
      },
      "execution_count": null,
      "outputs": [
        {
          "output_type": "stream",
          "name": "stderr",
          "text": [
            "2024-01-11 15:01:29,826 - NumExpr defaulting to 2 threads.\n",
            "\u001b[34m\u001b[1mwandb\u001b[0m: W&B API key is configured. Use \u001b[1m`wandb login --relogin`\u001b[0m to force relogin\n",
            "\u001b[34m\u001b[1mwandb\u001b[0m: \u001b[33mWARNING\u001b[0m If you're specifying your api key in code, ensure this code is not shared publicly.\n",
            "\u001b[34m\u001b[1mwandb\u001b[0m: \u001b[33mWARNING\u001b[0m Consider setting the WANDB_API_KEY environment variable, or running `wandb login` from the command line.\n",
            "\u001b[34m\u001b[1mwandb\u001b[0m: Appending key for api.wandb.ai to your netrc file: /root/.netrc\n"
          ]
        },
        {
          "output_type": "execute_result",
          "data": {
            "text/plain": [
              "True"
            ]
          },
          "metadata": {},
          "execution_count": 11
        }
      ]
    },
    {
      "cell_type": "code",
      "source": [
        "device = \"cuda\" if torch.cuda.is_available() else \"cpu\""
      ],
      "metadata": {
        "execution": {
          "iopub.status.busy": "2024-01-08T17:24:32.767518Z",
          "iopub.execute_input": "2024-01-08T17:24:32.767871Z",
          "iopub.status.idle": "2024-01-08T17:24:32.773513Z",
          "shell.execute_reply.started": "2024-01-08T17:24:32.767838Z",
          "shell.execute_reply": "2024-01-08T17:24:32.772506Z"
        },
        "trusted": true,
        "id": "-gg9y-6S9HCr"
      },
      "execution_count": null,
      "outputs": []
    },
    {
      "cell_type": "code",
      "source": [
        "BATCH_SIZE=2"
      ],
      "metadata": {
        "execution": {
          "iopub.status.busy": "2024-01-08T17:24:32.774645Z",
          "iopub.execute_input": "2024-01-08T17:24:32.774933Z",
          "iopub.status.idle": "2024-01-08T17:24:32.784287Z",
          "shell.execute_reply.started": "2024-01-08T17:24:32.774909Z",
          "shell.execute_reply": "2024-01-08T17:24:32.783512Z"
        },
        "trusted": true,
        "id": "nGwab2Yp9HCs"
      },
      "execution_count": null,
      "outputs": []
    },
    {
      "cell_type": "code",
      "source": [
        "torch.set_default_dtype(torch.float16)"
      ],
      "metadata": {
        "execution": {
          "iopub.status.busy": "2024-01-08T17:24:32.789123Z",
          "iopub.execute_input": "2024-01-08T17:24:32.789486Z",
          "iopub.status.idle": "2024-01-08T17:24:32.794836Z",
          "shell.execute_reply.started": "2024-01-08T17:24:32.789443Z",
          "shell.execute_reply": "2024-01-08T17:24:32.794022Z"
        },
        "trusted": true,
        "id": "Dpf9kb6C9HCs"
      },
      "execution_count": null,
      "outputs": []
    },
    {
      "cell_type": "markdown",
      "source": [
        "## helper functions"
      ],
      "metadata": {
        "id": "r_tCrawP9HCt"
      }
    },
    {
      "cell_type": "code",
      "source": [
        "# Read the vocab and merge rules\n",
        "\n",
        "with open(\"/content/tinystories-custom-bpe/merge_rules.pkl\",\"rb\") as f:\n",
        "    merge_rules = pickle.load(f)\n",
        "\n",
        "with open(\"/content/tinystories-custom-bpe/vocab.pkl\",\"rb\") as f:\n",
        "    vocab = pickle.load(f)"
      ],
      "metadata": {
        "execution": {
          "iopub.status.busy": "2024-01-08T17:24:32.796170Z",
          "iopub.execute_input": "2024-01-08T17:24:32.796793Z",
          "iopub.status.idle": "2024-01-08T17:24:32.821871Z",
          "shell.execute_reply.started": "2024-01-08T17:24:32.796759Z",
          "shell.execute_reply": "2024-01-08T17:24:32.821210Z"
        },
        "trusted": true,
        "id": "pSyNZTlg9HCu"
      },
      "execution_count": null,
      "outputs": []
    },
    {
      "cell_type": "code",
      "source": [],
      "metadata": {
        "trusted": true,
        "id": "smPF-0ly9HCv"
      },
      "execution_count": null,
      "outputs": []
    },
    {
      "cell_type": "code",
      "source": [
        "def tokenize(text,merge_rules=merge_rules):\n",
        "    '''Return tokens from the text'''\n",
        "    text = text.lower() # our vocabulary is uncased.\n",
        "    words = nltk.word_tokenize(text)\n",
        "\n",
        "    ##preparing dict where word is the key and the tokens is its value\n",
        "    word_dict = dict()\n",
        "    for word in words:\n",
        "        word_dict[word] = []\n",
        "        for char in word:\n",
        "            word_dict[word].append(char)\n",
        "\n",
        "    for merge_rule in merge_rules.keys():\n",
        "        #go through each merge rule and tokenize each word from left to right\n",
        "        for word in word_dict.keys():\n",
        "            tokens = word_dict[word]\n",
        "            idx=0\n",
        "            while(idx<len(tokens)-1):\n",
        "                pair = (tokens[idx],tokens[idx+1])\n",
        "                if pair==merge_rule:\n",
        "                    #merge the token of the word as per the merge rule\n",
        "                    #if merged we dont increase the index of the tokens because the next pair should include the new pair and the next char\n",
        "                    tokens = tokens[:idx]+[tokens[idx]+tokens[idx+1]]+tokens[idx+2:]\n",
        "                    word_dict[word] = tokens\n",
        "                else:\n",
        "                    #if not merged then we slide the window over\n",
        "                    idx = idx+1\n",
        "\n",
        "    return word_dict"
      ],
      "metadata": {
        "execution": {
          "iopub.status.busy": "2024-01-08T17:24:32.822785Z",
          "iopub.execute_input": "2024-01-08T17:24:32.823038Z",
          "iopub.status.idle": "2024-01-08T17:24:32.831368Z",
          "shell.execute_reply.started": "2024-01-08T17:24:32.823016Z",
          "shell.execute_reply": "2024-01-08T17:24:32.830481Z"
        },
        "trusted": true,
        "id": "oJQADLxp9HCv"
      },
      "execution_count": null,
      "outputs": []
    },
    {
      "cell_type": "markdown",
      "source": [
        "## Load training and testing dataset"
      ],
      "metadata": {
        "id": "uSZiV3wn9HCv"
      }
    },
    {
      "cell_type": "code",
      "source": [
        "train_data = pd.read_csv(\"/content/tinystories-narrative-classification/train.csv\",nrows=50)\n",
        "test_data = pd.read_csv(\"/content/tinystories-narrative-classification/validation.csv\",nrows=5)\n",
        "train_data = train_data.fillna(\"\")\n",
        "test_data = test_data.fillna(\"\")"
      ],
      "metadata": {
        "execution": {
          "iopub.status.busy": "2024-01-08T17:24:32.832732Z",
          "iopub.execute_input": "2024-01-08T17:24:32.833581Z",
          "iopub.status.idle": "2024-01-08T17:24:32.848559Z",
          "shell.execute_reply.started": "2024-01-08T17:24:32.833549Z",
          "shell.execute_reply": "2024-01-08T17:24:32.847771Z"
        },
        "trusted": true,
        "id": "4GPoPMdY9HCw"
      },
      "execution_count": null,
      "outputs": []
    },
    {
      "cell_type": "code",
      "source": [
        "len(train_data),len(test_data)"
      ],
      "metadata": {
        "id": "XB5qZ_vKMicD",
        "colab": {
          "base_uri": "https://localhost:8080/"
        },
        "outputId": "a6bb911a-d635-416f-a43f-008d79fc02c8"
      },
      "execution_count": null,
      "outputs": [
        {
          "output_type": "execute_result",
          "data": {
            "text/plain": [
              "(50, 5)"
            ]
          },
          "metadata": {},
          "execution_count": 18
        }
      ]
    },
    {
      "cell_type": "code",
      "source": [
        "min(len(text.split()) for text in train_data.text),max(len(text.split()) for text in train_data.text)"
      ],
      "metadata": {
        "id": "DLl-XX77PGXs",
        "colab": {
          "base_uri": "https://localhost:8080/"
        },
        "outputId": "1f6e37dc-45dc-4581-8516-f3e1643cedb5"
      },
      "execution_count": null,
      "outputs": [
        {
          "output_type": "execute_result",
          "data": {
            "text/plain": [
              "(80, 201)"
            ]
          },
          "metadata": {},
          "execution_count": 19
        }
      ]
    },
    {
      "cell_type": "code",
      "source": [
        "train_data.info()"
      ],
      "metadata": {
        "execution": {
          "iopub.status.busy": "2024-01-08T17:24:32.849639Z",
          "iopub.execute_input": "2024-01-08T17:24:32.849896Z",
          "iopub.status.idle": "2024-01-08T17:24:32.859843Z",
          "shell.execute_reply.started": "2024-01-08T17:24:32.849873Z",
          "shell.execute_reply": "2024-01-08T17:24:32.858914Z"
        },
        "trusted": true,
        "id": "W1PjLW2M9HCw",
        "colab": {
          "base_uri": "https://localhost:8080/"
        },
        "outputId": "d415c60c-d621-4c24-b93b-45e7b7574cf4"
      },
      "execution_count": null,
      "outputs": [
        {
          "output_type": "stream",
          "name": "stdout",
          "text": [
            "<class 'pandas.core.frame.DataFrame'>\n",
            "RangeIndex: 50 entries, 0 to 49\n",
            "Data columns (total 1 columns):\n",
            " #   Column  Non-Null Count  Dtype \n",
            "---  ------  --------------  ----- \n",
            " 0   text    50 non-null     object\n",
            "dtypes: object(1)\n",
            "memory usage: 528.0+ bytes\n"
          ]
        }
      ]
    },
    {
      "cell_type": "code",
      "source": [
        "test_data.info()"
      ],
      "metadata": {
        "execution": {
          "iopub.status.busy": "2024-01-08T17:24:32.860805Z",
          "iopub.execute_input": "2024-01-08T17:24:32.861079Z",
          "iopub.status.idle": "2024-01-08T17:24:32.874687Z",
          "shell.execute_reply.started": "2024-01-08T17:24:32.861057Z",
          "shell.execute_reply": "2024-01-08T17:24:32.873608Z"
        },
        "trusted": true,
        "id": "8ZTASGfn9HCx",
        "colab": {
          "base_uri": "https://localhost:8080/"
        },
        "outputId": "945dd8c6-d3a1-4b16-f19b-3925b00998d2"
      },
      "execution_count": null,
      "outputs": [
        {
          "output_type": "stream",
          "name": "stdout",
          "text": [
            "<class 'pandas.core.frame.DataFrame'>\n",
            "RangeIndex: 5 entries, 0 to 4\n",
            "Data columns (total 1 columns):\n",
            " #   Column  Non-Null Count  Dtype \n",
            "---  ------  --------------  ----- \n",
            " 0   text    5 non-null      object\n",
            "dtypes: object(1)\n",
            "memory usage: 168.0+ bytes\n"
          ]
        }
      ]
    },
    {
      "cell_type": "markdown",
      "source": [
        "### Causal Lm data preparation"
      ],
      "metadata": {
        "id": "MPs6c2cw9HCx"
      }
    },
    {
      "cell_type": "code",
      "source": [
        "val = tokenize(\"I have an apple\").values()\n",
        "[i for item in val for i in item ]"
      ],
      "metadata": {
        "execution": {
          "iopub.status.busy": "2024-01-08T17:24:32.875940Z",
          "iopub.execute_input": "2024-01-08T17:24:32.876365Z",
          "iopub.status.idle": "2024-01-08T17:24:32.899533Z",
          "shell.execute_reply.started": "2024-01-08T17:24:32.876332Z",
          "shell.execute_reply": "2024-01-08T17:24:32.898701Z"
        },
        "trusted": true,
        "id": "ehXTR-sg9HCx",
        "colab": {
          "base_uri": "https://localhost:8080/"
        },
        "outputId": "cbf29227-e9f9-41da-e1a6-0a005d92dfa9"
      },
      "execution_count": null,
      "outputs": [
        {
          "output_type": "execute_result",
          "data": {
            "text/plain": [
              "['i', 'have', 'an', 'apple']"
            ]
          },
          "metadata": {},
          "execution_count": 22
        }
      ]
    },
    {
      "cell_type": "code",
      "source": [
        "def create_train_dataset_causal_lm(texts,context_window=64):\n",
        "    dataset = {\"input\":[],\"labels\":[]}\n",
        "\n",
        "    for text in tqdm(texts):\n",
        "        tokens = tokenize(text)\n",
        "        tokens = [token for word_tokens in tokens.values() for token in word_tokens]\n",
        "\n",
        "        if len(tokens)<context_window:\n",
        "          dataset[\"input\"].append(' '.join(tokens))\n",
        "          dataset[\"labels\"].append(\"<eos>\")\n",
        "          continue\n",
        "\n",
        "        for idx in range(len(tokens)-context_window):\n",
        "            dataset[\"input\"].append(' '.join(tokens[idx:idx+context_window]))\n",
        "\n",
        "            if (idx+context_window)<len(tokens):\n",
        "\n",
        "              dataset[\"labels\"].append(tokens[idx+context_window]) #the label window shifts by one\n",
        "              #logging.info(\"context larger than token length\")\n",
        "\n",
        "            else:\n",
        "              dataset[\"labels\"] = \"<eos>\"\n",
        "\n",
        "    return pd.DataFrame(dataset)\n",
        "\n"
      ],
      "metadata": {
        "execution": {
          "iopub.status.busy": "2024-01-08T17:24:32.900670Z",
          "iopub.execute_input": "2024-01-08T17:24:32.900998Z",
          "iopub.status.idle": "2024-01-08T17:24:32.909534Z",
          "shell.execute_reply.started": "2024-01-08T17:24:32.900956Z",
          "shell.execute_reply": "2024-01-08T17:24:32.908687Z"
        },
        "trusted": true,
        "id": "Gmm0vozI9HCx"
      },
      "execution_count": null,
      "outputs": []
    },
    {
      "cell_type": "code",
      "source": [
        "create_train_dataset_causal_lm([\"I have an apple\"])"
      ],
      "metadata": {
        "id": "qjEexA5GO0Hq",
        "colab": {
          "base_uri": "https://localhost:8080/",
          "height": 113,
          "referenced_widgets": [
            "cad4d797e5064d7eab18073c91ef8427",
            "584af331043445ffab31db889d79b4ee",
            "7057389cb1954520b0255d775f75467e",
            "8bff2768f1894fce9c10917a978d84dc",
            "8fa16de2d57e43b6a412430fc13acea5",
            "da2aef09ebb94d5ea67e89ca672dcb87",
            "6c132a0d842b4b9281185e060413eadf",
            "65ebef1e3a77469da40fcfbbb6d1d4a2",
            "6a3fc8ed77dc48018b29394a5a7309e0",
            "ac055765fb5141d9a6396577568cc848",
            "a2a7464c486746d0878d17f204a36119"
          ]
        },
        "outputId": "3e9bd8b2-349c-4745-9022-b9f33cf1f577"
      },
      "execution_count": null,
      "outputs": [
        {
          "output_type": "display_data",
          "data": {
            "text/plain": [
              "  0%|          | 0/1 [00:00<?, ?it/s]"
            ],
            "application/vnd.jupyter.widget-view+json": {
              "version_major": 2,
              "version_minor": 0,
              "model_id": "cad4d797e5064d7eab18073c91ef8427"
            }
          },
          "metadata": {}
        },
        {
          "output_type": "execute_result",
          "data": {
            "text/plain": [
              "             input labels\n",
              "0  i have an apple  <eos>"
            ],
            "text/html": [
              "\n",
              "  <div id=\"df-31ba1d8e-af46-4c20-8a1f-452b2e512798\" class=\"colab-df-container\">\n",
              "    <div>\n",
              "<style scoped>\n",
              "    .dataframe tbody tr th:only-of-type {\n",
              "        vertical-align: middle;\n",
              "    }\n",
              "\n",
              "    .dataframe tbody tr th {\n",
              "        vertical-align: top;\n",
              "    }\n",
              "\n",
              "    .dataframe thead th {\n",
              "        text-align: right;\n",
              "    }\n",
              "</style>\n",
              "<table border=\"1\" class=\"dataframe\">\n",
              "  <thead>\n",
              "    <tr style=\"text-align: right;\">\n",
              "      <th></th>\n",
              "      <th>input</th>\n",
              "      <th>labels</th>\n",
              "    </tr>\n",
              "  </thead>\n",
              "  <tbody>\n",
              "    <tr>\n",
              "      <th>0</th>\n",
              "      <td>i have an apple</td>\n",
              "      <td>&lt;eos&gt;</td>\n",
              "    </tr>\n",
              "  </tbody>\n",
              "</table>\n",
              "</div>\n",
              "    <div class=\"colab-df-buttons\">\n",
              "\n",
              "  <div class=\"colab-df-container\">\n",
              "    <button class=\"colab-df-convert\" onclick=\"convertToInteractive('df-31ba1d8e-af46-4c20-8a1f-452b2e512798')\"\n",
              "            title=\"Convert this dataframe to an interactive table.\"\n",
              "            style=\"display:none;\">\n",
              "\n",
              "  <svg xmlns=\"http://www.w3.org/2000/svg\" height=\"24px\" viewBox=\"0 -960 960 960\">\n",
              "    <path d=\"M120-120v-720h720v720H120Zm60-500h600v-160H180v160Zm220 220h160v-160H400v160Zm0 220h160v-160H400v160ZM180-400h160v-160H180v160Zm440 0h160v-160H620v160ZM180-180h160v-160H180v160Zm440 0h160v-160H620v160Z\"/>\n",
              "  </svg>\n",
              "    </button>\n",
              "\n",
              "  <style>\n",
              "    .colab-df-container {\n",
              "      display:flex;\n",
              "      gap: 12px;\n",
              "    }\n",
              "\n",
              "    .colab-df-convert {\n",
              "      background-color: #E8F0FE;\n",
              "      border: none;\n",
              "      border-radius: 50%;\n",
              "      cursor: pointer;\n",
              "      display: none;\n",
              "      fill: #1967D2;\n",
              "      height: 32px;\n",
              "      padding: 0 0 0 0;\n",
              "      width: 32px;\n",
              "    }\n",
              "\n",
              "    .colab-df-convert:hover {\n",
              "      background-color: #E2EBFA;\n",
              "      box-shadow: 0px 1px 2px rgba(60, 64, 67, 0.3), 0px 1px 3px 1px rgba(60, 64, 67, 0.15);\n",
              "      fill: #174EA6;\n",
              "    }\n",
              "\n",
              "    .colab-df-buttons div {\n",
              "      margin-bottom: 4px;\n",
              "    }\n",
              "\n",
              "    [theme=dark] .colab-df-convert {\n",
              "      background-color: #3B4455;\n",
              "      fill: #D2E3FC;\n",
              "    }\n",
              "\n",
              "    [theme=dark] .colab-df-convert:hover {\n",
              "      background-color: #434B5C;\n",
              "      box-shadow: 0px 1px 3px 1px rgba(0, 0, 0, 0.15);\n",
              "      filter: drop-shadow(0px 1px 2px rgba(0, 0, 0, 0.3));\n",
              "      fill: #FFFFFF;\n",
              "    }\n",
              "  </style>\n",
              "\n",
              "    <script>\n",
              "      const buttonEl =\n",
              "        document.querySelector('#df-31ba1d8e-af46-4c20-8a1f-452b2e512798 button.colab-df-convert');\n",
              "      buttonEl.style.display =\n",
              "        google.colab.kernel.accessAllowed ? 'block' : 'none';\n",
              "\n",
              "      async function convertToInteractive(key) {\n",
              "        const element = document.querySelector('#df-31ba1d8e-af46-4c20-8a1f-452b2e512798');\n",
              "        const dataTable =\n",
              "          await google.colab.kernel.invokeFunction('convertToInteractive',\n",
              "                                                    [key], {});\n",
              "        if (!dataTable) return;\n",
              "\n",
              "        const docLinkHtml = 'Like what you see? Visit the ' +\n",
              "          '<a target=\"_blank\" href=https://colab.research.google.com/notebooks/data_table.ipynb>data table notebook</a>'\n",
              "          + ' to learn more about interactive tables.';\n",
              "        element.innerHTML = '';\n",
              "        dataTable['output_type'] = 'display_data';\n",
              "        await google.colab.output.renderOutput(dataTable, element);\n",
              "        const docLink = document.createElement('div');\n",
              "        docLink.innerHTML = docLinkHtml;\n",
              "        element.appendChild(docLink);\n",
              "      }\n",
              "    </script>\n",
              "  </div>\n",
              "\n",
              "\n",
              "    </div>\n",
              "  </div>\n"
            ]
          },
          "metadata": {},
          "execution_count": 24
        }
      ]
    },
    {
      "cell_type": "code",
      "source": [
        "def sen_to_tensor(sen,vocab=vocab,merge_rules=merge_rules):\n",
        "    '''Each sen will be converted to a vector where each token will be mapped to its index in vocab'''\n",
        "    sen = sen.lower()\n",
        "    token_dict = tokenize(sen,merge_rules)\n",
        "    words = nltk.word_tokenize(sen)\n",
        "    vocab = list(vocab)\n",
        "    list_of_tokens = []\n",
        "    for word in words:\n",
        "        list_of_tokens.extend(token_dict[word])\n",
        "\n",
        "    #find the index of the token in the vocab\n",
        "    tensor = np.zeros(len(vocab),dtype=np.float16)\n",
        "    for idx,token in enumerate(list_of_tokens):\n",
        "        tensor[idx] = vocab.index(token)\n",
        "    return tensor"
      ],
      "metadata": {
        "execution": {
          "iopub.status.busy": "2024-01-08T17:24:32.910441Z",
          "iopub.execute_input": "2024-01-08T17:24:32.910733Z",
          "iopub.status.idle": "2024-01-08T17:24:32.924934Z",
          "shell.execute_reply.started": "2024-01-08T17:24:32.910711Z",
          "shell.execute_reply": "2024-01-08T17:24:32.924164Z"
        },
        "trusted": true,
        "id": "fhqQEgbS9HCy"
      },
      "execution_count": null,
      "outputs": []
    },
    {
      "cell_type": "code",
      "source": [
        "sen_to_tensor(\"I have an apple\")"
      ],
      "metadata": {
        "execution": {
          "iopub.status.busy": "2024-01-08T17:24:32.926156Z",
          "iopub.execute_input": "2024-01-08T17:24:32.926747Z",
          "iopub.status.idle": "2024-01-08T17:24:32.952399Z",
          "shell.execute_reply.started": "2024-01-08T17:24:32.926721Z",
          "shell.execute_reply": "2024-01-08T17:24:32.951402Z"
        },
        "trusted": true,
        "id": "MeHNQO3y9HCy",
        "colab": {
          "base_uri": "https://localhost:8080/"
        },
        "outputId": "bdf8283c-0876-4a2a-fa25-5e72d0013b92"
      },
      "execution_count": null,
      "outputs": [
        {
          "output_type": "execute_result",
          "data": {
            "text/plain": [
              "array([2568., 6584., 9776., ...,    0.,    0.,    0.], dtype=float16)"
            ]
          },
          "metadata": {},
          "execution_count": 26
        }
      ]
    },
    {
      "cell_type": "code",
      "source": [
        "def batch_dataset(inputs:list[str],labels:list[str],batch_size:int):\n",
        "    '''\n",
        "        takes list of input and labels and batches them\n",
        "    '''\n",
        "    input_batched = []\n",
        "    label_batched = []\n",
        "\n",
        "    for batch,idx in enumerate(range(0,len(inputs),batch_size)):\n",
        "        input_batched.append(inputs[idx:idx+batch_size])\n",
        "        label_batched.append(labels[idx:idx+batch_size])\n",
        "\n",
        "    return input_batched,label_batched\n"
      ],
      "metadata": {
        "execution": {
          "iopub.status.busy": "2024-01-08T17:24:32.953772Z",
          "iopub.execute_input": "2024-01-08T17:24:32.954105Z",
          "iopub.status.idle": "2024-01-08T17:24:32.962061Z",
          "shell.execute_reply.started": "2024-01-08T17:24:32.954078Z",
          "shell.execute_reply": "2024-01-08T17:24:32.961027Z"
        },
        "trusted": true,
        "id": "TUIP2KsZ9HCy"
      },
      "execution_count": null,
      "outputs": []
    },
    {
      "cell_type": "code",
      "source": [
        "train_dataset = create_train_dataset_causal_lm(train_data.text)"
      ],
      "metadata": {
        "execution": {
          "iopub.status.busy": "2024-01-08T17:24:32.963076Z",
          "iopub.execute_input": "2024-01-08T17:24:32.963312Z",
          "iopub.status.idle": "2024-01-08T17:24:38.167931Z",
          "shell.execute_reply.started": "2024-01-08T17:24:32.963292Z",
          "shell.execute_reply": "2024-01-08T17:24:38.167040Z"
        },
        "trusted": true,
        "id": "1EJupQjY9HCy",
        "colab": {
          "base_uri": "https://localhost:8080/",
          "height": 49,
          "referenced_widgets": [
            "b0b88893dbc549af87fae2f25f8734c1",
            "a34b93c82d4c4a13b60bd391cbbe103c",
            "11caa02ba2384ead81a6c75573f3cc88",
            "5ccd65f3c0c94fb897fb62f10574b0cd",
            "e1463a2ae98349479650680a11045871",
            "122172ac86874715a27d2a0d93273856",
            "ae4005b846a8409798ada77601b93256",
            "d1ec51d1884641c6b51efc542d885003",
            "257c58e378164a83a2f569bb6a41f803",
            "a42d0c88d84f488bba6198c0b4938eb8",
            "9af8b469e3044f2db4cabbd3b9258e45"
          ]
        },
        "outputId": "dea5b5cd-7ad2-4a87-a284-7792aafde588"
      },
      "execution_count": null,
      "outputs": [
        {
          "output_type": "display_data",
          "data": {
            "text/plain": [
              "  0%|          | 0/50 [00:00<?, ?it/s]"
            ],
            "application/vnd.jupyter.widget-view+json": {
              "version_major": 2,
              "version_minor": 0,
              "model_id": "b0b88893dbc549af87fae2f25f8734c1"
            }
          },
          "metadata": {}
        }
      ]
    },
    {
      "cell_type": "code",
      "source": [
        "train_dataset"
      ],
      "metadata": {
        "execution": {
          "iopub.status.busy": "2024-01-08T17:24:38.169049Z",
          "iopub.execute_input": "2024-01-08T17:24:38.169318Z",
          "iopub.status.idle": "2024-01-08T17:24:38.180939Z",
          "shell.execute_reply.started": "2024-01-08T17:24:38.169294Z",
          "shell.execute_reply": "2024-01-08T17:24:38.179906Z"
        },
        "trusted": true,
        "id": "hLD7badX9HCy",
        "colab": {
          "base_uri": "https://localhost:8080/",
          "height": 423
        },
        "outputId": "090f55d9-47c7-4b7c-9b91-fc911121b2e0"
      },
      "execution_count": null,
      "outputs": [
        {
          "output_type": "execute_result",
          "data": {
            "text/plain": [
              "                                                 input    labels\n",
              "0    one day , a little girl named lily found needl...     after\n",
              "1    day , a little girl named lily found needle in...  finished\n",
              "2    , a little girl named lily found needle in her...   thanked\n",
              "3    a little girl named lily found needle in her r...    fixing\n",
              "4    little girl named lily found needle in her roo...      both\n",
              "..                                                 ...       ...\n",
              "715  tim . loved ice-cream so much one day he saw a...    walked\n",
              "716  . loved ice-cream so much one day he saw an an...      away\n",
              "717  loved ice-cream so much one day he saw an anci...       get\n",
              "718  ice-cream so much one day he saw an ancient tr...     enjoy\n",
              "719  so much one day he saw an ancient truck the ve...       his\n",
              "\n",
              "[720 rows x 2 columns]"
            ],
            "text/html": [
              "\n",
              "  <div id=\"df-737e679a-c156-4e47-92f2-407cfab933c0\" class=\"colab-df-container\">\n",
              "    <div>\n",
              "<style scoped>\n",
              "    .dataframe tbody tr th:only-of-type {\n",
              "        vertical-align: middle;\n",
              "    }\n",
              "\n",
              "    .dataframe tbody tr th {\n",
              "        vertical-align: top;\n",
              "    }\n",
              "\n",
              "    .dataframe thead th {\n",
              "        text-align: right;\n",
              "    }\n",
              "</style>\n",
              "<table border=\"1\" class=\"dataframe\">\n",
              "  <thead>\n",
              "    <tr style=\"text-align: right;\">\n",
              "      <th></th>\n",
              "      <th>input</th>\n",
              "      <th>labels</th>\n",
              "    </tr>\n",
              "  </thead>\n",
              "  <tbody>\n",
              "    <tr>\n",
              "      <th>0</th>\n",
              "      <td>one day , a little girl named lily found needl...</td>\n",
              "      <td>after</td>\n",
              "    </tr>\n",
              "    <tr>\n",
              "      <th>1</th>\n",
              "      <td>day , a little girl named lily found needle in...</td>\n",
              "      <td>finished</td>\n",
              "    </tr>\n",
              "    <tr>\n",
              "      <th>2</th>\n",
              "      <td>, a little girl named lily found needle in her...</td>\n",
              "      <td>thanked</td>\n",
              "    </tr>\n",
              "    <tr>\n",
              "      <th>3</th>\n",
              "      <td>a little girl named lily found needle in her r...</td>\n",
              "      <td>fixing</td>\n",
              "    </tr>\n",
              "    <tr>\n",
              "      <th>4</th>\n",
              "      <td>little girl named lily found needle in her roo...</td>\n",
              "      <td>both</td>\n",
              "    </tr>\n",
              "    <tr>\n",
              "      <th>...</th>\n",
              "      <td>...</td>\n",
              "      <td>...</td>\n",
              "    </tr>\n",
              "    <tr>\n",
              "      <th>715</th>\n",
              "      <td>tim . loved ice-cream so much one day he saw a...</td>\n",
              "      <td>walked</td>\n",
              "    </tr>\n",
              "    <tr>\n",
              "      <th>716</th>\n",
              "      <td>. loved ice-cream so much one day he saw an an...</td>\n",
              "      <td>away</td>\n",
              "    </tr>\n",
              "    <tr>\n",
              "      <th>717</th>\n",
              "      <td>loved ice-cream so much one day he saw an anci...</td>\n",
              "      <td>get</td>\n",
              "    </tr>\n",
              "    <tr>\n",
              "      <th>718</th>\n",
              "      <td>ice-cream so much one day he saw an ancient tr...</td>\n",
              "      <td>enjoy</td>\n",
              "    </tr>\n",
              "    <tr>\n",
              "      <th>719</th>\n",
              "      <td>so much one day he saw an ancient truck the ve...</td>\n",
              "      <td>his</td>\n",
              "    </tr>\n",
              "  </tbody>\n",
              "</table>\n",
              "<p>720 rows × 2 columns</p>\n",
              "</div>\n",
              "    <div class=\"colab-df-buttons\">\n",
              "\n",
              "  <div class=\"colab-df-container\">\n",
              "    <button class=\"colab-df-convert\" onclick=\"convertToInteractive('df-737e679a-c156-4e47-92f2-407cfab933c0')\"\n",
              "            title=\"Convert this dataframe to an interactive table.\"\n",
              "            style=\"display:none;\">\n",
              "\n",
              "  <svg xmlns=\"http://www.w3.org/2000/svg\" height=\"24px\" viewBox=\"0 -960 960 960\">\n",
              "    <path d=\"M120-120v-720h720v720H120Zm60-500h600v-160H180v160Zm220 220h160v-160H400v160Zm0 220h160v-160H400v160ZM180-400h160v-160H180v160Zm440 0h160v-160H620v160ZM180-180h160v-160H180v160Zm440 0h160v-160H620v160Z\"/>\n",
              "  </svg>\n",
              "    </button>\n",
              "\n",
              "  <style>\n",
              "    .colab-df-container {\n",
              "      display:flex;\n",
              "      gap: 12px;\n",
              "    }\n",
              "\n",
              "    .colab-df-convert {\n",
              "      background-color: #E8F0FE;\n",
              "      border: none;\n",
              "      border-radius: 50%;\n",
              "      cursor: pointer;\n",
              "      display: none;\n",
              "      fill: #1967D2;\n",
              "      height: 32px;\n",
              "      padding: 0 0 0 0;\n",
              "      width: 32px;\n",
              "    }\n",
              "\n",
              "    .colab-df-convert:hover {\n",
              "      background-color: #E2EBFA;\n",
              "      box-shadow: 0px 1px 2px rgba(60, 64, 67, 0.3), 0px 1px 3px 1px rgba(60, 64, 67, 0.15);\n",
              "      fill: #174EA6;\n",
              "    }\n",
              "\n",
              "    .colab-df-buttons div {\n",
              "      margin-bottom: 4px;\n",
              "    }\n",
              "\n",
              "    [theme=dark] .colab-df-convert {\n",
              "      background-color: #3B4455;\n",
              "      fill: #D2E3FC;\n",
              "    }\n",
              "\n",
              "    [theme=dark] .colab-df-convert:hover {\n",
              "      background-color: #434B5C;\n",
              "      box-shadow: 0px 1px 3px 1px rgba(0, 0, 0, 0.15);\n",
              "      filter: drop-shadow(0px 1px 2px rgba(0, 0, 0, 0.3));\n",
              "      fill: #FFFFFF;\n",
              "    }\n",
              "  </style>\n",
              "\n",
              "    <script>\n",
              "      const buttonEl =\n",
              "        document.querySelector('#df-737e679a-c156-4e47-92f2-407cfab933c0 button.colab-df-convert');\n",
              "      buttonEl.style.display =\n",
              "        google.colab.kernel.accessAllowed ? 'block' : 'none';\n",
              "\n",
              "      async function convertToInteractive(key) {\n",
              "        const element = document.querySelector('#df-737e679a-c156-4e47-92f2-407cfab933c0');\n",
              "        const dataTable =\n",
              "          await google.colab.kernel.invokeFunction('convertToInteractive',\n",
              "                                                    [key], {});\n",
              "        if (!dataTable) return;\n",
              "\n",
              "        const docLinkHtml = 'Like what you see? Visit the ' +\n",
              "          '<a target=\"_blank\" href=https://colab.research.google.com/notebooks/data_table.ipynb>data table notebook</a>'\n",
              "          + ' to learn more about interactive tables.';\n",
              "        element.innerHTML = '';\n",
              "        dataTable['output_type'] = 'display_data';\n",
              "        await google.colab.output.renderOutput(dataTable, element);\n",
              "        const docLink = document.createElement('div');\n",
              "        docLink.innerHTML = docLinkHtml;\n",
              "        element.appendChild(docLink);\n",
              "      }\n",
              "    </script>\n",
              "  </div>\n",
              "\n",
              "\n",
              "<div id=\"df-5e7806cc-cd83-413d-b87e-330a45db4c32\">\n",
              "  <button class=\"colab-df-quickchart\" onclick=\"quickchart('df-5e7806cc-cd83-413d-b87e-330a45db4c32')\"\n",
              "            title=\"Suggest charts\"\n",
              "            style=\"display:none;\">\n",
              "\n",
              "<svg xmlns=\"http://www.w3.org/2000/svg\" height=\"24px\"viewBox=\"0 0 24 24\"\n",
              "     width=\"24px\">\n",
              "    <g>\n",
              "        <path d=\"M19 3H5c-1.1 0-2 .9-2 2v14c0 1.1.9 2 2 2h14c1.1 0 2-.9 2-2V5c0-1.1-.9-2-2-2zM9 17H7v-7h2v7zm4 0h-2V7h2v10zm4 0h-2v-4h2v4z\"/>\n",
              "    </g>\n",
              "</svg>\n",
              "  </button>\n",
              "\n",
              "<style>\n",
              "  .colab-df-quickchart {\n",
              "      --bg-color: #E8F0FE;\n",
              "      --fill-color: #1967D2;\n",
              "      --hover-bg-color: #E2EBFA;\n",
              "      --hover-fill-color: #174EA6;\n",
              "      --disabled-fill-color: #AAA;\n",
              "      --disabled-bg-color: #DDD;\n",
              "  }\n",
              "\n",
              "  [theme=dark] .colab-df-quickchart {\n",
              "      --bg-color: #3B4455;\n",
              "      --fill-color: #D2E3FC;\n",
              "      --hover-bg-color: #434B5C;\n",
              "      --hover-fill-color: #FFFFFF;\n",
              "      --disabled-bg-color: #3B4455;\n",
              "      --disabled-fill-color: #666;\n",
              "  }\n",
              "\n",
              "  .colab-df-quickchart {\n",
              "    background-color: var(--bg-color);\n",
              "    border: none;\n",
              "    border-radius: 50%;\n",
              "    cursor: pointer;\n",
              "    display: none;\n",
              "    fill: var(--fill-color);\n",
              "    height: 32px;\n",
              "    padding: 0;\n",
              "    width: 32px;\n",
              "  }\n",
              "\n",
              "  .colab-df-quickchart:hover {\n",
              "    background-color: var(--hover-bg-color);\n",
              "    box-shadow: 0 1px 2px rgba(60, 64, 67, 0.3), 0 1px 3px 1px rgba(60, 64, 67, 0.15);\n",
              "    fill: var(--button-hover-fill-color);\n",
              "  }\n",
              "\n",
              "  .colab-df-quickchart-complete:disabled,\n",
              "  .colab-df-quickchart-complete:disabled:hover {\n",
              "    background-color: var(--disabled-bg-color);\n",
              "    fill: var(--disabled-fill-color);\n",
              "    box-shadow: none;\n",
              "  }\n",
              "\n",
              "  .colab-df-spinner {\n",
              "    border: 2px solid var(--fill-color);\n",
              "    border-color: transparent;\n",
              "    border-bottom-color: var(--fill-color);\n",
              "    animation:\n",
              "      spin 1s steps(1) infinite;\n",
              "  }\n",
              "\n",
              "  @keyframes spin {\n",
              "    0% {\n",
              "      border-color: transparent;\n",
              "      border-bottom-color: var(--fill-color);\n",
              "      border-left-color: var(--fill-color);\n",
              "    }\n",
              "    20% {\n",
              "      border-color: transparent;\n",
              "      border-left-color: var(--fill-color);\n",
              "      border-top-color: var(--fill-color);\n",
              "    }\n",
              "    30% {\n",
              "      border-color: transparent;\n",
              "      border-left-color: var(--fill-color);\n",
              "      border-top-color: var(--fill-color);\n",
              "      border-right-color: var(--fill-color);\n",
              "    }\n",
              "    40% {\n",
              "      border-color: transparent;\n",
              "      border-right-color: var(--fill-color);\n",
              "      border-top-color: var(--fill-color);\n",
              "    }\n",
              "    60% {\n",
              "      border-color: transparent;\n",
              "      border-right-color: var(--fill-color);\n",
              "    }\n",
              "    80% {\n",
              "      border-color: transparent;\n",
              "      border-right-color: var(--fill-color);\n",
              "      border-bottom-color: var(--fill-color);\n",
              "    }\n",
              "    90% {\n",
              "      border-color: transparent;\n",
              "      border-bottom-color: var(--fill-color);\n",
              "    }\n",
              "  }\n",
              "</style>\n",
              "\n",
              "  <script>\n",
              "    async function quickchart(key) {\n",
              "      const quickchartButtonEl =\n",
              "        document.querySelector('#' + key + ' button');\n",
              "      quickchartButtonEl.disabled = true;  // To prevent multiple clicks.\n",
              "      quickchartButtonEl.classList.add('colab-df-spinner');\n",
              "      try {\n",
              "        const charts = await google.colab.kernel.invokeFunction(\n",
              "            'suggestCharts', [key], {});\n",
              "      } catch (error) {\n",
              "        console.error('Error during call to suggestCharts:', error);\n",
              "      }\n",
              "      quickchartButtonEl.classList.remove('colab-df-spinner');\n",
              "      quickchartButtonEl.classList.add('colab-df-quickchart-complete');\n",
              "    }\n",
              "    (() => {\n",
              "      let quickchartButtonEl =\n",
              "        document.querySelector('#df-5e7806cc-cd83-413d-b87e-330a45db4c32 button');\n",
              "      quickchartButtonEl.style.display =\n",
              "        google.colab.kernel.accessAllowed ? 'block' : 'none';\n",
              "    })();\n",
              "  </script>\n",
              "</div>\n",
              "\n",
              "  <div id=\"id_dbb918c7-40c3-43ee-9cea-b8b8ddd05075\">\n",
              "    <style>\n",
              "      .colab-df-generate {\n",
              "        background-color: #E8F0FE;\n",
              "        border: none;\n",
              "        border-radius: 50%;\n",
              "        cursor: pointer;\n",
              "        display: none;\n",
              "        fill: #1967D2;\n",
              "        height: 32px;\n",
              "        padding: 0 0 0 0;\n",
              "        width: 32px;\n",
              "      }\n",
              "\n",
              "      .colab-df-generate:hover {\n",
              "        background-color: #E2EBFA;\n",
              "        box-shadow: 0px 1px 2px rgba(60, 64, 67, 0.3), 0px 1px 3px 1px rgba(60, 64, 67, 0.15);\n",
              "        fill: #174EA6;\n",
              "      }\n",
              "\n",
              "      [theme=dark] .colab-df-generate {\n",
              "        background-color: #3B4455;\n",
              "        fill: #D2E3FC;\n",
              "      }\n",
              "\n",
              "      [theme=dark] .colab-df-generate:hover {\n",
              "        background-color: #434B5C;\n",
              "        box-shadow: 0px 1px 3px 1px rgba(0, 0, 0, 0.15);\n",
              "        filter: drop-shadow(0px 1px 2px rgba(0, 0, 0, 0.3));\n",
              "        fill: #FFFFFF;\n",
              "      }\n",
              "    </style>\n",
              "    <button class=\"colab-df-generate\" onclick=\"generateWithVariable('train_dataset')\"\n",
              "            title=\"Generate code using this dataframe.\"\n",
              "            style=\"display:none;\">\n",
              "\n",
              "  <svg xmlns=\"http://www.w3.org/2000/svg\" height=\"24px\"viewBox=\"0 0 24 24\"\n",
              "       width=\"24px\">\n",
              "    <path d=\"M7,19H8.4L18.45,9,17,7.55,7,17.6ZM5,21V16.75L18.45,3.32a2,2,0,0,1,2.83,0l1.4,1.43a1.91,1.91,0,0,1,.58,1.4,1.91,1.91,0,0,1-.58,1.4L9.25,21ZM18.45,9,17,7.55Zm-12,3A5.31,5.31,0,0,0,4.9,8.1,5.31,5.31,0,0,0,1,6.5,5.31,5.31,0,0,0,4.9,4.9,5.31,5.31,0,0,0,6.5,1,5.31,5.31,0,0,0,8.1,4.9,5.31,5.31,0,0,0,12,6.5,5.46,5.46,0,0,0,6.5,12Z\"/>\n",
              "  </svg>\n",
              "    </button>\n",
              "    <script>\n",
              "      (() => {\n",
              "      const buttonEl =\n",
              "        document.querySelector('#id_dbb918c7-40c3-43ee-9cea-b8b8ddd05075 button.colab-df-generate');\n",
              "      buttonEl.style.display =\n",
              "        google.colab.kernel.accessAllowed ? 'block' : 'none';\n",
              "\n",
              "      buttonEl.onclick = () => {\n",
              "        google.colab.notebook.generateWithVariable('train_dataset');\n",
              "      }\n",
              "      })();\n",
              "    </script>\n",
              "  </div>\n",
              "\n",
              "    </div>\n",
              "  </div>\n"
            ]
          },
          "metadata": {},
          "execution_count": 29
        }
      ]
    },
    {
      "cell_type": "code",
      "source": [
        "test_dataset = create_train_dataset_causal_lm(test_data.text)"
      ],
      "metadata": {
        "execution": {
          "iopub.status.busy": "2024-01-08T17:24:38.182300Z",
          "iopub.execute_input": "2024-01-08T17:24:38.182608Z",
          "iopub.status.idle": "2024-01-08T17:24:40.265347Z",
          "shell.execute_reply.started": "2024-01-08T17:24:38.182584Z",
          "shell.execute_reply": "2024-01-08T17:24:40.264408Z"
        },
        "trusted": true,
        "id": "O0dP94NI9HCz",
        "colab": {
          "base_uri": "https://localhost:8080/",
          "height": 49,
          "referenced_widgets": [
            "1bf2ed52f3404b968de352cd959cb6dd",
            "4b92524ae6314b88b201817725a62493",
            "1477d62a963b402bbec5c6d52c73018b",
            "24e13e960d234c489eab45228b7caff0",
            "2472d79413174f5ba2abecea9f246a61",
            "d4d862d4d9904046942cfcd9a7455c56",
            "25af78cd369b4c549b5cbb87a81a51c1",
            "006b2e6c361844d6bea2eeb3d46a789c",
            "56047628e79e43fea5de54bdaa99ab09",
            "384a9572f49b4010838f58bef98d55ad",
            "7881be3211be4acab76c130655ee7c25"
          ]
        },
        "outputId": "ee76a15c-2bc9-4fd8-c4de-c5a58b223000"
      },
      "execution_count": null,
      "outputs": [
        {
          "output_type": "display_data",
          "data": {
            "text/plain": [
              "  0%|          | 0/5 [00:00<?, ?it/s]"
            ],
            "application/vnd.jupyter.widget-view+json": {
              "version_major": 2,
              "version_minor": 0,
              "model_id": "1bf2ed52f3404b968de352cd959cb6dd"
            }
          },
          "metadata": {}
        }
      ]
    },
    {
      "cell_type": "code",
      "source": [
        "len(train_dataset),len(test_dataset)"
      ],
      "metadata": {
        "execution": {
          "iopub.status.busy": "2024-01-08T17:24:40.266556Z",
          "iopub.execute_input": "2024-01-08T17:24:40.266840Z",
          "iopub.status.idle": "2024-01-08T17:24:40.272929Z",
          "shell.execute_reply.started": "2024-01-08T17:24:40.266816Z",
          "shell.execute_reply": "2024-01-08T17:24:40.272022Z"
        },
        "trusted": true,
        "id": "7jVaZKSr9HCz",
        "colab": {
          "base_uri": "https://localhost:8080/"
        },
        "outputId": "62da3227-fdf9-4ed0-b87e-e1c82e050133"
      },
      "execution_count": null,
      "outputs": [
        {
          "output_type": "execute_result",
          "data": {
            "text/plain": [
              "(720, 72)"
            ]
          },
          "metadata": {},
          "execution_count": 31
        }
      ]
    },
    {
      "cell_type": "markdown",
      "source": [
        "> Save the dataset"
      ],
      "metadata": {
        "id": "keahEFSyS4bi"
      }
    },
    {
      "cell_type": "code",
      "source": [
        "input_batch,label_batch = batch_dataset(train_dataset[\"input\"],train_dataset[\"labels\"],batch_size=BATCH_SIZE)"
      ],
      "metadata": {
        "execution": {
          "iopub.status.busy": "2024-01-08T17:24:40.274023Z",
          "iopub.execute_input": "2024-01-08T17:24:40.274269Z",
          "iopub.status.idle": "2024-01-08T17:24:40.550718Z",
          "shell.execute_reply.started": "2024-01-08T17:24:40.274247Z",
          "shell.execute_reply": "2024-01-08T17:24:40.549930Z"
        },
        "trusted": true,
        "id": "-W8zqMgW9HCz"
      },
      "execution_count": null,
      "outputs": []
    },
    {
      "cell_type": "code",
      "source": [
        "input_batch_test,label_batch_test = batch_dataset(test_dataset[\"input\"],test_dataset[\"labels\"],batch_size=BATCH_SIZE)"
      ],
      "metadata": {
        "execution": {
          "iopub.status.busy": "2024-01-08T17:24:40.551822Z",
          "iopub.execute_input": "2024-01-08T17:24:40.552109Z",
          "iopub.status.idle": "2024-01-08T17:24:40.573833Z",
          "shell.execute_reply.started": "2024-01-08T17:24:40.552085Z",
          "shell.execute_reply": "2024-01-08T17:24:40.572918Z"
        },
        "trusted": true,
        "id": "8cQsj34i9HCz"
      },
      "execution_count": null,
      "outputs": []
    },
    {
      "cell_type": "code",
      "source": [
        "input_batch_test[0]"
      ],
      "metadata": {
        "execution": {
          "iopub.status.busy": "2024-01-08T17:24:40.575010Z",
          "iopub.execute_input": "2024-01-08T17:24:40.575401Z",
          "iopub.status.idle": "2024-01-08T17:24:40.591941Z",
          "shell.execute_reply.started": "2024-01-08T17:24:40.575367Z",
          "shell.execute_reply": "2024-01-08T17:24:40.591102Z"
        },
        "trusted": true,
        "id": "h4urKkI69HCz",
        "colab": {
          "base_uri": "https://localhost:8080/"
        },
        "outputId": "c5bbaee0-d1fa-4fe8-cf38-4d6650160e67"
      },
      "execution_count": null,
      "outputs": [
        {
          "output_type": "execute_result",
          "data": {
            "text/plain": [
              "0    spot . saw the shiny car and said , `` wow kit...\n",
              "1    once upon a time , in big forest there lived r...\n",
              "Name: input, dtype: object"
            ]
          },
          "metadata": {},
          "execution_count": 34
        }
      ]
    },
    {
      "cell_type": "markdown",
      "source": [
        "Expected shape of input tensor nos_of_batches,batch_size,vocab_size"
      ],
      "metadata": {
        "id": "pD6GRef69HC0"
      }
    },
    {
      "cell_type": "markdown",
      "source": [
        "converting input batch to tensor"
      ],
      "metadata": {
        "id": "GEwJnLwj9HC0"
      }
    },
    {
      "cell_type": "code",
      "source": [
        "vocab.add(\"<eos>\")"
      ],
      "metadata": {
        "id": "qwZz7Zk_amJs"
      },
      "execution_count": null,
      "outputs": []
    },
    {
      "cell_type": "code",
      "source": [
        "\"<eos>\" in vocab"
      ],
      "metadata": {
        "id": "t4NY6ZlCbNu4",
        "colab": {
          "base_uri": "https://localhost:8080/"
        },
        "outputId": "ad683a1c-79da-4b45-c5e0-8b05c2cfbf77"
      },
      "execution_count": null,
      "outputs": [
        {
          "output_type": "execute_result",
          "data": {
            "text/plain": [
              "True"
            ]
          },
          "metadata": {},
          "execution_count": 36
        }
      ]
    },
    {
      "cell_type": "code",
      "source": [
        "list(vocab).index(\"<eos>\")"
      ],
      "metadata": {
        "id": "s5rMpTVIbS9k",
        "colab": {
          "base_uri": "https://localhost:8080/"
        },
        "outputId": "ec61e8fa-abe7-4242-9b73-53bd4bfbd26f"
      },
      "execution_count": null,
      "outputs": [
        {
          "output_type": "execute_result",
          "data": {
            "text/plain": [
              "628"
            ]
          },
          "metadata": {},
          "execution_count": 37
        }
      ]
    },
    {
      "cell_type": "code",
      "source": [
        "def convert_data_batch_to_tensor(input_batch,batch_size):\n",
        "\n",
        "    nos_of_batches = len(input_batch)\n",
        "    batch_size = batch_size\n",
        "    vocab_size = len(vocab)\n",
        "    input_tensor_batch = np.zeros((nos_of_batches,batch_size,vocab_size),dtype=np.float16)\n",
        "    for batch,inputs in tqdm(enumerate(input_batch)):\n",
        "        for elm_nos,text in enumerate(inputs):\n",
        "            input_tensor_batch[batch][elm_nos]= sen_to_tensor(text)\n",
        "    return input_tensor_batch\n"
      ],
      "metadata": {
        "execution": {
          "iopub.status.busy": "2024-01-08T17:24:40.597528Z",
          "iopub.execute_input": "2024-01-08T17:24:40.597788Z",
          "iopub.status.idle": "2024-01-08T17:24:40.606631Z",
          "shell.execute_reply.started": "2024-01-08T17:24:40.597766Z",
          "shell.execute_reply": "2024-01-08T17:24:40.605818Z"
        },
        "trusted": true,
        "id": "Z0dEhsLR9HC0"
      },
      "execution_count": null,
      "outputs": []
    },
    {
      "cell_type": "code",
      "source": [
        "def convert_label_batch_to_tensor(label_batch,batch_size):\n",
        "  nos_of_batches = len(label_batch)\n",
        "  vocab_list = list(vocab)\n",
        "\n",
        "  for batch in label_batch:\n",
        "    output_tensor_batch = np.zeros((nos_of_batches,batch_size),dtype=np.long)\n",
        "\n",
        "    for batch,labels in tqdm(enumerate(label_batch)):\n",
        "        for elm_nos,label in enumerate(labels):\n",
        "          output_tensor_batch[batch][elm_nos]= vocab_list.index(label)\n",
        "    return output_tensor_batch\n"
      ],
      "metadata": {
        "id": "EE1SOpnYZUX0"
      },
      "execution_count": null,
      "outputs": []
    },
    {
      "cell_type": "code",
      "source": [
        "input_train_batch = convert_data_batch_to_tensor(input_batch,batch_size=BATCH_SIZE)\n",
        "input_test_batch = convert_data_batch_to_tensor(input_batch_test,batch_size=BATCH_SIZE)\n",
        "\n",
        "input_train_batch.shape,input_test_batch.shape"
      ],
      "metadata": {
        "execution": {
          "iopub.status.busy": "2024-01-08T17:24:40.607699Z",
          "iopub.execute_input": "2024-01-08T17:24:40.607958Z",
          "iopub.status.idle": "2024-01-08T17:25:45.258398Z",
          "shell.execute_reply.started": "2024-01-08T17:24:40.607936Z",
          "shell.execute_reply": "2024-01-08T17:25:45.257490Z"
        },
        "trusted": true,
        "id": "_FgVclPg9HC0",
        "colab": {
          "base_uri": "https://localhost:8080/",
          "height": 98,
          "referenced_widgets": [
            "54fc4422c9f940399d053ccfce8c1560",
            "701ec5cfd7934b8386dec066aaa8f830",
            "28474dd5e03a48cc91f09cdf459eb8bd",
            "7e11bece4a364ab082485bfee20c9d6d",
            "bb65c2c1bb80448d95545a320ab61be3",
            "f39a7be866114590b3ebc4940aaec2bd",
            "0648c87a7f4c4cdcbd5944bd3d3ccb4c",
            "c72481d637bf4d1eba13b673dff5e6ee",
            "13e8c5211e0f4421a882436410021452",
            "1ffdf97d91404beaad4ba734967fd12d",
            "a124582fdfbc436588040d117b1cd262",
            "f829486eabe24bd1bcd9626bb09f2c1b",
            "5f1d467e752d422d813ab35373e6acd5",
            "4d6a6948940a44738b756c1a828a9d91",
            "b1311abc5cbd4245862728398d052f65",
            "a4b2fabce1c04465b02940a95ecbc3fe",
            "3713a12aeee84232b602cff22001936b",
            "8018b88007984b6d97e36c23ca84f5f9",
            "4e87e06062a94a8691746affb4906fb7",
            "fa76b98626284e5ba39a77f60f2d03e8",
            "055d17e0c2064587bac34dd51778fb31",
            "3b0326dd10114cadae8da36e4c65137e"
          ]
        },
        "outputId": "23c9faff-9845-40bc-c010-b49a6e6a99d4"
      },
      "execution_count": null,
      "outputs": [
        {
          "output_type": "display_data",
          "data": {
            "text/plain": [
              "0it [00:00, ?it/s]"
            ],
            "application/vnd.jupyter.widget-view+json": {
              "version_major": 2,
              "version_minor": 0,
              "model_id": "54fc4422c9f940399d053ccfce8c1560"
            }
          },
          "metadata": {}
        },
        {
          "output_type": "display_data",
          "data": {
            "text/plain": [
              "0it [00:00, ?it/s]"
            ],
            "application/vnd.jupyter.widget-view+json": {
              "version_major": 2,
              "version_minor": 0,
              "model_id": "f829486eabe24bd1bcd9626bb09f2c1b"
            }
          },
          "metadata": {}
        },
        {
          "output_type": "execute_result",
          "data": {
            "text/plain": [
              "((360, 2, 9841), (36, 2, 9841))"
            ]
          },
          "metadata": {},
          "execution_count": 40
        }
      ]
    },
    {
      "cell_type": "markdown",
      "source": [
        "Converting output batch to tensor"
      ],
      "metadata": {
        "id": "CsXrcxPP9HC1"
      }
    },
    {
      "cell_type": "code",
      "source": [
        "\n",
        "\n",
        "label_train_batch =  convert_label_batch_to_tensor(label_batch,batch_size=BATCH_SIZE)\n",
        "label_test_batch =  convert_label_batch_to_tensor(label_batch_test,batch_size=BATCH_SIZE)\n",
        "\n",
        "\n",
        "label_train_batch.shape,label_test_batch.shape"
      ],
      "metadata": {
        "execution": {
          "iopub.status.busy": "2024-01-08T17:25:45.259533Z",
          "iopub.execute_input": "2024-01-08T17:25:45.259836Z",
          "iopub.status.idle": "2024-01-08T17:26:47.706669Z",
          "shell.execute_reply.started": "2024-01-08T17:25:45.259811Z",
          "shell.execute_reply": "2024-01-08T17:26:47.705690Z"
        },
        "trusted": true,
        "id": "BqYyaaro9HC1",
        "colab": {
          "base_uri": "https://localhost:8080/",
          "height": 170,
          "referenced_widgets": [
            "ada41b83e75a46f7be275a50c680d433",
            "47cc2fe08b844b6ba73ee1fda59a6d8e",
            "95506a7bc1f848e0996603521b39cb40",
            "b5adebc70e014ca6a6824fb9feda88fa",
            "1f4980bce1d54856947a7b3421270d09",
            "3e78c04a398e471d931b47e6b5778eb7",
            "e0f2c9bee4dd45638f8778db8f056fee",
            "0aba8b70a6af4c5d8f280ac752f4c756",
            "ee860463ea1444f895224a4ef8c3536c",
            "14c48f0dee1b452c911f0c645a1809f9",
            "53a3401b0d3842a88c88e24d890d697c",
            "56877e392d6b4ca98a49a38d9ac9b653",
            "e55175c4d763471b88dadebfd8437ef6",
            "50e251ca85f547fc8b2d36d905cdbfd2",
            "989ae5137419407f9ada1adc81d588f5",
            "5540d817676b47d7864a11a7e026148a",
            "7f03630019cf456eb2615f5503beb399",
            "e9344fa960a1499293af8cd4e1ae2a3e",
            "fdaf802e6e254941abe645b5fb17bcd2",
            "2846e0f2f0264e63b2efa3985895746b",
            "4f112c3c6eab4616b6c686ceb6b983e2",
            "7d71e1ab0bc4402fab80b1dd37068e6b"
          ]
        },
        "outputId": "02b45076-a33e-4435-d4b7-216672521fbf"
      },
      "execution_count": null,
      "outputs": [
        {
          "output_type": "stream",
          "name": "stderr",
          "text": [
            "<ipython-input-39-6a2397d10cdd>:6: DeprecationWarning: `np.long` is a deprecated alias for `np.compat.long`. To silence this warning, use `np.compat.long` by itself. In the likely event your code does not need to work on Python 2 you can use the builtin `int` for which `np.compat.long` is itself an alias. Doing this will not modify any behaviour and is safe. When replacing `np.long`, you may wish to use e.g. `np.int64` or `np.int32` to specify the precision. If you wish to review your current use, check the release note link for additional information.\n",
            "Deprecated in NumPy 1.20; for more details and guidance: https://numpy.org/devdocs/release/1.20.0-notes.html#deprecations\n",
            "  output_tensor_batch = np.zeros((nos_of_batches,batch_size),dtype=np.long)\n"
          ]
        },
        {
          "output_type": "display_data",
          "data": {
            "text/plain": [
              "0it [00:00, ?it/s]"
            ],
            "application/vnd.jupyter.widget-view+json": {
              "version_major": 2,
              "version_minor": 0,
              "model_id": "ada41b83e75a46f7be275a50c680d433"
            }
          },
          "metadata": {}
        },
        {
          "output_type": "display_data",
          "data": {
            "text/plain": [
              "0it [00:00, ?it/s]"
            ],
            "application/vnd.jupyter.widget-view+json": {
              "version_major": 2,
              "version_minor": 0,
              "model_id": "56877e392d6b4ca98a49a38d9ac9b653"
            }
          },
          "metadata": {}
        },
        {
          "output_type": "execute_result",
          "data": {
            "text/plain": [
              "((360, 2), (36, 2))"
            ]
          },
          "metadata": {},
          "execution_count": 41
        }
      ]
    },
    {
      "cell_type": "code",
      "source": [
        "class BareLLM(nn.Module):\n",
        "    def __init__(self,vocab_size,embed_dim,hidden_dim):\n",
        "        super().__init__()\n",
        "        self.embedding = nn.Embedding(vocab_size,embed_dim)\n",
        "        self.layer_norm = nn.LayerNorm(embed_dim)\n",
        "        self.flatten = nn.Flatten()\n",
        "        self.Linear1 = nn.Linear(vocab_size*embed_dim,hidden_dim)\n",
        "        self.relu1 = nn.ReLU()\n",
        "        self.Linear2 = nn.Linear(hidden_dim,vocab_size)\n",
        "        self.relu2 = nn.ReLU()\n",
        "\n",
        "    def forward(self,input_tensor):\n",
        "        logging.debug(f\"Shape of input tensor {input_tensor.shape}\")\n",
        "        embedded_tensor = self.embedding(input_tensor)\n",
        "        logging.debug(f\"Shape of embedding matrix {embedded_tensor.shape}\")\n",
        "        norm_tensor = self.layer_norm(embedded_tensor)\n",
        "        logging.debug(f\"Shape of matrix after norm {norm_tensor.shape}\")\n",
        "        flattened_tensor = self.flatten(norm_tensor)\n",
        "        logging.debug(f\"Shape of flattened tensor {flattened_tensor.shape}\")\n",
        "        linear_output_1 = self.Linear1(flattened_tensor)\n",
        "        logging.debug(f\"Shape of tensor after linear layer 1 {linear_output_1.shape}\")\n",
        "        relu_output_1 = self.relu1(linear_output_1)\n",
        "        linear_output_2 = self.Linear2(relu_output_1)\n",
        "        logging.debug(f\"Shape of tensor after linear layer 2 {linear_output_2.shape}\")\n",
        "        relu_output_2 = self.relu2(linear_output_2)\n",
        "        return relu_output_2\n"
      ],
      "metadata": {
        "execution": {
          "iopub.status.busy": "2024-01-08T17:26:47.715043Z",
          "iopub.execute_input": "2024-01-08T17:26:47.715329Z",
          "iopub.status.idle": "2024-01-08T17:26:47.726400Z",
          "shell.execute_reply.started": "2024-01-08T17:26:47.715306Z",
          "shell.execute_reply": "2024-01-08T17:26:47.725657Z"
        },
        "trusted": true,
        "id": "1BGteB329HC1"
      },
      "execution_count": null,
      "outputs": []
    },
    {
      "cell_type": "code",
      "source": [
        "model = BareLLM(vocab_size=len(vocab),embed_dim=768,hidden_dim=128)"
      ],
      "metadata": {
        "execution": {
          "iopub.status.busy": "2024-01-08T17:26:47.727436Z",
          "iopub.execute_input": "2024-01-08T17:26:47.727733Z",
          "iopub.status.idle": "2024-01-08T17:27:07.836286Z",
          "shell.execute_reply.started": "2024-01-08T17:26:47.727710Z",
          "shell.execute_reply": "2024-01-08T17:27:07.835513Z"
        },
        "trusted": true,
        "id": "xbV4yAUQ9HC1"
      },
      "execution_count": null,
      "outputs": []
    },
    {
      "cell_type": "code",
      "source": [
        "summary(model)"
      ],
      "metadata": {
        "execution": {
          "iopub.status.busy": "2024-01-08T17:27:07.837293Z",
          "iopub.execute_input": "2024-01-08T17:27:07.837599Z",
          "iopub.status.idle": "2024-01-08T17:27:07.844251Z",
          "shell.execute_reply.started": "2024-01-08T17:27:07.837575Z",
          "shell.execute_reply": "2024-01-08T17:27:07.843346Z"
        },
        "trusted": true,
        "id": "utW-wax19HC2",
        "colab": {
          "base_uri": "https://localhost:8080/"
        },
        "outputId": "fa65f758-313d-460b-d099-bff6025a749e"
      },
      "execution_count": null,
      "outputs": [
        {
          "output_type": "execute_result",
          "data": {
            "text/plain": [
              "=================================================================\n",
              "Layer (type:depth-idx)                   Param #\n",
              "=================================================================\n",
              "BareLLM                                  --\n",
              "├─Embedding: 1-1                         7,557,888\n",
              "├─LayerNorm: 1-2                         1,536\n",
              "├─Flatten: 1-3                           --\n",
              "├─Linear: 1-4                            967,409,792\n",
              "├─ReLU: 1-5                              --\n",
              "├─Linear: 1-6                            1,269,489\n",
              "├─ReLU: 1-7                              --\n",
              "=================================================================\n",
              "Total params: 976,238,705\n",
              "Trainable params: 976,238,705\n",
              "Non-trainable params: 0\n",
              "================================================================="
            ]
          },
          "metadata": {},
          "execution_count": 44
        }
      ]
    },
    {
      "cell_type": "code",
      "source": [
        "torch.cuda.empty_cache()"
      ],
      "metadata": {
        "execution": {
          "iopub.status.busy": "2024-01-08T17:27:07.845330Z",
          "iopub.execute_input": "2024-01-08T17:27:07.845610Z",
          "iopub.status.idle": "2024-01-08T17:27:07.895997Z",
          "shell.execute_reply.started": "2024-01-08T17:27:07.845587Z",
          "shell.execute_reply": "2024-01-08T17:27:07.894932Z"
        },
        "trusted": true,
        "id": "aiKWUvDS9HC2"
      },
      "execution_count": null,
      "outputs": []
    },
    {
      "cell_type": "code",
      "source": [
        "print(model.parameters())"
      ],
      "metadata": {
        "execution": {
          "iopub.status.busy": "2024-01-08T17:27:07.896813Z",
          "iopub.status.idle": "2024-01-08T17:27:07.897145Z",
          "shell.execute_reply.started": "2024-01-08T17:27:07.896981Z",
          "shell.execute_reply": "2024-01-08T17:27:07.896998Z"
        },
        "trusted": true,
        "id": "HpTYuaT19HC2",
        "colab": {
          "base_uri": "https://localhost:8080/"
        },
        "outputId": "9889be7a-4a10-4508-e63e-d7713f9df723"
      },
      "execution_count": null,
      "outputs": [
        {
          "output_type": "stream",
          "name": "stdout",
          "text": [
            "<generator object Module.parameters at 0x7bd6283bf300>\n"
          ]
        }
      ]
    },
    {
      "cell_type": "code",
      "source": [
        "model = model.to(device)"
      ],
      "metadata": {
        "execution": {
          "iopub.status.busy": "2024-01-08T17:27:07.898909Z",
          "iopub.status.idle": "2024-01-08T17:27:07.899260Z",
          "shell.execute_reply.started": "2024-01-08T17:27:07.899097Z",
          "shell.execute_reply": "2024-01-08T17:27:07.899113Z"
        },
        "trusted": true,
        "id": "FqNXj6kq9HC2"
      },
      "execution_count": null,
      "outputs": []
    },
    {
      "cell_type": "markdown",
      "source": [
        "> Checking forward pass for one iteration"
      ],
      "metadata": {
        "execution": {
          "iopub.status.busy": "2023-12-03T14:44:31.106824Z",
          "iopub.execute_input": "2023-12-03T14:44:31.107741Z",
          "iopub.status.idle": "2023-12-03T14:44:31.112352Z",
          "shell.execute_reply.started": "2023-12-03T14:44:31.107700Z",
          "shell.execute_reply": "2023-12-03T14:44:31.111525Z"
        },
        "id": "IE7xSyOD9HC2"
      }
    },
    {
      "cell_type": "code",
      "source": [
        "s_output = model(torch.tensor(input_train_batch[0],dtype=torch.long,device=device))"
      ],
      "metadata": {
        "execution": {
          "iopub.status.busy": "2024-01-08T17:27:07.900662Z",
          "iopub.status.idle": "2024-01-08T17:27:07.901103Z",
          "shell.execute_reply.started": "2024-01-08T17:27:07.900874Z",
          "shell.execute_reply": "2024-01-08T17:27:07.900896Z"
        },
        "trusted": true,
        "id": "I3OOq3Jt9HC3"
      },
      "execution_count": null,
      "outputs": []
    },
    {
      "cell_type": "code",
      "source": [
        "print(s_output.shape)"
      ],
      "metadata": {
        "execution": {
          "iopub.status.busy": "2024-01-08T17:27:07.902890Z",
          "iopub.status.idle": "2024-01-08T17:27:07.903422Z",
          "shell.execute_reply.started": "2024-01-08T17:27:07.903138Z",
          "shell.execute_reply": "2024-01-08T17:27:07.903179Z"
        },
        "trusted": true,
        "id": "OyrWUQNx9HC3",
        "colab": {
          "base_uri": "https://localhost:8080/"
        },
        "outputId": "478eb653-8441-4ca2-aaa9-7e8848c4a789"
      },
      "execution_count": null,
      "outputs": [
        {
          "output_type": "stream",
          "name": "stdout",
          "text": [
            "torch.Size([2, 9841])\n"
          ]
        }
      ]
    },
    {
      "cell_type": "markdown",
      "source": [
        "### Write Training Loop"
      ],
      "metadata": {
        "id": "juNhORzQ9HC3"
      }
    },
    {
      "cell_type": "code",
      "source": [
        "torch.cuda.empty_cache()"
      ],
      "metadata": {
        "execution": {
          "iopub.status.busy": "2024-01-08T17:27:07.906825Z",
          "iopub.status.idle": "2024-01-08T17:27:07.907127Z",
          "shell.execute_reply.started": "2024-01-08T17:27:07.906976Z",
          "shell.execute_reply": "2024-01-08T17:27:07.906991Z"
        },
        "trusted": true,
        "id": "VokPeMmJ9HC3"
      },
      "execution_count": null,
      "outputs": []
    },
    {
      "cell_type": "code",
      "source": [
        "vocab_size = len(vocab)\n",
        "vocab_size"
      ],
      "metadata": {
        "execution": {
          "iopub.status.busy": "2024-01-08T17:27:07.908863Z",
          "iopub.status.idle": "2024-01-08T17:27:07.909362Z",
          "shell.execute_reply.started": "2024-01-08T17:27:07.909105Z",
          "shell.execute_reply": "2024-01-08T17:27:07.909127Z"
        },
        "trusted": true,
        "id": "Sh_-1yKm9HC3",
        "colab": {
          "base_uri": "https://localhost:8080/"
        },
        "outputId": "435d47dd-a853-40f8-e4d6-411b66b9836f"
      },
      "execution_count": null,
      "outputs": [
        {
          "output_type": "execute_result",
          "data": {
            "text/plain": [
              "9841"
            ]
          },
          "metadata": {},
          "execution_count": 51
        }
      ]
    },
    {
      "cell_type": "code",
      "source": [
        "optimizer = torch.optim.SGD(model.parameters(),lr=0.0001,momentum=0.9)\n",
        "loss_fn = nn.CrossEntropyLoss()\n",
        "\n",
        "def train_one_epoch(input_batch,label_batch):\n",
        "    running_loss = 0 #captures the loss at each iteration of the dataset\n",
        "    last_loss = 0 #captures the loss at the training of the epoch\n",
        "\n",
        "    for batch_nos,(inputs,labels) in enumerate(zip(input_batch,label_batch)):\n",
        "        logging.debug(f\"Batch nos {batch_nos}\")\n",
        "        #at the start of every batch zero grad optimizer to clean the gradients\n",
        "        optimizer.zero_grad()\n",
        "\n",
        "        #output for the batch\n",
        "        logits = model(inputs)\n",
        "\n",
        "        #compute loss\n",
        "        loss = loss_fn(logits,labels)\n",
        "        loss.backward()\n",
        "\n",
        "        #apply the updates to all parameters\n",
        "        optimizer.step()\n",
        "\n",
        "        running_loss += loss.item()\n",
        "        if batch_nos%100 ==99:\n",
        "            last_loss = running_loss/500\n",
        "            logging.info(f\"For batch {batch_nos+1} loss at 500 samples is {last_loss}\")\n",
        "            running_loss = 0\n",
        "\n",
        "    return last_loss\n"
      ],
      "metadata": {
        "execution": {
          "iopub.status.busy": "2024-01-08T17:27:07.911155Z",
          "iopub.status.idle": "2024-01-08T17:27:07.911689Z",
          "shell.execute_reply.started": "2024-01-08T17:27:07.911402Z",
          "shell.execute_reply": "2024-01-08T17:27:07.911425Z"
        },
        "trusted": true,
        "id": "GanCqrxJ9HC4"
      },
      "execution_count": null,
      "outputs": []
    },
    {
      "cell_type": "code",
      "source": [
        "def infer_from_logits(logits):\n",
        "    vocab_index = torch.argmax(logits,dim=1)\n",
        "    logging.debug(f\"sha\")\n",
        "    vocab_index = vocab_index.cpu().detach().numpy()\n",
        "    vocab_list = list(vocab)\n",
        "    list_of_outputs = [vocab_list[idx] for idx in vocab_index]\n",
        "    return list_of_outputs\n",
        "\n"
      ],
      "metadata": {
        "execution": {
          "iopub.status.busy": "2024-01-08T17:27:07.913116Z",
          "iopub.status.idle": "2024-01-08T17:27:07.913556Z",
          "shell.execute_reply.started": "2024-01-08T17:27:07.913329Z",
          "shell.execute_reply": "2024-01-08T17:27:07.913347Z"
        },
        "trusted": true,
        "id": "cwyYT3D19HC4"
      },
      "execution_count": null,
      "outputs": []
    },
    {
      "cell_type": "code",
      "source": [
        "def display_output(list_of_inputs,list_of_pred_values,list_of_labels):\n",
        "    for input,pred,label in zip(list_of_inputs,list_of_pred_values,list_of_labels):\n",
        "        print(\"Actual -->\")\n",
        "        print(f\"Input Text->{input} ***Actual Label***->{label}\")\n",
        "        print(\"========================================\")\n",
        "        print(\"Predicted -->\")\n",
        "        print(f\"Input Text->{input} ***Predicted Label***->{pred}\")\n",
        "        print(\"========================================\\n\")\n",
        "\n"
      ],
      "metadata": {
        "execution": {
          "iopub.status.busy": "2024-01-08T17:27:07.915065Z",
          "iopub.status.idle": "2024-01-08T17:27:07.915626Z",
          "shell.execute_reply.started": "2024-01-08T17:27:07.915328Z",
          "shell.execute_reply": "2024-01-08T17:27:07.915353Z"
        },
        "trusted": true,
        "id": "Wj3Ngskx9HC4"
      },
      "execution_count": null,
      "outputs": []
    },
    {
      "cell_type": "code",
      "source": [],
      "metadata": {
        "trusted": true,
        "id": "WUSvP0aA9HC4"
      },
      "execution_count": null,
      "outputs": []
    },
    {
      "cell_type": "code",
      "source": [
        "wandb.init(project=\"bare_min_llm_8th_jan\",name=\"correct_causal_lm_8th_jan\")\n",
        "wandb.watch(model, log_freq=100)"
      ],
      "metadata": {
        "execution": {
          "iopub.status.busy": "2024-01-08T17:27:07.917324Z",
          "iopub.status.idle": "2024-01-08T17:27:07.917889Z",
          "shell.execute_reply.started": "2024-01-08T17:27:07.917606Z",
          "shell.execute_reply": "2024-01-08T17:27:07.917648Z"
        },
        "trusted": true,
        "id": "An2DQeGd9HC4",
        "colab": {
          "base_uri": "https://localhost:8080/",
          "height": 138
        },
        "outputId": "5498b719-12c8-4f3c-9feb-ff8a4f03e0e1"
      },
      "execution_count": null,
      "outputs": [
        {
          "output_type": "stream",
          "name": "stderr",
          "text": [
            "\u001b[34m\u001b[1mwandb\u001b[0m: Currently logged in as: \u001b[33masmitaxyz\u001b[0m. Use \u001b[1m`wandb login --relogin`\u001b[0m to force relogin\n"
          ]
        },
        {
          "output_type": "display_data",
          "data": {
            "text/plain": [
              "<IPython.core.display.HTML object>"
            ],
            "text/html": [
              "Tracking run with wandb version 0.16.2"
            ]
          },
          "metadata": {}
        },
        {
          "output_type": "display_data",
          "data": {
            "text/plain": [
              "<IPython.core.display.HTML object>"
            ],
            "text/html": [
              "Run data is saved locally in <code>/content/wandb/run-20240111_150347-mxtjol51</code>"
            ]
          },
          "metadata": {}
        },
        {
          "output_type": "display_data",
          "data": {
            "text/plain": [
              "<IPython.core.display.HTML object>"
            ],
            "text/html": [
              "Syncing run <strong><a href='https://wandb.ai/asmitaxyz/bare_min_llm_8th_jan/runs/mxtjol51' target=\"_blank\">correct_causal_lm_8th_jan</a></strong> to <a href='https://wandb.ai/asmitaxyz/bare_min_llm_8th_jan' target=\"_blank\">Weights & Biases</a> (<a href='https://wandb.me/run' target=\"_blank\">docs</a>)<br/>"
            ]
          },
          "metadata": {}
        },
        {
          "output_type": "display_data",
          "data": {
            "text/plain": [
              "<IPython.core.display.HTML object>"
            ],
            "text/html": [
              " View project at <a href='https://wandb.ai/asmitaxyz/bare_min_llm_8th_jan' target=\"_blank\">https://wandb.ai/asmitaxyz/bare_min_llm_8th_jan</a>"
            ]
          },
          "metadata": {}
        },
        {
          "output_type": "display_data",
          "data": {
            "text/plain": [
              "<IPython.core.display.HTML object>"
            ],
            "text/html": [
              " View run at <a href='https://wandb.ai/asmitaxyz/bare_min_llm_8th_jan/runs/mxtjol51' target=\"_blank\">https://wandb.ai/asmitaxyz/bare_min_llm_8th_jan/runs/mxtjol51</a>"
            ]
          },
          "metadata": {}
        },
        {
          "output_type": "execute_result",
          "data": {
            "text/plain": [
              "[]"
            ]
          },
          "metadata": {},
          "execution_count": 55
        }
      ]
    },
    {
      "cell_type": "code",
      "source": [
        "EPOCH = 10\n",
        "\n",
        "for epoch in range(EPOCH):\n",
        "    logging.info(f\"Starting training at {epoch+1}\")\n",
        "    model.train(True) #making sure gradient tracking is on\n",
        "    avg_loss = train_one_epoch(torch.tensor(input_train_batch,dtype=torch.long,device=device),\n",
        "                               torch.tensor(label_train_batch,dtype=torch.long,device=device))\n",
        "\n",
        "    running_val_loss = 0.0\n",
        "\n",
        "    model.eval() #set the model to eval model(handels dropout calc etc)\n",
        "    with torch.no_grad():\n",
        "        for i,(v_input,v_label,v_input_text,v_label_text) in enumerate(zip(input_test_batch,label_test_batch,input_batch_test,label_batch_test)):\n",
        "            v_input = torch.tensor(v_input,dtype=torch.long,device=device)\n",
        "            v_label = torch.tensor(v_label,dtype=torch.long,device=device)\n",
        "            v_output = model(v_input)\n",
        "            predicted_outputs = infer_from_logits(v_output)\n",
        "            v_loss = loss_fn(v_output,v_label)\n",
        "            running_val_loss += v_loss\n",
        "            if i==0:\n",
        "                display_output(v_input_text,predicted_outputs,v_label_text)\n",
        "            if i==len(input_test_batch)-1:\n",
        "                display_output(v_input_text,predicted_outputs,v_label_text)\n",
        "\n",
        "    avg_vloss = running_val_loss / (epoch + 1)\n",
        "    wandb.log({\"train_loss\":avg_loss})\n",
        "    wandb.log({\"val_loss\":avg_vloss})\n",
        "    wandb.log({\"epoch\":epoch})\n",
        "    logging.info('LOSS train {} valid {}'.format(avg_loss, avg_vloss))\n",
        "\n",
        "\n",
        "\n"
      ],
      "metadata": {
        "execution": {
          "iopub.status.busy": "2024-01-08T17:27:07.919564Z",
          "iopub.status.idle": "2024-01-08T17:27:07.920085Z",
          "shell.execute_reply.started": "2024-01-08T17:27:07.919812Z",
          "shell.execute_reply": "2024-01-08T17:27:07.919838Z"
        },
        "trusted": true,
        "id": "21Q5W7Bd9HC4",
        "colab": {
          "base_uri": "https://localhost:8080/"
        },
        "outputId": "f17cc6a7-303b-4021-bb3c-e6c258d3f27b"
      },
      "execution_count": null,
      "outputs": [
        {
          "output_type": "stream",
          "name": "stderr",
          "text": [
            "2024-01-11 15:03:51,890 - Starting training at 1\n",
            "2024-01-11 15:04:25,828 - For batch 100 loss at 500 samples is 1.89353125\n",
            "2024-01-11 15:04:57,777 - For batch 200 loss at 500 samples is 1.83959375\n",
            "2024-01-11 15:05:36,576 - For batch 300 loss at 500 samples is 1.83990625\n"
          ]
        },
        {
          "output_type": "stream",
          "name": "stdout",
          "text": [
            "Actual -->\n",
            "Input Text->spot . saw the shiny car and said , `` wow kitty your is so bright clean ! '' smiled replied thank you i polish it every day after playing with felt thirsty they found a small pond clear water drank very happy played together all became best friends ***Actual Label***-><eos>\n",
            "========================================\n",
            "Predicted -->\n",
            "Input Text->spot . saw the shiny car and said , `` wow kitty your is so bright clean ! '' smiled replied thank you i polish it every day after playing with felt thirsty they found a small pond clear water drank very happy played together all became best friends ***Predicted Label***->not\n",
            "========================================\n",
            "\n",
            "Actual -->\n",
            "Input Text->once upon a time , in big forest there lived rhinoceros named ro x y . loved to climb she climbed trees rocks and hills one day found an icy hill had never seen anything like it before was shiny cold wanted tried the but very slippery again kept falling down sad so much then saw little bird billy that asked `` why are ***Actual Label***->you\n",
            "========================================\n",
            "Predicted -->\n",
            "Input Text->once upon a time , in big forest there lived rhinoceros named ro x y . loved to climb she climbed trees rocks and hills one day found an icy hill had never seen anything like it before was shiny cold wanted tried the but very slippery again kept falling down sad so much then saw little bird billy that asked `` why are ***Predicted Label***->not\n",
            "========================================\n",
            "\n"
          ]
        },
        {
          "output_type": "stream",
          "name": "stderr",
          "text": [
            "2024-01-11 15:05:42,862 - LOSS train 1.83990625 valid 331.25\n",
            "2024-01-11 15:05:42,865 - Starting training at 2\n"
          ]
        },
        {
          "output_type": "stream",
          "name": "stdout",
          "text": [
            "Actual -->\n",
            "Input Text->once upon a time , there was kind farmer . he had big cow the sad did not know why one day little boy came to farm saw kneeled down talk `` are you ? '' asked said i am lonely want friend heard wanted help so got another be friends with happy now they played together every and two cows all lived happily ***Actual Label***->ever\n",
            "========================================\n",
            "Predicted -->\n",
            "Input Text->once upon a time , there was kind farmer . he had big cow the sad did not know why one day little boy came to farm saw kneeled down talk `` are you ? '' asked said i am lonely want friend heard wanted help so got another be friends with happy now they played together every and two cows all lived happily ***Predicted Label***->not\n",
            "========================================\n",
            "\n",
            "Actual -->\n",
            "Input Text->upon a time , there was kind farmer . he had big cow the sad did not know why one day little boy came to farm saw kneeled down talk `` are you ? '' asked said i am lonely want friend heard wanted help so got another be friends with happy now they played together every and two cows all lived happily ever ***Actual Label***->after\n",
            "========================================\n",
            "Predicted -->\n",
            "Input Text->upon a time , there was kind farmer . he had big cow the sad did not know why one day little boy came to farm saw kneeled down talk `` are you ? '' asked said i am lonely want friend heard wanted help so got another be friends with happy now they played together every and two cows all lived happily ever ***Predicted Label***->not\n",
            "========================================\n",
            "\n"
          ]
        },
        {
          "output_type": "stream",
          "name": "stderr",
          "text": [
            "2024-01-11 15:06:20,633 - For batch 100 loss at 500 samples is 1.838921875\n",
            "2024-01-11 15:06:52,030 - For batch 200 loss at 500 samples is 1.8394375\n",
            "2024-01-11 15:07:23,351 - For batch 300 loss at 500 samples is 1.839734375\n"
          ]
        },
        {
          "output_type": "stream",
          "name": "stdout",
          "text": [
            "Actual -->\n",
            "Input Text->spot . saw the shiny car and said , `` wow kitty your is so bright clean ! '' smiled replied thank you i polish it every day after playing with felt thirsty they found a small pond clear water drank very happy played together all became best friends ***Actual Label***-><eos>\n",
            "========================================\n",
            "Predicted -->\n",
            "Input Text->spot . saw the shiny car and said , `` wow kitty your is so bright clean ! '' smiled replied thank you i polish it every day after playing with felt thirsty they found a small pond clear water drank very happy played together all became best friends ***Predicted Label***->not\n",
            "========================================\n",
            "\n",
            "Actual -->\n",
            "Input Text->once upon a time , in big forest there lived rhinoceros named ro x y . loved to climb she climbed trees rocks and hills one day found an icy hill had never seen anything like it before was shiny cold wanted tried the but very slippery again kept falling down sad so much then saw little bird billy that asked `` why are ***Actual Label***->you\n",
            "========================================\n",
            "Predicted -->\n",
            "Input Text->once upon a time , in big forest there lived rhinoceros named ro x y . loved to climb she climbed trees rocks and hills one day found an icy hill had never seen anything like it before was shiny cold wanted tried the but very slippery again kept falling down sad so much then saw little bird billy that asked `` why are ***Predicted Label***->not\n",
            "========================================\n",
            "\n"
          ]
        },
        {
          "output_type": "stream",
          "name": "stderr",
          "text": [
            "2024-01-11 15:07:50,949 - LOSS train 1.839734375 valid 165.625\n",
            "2024-01-11 15:07:50,951 - Starting training at 3\n"
          ]
        },
        {
          "output_type": "stream",
          "name": "stdout",
          "text": [
            "Actual -->\n",
            "Input Text->once upon a time , there was kind farmer . he had big cow the sad did not know why one day little boy came to farm saw kneeled down talk `` are you ? '' asked said i am lonely want friend heard wanted help so got another be friends with happy now they played together every and two cows all lived happily ***Actual Label***->ever\n",
            "========================================\n",
            "Predicted -->\n",
            "Input Text->once upon a time , there was kind farmer . he had big cow the sad did not know why one day little boy came to farm saw kneeled down talk `` are you ? '' asked said i am lonely want friend heard wanted help so got another be friends with happy now they played together every and two cows all lived happily ***Predicted Label***->not\n",
            "========================================\n",
            "\n",
            "Actual -->\n",
            "Input Text->upon a time , there was kind farmer . he had big cow the sad did not know why one day little boy came to farm saw kneeled down talk `` are you ? '' asked said i am lonely want friend heard wanted help so got another be friends with happy now they played together every and two cows all lived happily ever ***Actual Label***->after\n",
            "========================================\n",
            "Predicted -->\n",
            "Input Text->upon a time , there was kind farmer . he had big cow the sad did not know why one day little boy came to farm saw kneeled down talk `` are you ? '' asked said i am lonely want friend heard wanted help so got another be friends with happy now they played together every and two cows all lived happily ever ***Predicted Label***->not\n",
            "========================================\n",
            "\n"
          ]
        },
        {
          "output_type": "stream",
          "name": "stderr",
          "text": [
            "2024-01-11 15:08:23,288 - For batch 100 loss at 500 samples is 1.83878125\n",
            "2024-01-11 15:08:54,763 - For batch 200 loss at 500 samples is 1.8393125\n",
            "2024-01-11 15:09:26,750 - For batch 300 loss at 500 samples is 1.83971875\n"
          ]
        },
        {
          "output_type": "stream",
          "name": "stdout",
          "text": [
            "Actual -->\n",
            "Input Text->spot . saw the shiny car and said , `` wow kitty your is so bright clean ! '' smiled replied thank you i polish it every day after playing with felt thirsty they found a small pond clear water drank very happy played together all became best friends ***Actual Label***-><eos>\n",
            "========================================\n",
            "Predicted -->\n",
            "Input Text->spot . saw the shiny car and said , `` wow kitty your is so bright clean ! '' smiled replied thank you i polish it every day after playing with felt thirsty they found a small pond clear water drank very happy played together all became best friends ***Predicted Label***->not\n",
            "========================================\n",
            "\n",
            "Actual -->\n",
            "Input Text->once upon a time , in big forest there lived rhinoceros named ro x y . loved to climb she climbed trees rocks and hills one day found an icy hill had never seen anything like it before was shiny cold wanted tried the but very slippery again kept falling down sad so much then saw little bird billy that asked `` why are ***Actual Label***->you\n",
            "========================================\n",
            "Predicted -->\n",
            "Input Text->once upon a time , in big forest there lived rhinoceros named ro x y . loved to climb she climbed trees rocks and hills one day found an icy hill had never seen anything like it before was shiny cold wanted tried the but very slippery again kept falling down sad so much then saw little bird billy that asked `` why are ***Predicted Label***->not\n",
            "========================================\n",
            "\n"
          ]
        },
        {
          "output_type": "stream",
          "name": "stderr",
          "text": [
            "2024-01-11 15:09:32,785 - LOSS train 1.83971875 valid 110.4375\n",
            "2024-01-11 15:09:32,793 - Starting training at 4\n"
          ]
        },
        {
          "output_type": "stream",
          "name": "stdout",
          "text": [
            "Actual -->\n",
            "Input Text->once upon a time , there was kind farmer . he had big cow the sad did not know why one day little boy came to farm saw kneeled down talk `` are you ? '' asked said i am lonely want friend heard wanted help so got another be friends with happy now they played together every and two cows all lived happily ***Actual Label***->ever\n",
            "========================================\n",
            "Predicted -->\n",
            "Input Text->once upon a time , there was kind farmer . he had big cow the sad did not know why one day little boy came to farm saw kneeled down talk `` are you ? '' asked said i am lonely want friend heard wanted help so got another be friends with happy now they played together every and two cows all lived happily ***Predicted Label***->not\n",
            "========================================\n",
            "\n",
            "Actual -->\n",
            "Input Text->upon a time , there was kind farmer . he had big cow the sad did not know why one day little boy came to farm saw kneeled down talk `` are you ? '' asked said i am lonely want friend heard wanted help so got another be friends with happy now they played together every and two cows all lived happily ever ***Actual Label***->after\n",
            "========================================\n",
            "Predicted -->\n",
            "Input Text->upon a time , there was kind farmer . he had big cow the sad did not know why one day little boy came to farm saw kneeled down talk `` are you ? '' asked said i am lonely want friend heard wanted help so got another be friends with happy now they played together every and two cows all lived happily ever ***Predicted Label***->not\n",
            "========================================\n",
            "\n"
          ]
        },
        {
          "output_type": "stream",
          "name": "stderr",
          "text": [
            "2024-01-11 15:10:04,278 - For batch 100 loss at 500 samples is 1.838734375\n",
            "2024-01-11 15:10:35,301 - For batch 200 loss at 500 samples is 1.839296875\n",
            "2024-01-11 15:11:07,322 - For batch 300 loss at 500 samples is 1.839625\n"
          ]
        },
        {
          "output_type": "stream",
          "name": "stdout",
          "text": [
            "Actual -->\n",
            "Input Text->spot . saw the shiny car and said , `` wow kitty your is so bright clean ! '' smiled replied thank you i polish it every day after playing with felt thirsty they found a small pond clear water drank very happy played together all became best friends ***Actual Label***-><eos>\n",
            "========================================\n",
            "Predicted -->\n",
            "Input Text->spot . saw the shiny car and said , `` wow kitty your is so bright clean ! '' smiled replied thank you i polish it every day after playing with felt thirsty they found a small pond clear water drank very happy played together all became best friends ***Predicted Label***->now\n",
            "========================================\n",
            "\n",
            "Actual -->\n",
            "Input Text->once upon a time , in big forest there lived rhinoceros named ro x y . loved to climb she climbed trees rocks and hills one day found an icy hill had never seen anything like it before was shiny cold wanted tried the but very slippery again kept falling down sad so much then saw little bird billy that asked `` why are ***Actual Label***->you\n",
            "========================================\n",
            "Predicted -->\n",
            "Input Text->once upon a time , in big forest there lived rhinoceros named ro x y . loved to climb she climbed trees rocks and hills one day found an icy hill had never seen anything like it before was shiny cold wanted tried the but very slippery again kept falling down sad so much then saw little bird billy that asked `` why are ***Predicted Label***->now\n",
            "========================================\n",
            "\n"
          ]
        },
        {
          "output_type": "stream",
          "name": "stderr",
          "text": [
            "2024-01-11 15:11:35,147 - LOSS train 1.839625 valid 82.8125\n",
            "2024-01-11 15:11:35,151 - Starting training at 5\n"
          ]
        },
        {
          "output_type": "stream",
          "name": "stdout",
          "text": [
            "Actual -->\n",
            "Input Text->once upon a time , there was kind farmer . he had big cow the sad did not know why one day little boy came to farm saw kneeled down talk `` are you ? '' asked said i am lonely want friend heard wanted help so got another be friends with happy now they played together every and two cows all lived happily ***Actual Label***->ever\n",
            "========================================\n",
            "Predicted -->\n",
            "Input Text->once upon a time , there was kind farmer . he had big cow the sad did not know why one day little boy came to farm saw kneeled down talk `` are you ? '' asked said i am lonely want friend heard wanted help so got another be friends with happy now they played together every and two cows all lived happily ***Predicted Label***->now\n",
            "========================================\n",
            "\n",
            "Actual -->\n",
            "Input Text->upon a time , there was kind farmer . he had big cow the sad did not know why one day little boy came to farm saw kneeled down talk `` are you ? '' asked said i am lonely want friend heard wanted help so got another be friends with happy now they played together every and two cows all lived happily ever ***Actual Label***->after\n",
            "========================================\n",
            "Predicted -->\n",
            "Input Text->upon a time , there was kind farmer . he had big cow the sad did not know why one day little boy came to farm saw kneeled down talk `` are you ? '' asked said i am lonely want friend heard wanted help so got another be friends with happy now they played together every and two cows all lived happily ever ***Predicted Label***->now\n",
            "========================================\n",
            "\n"
          ]
        },
        {
          "output_type": "stream",
          "name": "stderr",
          "text": [
            "2024-01-11 15:12:08,644 - For batch 100 loss at 500 samples is 1.83865625\n",
            "2024-01-11 15:12:39,803 - For batch 200 loss at 500 samples is 1.839140625\n",
            "2024-01-11 15:13:11,633 - For batch 300 loss at 500 samples is 1.8395\n"
          ]
        },
        {
          "output_type": "stream",
          "name": "stdout",
          "text": [
            "Actual -->\n",
            "Input Text->spot . saw the shiny car and said , `` wow kitty your is so bright clean ! '' smiled replied thank you i polish it every day after playing with felt thirsty they found a small pond clear water drank very happy played together all became best friends ***Actual Label***-><eos>\n",
            "========================================\n",
            "Predicted -->\n",
            "Input Text->spot . saw the shiny car and said , `` wow kitty your is so bright clean ! '' smiled replied thank you i polish it every day after playing with felt thirsty they found a small pond clear water drank very happy played together all became best friends ***Predicted Label***->now\n",
            "========================================\n",
            "\n",
            "Actual -->\n",
            "Input Text->once upon a time , in big forest there lived rhinoceros named ro x y . loved to climb she climbed trees rocks and hills one day found an icy hill had never seen anything like it before was shiny cold wanted tried the but very slippery again kept falling down sad so much then saw little bird billy that asked `` why are ***Actual Label***->you\n",
            "========================================\n",
            "Predicted -->\n",
            "Input Text->once upon a time , in big forest there lived rhinoceros named ro x y . loved to climb she climbed trees rocks and hills one day found an icy hill had never seen anything like it before was shiny cold wanted tried the but very slippery again kept falling down sad so much then saw little bird billy that asked `` why are ***Predicted Label***->now\n",
            "========================================\n",
            "\n"
          ]
        },
        {
          "output_type": "stream",
          "name": "stderr",
          "text": [
            "2024-01-11 15:13:40,042 - LOSS train 1.8395 valid 66.25\n",
            "2024-01-11 15:13:40,044 - Starting training at 6\n"
          ]
        },
        {
          "output_type": "stream",
          "name": "stdout",
          "text": [
            "Actual -->\n",
            "Input Text->once upon a time , there was kind farmer . he had big cow the sad did not know why one day little boy came to farm saw kneeled down talk `` are you ? '' asked said i am lonely want friend heard wanted help so got another be friends with happy now they played together every and two cows all lived happily ***Actual Label***->ever\n",
            "========================================\n",
            "Predicted -->\n",
            "Input Text->once upon a time , there was kind farmer . he had big cow the sad did not know why one day little boy came to farm saw kneeled down talk `` are you ? '' asked said i am lonely want friend heard wanted help so got another be friends with happy now they played together every and two cows all lived happily ***Predicted Label***->now\n",
            "========================================\n",
            "\n",
            "Actual -->\n",
            "Input Text->upon a time , there was kind farmer . he had big cow the sad did not know why one day little boy came to farm saw kneeled down talk `` are you ? '' asked said i am lonely want friend heard wanted help so got another be friends with happy now they played together every and two cows all lived happily ever ***Actual Label***->after\n",
            "========================================\n",
            "Predicted -->\n",
            "Input Text->upon a time , there was kind farmer . he had big cow the sad did not know why one day little boy came to farm saw kneeled down talk `` are you ? '' asked said i am lonely want friend heard wanted help so got another be friends with happy now they played together every and two cows all lived happily ever ***Predicted Label***->now\n",
            "========================================\n",
            "\n"
          ]
        },
        {
          "output_type": "stream",
          "name": "stderr",
          "text": [
            "2024-01-11 15:14:11,298 - For batch 100 loss at 500 samples is 1.83853125\n",
            "2024-01-11 15:14:42,874 - For batch 200 loss at 500 samples is 1.839046875\n",
            "2024-01-11 15:15:13,975 - For batch 300 loss at 500 samples is 1.839390625\n"
          ]
        },
        {
          "output_type": "stream",
          "name": "stdout",
          "text": [
            "Actual -->\n",
            "Input Text->spot . saw the shiny car and said , `` wow kitty your is so bright clean ! '' smiled replied thank you i polish it every day after playing with felt thirsty they found a small pond clear water drank very happy played together all became best friends ***Actual Label***-><eos>\n",
            "========================================\n",
            "Predicted -->\n",
            "Input Text->spot . saw the shiny car and said , `` wow kitty your is so bright clean ! '' smiled replied thank you i polish it every day after playing with felt thirsty they found a small pond clear water drank very happy played together all became best friends ***Predicted Label***->now\n",
            "========================================\n",
            "\n",
            "Actual -->\n",
            "Input Text->once upon a time , in big forest there lived rhinoceros named ro x y . loved to climb she climbed trees rocks and hills one day found an icy hill had never seen anything like it before was shiny cold wanted tried the but very slippery again kept falling down sad so much then saw little bird billy that asked `` why are ***Actual Label***->you\n",
            "========================================\n",
            "Predicted -->\n",
            "Input Text->once upon a time , in big forest there lived rhinoceros named ro x y . loved to climb she climbed trees rocks and hills one day found an icy hill had never seen anything like it before was shiny cold wanted tried the but very slippery again kept falling down sad so much then saw little bird billy that asked `` why are ***Predicted Label***->now\n",
            "========================================\n",
            "\n"
          ]
        },
        {
          "output_type": "stream",
          "name": "stderr",
          "text": [
            "2024-01-11 15:15:20,032 - LOSS train 1.839390625 valid 55.21875\n",
            "2024-01-11 15:15:20,039 - Starting training at 7\n"
          ]
        },
        {
          "output_type": "stream",
          "name": "stdout",
          "text": [
            "Actual -->\n",
            "Input Text->once upon a time , there was kind farmer . he had big cow the sad did not know why one day little boy came to farm saw kneeled down talk `` are you ? '' asked said i am lonely want friend heard wanted help so got another be friends with happy now they played together every and two cows all lived happily ***Actual Label***->ever\n",
            "========================================\n",
            "Predicted -->\n",
            "Input Text->once upon a time , there was kind farmer . he had big cow the sad did not know why one day little boy came to farm saw kneeled down talk `` are you ? '' asked said i am lonely want friend heard wanted help so got another be friends with happy now they played together every and two cows all lived happily ***Predicted Label***->now\n",
            "========================================\n",
            "\n",
            "Actual -->\n",
            "Input Text->upon a time , there was kind farmer . he had big cow the sad did not know why one day little boy came to farm saw kneeled down talk `` are you ? '' asked said i am lonely want friend heard wanted help so got another be friends with happy now they played together every and two cows all lived happily ever ***Actual Label***->after\n",
            "========================================\n",
            "Predicted -->\n",
            "Input Text->upon a time , there was kind farmer . he had big cow the sad did not know why one day little boy came to farm saw kneeled down talk `` are you ? '' asked said i am lonely want friend heard wanted help so got another be friends with happy now they played together every and two cows all lived happily ever ***Predicted Label***->now\n",
            "========================================\n",
            "\n"
          ]
        },
        {
          "output_type": "stream",
          "name": "stderr",
          "text": [
            "2024-01-11 15:15:52,405 - For batch 100 loss at 500 samples is 1.838421875\n",
            "2024-01-11 15:16:23,533 - For batch 200 loss at 500 samples is 1.839015625\n",
            "2024-01-11 15:16:56,019 - For batch 300 loss at 500 samples is 1.83934375\n"
          ]
        },
        {
          "output_type": "stream",
          "name": "stdout",
          "text": [
            "Actual -->\n",
            "Input Text->spot . saw the shiny car and said , `` wow kitty your is so bright clean ! '' smiled replied thank you i polish it every day after playing with felt thirsty they found a small pond clear water drank very happy played together all became best friends ***Actual Label***-><eos>\n",
            "========================================\n",
            "Predicted -->\n",
            "Input Text->spot . saw the shiny car and said , `` wow kitty your is so bright clean ! '' smiled replied thank you i polish it every day after playing with felt thirsty they found a small pond clear water drank very happy played together all became best friends ***Predicted Label***->now\n",
            "========================================\n",
            "\n",
            "Actual -->\n",
            "Input Text->once upon a time , in big forest there lived rhinoceros named ro x y . loved to climb she climbed trees rocks and hills one day found an icy hill had never seen anything like it before was shiny cold wanted tried the but very slippery again kept falling down sad so much then saw little bird billy that asked `` why are ***Actual Label***->you\n",
            "========================================\n",
            "Predicted -->\n",
            "Input Text->once upon a time , in big forest there lived rhinoceros named ro x y . loved to climb she climbed trees rocks and hills one day found an icy hill had never seen anything like it before was shiny cold wanted tried the but very slippery again kept falling down sad so much then saw little bird billy that asked `` why are ***Predicted Label***->now\n",
            "========================================\n",
            "\n"
          ]
        },
        {
          "output_type": "stream",
          "name": "stderr",
          "text": [
            "2024-01-11 15:17:23,899 - LOSS train 1.83934375 valid 47.28125\n",
            "2024-01-11 15:17:23,905 - Starting training at 8\n"
          ]
        },
        {
          "output_type": "stream",
          "name": "stdout",
          "text": [
            "Actual -->\n",
            "Input Text->once upon a time , there was kind farmer . he had big cow the sad did not know why one day little boy came to farm saw kneeled down talk `` are you ? '' asked said i am lonely want friend heard wanted help so got another be friends with happy now they played together every and two cows all lived happily ***Actual Label***->ever\n",
            "========================================\n",
            "Predicted -->\n",
            "Input Text->once upon a time , there was kind farmer . he had big cow the sad did not know why one day little boy came to farm saw kneeled down talk `` are you ? '' asked said i am lonely want friend heard wanted help so got another be friends with happy now they played together every and two cows all lived happily ***Predicted Label***->now\n",
            "========================================\n",
            "\n",
            "Actual -->\n",
            "Input Text->upon a time , there was kind farmer . he had big cow the sad did not know why one day little boy came to farm saw kneeled down talk `` are you ? '' asked said i am lonely want friend heard wanted help so got another be friends with happy now they played together every and two cows all lived happily ever ***Actual Label***->after\n",
            "========================================\n",
            "Predicted -->\n",
            "Input Text->upon a time , there was kind farmer . he had big cow the sad did not know why one day little boy came to farm saw kneeled down talk `` are you ? '' asked said i am lonely want friend heard wanted help so got another be friends with happy now they played together every and two cows all lived happily ever ***Predicted Label***->now\n",
            "========================================\n",
            "\n"
          ]
        },
        {
          "output_type": "stream",
          "name": "stderr",
          "text": [
            "2024-01-11 15:17:54,736 - For batch 100 loss at 500 samples is 1.838265625\n",
            "2024-01-11 15:18:26,437 - For batch 200 loss at 500 samples is 1.838796875\n",
            "2024-01-11 15:18:57,267 - For batch 300 loss at 500 samples is 1.839203125\n"
          ]
        },
        {
          "output_type": "stream",
          "name": "stdout",
          "text": [
            "Actual -->\n",
            "Input Text->spot . saw the shiny car and said , `` wow kitty your is so bright clean ! '' smiled replied thank you i polish it every day after playing with felt thirsty they found a small pond clear water drank very happy played together all became best friends ***Actual Label***-><eos>\n",
            "========================================\n",
            "Predicted -->\n",
            "Input Text->spot . saw the shiny car and said , `` wow kitty your is so bright clean ! '' smiled replied thank you i polish it every day after playing with felt thirsty they found a small pond clear water drank very happy played together all became best friends ***Predicted Label***->now\n",
            "========================================\n",
            "\n",
            "Actual -->\n",
            "Input Text->once upon a time , in big forest there lived rhinoceros named ro x y . loved to climb she climbed trees rocks and hills one day found an icy hill had never seen anything like it before was shiny cold wanted tried the but very slippery again kept falling down sad so much then saw little bird billy that asked `` why are ***Actual Label***->you\n",
            "========================================\n",
            "Predicted -->\n",
            "Input Text->once upon a time , in big forest there lived rhinoceros named ro x y . loved to climb she climbed trees rocks and hills one day found an icy hill had never seen anything like it before was shiny cold wanted tried the but very slippery again kept falling down sad so much then saw little bird billy that asked `` why are ***Predicted Label***->now\n",
            "========================================\n",
            "\n"
          ]
        },
        {
          "output_type": "stream",
          "name": "stderr",
          "text": [
            "2024-01-11 15:19:03,306 - LOSS train 1.839203125 valid 41.375\n",
            "2024-01-11 15:19:03,317 - Starting training at 9\n"
          ]
        },
        {
          "output_type": "stream",
          "name": "stdout",
          "text": [
            "Actual -->\n",
            "Input Text->once upon a time , there was kind farmer . he had big cow the sad did not know why one day little boy came to farm saw kneeled down talk `` are you ? '' asked said i am lonely want friend heard wanted help so got another be friends with happy now they played together every and two cows all lived happily ***Actual Label***->ever\n",
            "========================================\n",
            "Predicted -->\n",
            "Input Text->once upon a time , there was kind farmer . he had big cow the sad did not know why one day little boy came to farm saw kneeled down talk `` are you ? '' asked said i am lonely want friend heard wanted help so got another be friends with happy now they played together every and two cows all lived happily ***Predicted Label***->now\n",
            "========================================\n",
            "\n",
            "Actual -->\n",
            "Input Text->upon a time , there was kind farmer . he had big cow the sad did not know why one day little boy came to farm saw kneeled down talk `` are you ? '' asked said i am lonely want friend heard wanted help so got another be friends with happy now they played together every and two cows all lived happily ever ***Actual Label***->after\n",
            "========================================\n",
            "Predicted -->\n",
            "Input Text->upon a time , there was kind farmer . he had big cow the sad did not know why one day little boy came to farm saw kneeled down talk `` are you ? '' asked said i am lonely want friend heard wanted help so got another be friends with happy now they played together every and two cows all lived happily ever ***Predicted Label***->now\n",
            "========================================\n",
            "\n"
          ]
        },
        {
          "output_type": "stream",
          "name": "stderr",
          "text": [
            "2024-01-11 15:19:33,875 - For batch 100 loss at 500 samples is 1.83809375\n",
            "2024-01-11 15:20:04,941 - For batch 200 loss at 500 samples is 1.838703125\n",
            "2024-01-11 15:20:35,288 - For batch 300 loss at 500 samples is 1.839109375\n"
          ]
        },
        {
          "output_type": "stream",
          "name": "stdout",
          "text": [
            "Actual -->\n",
            "Input Text->spot . saw the shiny car and said , `` wow kitty your is so bright clean ! '' smiled replied thank you i polish it every day after playing with felt thirsty they found a small pond clear water drank very happy played together all became best friends ***Actual Label***-><eos>\n",
            "========================================\n",
            "Predicted -->\n",
            "Input Text->spot . saw the shiny car and said , `` wow kitty your is so bright clean ! '' smiled replied thank you i polish it every day after playing with felt thirsty they found a small pond clear water drank very happy played together all became best friends ***Predicted Label***->now\n",
            "========================================\n",
            "\n",
            "Actual -->\n",
            "Input Text->once upon a time , in big forest there lived rhinoceros named ro x y . loved to climb she climbed trees rocks and hills one day found an icy hill had never seen anything like it before was shiny cold wanted tried the but very slippery again kept falling down sad so much then saw little bird billy that asked `` why are ***Actual Label***->you\n",
            "========================================\n",
            "Predicted -->\n",
            "Input Text->once upon a time , in big forest there lived rhinoceros named ro x y . loved to climb she climbed trees rocks and hills one day found an icy hill had never seen anything like it before was shiny cold wanted tried the but very slippery again kept falling down sad so much then saw little bird billy that asked `` why are ***Predicted Label***->now\n",
            "========================================\n",
            "\n"
          ]
        },
        {
          "output_type": "stream",
          "name": "stderr",
          "text": [
            "2024-01-11 15:21:02,679 - LOSS train 1.839109375 valid 36.78125\n",
            "2024-01-11 15:21:02,688 - Starting training at 10\n"
          ]
        },
        {
          "output_type": "stream",
          "name": "stdout",
          "text": [
            "Actual -->\n",
            "Input Text->once upon a time , there was kind farmer . he had big cow the sad did not know why one day little boy came to farm saw kneeled down talk `` are you ? '' asked said i am lonely want friend heard wanted help so got another be friends with happy now they played together every and two cows all lived happily ***Actual Label***->ever\n",
            "========================================\n",
            "Predicted -->\n",
            "Input Text->once upon a time , there was kind farmer . he had big cow the sad did not know why one day little boy came to farm saw kneeled down talk `` are you ? '' asked said i am lonely want friend heard wanted help so got another be friends with happy now they played together every and two cows all lived happily ***Predicted Label***->now\n",
            "========================================\n",
            "\n",
            "Actual -->\n",
            "Input Text->upon a time , there was kind farmer . he had big cow the sad did not know why one day little boy came to farm saw kneeled down talk `` are you ? '' asked said i am lonely want friend heard wanted help so got another be friends with happy now they played together every and two cows all lived happily ever ***Actual Label***->after\n",
            "========================================\n",
            "Predicted -->\n",
            "Input Text->upon a time , there was kind farmer . he had big cow the sad did not know why one day little boy came to farm saw kneeled down talk `` are you ? '' asked said i am lonely want friend heard wanted help so got another be friends with happy now they played together every and two cows all lived happily ever ***Predicted Label***->now\n",
            "========================================\n",
            "\n"
          ]
        },
        {
          "output_type": "stream",
          "name": "stderr",
          "text": [
            "2024-01-11 15:21:33,746 - For batch 100 loss at 500 samples is 1.838\n",
            "2024-01-11 15:22:05,656 - For batch 200 loss at 500 samples is 1.838578125\n",
            "2024-01-11 15:22:37,199 - For batch 300 loss at 500 samples is 1.838953125\n"
          ]
        },
        {
          "output_type": "stream",
          "name": "stdout",
          "text": [
            "Actual -->\n",
            "Input Text->spot . saw the shiny car and said , `` wow kitty your is so bright clean ! '' smiled replied thank you i polish it every day after playing with felt thirsty they found a small pond clear water drank very happy played together all became best friends ***Actual Label***-><eos>\n",
            "========================================\n",
            "Predicted -->\n",
            "Input Text->spot . saw the shiny car and said , `` wow kitty your is so bright clean ! '' smiled replied thank you i polish it every day after playing with felt thirsty they found a small pond clear water drank very happy played together all became best friends ***Predicted Label***->now\n",
            "========================================\n",
            "\n",
            "Actual -->\n",
            "Input Text->once upon a time , in big forest there lived rhinoceros named ro x y . loved to climb she climbed trees rocks and hills one day found an icy hill had never seen anything like it before was shiny cold wanted tried the but very slippery again kept falling down sad so much then saw little bird billy that asked `` why are ***Actual Label***->you\n",
            "========================================\n",
            "Predicted -->\n",
            "Input Text->once upon a time , in big forest there lived rhinoceros named ro x y . loved to climb she climbed trees rocks and hills one day found an icy hill had never seen anything like it before was shiny cold wanted tried the but very slippery again kept falling down sad so much then saw little bird billy that asked `` why are ***Predicted Label***->now\n",
            "========================================\n",
            "\n"
          ]
        },
        {
          "output_type": "stream",
          "name": "stderr",
          "text": [
            "2024-01-11 15:23:04,093 - LOSS train 1.838953125 valid 33.09375\n"
          ]
        },
        {
          "output_type": "stream",
          "name": "stdout",
          "text": [
            "Actual -->\n",
            "Input Text->once upon a time , there was kind farmer . he had big cow the sad did not know why one day little boy came to farm saw kneeled down talk `` are you ? '' asked said i am lonely want friend heard wanted help so got another be friends with happy now they played together every and two cows all lived happily ***Actual Label***->ever\n",
            "========================================\n",
            "Predicted -->\n",
            "Input Text->once upon a time , there was kind farmer . he had big cow the sad did not know why one day little boy came to farm saw kneeled down talk `` are you ? '' asked said i am lonely want friend heard wanted help so got another be friends with happy now they played together every and two cows all lived happily ***Predicted Label***->now\n",
            "========================================\n",
            "\n",
            "Actual -->\n",
            "Input Text->upon a time , there was kind farmer . he had big cow the sad did not know why one day little boy came to farm saw kneeled down talk `` are you ? '' asked said i am lonely want friend heard wanted help so got another be friends with happy now they played together every and two cows all lived happily ever ***Actual Label***->after\n",
            "========================================\n",
            "Predicted -->\n",
            "Input Text->upon a time , there was kind farmer . he had big cow the sad did not know why one day little boy came to farm saw kneeled down talk `` are you ? '' asked said i am lonely want friend heard wanted help so got another be friends with happy now they played together every and two cows all lived happily ever ***Predicted Label***->now\n",
            "========================================\n",
            "\n"
          ]
        }
      ]
    },
    {
      "cell_type": "markdown",
      "source": [
        "Testing"
      ],
      "metadata": {
        "id": "pa5w688XOOcB"
      }
    },
    {
      "cell_type": "code",
      "source": [
        "@torch.no_grad()\n",
        "def init_weights(m):\n",
        "  print(m)\n",
        "  if type(m) == nn.Linear:\n",
        "    m.weight.fill_(1.0)\n",
        "    print(m.weight)\n",
        "\n",
        "net = nn.Sequential(nn.Linear(2, 2), nn.Linear(2, 2))\n",
        "net.apply(init_weights)\n"
      ],
      "metadata": {
        "id": "3F2Xfjlh9HC5",
        "colab": {
          "base_uri": "https://localhost:8080/"
        },
        "outputId": "8884eece-db2d-4d38-b004-f6352c890b93"
      },
      "execution_count": null,
      "outputs": [
        {
          "output_type": "stream",
          "name": "stdout",
          "text": [
            "Linear(in_features=2, out_features=2, bias=True)\n",
            "Parameter containing:\n",
            "tensor([[1., 1.],\n",
            "        [1., 1.]], requires_grad=True)\n",
            "Linear(in_features=2, out_features=2, bias=True)\n",
            "Parameter containing:\n",
            "tensor([[1., 1.],\n",
            "        [1., 1.]], requires_grad=True)\n",
            "Sequential(\n",
            "  (0): Linear(in_features=2, out_features=2, bias=True)\n",
            "  (1): Linear(in_features=2, out_features=2, bias=True)\n",
            ")\n"
          ]
        },
        {
          "output_type": "execute_result",
          "data": {
            "text/plain": [
              "Sequential(\n",
              "  (0): Linear(in_features=2, out_features=2, bias=True)\n",
              "  (1): Linear(in_features=2, out_features=2, bias=True)\n",
              ")"
            ]
          },
          "metadata": {},
          "execution_count": 57
        }
      ]
    },
    {
      "cell_type": "code",
      "source": [
        "!pip install transformers"
      ],
      "metadata": {
        "colab": {
          "base_uri": "https://localhost:8080/"
        },
        "id": "RPerwBrcXAGg",
        "outputId": "24584371-a478-4f29-daa7-49dda0a41dd1"
      },
      "execution_count": null,
      "outputs": [
        {
          "output_type": "stream",
          "name": "stdout",
          "text": [
            "Requirement already satisfied: transformers in /usr/local/lib/python3.10/dist-packages (4.35.2)\n",
            "Requirement already satisfied: filelock in /usr/local/lib/python3.10/dist-packages (from transformers) (3.13.1)\n",
            "Requirement already satisfied: huggingface-hub<1.0,>=0.16.4 in /usr/local/lib/python3.10/dist-packages (from transformers) (0.20.2)\n",
            "Requirement already satisfied: numpy>=1.17 in /usr/local/lib/python3.10/dist-packages (from transformers) (1.23.5)\n",
            "Requirement already satisfied: packaging>=20.0 in /usr/local/lib/python3.10/dist-packages (from transformers) (23.2)\n",
            "Requirement already satisfied: pyyaml>=5.1 in /usr/local/lib/python3.10/dist-packages (from transformers) (6.0.1)\n",
            "Requirement already satisfied: regex!=2019.12.17 in /usr/local/lib/python3.10/dist-packages (from transformers) (2023.6.3)\n",
            "Requirement already satisfied: requests in /usr/local/lib/python3.10/dist-packages (from transformers) (2.31.0)\n",
            "Requirement already satisfied: tokenizers<0.19,>=0.14 in /usr/local/lib/python3.10/dist-packages (from transformers) (0.15.0)\n",
            "Requirement already satisfied: safetensors>=0.3.1 in /usr/local/lib/python3.10/dist-packages (from transformers) (0.4.1)\n",
            "Requirement already satisfied: tqdm>=4.27 in /usr/local/lib/python3.10/dist-packages (from transformers) (4.66.1)\n",
            "Requirement already satisfied: fsspec>=2023.5.0 in /usr/local/lib/python3.10/dist-packages (from huggingface-hub<1.0,>=0.16.4->transformers) (2023.6.0)\n",
            "Requirement already satisfied: typing-extensions>=3.7.4.3 in /usr/local/lib/python3.10/dist-packages (from huggingface-hub<1.0,>=0.16.4->transformers) (4.5.0)\n",
            "Requirement already satisfied: charset-normalizer<4,>=2 in /usr/local/lib/python3.10/dist-packages (from requests->transformers) (3.3.2)\n",
            "Requirement already satisfied: idna<4,>=2.5 in /usr/local/lib/python3.10/dist-packages (from requests->transformers) (3.6)\n",
            "Requirement already satisfied: urllib3<3,>=1.21.1 in /usr/local/lib/python3.10/dist-packages (from requests->transformers) (2.0.7)\n",
            "Requirement already satisfied: certifi>=2017.4.17 in /usr/local/lib/python3.10/dist-packages (from requests->transformers) (2023.11.17)\n"
          ]
        }
      ]
    },
    {
      "cell_type": "code",
      "source": [
        "from transformers import GPT2LMHeadModel\n",
        "model_hf = GPT2LMHeadModel.from_pretrained(\"gpt2\")\n",
        "sd_hf = model_hf.state_dict()\n",
        "sd_hf"
      ],
      "metadata": {
        "id": "RN35wm3W9HC5"
      },
      "execution_count": null,
      "outputs": []
    },
    {
      "cell_type": "markdown",
      "source": [
        "Next study : https://github.com/karpathy/minGPT/blob/master/projects/adder/adder.py\n",
        "\n",
        "How do they batvh  the data , how do they train the model"
      ],
      "metadata": {
        "id": "CuxrFYndZCCq"
      }
    },
    {
      "cell_type": "code",
      "source": [],
      "metadata": {
        "id": "3bjzPkDqXCdN"
      },
      "execution_count": null,
      "outputs": []
    }
  ]
}