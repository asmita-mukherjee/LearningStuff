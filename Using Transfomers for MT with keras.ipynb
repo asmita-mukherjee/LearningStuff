{
  "nbformat": 4,
  "nbformat_minor": 0,
  "metadata": {
    "colab": {
      "provenance": []
    },
    "kernelspec": {
      "name": "python3",
      "display_name": "Python 3"
    },
    "language_info": {
      "name": "python"
    },
    "accelerator": "GPU",
    "widgets": {
      "application/vnd.jupyter.widget-state+json": {
        "c054260b32e24c558f99f0305ed5db6c": {
          "model_module": "@jupyter-widgets/controls",
          "model_name": "HBoxModel",
          "model_module_version": "1.5.0",
          "state": {
            "_dom_classes": [],
            "_model_module": "@jupyter-widgets/controls",
            "_model_module_version": "1.5.0",
            "_model_name": "HBoxModel",
            "_view_count": null,
            "_view_module": "@jupyter-widgets/controls",
            "_view_module_version": "1.5.0",
            "_view_name": "HBoxView",
            "box_style": "",
            "children": [
              "IPY_MODEL_3e998556bf1f49c2ad9a5094a9758a24",
              "IPY_MODEL_d7a251ee5b1242079c54bf36346fb17e",
              "IPY_MODEL_5b01f8c848264d43901701d6d5a96909"
            ],
            "layout": "IPY_MODEL_98d10edacf2f44cb8bf1cac54808f643"
          }
        },
        "3e998556bf1f49c2ad9a5094a9758a24": {
          "model_module": "@jupyter-widgets/controls",
          "model_name": "HTMLModel",
          "model_module_version": "1.5.0",
          "state": {
            "_dom_classes": [],
            "_model_module": "@jupyter-widgets/controls",
            "_model_module_version": "1.5.0",
            "_model_name": "HTMLModel",
            "_view_count": null,
            "_view_module": "@jupyter-widgets/controls",
            "_view_module_version": "1.5.0",
            "_view_name": "HTMLView",
            "description": "",
            "description_tooltip": null,
            "layout": "IPY_MODEL_29e795af4b9b4a13bda64f4615cfea92",
            "placeholder": "​",
            "style": "IPY_MODEL_4ae65bd7802149d58c8f7dee37ab7b84",
            "value": "Dl Completed...: 100%"
          }
        },
        "d7a251ee5b1242079c54bf36346fb17e": {
          "model_module": "@jupyter-widgets/controls",
          "model_name": "FloatProgressModel",
          "model_module_version": "1.5.0",
          "state": {
            "_dom_classes": [],
            "_model_module": "@jupyter-widgets/controls",
            "_model_module_version": "1.5.0",
            "_model_name": "FloatProgressModel",
            "_view_count": null,
            "_view_module": "@jupyter-widgets/controls",
            "_view_module_version": "1.5.0",
            "_view_name": "ProgressView",
            "bar_style": "success",
            "description": "",
            "description_tooltip": null,
            "layout": "IPY_MODEL_c8188c64a2da4985b9785c94beb2d23d",
            "max": 1,
            "min": 0,
            "orientation": "horizontal",
            "style": "IPY_MODEL_4a6bb7eec5f440308112b3112d250c0a",
            "value": 1
          }
        },
        "5b01f8c848264d43901701d6d5a96909": {
          "model_module": "@jupyter-widgets/controls",
          "model_name": "HTMLModel",
          "model_module_version": "1.5.0",
          "state": {
            "_dom_classes": [],
            "_model_module": "@jupyter-widgets/controls",
            "_model_module_version": "1.5.0",
            "_model_name": "HTMLModel",
            "_view_count": null,
            "_view_module": "@jupyter-widgets/controls",
            "_view_module_version": "1.5.0",
            "_view_name": "HTMLView",
            "description": "",
            "description_tooltip": null,
            "layout": "IPY_MODEL_8a7f522b8c494120956ecf6bb64f3ec2",
            "placeholder": "​",
            "style": "IPY_MODEL_2ed61df875a34fe79f3aa277302498fa",
            "value": " 1/1 [00:07&lt;00:00,  4.01s/ url]"
          }
        },
        "98d10edacf2f44cb8bf1cac54808f643": {
          "model_module": "@jupyter-widgets/base",
          "model_name": "LayoutModel",
          "model_module_version": "1.2.0",
          "state": {
            "_model_module": "@jupyter-widgets/base",
            "_model_module_version": "1.2.0",
            "_model_name": "LayoutModel",
            "_view_count": null,
            "_view_module": "@jupyter-widgets/base",
            "_view_module_version": "1.2.0",
            "_view_name": "LayoutView",
            "align_content": null,
            "align_items": null,
            "align_self": null,
            "border": null,
            "bottom": null,
            "display": null,
            "flex": null,
            "flex_flow": null,
            "grid_area": null,
            "grid_auto_columns": null,
            "grid_auto_flow": null,
            "grid_auto_rows": null,
            "grid_column": null,
            "grid_gap": null,
            "grid_row": null,
            "grid_template_areas": null,
            "grid_template_columns": null,
            "grid_template_rows": null,
            "height": null,
            "justify_content": null,
            "justify_items": null,
            "left": null,
            "margin": null,
            "max_height": null,
            "max_width": null,
            "min_height": null,
            "min_width": null,
            "object_fit": null,
            "object_position": null,
            "order": null,
            "overflow": null,
            "overflow_x": null,
            "overflow_y": null,
            "padding": null,
            "right": null,
            "top": null,
            "visibility": null,
            "width": null
          }
        },
        "29e795af4b9b4a13bda64f4615cfea92": {
          "model_module": "@jupyter-widgets/base",
          "model_name": "LayoutModel",
          "model_module_version": "1.2.0",
          "state": {
            "_model_module": "@jupyter-widgets/base",
            "_model_module_version": "1.2.0",
            "_model_name": "LayoutModel",
            "_view_count": null,
            "_view_module": "@jupyter-widgets/base",
            "_view_module_version": "1.2.0",
            "_view_name": "LayoutView",
            "align_content": null,
            "align_items": null,
            "align_self": null,
            "border": null,
            "bottom": null,
            "display": null,
            "flex": null,
            "flex_flow": null,
            "grid_area": null,
            "grid_auto_columns": null,
            "grid_auto_flow": null,
            "grid_auto_rows": null,
            "grid_column": null,
            "grid_gap": null,
            "grid_row": null,
            "grid_template_areas": null,
            "grid_template_columns": null,
            "grid_template_rows": null,
            "height": null,
            "justify_content": null,
            "justify_items": null,
            "left": null,
            "margin": null,
            "max_height": null,
            "max_width": null,
            "min_height": null,
            "min_width": null,
            "object_fit": null,
            "object_position": null,
            "order": null,
            "overflow": null,
            "overflow_x": null,
            "overflow_y": null,
            "padding": null,
            "right": null,
            "top": null,
            "visibility": null,
            "width": null
          }
        },
        "4ae65bd7802149d58c8f7dee37ab7b84": {
          "model_module": "@jupyter-widgets/controls",
          "model_name": "DescriptionStyleModel",
          "model_module_version": "1.5.0",
          "state": {
            "_model_module": "@jupyter-widgets/controls",
            "_model_module_version": "1.5.0",
            "_model_name": "DescriptionStyleModel",
            "_view_count": null,
            "_view_module": "@jupyter-widgets/base",
            "_view_module_version": "1.2.0",
            "_view_name": "StyleView",
            "description_width": ""
          }
        },
        "c8188c64a2da4985b9785c94beb2d23d": {
          "model_module": "@jupyter-widgets/base",
          "model_name": "LayoutModel",
          "model_module_version": "1.2.0",
          "state": {
            "_model_module": "@jupyter-widgets/base",
            "_model_module_version": "1.2.0",
            "_model_name": "LayoutModel",
            "_view_count": null,
            "_view_module": "@jupyter-widgets/base",
            "_view_module_version": "1.2.0",
            "_view_name": "LayoutView",
            "align_content": null,
            "align_items": null,
            "align_self": null,
            "border": null,
            "bottom": null,
            "display": null,
            "flex": null,
            "flex_flow": null,
            "grid_area": null,
            "grid_auto_columns": null,
            "grid_auto_flow": null,
            "grid_auto_rows": null,
            "grid_column": null,
            "grid_gap": null,
            "grid_row": null,
            "grid_template_areas": null,
            "grid_template_columns": null,
            "grid_template_rows": null,
            "height": null,
            "justify_content": null,
            "justify_items": null,
            "left": null,
            "margin": null,
            "max_height": null,
            "max_width": null,
            "min_height": null,
            "min_width": null,
            "object_fit": null,
            "object_position": null,
            "order": null,
            "overflow": null,
            "overflow_x": null,
            "overflow_y": null,
            "padding": null,
            "right": null,
            "top": null,
            "visibility": null,
            "width": "20px"
          }
        },
        "4a6bb7eec5f440308112b3112d250c0a": {
          "model_module": "@jupyter-widgets/controls",
          "model_name": "ProgressStyleModel",
          "model_module_version": "1.5.0",
          "state": {
            "_model_module": "@jupyter-widgets/controls",
            "_model_module_version": "1.5.0",
            "_model_name": "ProgressStyleModel",
            "_view_count": null,
            "_view_module": "@jupyter-widgets/base",
            "_view_module_version": "1.2.0",
            "_view_name": "StyleView",
            "bar_color": null,
            "description_width": ""
          }
        },
        "8a7f522b8c494120956ecf6bb64f3ec2": {
          "model_module": "@jupyter-widgets/base",
          "model_name": "LayoutModel",
          "model_module_version": "1.2.0",
          "state": {
            "_model_module": "@jupyter-widgets/base",
            "_model_module_version": "1.2.0",
            "_model_name": "LayoutModel",
            "_view_count": null,
            "_view_module": "@jupyter-widgets/base",
            "_view_module_version": "1.2.0",
            "_view_name": "LayoutView",
            "align_content": null,
            "align_items": null,
            "align_self": null,
            "border": null,
            "bottom": null,
            "display": null,
            "flex": null,
            "flex_flow": null,
            "grid_area": null,
            "grid_auto_columns": null,
            "grid_auto_flow": null,
            "grid_auto_rows": null,
            "grid_column": null,
            "grid_gap": null,
            "grid_row": null,
            "grid_template_areas": null,
            "grid_template_columns": null,
            "grid_template_rows": null,
            "height": null,
            "justify_content": null,
            "justify_items": null,
            "left": null,
            "margin": null,
            "max_height": null,
            "max_width": null,
            "min_height": null,
            "min_width": null,
            "object_fit": null,
            "object_position": null,
            "order": null,
            "overflow": null,
            "overflow_x": null,
            "overflow_y": null,
            "padding": null,
            "right": null,
            "top": null,
            "visibility": null,
            "width": null
          }
        },
        "2ed61df875a34fe79f3aa277302498fa": {
          "model_module": "@jupyter-widgets/controls",
          "model_name": "DescriptionStyleModel",
          "model_module_version": "1.5.0",
          "state": {
            "_model_module": "@jupyter-widgets/controls",
            "_model_module_version": "1.5.0",
            "_model_name": "DescriptionStyleModel",
            "_view_count": null,
            "_view_module": "@jupyter-widgets/base",
            "_view_module_version": "1.2.0",
            "_view_name": "StyleView",
            "description_width": ""
          }
        },
        "78358778e78e4c31976f3e5fc3d9206c": {
          "model_module": "@jupyter-widgets/controls",
          "model_name": "HBoxModel",
          "model_module_version": "1.5.0",
          "state": {
            "_dom_classes": [],
            "_model_module": "@jupyter-widgets/controls",
            "_model_module_version": "1.5.0",
            "_model_name": "HBoxModel",
            "_view_count": null,
            "_view_module": "@jupyter-widgets/controls",
            "_view_module_version": "1.5.0",
            "_view_name": "HBoxView",
            "box_style": "",
            "children": [
              "IPY_MODEL_512a6b2082704bbfa0f972026cf078ae",
              "IPY_MODEL_cc9f552c545a4b91ab5604782208cf74",
              "IPY_MODEL_d89eb89aa4ab4738b857cd799ef85d6c"
            ],
            "layout": "IPY_MODEL_ce4077d9414846ac95803a56774806e2"
          }
        },
        "512a6b2082704bbfa0f972026cf078ae": {
          "model_module": "@jupyter-widgets/controls",
          "model_name": "HTMLModel",
          "model_module_version": "1.5.0",
          "state": {
            "_dom_classes": [],
            "_model_module": "@jupyter-widgets/controls",
            "_model_module_version": "1.5.0",
            "_model_name": "HTMLModel",
            "_view_count": null,
            "_view_module": "@jupyter-widgets/controls",
            "_view_module_version": "1.5.0",
            "_view_name": "HTMLView",
            "description": "",
            "description_tooltip": null,
            "layout": "IPY_MODEL_57fc89b4fb3c405f9f8ffc7ef7e63e54",
            "placeholder": "​",
            "style": "IPY_MODEL_98adc1de936e485aa8f72c0d69d63801",
            "value": "Dl Size...: 100%"
          }
        },
        "cc9f552c545a4b91ab5604782208cf74": {
          "model_module": "@jupyter-widgets/controls",
          "model_name": "FloatProgressModel",
          "model_module_version": "1.5.0",
          "state": {
            "_dom_classes": [],
            "_model_module": "@jupyter-widgets/controls",
            "_model_module_version": "1.5.0",
            "_model_name": "FloatProgressModel",
            "_view_count": null,
            "_view_module": "@jupyter-widgets/controls",
            "_view_module_version": "1.5.0",
            "_view_name": "ProgressView",
            "bar_style": "success",
            "description": "",
            "description_tooltip": null,
            "layout": "IPY_MODEL_8cd56102929c4e25b6c662a143816b7f",
            "max": 1,
            "min": 0,
            "orientation": "horizontal",
            "style": "IPY_MODEL_22b8a641d8084607bce5514853aa14f5",
            "value": 1
          }
        },
        "d89eb89aa4ab4738b857cd799ef85d6c": {
          "model_module": "@jupyter-widgets/controls",
          "model_name": "HTMLModel",
          "model_module_version": "1.5.0",
          "state": {
            "_dom_classes": [],
            "_model_module": "@jupyter-widgets/controls",
            "_model_module_version": "1.5.0",
            "_model_name": "HTMLModel",
            "_view_count": null,
            "_view_module": "@jupyter-widgets/controls",
            "_view_module_version": "1.5.0",
            "_view_name": "HTMLView",
            "description": "",
            "description_tooltip": null,
            "layout": "IPY_MODEL_1adeda6ed3c1408792196e17539d66a4",
            "placeholder": "​",
            "style": "IPY_MODEL_753669620f7542c8a1496dae201d1d22",
            "value": " 124/124 [00:07&lt;00:00, 41.08 MiB/s]"
          }
        },
        "ce4077d9414846ac95803a56774806e2": {
          "model_module": "@jupyter-widgets/base",
          "model_name": "LayoutModel",
          "model_module_version": "1.2.0",
          "state": {
            "_model_module": "@jupyter-widgets/base",
            "_model_module_version": "1.2.0",
            "_model_name": "LayoutModel",
            "_view_count": null,
            "_view_module": "@jupyter-widgets/base",
            "_view_module_version": "1.2.0",
            "_view_name": "LayoutView",
            "align_content": null,
            "align_items": null,
            "align_self": null,
            "border": null,
            "bottom": null,
            "display": null,
            "flex": null,
            "flex_flow": null,
            "grid_area": null,
            "grid_auto_columns": null,
            "grid_auto_flow": null,
            "grid_auto_rows": null,
            "grid_column": null,
            "grid_gap": null,
            "grid_row": null,
            "grid_template_areas": null,
            "grid_template_columns": null,
            "grid_template_rows": null,
            "height": null,
            "justify_content": null,
            "justify_items": null,
            "left": null,
            "margin": null,
            "max_height": null,
            "max_width": null,
            "min_height": null,
            "min_width": null,
            "object_fit": null,
            "object_position": null,
            "order": null,
            "overflow": null,
            "overflow_x": null,
            "overflow_y": null,
            "padding": null,
            "right": null,
            "top": null,
            "visibility": null,
            "width": null
          }
        },
        "57fc89b4fb3c405f9f8ffc7ef7e63e54": {
          "model_module": "@jupyter-widgets/base",
          "model_name": "LayoutModel",
          "model_module_version": "1.2.0",
          "state": {
            "_model_module": "@jupyter-widgets/base",
            "_model_module_version": "1.2.0",
            "_model_name": "LayoutModel",
            "_view_count": null,
            "_view_module": "@jupyter-widgets/base",
            "_view_module_version": "1.2.0",
            "_view_name": "LayoutView",
            "align_content": null,
            "align_items": null,
            "align_self": null,
            "border": null,
            "bottom": null,
            "display": null,
            "flex": null,
            "flex_flow": null,
            "grid_area": null,
            "grid_auto_columns": null,
            "grid_auto_flow": null,
            "grid_auto_rows": null,
            "grid_column": null,
            "grid_gap": null,
            "grid_row": null,
            "grid_template_areas": null,
            "grid_template_columns": null,
            "grid_template_rows": null,
            "height": null,
            "justify_content": null,
            "justify_items": null,
            "left": null,
            "margin": null,
            "max_height": null,
            "max_width": null,
            "min_height": null,
            "min_width": null,
            "object_fit": null,
            "object_position": null,
            "order": null,
            "overflow": null,
            "overflow_x": null,
            "overflow_y": null,
            "padding": null,
            "right": null,
            "top": null,
            "visibility": null,
            "width": null
          }
        },
        "98adc1de936e485aa8f72c0d69d63801": {
          "model_module": "@jupyter-widgets/controls",
          "model_name": "DescriptionStyleModel",
          "model_module_version": "1.5.0",
          "state": {
            "_model_module": "@jupyter-widgets/controls",
            "_model_module_version": "1.5.0",
            "_model_name": "DescriptionStyleModel",
            "_view_count": null,
            "_view_module": "@jupyter-widgets/base",
            "_view_module_version": "1.2.0",
            "_view_name": "StyleView",
            "description_width": ""
          }
        },
        "8cd56102929c4e25b6c662a143816b7f": {
          "model_module": "@jupyter-widgets/base",
          "model_name": "LayoutModel",
          "model_module_version": "1.2.0",
          "state": {
            "_model_module": "@jupyter-widgets/base",
            "_model_module_version": "1.2.0",
            "_model_name": "LayoutModel",
            "_view_count": null,
            "_view_module": "@jupyter-widgets/base",
            "_view_module_version": "1.2.0",
            "_view_name": "LayoutView",
            "align_content": null,
            "align_items": null,
            "align_self": null,
            "border": null,
            "bottom": null,
            "display": null,
            "flex": null,
            "flex_flow": null,
            "grid_area": null,
            "grid_auto_columns": null,
            "grid_auto_flow": null,
            "grid_auto_rows": null,
            "grid_column": null,
            "grid_gap": null,
            "grid_row": null,
            "grid_template_areas": null,
            "grid_template_columns": null,
            "grid_template_rows": null,
            "height": null,
            "justify_content": null,
            "justify_items": null,
            "left": null,
            "margin": null,
            "max_height": null,
            "max_width": null,
            "min_height": null,
            "min_width": null,
            "object_fit": null,
            "object_position": null,
            "order": null,
            "overflow": null,
            "overflow_x": null,
            "overflow_y": null,
            "padding": null,
            "right": null,
            "top": null,
            "visibility": null,
            "width": "20px"
          }
        },
        "22b8a641d8084607bce5514853aa14f5": {
          "model_module": "@jupyter-widgets/controls",
          "model_name": "ProgressStyleModel",
          "model_module_version": "1.5.0",
          "state": {
            "_model_module": "@jupyter-widgets/controls",
            "_model_module_version": "1.5.0",
            "_model_name": "ProgressStyleModel",
            "_view_count": null,
            "_view_module": "@jupyter-widgets/base",
            "_view_module_version": "1.2.0",
            "_view_name": "StyleView",
            "bar_color": null,
            "description_width": ""
          }
        },
        "1adeda6ed3c1408792196e17539d66a4": {
          "model_module": "@jupyter-widgets/base",
          "model_name": "LayoutModel",
          "model_module_version": "1.2.0",
          "state": {
            "_model_module": "@jupyter-widgets/base",
            "_model_module_version": "1.2.0",
            "_model_name": "LayoutModel",
            "_view_count": null,
            "_view_module": "@jupyter-widgets/base",
            "_view_module_version": "1.2.0",
            "_view_name": "LayoutView",
            "align_content": null,
            "align_items": null,
            "align_self": null,
            "border": null,
            "bottom": null,
            "display": null,
            "flex": null,
            "flex_flow": null,
            "grid_area": null,
            "grid_auto_columns": null,
            "grid_auto_flow": null,
            "grid_auto_rows": null,
            "grid_column": null,
            "grid_gap": null,
            "grid_row": null,
            "grid_template_areas": null,
            "grid_template_columns": null,
            "grid_template_rows": null,
            "height": null,
            "justify_content": null,
            "justify_items": null,
            "left": null,
            "margin": null,
            "max_height": null,
            "max_width": null,
            "min_height": null,
            "min_width": null,
            "object_fit": null,
            "object_position": null,
            "order": null,
            "overflow": null,
            "overflow_x": null,
            "overflow_y": null,
            "padding": null,
            "right": null,
            "top": null,
            "visibility": null,
            "width": null
          }
        },
        "753669620f7542c8a1496dae201d1d22": {
          "model_module": "@jupyter-widgets/controls",
          "model_name": "DescriptionStyleModel",
          "model_module_version": "1.5.0",
          "state": {
            "_model_module": "@jupyter-widgets/controls",
            "_model_module_version": "1.5.0",
            "_model_name": "DescriptionStyleModel",
            "_view_count": null,
            "_view_module": "@jupyter-widgets/base",
            "_view_module_version": "1.2.0",
            "_view_name": "StyleView",
            "description_width": ""
          }
        },
        "b1e89e493ac04dee865d389667028a6e": {
          "model_module": "@jupyter-widgets/controls",
          "model_name": "HBoxModel",
          "model_module_version": "1.5.0",
          "state": {
            "_dom_classes": [],
            "_model_module": "@jupyter-widgets/controls",
            "_model_module_version": "1.5.0",
            "_model_name": "HBoxModel",
            "_view_count": null,
            "_view_module": "@jupyter-widgets/controls",
            "_view_module_version": "1.5.0",
            "_view_name": "HBoxView",
            "box_style": "",
            "children": [
              "IPY_MODEL_0d6ae88ef7354d7b8fd3bd393d715095",
              "IPY_MODEL_9b1fd45cfc9446659c36a1ef1543c6da",
              "IPY_MODEL_900326e7a74d43a2b568e13e06f0a309"
            ],
            "layout": "IPY_MODEL_61525f6b3cfb4a2ca5ac4314cdcebf77"
          }
        },
        "0d6ae88ef7354d7b8fd3bd393d715095": {
          "model_module": "@jupyter-widgets/controls",
          "model_name": "HTMLModel",
          "model_module_version": "1.5.0",
          "state": {
            "_dom_classes": [],
            "_model_module": "@jupyter-widgets/controls",
            "_model_module_version": "1.5.0",
            "_model_name": "HTMLModel",
            "_view_count": null,
            "_view_module": "@jupyter-widgets/controls",
            "_view_module_version": "1.5.0",
            "_view_name": "HTMLView",
            "description": "",
            "description_tooltip": null,
            "layout": "IPY_MODEL_816039549a4c4df780131415328f47e4",
            "placeholder": "​",
            "style": "IPY_MODEL_f0930c2f800c4f10bb2c91760b0680c9",
            "value": "Extraction completed...: 100%"
          }
        },
        "9b1fd45cfc9446659c36a1ef1543c6da": {
          "model_module": "@jupyter-widgets/controls",
          "model_name": "FloatProgressModel",
          "model_module_version": "1.5.0",
          "state": {
            "_dom_classes": [],
            "_model_module": "@jupyter-widgets/controls",
            "_model_module_version": "1.5.0",
            "_model_name": "FloatProgressModel",
            "_view_count": null,
            "_view_module": "@jupyter-widgets/controls",
            "_view_module_version": "1.5.0",
            "_view_name": "ProgressView",
            "bar_style": "success",
            "description": "",
            "description_tooltip": null,
            "layout": "IPY_MODEL_521cb023d01041b49e1ec6935efe0f08",
            "max": 1,
            "min": 0,
            "orientation": "horizontal",
            "style": "IPY_MODEL_7a4c4c00fbd84c4cb191680c803b4e14",
            "value": 1
          }
        },
        "900326e7a74d43a2b568e13e06f0a309": {
          "model_module": "@jupyter-widgets/controls",
          "model_name": "HTMLModel",
          "model_module_version": "1.5.0",
          "state": {
            "_dom_classes": [],
            "_model_module": "@jupyter-widgets/controls",
            "_model_module_version": "1.5.0",
            "_model_name": "HTMLModel",
            "_view_count": null,
            "_view_module": "@jupyter-widgets/controls",
            "_view_module_version": "1.5.0",
            "_view_name": "HTMLView",
            "description": "",
            "description_tooltip": null,
            "layout": "IPY_MODEL_b7ef0ecd512d421dab97aad09d6aa494",
            "placeholder": "​",
            "style": "IPY_MODEL_8adefd0ccf64425d8578bcb671213de6",
            "value": " 1/1 [00:07&lt;00:00,  7.82s/ file]"
          }
        },
        "61525f6b3cfb4a2ca5ac4314cdcebf77": {
          "model_module": "@jupyter-widgets/base",
          "model_name": "LayoutModel",
          "model_module_version": "1.2.0",
          "state": {
            "_model_module": "@jupyter-widgets/base",
            "_model_module_version": "1.2.0",
            "_model_name": "LayoutModel",
            "_view_count": null,
            "_view_module": "@jupyter-widgets/base",
            "_view_module_version": "1.2.0",
            "_view_name": "LayoutView",
            "align_content": null,
            "align_items": null,
            "align_self": null,
            "border": null,
            "bottom": null,
            "display": null,
            "flex": null,
            "flex_flow": null,
            "grid_area": null,
            "grid_auto_columns": null,
            "grid_auto_flow": null,
            "grid_auto_rows": null,
            "grid_column": null,
            "grid_gap": null,
            "grid_row": null,
            "grid_template_areas": null,
            "grid_template_columns": null,
            "grid_template_rows": null,
            "height": null,
            "justify_content": null,
            "justify_items": null,
            "left": null,
            "margin": null,
            "max_height": null,
            "max_width": null,
            "min_height": null,
            "min_width": null,
            "object_fit": null,
            "object_position": null,
            "order": null,
            "overflow": null,
            "overflow_x": null,
            "overflow_y": null,
            "padding": null,
            "right": null,
            "top": null,
            "visibility": null,
            "width": null
          }
        },
        "816039549a4c4df780131415328f47e4": {
          "model_module": "@jupyter-widgets/base",
          "model_name": "LayoutModel",
          "model_module_version": "1.2.0",
          "state": {
            "_model_module": "@jupyter-widgets/base",
            "_model_module_version": "1.2.0",
            "_model_name": "LayoutModel",
            "_view_count": null,
            "_view_module": "@jupyter-widgets/base",
            "_view_module_version": "1.2.0",
            "_view_name": "LayoutView",
            "align_content": null,
            "align_items": null,
            "align_self": null,
            "border": null,
            "bottom": null,
            "display": null,
            "flex": null,
            "flex_flow": null,
            "grid_area": null,
            "grid_auto_columns": null,
            "grid_auto_flow": null,
            "grid_auto_rows": null,
            "grid_column": null,
            "grid_gap": null,
            "grid_row": null,
            "grid_template_areas": null,
            "grid_template_columns": null,
            "grid_template_rows": null,
            "height": null,
            "justify_content": null,
            "justify_items": null,
            "left": null,
            "margin": null,
            "max_height": null,
            "max_width": null,
            "min_height": null,
            "min_width": null,
            "object_fit": null,
            "object_position": null,
            "order": null,
            "overflow": null,
            "overflow_x": null,
            "overflow_y": null,
            "padding": null,
            "right": null,
            "top": null,
            "visibility": null,
            "width": null
          }
        },
        "f0930c2f800c4f10bb2c91760b0680c9": {
          "model_module": "@jupyter-widgets/controls",
          "model_name": "DescriptionStyleModel",
          "model_module_version": "1.5.0",
          "state": {
            "_model_module": "@jupyter-widgets/controls",
            "_model_module_version": "1.5.0",
            "_model_name": "DescriptionStyleModel",
            "_view_count": null,
            "_view_module": "@jupyter-widgets/base",
            "_view_module_version": "1.2.0",
            "_view_name": "StyleView",
            "description_width": ""
          }
        },
        "521cb023d01041b49e1ec6935efe0f08": {
          "model_module": "@jupyter-widgets/base",
          "model_name": "LayoutModel",
          "model_module_version": "1.2.0",
          "state": {
            "_model_module": "@jupyter-widgets/base",
            "_model_module_version": "1.2.0",
            "_model_name": "LayoutModel",
            "_view_count": null,
            "_view_module": "@jupyter-widgets/base",
            "_view_module_version": "1.2.0",
            "_view_name": "LayoutView",
            "align_content": null,
            "align_items": null,
            "align_self": null,
            "border": null,
            "bottom": null,
            "display": null,
            "flex": null,
            "flex_flow": null,
            "grid_area": null,
            "grid_auto_columns": null,
            "grid_auto_flow": null,
            "grid_auto_rows": null,
            "grid_column": null,
            "grid_gap": null,
            "grid_row": null,
            "grid_template_areas": null,
            "grid_template_columns": null,
            "grid_template_rows": null,
            "height": null,
            "justify_content": null,
            "justify_items": null,
            "left": null,
            "margin": null,
            "max_height": null,
            "max_width": null,
            "min_height": null,
            "min_width": null,
            "object_fit": null,
            "object_position": null,
            "order": null,
            "overflow": null,
            "overflow_x": null,
            "overflow_y": null,
            "padding": null,
            "right": null,
            "top": null,
            "visibility": null,
            "width": "20px"
          }
        },
        "7a4c4c00fbd84c4cb191680c803b4e14": {
          "model_module": "@jupyter-widgets/controls",
          "model_name": "ProgressStyleModel",
          "model_module_version": "1.5.0",
          "state": {
            "_model_module": "@jupyter-widgets/controls",
            "_model_module_version": "1.5.0",
            "_model_name": "ProgressStyleModel",
            "_view_count": null,
            "_view_module": "@jupyter-widgets/base",
            "_view_module_version": "1.2.0",
            "_view_name": "StyleView",
            "bar_color": null,
            "description_width": ""
          }
        },
        "b7ef0ecd512d421dab97aad09d6aa494": {
          "model_module": "@jupyter-widgets/base",
          "model_name": "LayoutModel",
          "model_module_version": "1.2.0",
          "state": {
            "_model_module": "@jupyter-widgets/base",
            "_model_module_version": "1.2.0",
            "_model_name": "LayoutModel",
            "_view_count": null,
            "_view_module": "@jupyter-widgets/base",
            "_view_module_version": "1.2.0",
            "_view_name": "LayoutView",
            "align_content": null,
            "align_items": null,
            "align_self": null,
            "border": null,
            "bottom": null,
            "display": null,
            "flex": null,
            "flex_flow": null,
            "grid_area": null,
            "grid_auto_columns": null,
            "grid_auto_flow": null,
            "grid_auto_rows": null,
            "grid_column": null,
            "grid_gap": null,
            "grid_row": null,
            "grid_template_areas": null,
            "grid_template_columns": null,
            "grid_template_rows": null,
            "height": null,
            "justify_content": null,
            "justify_items": null,
            "left": null,
            "margin": null,
            "max_height": null,
            "max_width": null,
            "min_height": null,
            "min_width": null,
            "object_fit": null,
            "object_position": null,
            "order": null,
            "overflow": null,
            "overflow_x": null,
            "overflow_y": null,
            "padding": null,
            "right": null,
            "top": null,
            "visibility": null,
            "width": null
          }
        },
        "8adefd0ccf64425d8578bcb671213de6": {
          "model_module": "@jupyter-widgets/controls",
          "model_name": "DescriptionStyleModel",
          "model_module_version": "1.5.0",
          "state": {
            "_model_module": "@jupyter-widgets/controls",
            "_model_module_version": "1.5.0",
            "_model_name": "DescriptionStyleModel",
            "_view_count": null,
            "_view_module": "@jupyter-widgets/base",
            "_view_module_version": "1.2.0",
            "_view_name": "StyleView",
            "description_width": ""
          }
        },
        "b274153dccf54924a2820564ded113fe": {
          "model_module": "@jupyter-widgets/controls",
          "model_name": "HBoxModel",
          "model_module_version": "1.5.0",
          "state": {
            "_dom_classes": [],
            "_model_module": "@jupyter-widgets/controls",
            "_model_module_version": "1.5.0",
            "_model_name": "HBoxModel",
            "_view_count": null,
            "_view_module": "@jupyter-widgets/controls",
            "_view_module_version": "1.5.0",
            "_view_name": "HBoxView",
            "box_style": "",
            "children": [
              "IPY_MODEL_a663b42b264849e58160d62b9cfef613",
              "IPY_MODEL_9fbda9a63f804d54b1735cefacf93c21",
              "IPY_MODEL_78e696ece83f43118b68fefeac6c030e"
            ],
            "layout": "IPY_MODEL_ea3c026332ea47e388bed531dec8fe22"
          }
        },
        "a663b42b264849e58160d62b9cfef613": {
          "model_module": "@jupyter-widgets/controls",
          "model_name": "HTMLModel",
          "model_module_version": "1.5.0",
          "state": {
            "_dom_classes": [],
            "_model_module": "@jupyter-widgets/controls",
            "_model_module_version": "1.5.0",
            "_model_name": "HTMLModel",
            "_view_count": null,
            "_view_module": "@jupyter-widgets/controls",
            "_view_module_version": "1.5.0",
            "_view_name": "HTMLView",
            "description": "",
            "description_tooltip": null,
            "layout": "IPY_MODEL_230bde9026cb4cac89f19ce4610ababf",
            "placeholder": "​",
            "style": "IPY_MODEL_88c6aeaf60854b708bd447ca09c180d9",
            "value": "Generating splits...: 100%"
          }
        },
        "9fbda9a63f804d54b1735cefacf93c21": {
          "model_module": "@jupyter-widgets/controls",
          "model_name": "FloatProgressModel",
          "model_module_version": "1.5.0",
          "state": {
            "_dom_classes": [],
            "_model_module": "@jupyter-widgets/controls",
            "_model_module_version": "1.5.0",
            "_model_name": "FloatProgressModel",
            "_view_count": null,
            "_view_module": "@jupyter-widgets/controls",
            "_view_module_version": "1.5.0",
            "_view_name": "ProgressView",
            "bar_style": "",
            "description": "",
            "description_tooltip": null,
            "layout": "IPY_MODEL_0e479c6edf754a089dfcc571e71f1ab3",
            "max": 3,
            "min": 0,
            "orientation": "horizontal",
            "style": "IPY_MODEL_05ce9bd791054ba683882311b5fa0923",
            "value": 3
          }
        },
        "78e696ece83f43118b68fefeac6c030e": {
          "model_module": "@jupyter-widgets/controls",
          "model_name": "HTMLModel",
          "model_module_version": "1.5.0",
          "state": {
            "_dom_classes": [],
            "_model_module": "@jupyter-widgets/controls",
            "_model_module_version": "1.5.0",
            "_model_name": "HTMLModel",
            "_view_count": null,
            "_view_module": "@jupyter-widgets/controls",
            "_view_module_version": "1.5.0",
            "_view_name": "HTMLView",
            "description": "",
            "description_tooltip": null,
            "layout": "IPY_MODEL_a5dda230f51a49c0bd014a7d96850f53",
            "placeholder": "​",
            "style": "IPY_MODEL_ea27c814270e48d6a518822814275863",
            "value": " 3/3 [00:05&lt;00:00,  1.29s/ splits]"
          }
        },
        "ea3c026332ea47e388bed531dec8fe22": {
          "model_module": "@jupyter-widgets/base",
          "model_name": "LayoutModel",
          "model_module_version": "1.2.0",
          "state": {
            "_model_module": "@jupyter-widgets/base",
            "_model_module_version": "1.2.0",
            "_model_name": "LayoutModel",
            "_view_count": null,
            "_view_module": "@jupyter-widgets/base",
            "_view_module_version": "1.2.0",
            "_view_name": "LayoutView",
            "align_content": null,
            "align_items": null,
            "align_self": null,
            "border": null,
            "bottom": null,
            "display": null,
            "flex": null,
            "flex_flow": null,
            "grid_area": null,
            "grid_auto_columns": null,
            "grid_auto_flow": null,
            "grid_auto_rows": null,
            "grid_column": null,
            "grid_gap": null,
            "grid_row": null,
            "grid_template_areas": null,
            "grid_template_columns": null,
            "grid_template_rows": null,
            "height": null,
            "justify_content": null,
            "justify_items": null,
            "left": null,
            "margin": null,
            "max_height": null,
            "max_width": null,
            "min_height": null,
            "min_width": null,
            "object_fit": null,
            "object_position": null,
            "order": null,
            "overflow": null,
            "overflow_x": null,
            "overflow_y": null,
            "padding": null,
            "right": null,
            "top": null,
            "visibility": "hidden",
            "width": null
          }
        },
        "230bde9026cb4cac89f19ce4610ababf": {
          "model_module": "@jupyter-widgets/base",
          "model_name": "LayoutModel",
          "model_module_version": "1.2.0",
          "state": {
            "_model_module": "@jupyter-widgets/base",
            "_model_module_version": "1.2.0",
            "_model_name": "LayoutModel",
            "_view_count": null,
            "_view_module": "@jupyter-widgets/base",
            "_view_module_version": "1.2.0",
            "_view_name": "LayoutView",
            "align_content": null,
            "align_items": null,
            "align_self": null,
            "border": null,
            "bottom": null,
            "display": null,
            "flex": null,
            "flex_flow": null,
            "grid_area": null,
            "grid_auto_columns": null,
            "grid_auto_flow": null,
            "grid_auto_rows": null,
            "grid_column": null,
            "grid_gap": null,
            "grid_row": null,
            "grid_template_areas": null,
            "grid_template_columns": null,
            "grid_template_rows": null,
            "height": null,
            "justify_content": null,
            "justify_items": null,
            "left": null,
            "margin": null,
            "max_height": null,
            "max_width": null,
            "min_height": null,
            "min_width": null,
            "object_fit": null,
            "object_position": null,
            "order": null,
            "overflow": null,
            "overflow_x": null,
            "overflow_y": null,
            "padding": null,
            "right": null,
            "top": null,
            "visibility": null,
            "width": null
          }
        },
        "88c6aeaf60854b708bd447ca09c180d9": {
          "model_module": "@jupyter-widgets/controls",
          "model_name": "DescriptionStyleModel",
          "model_module_version": "1.5.0",
          "state": {
            "_model_module": "@jupyter-widgets/controls",
            "_model_module_version": "1.5.0",
            "_model_name": "DescriptionStyleModel",
            "_view_count": null,
            "_view_module": "@jupyter-widgets/base",
            "_view_module_version": "1.2.0",
            "_view_name": "StyleView",
            "description_width": ""
          }
        },
        "0e479c6edf754a089dfcc571e71f1ab3": {
          "model_module": "@jupyter-widgets/base",
          "model_name": "LayoutModel",
          "model_module_version": "1.2.0",
          "state": {
            "_model_module": "@jupyter-widgets/base",
            "_model_module_version": "1.2.0",
            "_model_name": "LayoutModel",
            "_view_count": null,
            "_view_module": "@jupyter-widgets/base",
            "_view_module_version": "1.2.0",
            "_view_name": "LayoutView",
            "align_content": null,
            "align_items": null,
            "align_self": null,
            "border": null,
            "bottom": null,
            "display": null,
            "flex": null,
            "flex_flow": null,
            "grid_area": null,
            "grid_auto_columns": null,
            "grid_auto_flow": null,
            "grid_auto_rows": null,
            "grid_column": null,
            "grid_gap": null,
            "grid_row": null,
            "grid_template_areas": null,
            "grid_template_columns": null,
            "grid_template_rows": null,
            "height": null,
            "justify_content": null,
            "justify_items": null,
            "left": null,
            "margin": null,
            "max_height": null,
            "max_width": null,
            "min_height": null,
            "min_width": null,
            "object_fit": null,
            "object_position": null,
            "order": null,
            "overflow": null,
            "overflow_x": null,
            "overflow_y": null,
            "padding": null,
            "right": null,
            "top": null,
            "visibility": null,
            "width": null
          }
        },
        "05ce9bd791054ba683882311b5fa0923": {
          "model_module": "@jupyter-widgets/controls",
          "model_name": "ProgressStyleModel",
          "model_module_version": "1.5.0",
          "state": {
            "_model_module": "@jupyter-widgets/controls",
            "_model_module_version": "1.5.0",
            "_model_name": "ProgressStyleModel",
            "_view_count": null,
            "_view_module": "@jupyter-widgets/base",
            "_view_module_version": "1.2.0",
            "_view_name": "StyleView",
            "bar_color": null,
            "description_width": ""
          }
        },
        "a5dda230f51a49c0bd014a7d96850f53": {
          "model_module": "@jupyter-widgets/base",
          "model_name": "LayoutModel",
          "model_module_version": "1.2.0",
          "state": {
            "_model_module": "@jupyter-widgets/base",
            "_model_module_version": "1.2.0",
            "_model_name": "LayoutModel",
            "_view_count": null,
            "_view_module": "@jupyter-widgets/base",
            "_view_module_version": "1.2.0",
            "_view_name": "LayoutView",
            "align_content": null,
            "align_items": null,
            "align_self": null,
            "border": null,
            "bottom": null,
            "display": null,
            "flex": null,
            "flex_flow": null,
            "grid_area": null,
            "grid_auto_columns": null,
            "grid_auto_flow": null,
            "grid_auto_rows": null,
            "grid_column": null,
            "grid_gap": null,
            "grid_row": null,
            "grid_template_areas": null,
            "grid_template_columns": null,
            "grid_template_rows": null,
            "height": null,
            "justify_content": null,
            "justify_items": null,
            "left": null,
            "margin": null,
            "max_height": null,
            "max_width": null,
            "min_height": null,
            "min_width": null,
            "object_fit": null,
            "object_position": null,
            "order": null,
            "overflow": null,
            "overflow_x": null,
            "overflow_y": null,
            "padding": null,
            "right": null,
            "top": null,
            "visibility": null,
            "width": null
          }
        },
        "ea27c814270e48d6a518822814275863": {
          "model_module": "@jupyter-widgets/controls",
          "model_name": "DescriptionStyleModel",
          "model_module_version": "1.5.0",
          "state": {
            "_model_module": "@jupyter-widgets/controls",
            "_model_module_version": "1.5.0",
            "_model_name": "DescriptionStyleModel",
            "_view_count": null,
            "_view_module": "@jupyter-widgets/base",
            "_view_module_version": "1.2.0",
            "_view_name": "StyleView",
            "description_width": ""
          }
        },
        "d54960258b2043efad0942a0c18e3a5a": {
          "model_module": "@jupyter-widgets/controls",
          "model_name": "HBoxModel",
          "model_module_version": "1.5.0",
          "state": {
            "_dom_classes": [],
            "_model_module": "@jupyter-widgets/controls",
            "_model_module_version": "1.5.0",
            "_model_name": "HBoxModel",
            "_view_count": null,
            "_view_module": "@jupyter-widgets/controls",
            "_view_module_version": "1.5.0",
            "_view_name": "HBoxView",
            "box_style": "",
            "children": [
              "IPY_MODEL_07fd22a1af034c33a83a3f04300b6340",
              "IPY_MODEL_ebd4c528189848b6a9dd85bf61d1b152",
              "IPY_MODEL_6ac624ac4225450b8adea4535f04bb4f"
            ],
            "layout": "IPY_MODEL_763ebc32cd73432d80943924a48599ff"
          }
        },
        "07fd22a1af034c33a83a3f04300b6340": {
          "model_module": "@jupyter-widgets/controls",
          "model_name": "HTMLModel",
          "model_module_version": "1.5.0",
          "state": {
            "_dom_classes": [],
            "_model_module": "@jupyter-widgets/controls",
            "_model_module_version": "1.5.0",
            "_model_name": "HTMLModel",
            "_view_count": null,
            "_view_module": "@jupyter-widgets/controls",
            "_view_module_version": "1.5.0",
            "_view_name": "HTMLView",
            "description": "",
            "description_tooltip": null,
            "layout": "IPY_MODEL_4d53aa73542b4f1cb322eec8ba8975c7",
            "placeholder": "​",
            "style": "IPY_MODEL_2b368f0453b6499abe070327b6861e91",
            "value": "Generating train examples...:  98%"
          }
        },
        "ebd4c528189848b6a9dd85bf61d1b152": {
          "model_module": "@jupyter-widgets/controls",
          "model_name": "FloatProgressModel",
          "model_module_version": "1.5.0",
          "state": {
            "_dom_classes": [],
            "_model_module": "@jupyter-widgets/controls",
            "_model_module_version": "1.5.0",
            "_model_name": "FloatProgressModel",
            "_view_count": null,
            "_view_module": "@jupyter-widgets/controls",
            "_view_module_version": "1.5.0",
            "_view_name": "ProgressView",
            "bar_style": "",
            "description": "",
            "description_tooltip": null,
            "layout": "IPY_MODEL_84a832e20ced4d6282c7a9da63cae22c",
            "max": 51785,
            "min": 0,
            "orientation": "horizontal",
            "style": "IPY_MODEL_3da23f5c691644e0857e20e17507b184",
            "value": 51785
          }
        },
        "6ac624ac4225450b8adea4535f04bb4f": {
          "model_module": "@jupyter-widgets/controls",
          "model_name": "HTMLModel",
          "model_module_version": "1.5.0",
          "state": {
            "_dom_classes": [],
            "_model_module": "@jupyter-widgets/controls",
            "_model_module_version": "1.5.0",
            "_model_name": "HTMLModel",
            "_view_count": null,
            "_view_module": "@jupyter-widgets/controls",
            "_view_module_version": "1.5.0",
            "_view_name": "HTMLView",
            "description": "",
            "description_tooltip": null,
            "layout": "IPY_MODEL_f728689fbbfb4ef1ae5e7b98789d61de",
            "placeholder": "​",
            "style": "IPY_MODEL_dfd886d3dd0c4ad7930e4e8839f80d86",
            "value": " 50856/51785 [00:04&lt;00:00, 11985.00 examples/s]"
          }
        },
        "763ebc32cd73432d80943924a48599ff": {
          "model_module": "@jupyter-widgets/base",
          "model_name": "LayoutModel",
          "model_module_version": "1.2.0",
          "state": {
            "_model_module": "@jupyter-widgets/base",
            "_model_module_version": "1.2.0",
            "_model_name": "LayoutModel",
            "_view_count": null,
            "_view_module": "@jupyter-widgets/base",
            "_view_module_version": "1.2.0",
            "_view_name": "LayoutView",
            "align_content": null,
            "align_items": null,
            "align_self": null,
            "border": null,
            "bottom": null,
            "display": null,
            "flex": null,
            "flex_flow": null,
            "grid_area": null,
            "grid_auto_columns": null,
            "grid_auto_flow": null,
            "grid_auto_rows": null,
            "grid_column": null,
            "grid_gap": null,
            "grid_row": null,
            "grid_template_areas": null,
            "grid_template_columns": null,
            "grid_template_rows": null,
            "height": null,
            "justify_content": null,
            "justify_items": null,
            "left": null,
            "margin": null,
            "max_height": null,
            "max_width": null,
            "min_height": null,
            "min_width": null,
            "object_fit": null,
            "object_position": null,
            "order": null,
            "overflow": null,
            "overflow_x": null,
            "overflow_y": null,
            "padding": null,
            "right": null,
            "top": null,
            "visibility": "hidden",
            "width": null
          }
        },
        "4d53aa73542b4f1cb322eec8ba8975c7": {
          "model_module": "@jupyter-widgets/base",
          "model_name": "LayoutModel",
          "model_module_version": "1.2.0",
          "state": {
            "_model_module": "@jupyter-widgets/base",
            "_model_module_version": "1.2.0",
            "_model_name": "LayoutModel",
            "_view_count": null,
            "_view_module": "@jupyter-widgets/base",
            "_view_module_version": "1.2.0",
            "_view_name": "LayoutView",
            "align_content": null,
            "align_items": null,
            "align_self": null,
            "border": null,
            "bottom": null,
            "display": null,
            "flex": null,
            "flex_flow": null,
            "grid_area": null,
            "grid_auto_columns": null,
            "grid_auto_flow": null,
            "grid_auto_rows": null,
            "grid_column": null,
            "grid_gap": null,
            "grid_row": null,
            "grid_template_areas": null,
            "grid_template_columns": null,
            "grid_template_rows": null,
            "height": null,
            "justify_content": null,
            "justify_items": null,
            "left": null,
            "margin": null,
            "max_height": null,
            "max_width": null,
            "min_height": null,
            "min_width": null,
            "object_fit": null,
            "object_position": null,
            "order": null,
            "overflow": null,
            "overflow_x": null,
            "overflow_y": null,
            "padding": null,
            "right": null,
            "top": null,
            "visibility": null,
            "width": null
          }
        },
        "2b368f0453b6499abe070327b6861e91": {
          "model_module": "@jupyter-widgets/controls",
          "model_name": "DescriptionStyleModel",
          "model_module_version": "1.5.0",
          "state": {
            "_model_module": "@jupyter-widgets/controls",
            "_model_module_version": "1.5.0",
            "_model_name": "DescriptionStyleModel",
            "_view_count": null,
            "_view_module": "@jupyter-widgets/base",
            "_view_module_version": "1.2.0",
            "_view_name": "StyleView",
            "description_width": ""
          }
        },
        "84a832e20ced4d6282c7a9da63cae22c": {
          "model_module": "@jupyter-widgets/base",
          "model_name": "LayoutModel",
          "model_module_version": "1.2.0",
          "state": {
            "_model_module": "@jupyter-widgets/base",
            "_model_module_version": "1.2.0",
            "_model_name": "LayoutModel",
            "_view_count": null,
            "_view_module": "@jupyter-widgets/base",
            "_view_module_version": "1.2.0",
            "_view_name": "LayoutView",
            "align_content": null,
            "align_items": null,
            "align_self": null,
            "border": null,
            "bottom": null,
            "display": null,
            "flex": null,
            "flex_flow": null,
            "grid_area": null,
            "grid_auto_columns": null,
            "grid_auto_flow": null,
            "grid_auto_rows": null,
            "grid_column": null,
            "grid_gap": null,
            "grid_row": null,
            "grid_template_areas": null,
            "grid_template_columns": null,
            "grid_template_rows": null,
            "height": null,
            "justify_content": null,
            "justify_items": null,
            "left": null,
            "margin": null,
            "max_height": null,
            "max_width": null,
            "min_height": null,
            "min_width": null,
            "object_fit": null,
            "object_position": null,
            "order": null,
            "overflow": null,
            "overflow_x": null,
            "overflow_y": null,
            "padding": null,
            "right": null,
            "top": null,
            "visibility": null,
            "width": null
          }
        },
        "3da23f5c691644e0857e20e17507b184": {
          "model_module": "@jupyter-widgets/controls",
          "model_name": "ProgressStyleModel",
          "model_module_version": "1.5.0",
          "state": {
            "_model_module": "@jupyter-widgets/controls",
            "_model_module_version": "1.5.0",
            "_model_name": "ProgressStyleModel",
            "_view_count": null,
            "_view_module": "@jupyter-widgets/base",
            "_view_module_version": "1.2.0",
            "_view_name": "StyleView",
            "bar_color": null,
            "description_width": ""
          }
        },
        "f728689fbbfb4ef1ae5e7b98789d61de": {
          "model_module": "@jupyter-widgets/base",
          "model_name": "LayoutModel",
          "model_module_version": "1.2.0",
          "state": {
            "_model_module": "@jupyter-widgets/base",
            "_model_module_version": "1.2.0",
            "_model_name": "LayoutModel",
            "_view_count": null,
            "_view_module": "@jupyter-widgets/base",
            "_view_module_version": "1.2.0",
            "_view_name": "LayoutView",
            "align_content": null,
            "align_items": null,
            "align_self": null,
            "border": null,
            "bottom": null,
            "display": null,
            "flex": null,
            "flex_flow": null,
            "grid_area": null,
            "grid_auto_columns": null,
            "grid_auto_flow": null,
            "grid_auto_rows": null,
            "grid_column": null,
            "grid_gap": null,
            "grid_row": null,
            "grid_template_areas": null,
            "grid_template_columns": null,
            "grid_template_rows": null,
            "height": null,
            "justify_content": null,
            "justify_items": null,
            "left": null,
            "margin": null,
            "max_height": null,
            "max_width": null,
            "min_height": null,
            "min_width": null,
            "object_fit": null,
            "object_position": null,
            "order": null,
            "overflow": null,
            "overflow_x": null,
            "overflow_y": null,
            "padding": null,
            "right": null,
            "top": null,
            "visibility": null,
            "width": null
          }
        },
        "dfd886d3dd0c4ad7930e4e8839f80d86": {
          "model_module": "@jupyter-widgets/controls",
          "model_name": "DescriptionStyleModel",
          "model_module_version": "1.5.0",
          "state": {
            "_model_module": "@jupyter-widgets/controls",
            "_model_module_version": "1.5.0",
            "_model_name": "DescriptionStyleModel",
            "_view_count": null,
            "_view_module": "@jupyter-widgets/base",
            "_view_module_version": "1.2.0",
            "_view_name": "StyleView",
            "description_width": ""
          }
        },
        "ec95206b0df94e81989c7ea503d33aa9": {
          "model_module": "@jupyter-widgets/controls",
          "model_name": "HBoxModel",
          "model_module_version": "1.5.0",
          "state": {
            "_dom_classes": [],
            "_model_module": "@jupyter-widgets/controls",
            "_model_module_version": "1.5.0",
            "_model_name": "HBoxModel",
            "_view_count": null,
            "_view_module": "@jupyter-widgets/controls",
            "_view_module_version": "1.5.0",
            "_view_name": "HBoxView",
            "box_style": "",
            "children": [
              "IPY_MODEL_21ad451026aa4e118eb4a5e9b02e5192",
              "IPY_MODEL_fe43aabe7f5c44fb9fdbe3c16715a78e",
              "IPY_MODEL_9929df680fd248058c20a6887ef3b11f"
            ],
            "layout": "IPY_MODEL_eedc023071a54ee786f68975e568dcbc"
          }
        },
        "21ad451026aa4e118eb4a5e9b02e5192": {
          "model_module": "@jupyter-widgets/controls",
          "model_name": "HTMLModel",
          "model_module_version": "1.5.0",
          "state": {
            "_dom_classes": [],
            "_model_module": "@jupyter-widgets/controls",
            "_model_module_version": "1.5.0",
            "_model_name": "HTMLModel",
            "_view_count": null,
            "_view_module": "@jupyter-widgets/controls",
            "_view_module_version": "1.5.0",
            "_view_name": "HTMLView",
            "description": "",
            "description_tooltip": null,
            "layout": "IPY_MODEL_eccea93f8d2e4c4baecdda2e20356d97",
            "placeholder": "​",
            "style": "IPY_MODEL_3c36c4b3cb1947d9b30a224c5f8f56e0",
            "value": "Shuffling ~/tensorflow_datasets/ted_hrlr_translate/pt_to_en/1.0.0.incompleteWM7HJF/ted_hrlr_translate-train.tfrecord*...:  68%"
          }
        },
        "fe43aabe7f5c44fb9fdbe3c16715a78e": {
          "model_module": "@jupyter-widgets/controls",
          "model_name": "FloatProgressModel",
          "model_module_version": "1.5.0",
          "state": {
            "_dom_classes": [],
            "_model_module": "@jupyter-widgets/controls",
            "_model_module_version": "1.5.0",
            "_model_name": "FloatProgressModel",
            "_view_count": null,
            "_view_module": "@jupyter-widgets/controls",
            "_view_module_version": "1.5.0",
            "_view_name": "ProgressView",
            "bar_style": "",
            "description": "",
            "description_tooltip": null,
            "layout": "IPY_MODEL_121c023153c04990b998908cca3b7f94",
            "max": 51785,
            "min": 0,
            "orientation": "horizontal",
            "style": "IPY_MODEL_e65c8fbb1cc84db1b5c4307598390c51",
            "value": 51785
          }
        },
        "9929df680fd248058c20a6887ef3b11f": {
          "model_module": "@jupyter-widgets/controls",
          "model_name": "HTMLModel",
          "model_module_version": "1.5.0",
          "state": {
            "_dom_classes": [],
            "_model_module": "@jupyter-widgets/controls",
            "_model_module_version": "1.5.0",
            "_model_name": "HTMLModel",
            "_view_count": null,
            "_view_module": "@jupyter-widgets/controls",
            "_view_module_version": "1.5.0",
            "_view_name": "HTMLView",
            "description": "",
            "description_tooltip": null,
            "layout": "IPY_MODEL_f8f772f803524d1faa08c8ec168e155c",
            "placeholder": "​",
            "style": "IPY_MODEL_1cedc192601e49d7958e0175ac92c9af",
            "value": " 35428/51785 [00:00&lt;00:00, 206930.22 examples/s]"
          }
        },
        "eedc023071a54ee786f68975e568dcbc": {
          "model_module": "@jupyter-widgets/base",
          "model_name": "LayoutModel",
          "model_module_version": "1.2.0",
          "state": {
            "_model_module": "@jupyter-widgets/base",
            "_model_module_version": "1.2.0",
            "_model_name": "LayoutModel",
            "_view_count": null,
            "_view_module": "@jupyter-widgets/base",
            "_view_module_version": "1.2.0",
            "_view_name": "LayoutView",
            "align_content": null,
            "align_items": null,
            "align_self": null,
            "border": null,
            "bottom": null,
            "display": null,
            "flex": null,
            "flex_flow": null,
            "grid_area": null,
            "grid_auto_columns": null,
            "grid_auto_flow": null,
            "grid_auto_rows": null,
            "grid_column": null,
            "grid_gap": null,
            "grid_row": null,
            "grid_template_areas": null,
            "grid_template_columns": null,
            "grid_template_rows": null,
            "height": null,
            "justify_content": null,
            "justify_items": null,
            "left": null,
            "margin": null,
            "max_height": null,
            "max_width": null,
            "min_height": null,
            "min_width": null,
            "object_fit": null,
            "object_position": null,
            "order": null,
            "overflow": null,
            "overflow_x": null,
            "overflow_y": null,
            "padding": null,
            "right": null,
            "top": null,
            "visibility": "hidden",
            "width": null
          }
        },
        "eccea93f8d2e4c4baecdda2e20356d97": {
          "model_module": "@jupyter-widgets/base",
          "model_name": "LayoutModel",
          "model_module_version": "1.2.0",
          "state": {
            "_model_module": "@jupyter-widgets/base",
            "_model_module_version": "1.2.0",
            "_model_name": "LayoutModel",
            "_view_count": null,
            "_view_module": "@jupyter-widgets/base",
            "_view_module_version": "1.2.0",
            "_view_name": "LayoutView",
            "align_content": null,
            "align_items": null,
            "align_self": null,
            "border": null,
            "bottom": null,
            "display": null,
            "flex": null,
            "flex_flow": null,
            "grid_area": null,
            "grid_auto_columns": null,
            "grid_auto_flow": null,
            "grid_auto_rows": null,
            "grid_column": null,
            "grid_gap": null,
            "grid_row": null,
            "grid_template_areas": null,
            "grid_template_columns": null,
            "grid_template_rows": null,
            "height": null,
            "justify_content": null,
            "justify_items": null,
            "left": null,
            "margin": null,
            "max_height": null,
            "max_width": null,
            "min_height": null,
            "min_width": null,
            "object_fit": null,
            "object_position": null,
            "order": null,
            "overflow": null,
            "overflow_x": null,
            "overflow_y": null,
            "padding": null,
            "right": null,
            "top": null,
            "visibility": null,
            "width": null
          }
        },
        "3c36c4b3cb1947d9b30a224c5f8f56e0": {
          "model_module": "@jupyter-widgets/controls",
          "model_name": "DescriptionStyleModel",
          "model_module_version": "1.5.0",
          "state": {
            "_model_module": "@jupyter-widgets/controls",
            "_model_module_version": "1.5.0",
            "_model_name": "DescriptionStyleModel",
            "_view_count": null,
            "_view_module": "@jupyter-widgets/base",
            "_view_module_version": "1.2.0",
            "_view_name": "StyleView",
            "description_width": ""
          }
        },
        "121c023153c04990b998908cca3b7f94": {
          "model_module": "@jupyter-widgets/base",
          "model_name": "LayoutModel",
          "model_module_version": "1.2.0",
          "state": {
            "_model_module": "@jupyter-widgets/base",
            "_model_module_version": "1.2.0",
            "_model_name": "LayoutModel",
            "_view_count": null,
            "_view_module": "@jupyter-widgets/base",
            "_view_module_version": "1.2.0",
            "_view_name": "LayoutView",
            "align_content": null,
            "align_items": null,
            "align_self": null,
            "border": null,
            "bottom": null,
            "display": null,
            "flex": null,
            "flex_flow": null,
            "grid_area": null,
            "grid_auto_columns": null,
            "grid_auto_flow": null,
            "grid_auto_rows": null,
            "grid_column": null,
            "grid_gap": null,
            "grid_row": null,
            "grid_template_areas": null,
            "grid_template_columns": null,
            "grid_template_rows": null,
            "height": null,
            "justify_content": null,
            "justify_items": null,
            "left": null,
            "margin": null,
            "max_height": null,
            "max_width": null,
            "min_height": null,
            "min_width": null,
            "object_fit": null,
            "object_position": null,
            "order": null,
            "overflow": null,
            "overflow_x": null,
            "overflow_y": null,
            "padding": null,
            "right": null,
            "top": null,
            "visibility": null,
            "width": null
          }
        },
        "e65c8fbb1cc84db1b5c4307598390c51": {
          "model_module": "@jupyter-widgets/controls",
          "model_name": "ProgressStyleModel",
          "model_module_version": "1.5.0",
          "state": {
            "_model_module": "@jupyter-widgets/controls",
            "_model_module_version": "1.5.0",
            "_model_name": "ProgressStyleModel",
            "_view_count": null,
            "_view_module": "@jupyter-widgets/base",
            "_view_module_version": "1.2.0",
            "_view_name": "StyleView",
            "bar_color": null,
            "description_width": ""
          }
        },
        "f8f772f803524d1faa08c8ec168e155c": {
          "model_module": "@jupyter-widgets/base",
          "model_name": "LayoutModel",
          "model_module_version": "1.2.0",
          "state": {
            "_model_module": "@jupyter-widgets/base",
            "_model_module_version": "1.2.0",
            "_model_name": "LayoutModel",
            "_view_count": null,
            "_view_module": "@jupyter-widgets/base",
            "_view_module_version": "1.2.0",
            "_view_name": "LayoutView",
            "align_content": null,
            "align_items": null,
            "align_self": null,
            "border": null,
            "bottom": null,
            "display": null,
            "flex": null,
            "flex_flow": null,
            "grid_area": null,
            "grid_auto_columns": null,
            "grid_auto_flow": null,
            "grid_auto_rows": null,
            "grid_column": null,
            "grid_gap": null,
            "grid_row": null,
            "grid_template_areas": null,
            "grid_template_columns": null,
            "grid_template_rows": null,
            "height": null,
            "justify_content": null,
            "justify_items": null,
            "left": null,
            "margin": null,
            "max_height": null,
            "max_width": null,
            "min_height": null,
            "min_width": null,
            "object_fit": null,
            "object_position": null,
            "order": null,
            "overflow": null,
            "overflow_x": null,
            "overflow_y": null,
            "padding": null,
            "right": null,
            "top": null,
            "visibility": null,
            "width": null
          }
        },
        "1cedc192601e49d7958e0175ac92c9af": {
          "model_module": "@jupyter-widgets/controls",
          "model_name": "DescriptionStyleModel",
          "model_module_version": "1.5.0",
          "state": {
            "_model_module": "@jupyter-widgets/controls",
            "_model_module_version": "1.5.0",
            "_model_name": "DescriptionStyleModel",
            "_view_count": null,
            "_view_module": "@jupyter-widgets/base",
            "_view_module_version": "1.2.0",
            "_view_name": "StyleView",
            "description_width": ""
          }
        },
        "b45d48dfd7a74b47b1fcf1070a9b0d2c": {
          "model_module": "@jupyter-widgets/controls",
          "model_name": "HBoxModel",
          "model_module_version": "1.5.0",
          "state": {
            "_dom_classes": [],
            "_model_module": "@jupyter-widgets/controls",
            "_model_module_version": "1.5.0",
            "_model_name": "HBoxModel",
            "_view_count": null,
            "_view_module": "@jupyter-widgets/controls",
            "_view_module_version": "1.5.0",
            "_view_name": "HBoxView",
            "box_style": "",
            "children": [
              "IPY_MODEL_f18441a866ab46a7943d1e7ea4095d77",
              "IPY_MODEL_2299965add164ea482b967ac15392b02",
              "IPY_MODEL_c1bd374ac8c849df8ebbeb70d1aa7dcf"
            ],
            "layout": "IPY_MODEL_2f56ddb09af4437f82d4051aeb3f5f2a"
          }
        },
        "f18441a866ab46a7943d1e7ea4095d77": {
          "model_module": "@jupyter-widgets/controls",
          "model_name": "HTMLModel",
          "model_module_version": "1.5.0",
          "state": {
            "_dom_classes": [],
            "_model_module": "@jupyter-widgets/controls",
            "_model_module_version": "1.5.0",
            "_model_name": "HTMLModel",
            "_view_count": null,
            "_view_module": "@jupyter-widgets/controls",
            "_view_module_version": "1.5.0",
            "_view_name": "HTMLView",
            "description": "",
            "description_tooltip": null,
            "layout": "IPY_MODEL_33c9d4d695b14b52a2a0a1183b2ff5eb",
            "placeholder": "​",
            "style": "IPY_MODEL_07ad123f644846f0aa27c8051e1e2e78",
            "value": "Generating validation examples...:  43%"
          }
        },
        "2299965add164ea482b967ac15392b02": {
          "model_module": "@jupyter-widgets/controls",
          "model_name": "FloatProgressModel",
          "model_module_version": "1.5.0",
          "state": {
            "_dom_classes": [],
            "_model_module": "@jupyter-widgets/controls",
            "_model_module_version": "1.5.0",
            "_model_name": "FloatProgressModel",
            "_view_count": null,
            "_view_module": "@jupyter-widgets/controls",
            "_view_module_version": "1.5.0",
            "_view_name": "ProgressView",
            "bar_style": "",
            "description": "",
            "description_tooltip": null,
            "layout": "IPY_MODEL_2c54bec11d514597ae1c2d64dc85301f",
            "max": 1193,
            "min": 0,
            "orientation": "horizontal",
            "style": "IPY_MODEL_efca56d2311c459bbb67f2cc395028b0",
            "value": 1193
          }
        },
        "c1bd374ac8c849df8ebbeb70d1aa7dcf": {
          "model_module": "@jupyter-widgets/controls",
          "model_name": "HTMLModel",
          "model_module_version": "1.5.0",
          "state": {
            "_dom_classes": [],
            "_model_module": "@jupyter-widgets/controls",
            "_model_module_version": "1.5.0",
            "_model_name": "HTMLModel",
            "_view_count": null,
            "_view_module": "@jupyter-widgets/controls",
            "_view_module_version": "1.5.0",
            "_view_name": "HTMLView",
            "description": "",
            "description_tooltip": null,
            "layout": "IPY_MODEL_23795e1584ec430e98137dcb98958ce9",
            "placeholder": "​",
            "style": "IPY_MODEL_1f127e529f2a414195d8115238deef8c",
            "value": " 518/1193 [00:00&lt;00:00, 5176.82 examples/s]"
          }
        },
        "2f56ddb09af4437f82d4051aeb3f5f2a": {
          "model_module": "@jupyter-widgets/base",
          "model_name": "LayoutModel",
          "model_module_version": "1.2.0",
          "state": {
            "_model_module": "@jupyter-widgets/base",
            "_model_module_version": "1.2.0",
            "_model_name": "LayoutModel",
            "_view_count": null,
            "_view_module": "@jupyter-widgets/base",
            "_view_module_version": "1.2.0",
            "_view_name": "LayoutView",
            "align_content": null,
            "align_items": null,
            "align_self": null,
            "border": null,
            "bottom": null,
            "display": null,
            "flex": null,
            "flex_flow": null,
            "grid_area": null,
            "grid_auto_columns": null,
            "grid_auto_flow": null,
            "grid_auto_rows": null,
            "grid_column": null,
            "grid_gap": null,
            "grid_row": null,
            "grid_template_areas": null,
            "grid_template_columns": null,
            "grid_template_rows": null,
            "height": null,
            "justify_content": null,
            "justify_items": null,
            "left": null,
            "margin": null,
            "max_height": null,
            "max_width": null,
            "min_height": null,
            "min_width": null,
            "object_fit": null,
            "object_position": null,
            "order": null,
            "overflow": null,
            "overflow_x": null,
            "overflow_y": null,
            "padding": null,
            "right": null,
            "top": null,
            "visibility": "hidden",
            "width": null
          }
        },
        "33c9d4d695b14b52a2a0a1183b2ff5eb": {
          "model_module": "@jupyter-widgets/base",
          "model_name": "LayoutModel",
          "model_module_version": "1.2.0",
          "state": {
            "_model_module": "@jupyter-widgets/base",
            "_model_module_version": "1.2.0",
            "_model_name": "LayoutModel",
            "_view_count": null,
            "_view_module": "@jupyter-widgets/base",
            "_view_module_version": "1.2.0",
            "_view_name": "LayoutView",
            "align_content": null,
            "align_items": null,
            "align_self": null,
            "border": null,
            "bottom": null,
            "display": null,
            "flex": null,
            "flex_flow": null,
            "grid_area": null,
            "grid_auto_columns": null,
            "grid_auto_flow": null,
            "grid_auto_rows": null,
            "grid_column": null,
            "grid_gap": null,
            "grid_row": null,
            "grid_template_areas": null,
            "grid_template_columns": null,
            "grid_template_rows": null,
            "height": null,
            "justify_content": null,
            "justify_items": null,
            "left": null,
            "margin": null,
            "max_height": null,
            "max_width": null,
            "min_height": null,
            "min_width": null,
            "object_fit": null,
            "object_position": null,
            "order": null,
            "overflow": null,
            "overflow_x": null,
            "overflow_y": null,
            "padding": null,
            "right": null,
            "top": null,
            "visibility": null,
            "width": null
          }
        },
        "07ad123f644846f0aa27c8051e1e2e78": {
          "model_module": "@jupyter-widgets/controls",
          "model_name": "DescriptionStyleModel",
          "model_module_version": "1.5.0",
          "state": {
            "_model_module": "@jupyter-widgets/controls",
            "_model_module_version": "1.5.0",
            "_model_name": "DescriptionStyleModel",
            "_view_count": null,
            "_view_module": "@jupyter-widgets/base",
            "_view_module_version": "1.2.0",
            "_view_name": "StyleView",
            "description_width": ""
          }
        },
        "2c54bec11d514597ae1c2d64dc85301f": {
          "model_module": "@jupyter-widgets/base",
          "model_name": "LayoutModel",
          "model_module_version": "1.2.0",
          "state": {
            "_model_module": "@jupyter-widgets/base",
            "_model_module_version": "1.2.0",
            "_model_name": "LayoutModel",
            "_view_count": null,
            "_view_module": "@jupyter-widgets/base",
            "_view_module_version": "1.2.0",
            "_view_name": "LayoutView",
            "align_content": null,
            "align_items": null,
            "align_self": null,
            "border": null,
            "bottom": null,
            "display": null,
            "flex": null,
            "flex_flow": null,
            "grid_area": null,
            "grid_auto_columns": null,
            "grid_auto_flow": null,
            "grid_auto_rows": null,
            "grid_column": null,
            "grid_gap": null,
            "grid_row": null,
            "grid_template_areas": null,
            "grid_template_columns": null,
            "grid_template_rows": null,
            "height": null,
            "justify_content": null,
            "justify_items": null,
            "left": null,
            "margin": null,
            "max_height": null,
            "max_width": null,
            "min_height": null,
            "min_width": null,
            "object_fit": null,
            "object_position": null,
            "order": null,
            "overflow": null,
            "overflow_x": null,
            "overflow_y": null,
            "padding": null,
            "right": null,
            "top": null,
            "visibility": null,
            "width": null
          }
        },
        "efca56d2311c459bbb67f2cc395028b0": {
          "model_module": "@jupyter-widgets/controls",
          "model_name": "ProgressStyleModel",
          "model_module_version": "1.5.0",
          "state": {
            "_model_module": "@jupyter-widgets/controls",
            "_model_module_version": "1.5.0",
            "_model_name": "ProgressStyleModel",
            "_view_count": null,
            "_view_module": "@jupyter-widgets/base",
            "_view_module_version": "1.2.0",
            "_view_name": "StyleView",
            "bar_color": null,
            "description_width": ""
          }
        },
        "23795e1584ec430e98137dcb98958ce9": {
          "model_module": "@jupyter-widgets/base",
          "model_name": "LayoutModel",
          "model_module_version": "1.2.0",
          "state": {
            "_model_module": "@jupyter-widgets/base",
            "_model_module_version": "1.2.0",
            "_model_name": "LayoutModel",
            "_view_count": null,
            "_view_module": "@jupyter-widgets/base",
            "_view_module_version": "1.2.0",
            "_view_name": "LayoutView",
            "align_content": null,
            "align_items": null,
            "align_self": null,
            "border": null,
            "bottom": null,
            "display": null,
            "flex": null,
            "flex_flow": null,
            "grid_area": null,
            "grid_auto_columns": null,
            "grid_auto_flow": null,
            "grid_auto_rows": null,
            "grid_column": null,
            "grid_gap": null,
            "grid_row": null,
            "grid_template_areas": null,
            "grid_template_columns": null,
            "grid_template_rows": null,
            "height": null,
            "justify_content": null,
            "justify_items": null,
            "left": null,
            "margin": null,
            "max_height": null,
            "max_width": null,
            "min_height": null,
            "min_width": null,
            "object_fit": null,
            "object_position": null,
            "order": null,
            "overflow": null,
            "overflow_x": null,
            "overflow_y": null,
            "padding": null,
            "right": null,
            "top": null,
            "visibility": null,
            "width": null
          }
        },
        "1f127e529f2a414195d8115238deef8c": {
          "model_module": "@jupyter-widgets/controls",
          "model_name": "DescriptionStyleModel",
          "model_module_version": "1.5.0",
          "state": {
            "_model_module": "@jupyter-widgets/controls",
            "_model_module_version": "1.5.0",
            "_model_name": "DescriptionStyleModel",
            "_view_count": null,
            "_view_module": "@jupyter-widgets/base",
            "_view_module_version": "1.2.0",
            "_view_name": "StyleView",
            "description_width": ""
          }
        },
        "3f953552f5ed415a8bb01a910957f017": {
          "model_module": "@jupyter-widgets/controls",
          "model_name": "HBoxModel",
          "model_module_version": "1.5.0",
          "state": {
            "_dom_classes": [],
            "_model_module": "@jupyter-widgets/controls",
            "_model_module_version": "1.5.0",
            "_model_name": "HBoxModel",
            "_view_count": null,
            "_view_module": "@jupyter-widgets/controls",
            "_view_module_version": "1.5.0",
            "_view_name": "HBoxView",
            "box_style": "",
            "children": [
              "IPY_MODEL_1ec1414474f6431db25e880aac12d059",
              "IPY_MODEL_5d6bf71eb3a54fe899dece3c2fbac925",
              "IPY_MODEL_42ba2a6fc61346e99937a9a64499cb4f"
            ],
            "layout": "IPY_MODEL_9c5db5ef5b974968810e9af2d59b0c19"
          }
        },
        "1ec1414474f6431db25e880aac12d059": {
          "model_module": "@jupyter-widgets/controls",
          "model_name": "HTMLModel",
          "model_module_version": "1.5.0",
          "state": {
            "_dom_classes": [],
            "_model_module": "@jupyter-widgets/controls",
            "_model_module_version": "1.5.0",
            "_model_name": "HTMLModel",
            "_view_count": null,
            "_view_module": "@jupyter-widgets/controls",
            "_view_module_version": "1.5.0",
            "_view_name": "HTMLView",
            "description": "",
            "description_tooltip": null,
            "layout": "IPY_MODEL_cad59d9a066a485cbe0b571a4e841807",
            "placeholder": "​",
            "style": "IPY_MODEL_9af83219abbd4650b40f11b4e6c941cf",
            "value": "Shuffling ~/tensorflow_datasets/ted_hrlr_translate/pt_to_en/1.0.0.incompleteWM7HJF/ted_hrlr_translate-validation.tfrecord*...:   0%"
          }
        },
        "5d6bf71eb3a54fe899dece3c2fbac925": {
          "model_module": "@jupyter-widgets/controls",
          "model_name": "FloatProgressModel",
          "model_module_version": "1.5.0",
          "state": {
            "_dom_classes": [],
            "_model_module": "@jupyter-widgets/controls",
            "_model_module_version": "1.5.0",
            "_model_name": "FloatProgressModel",
            "_view_count": null,
            "_view_module": "@jupyter-widgets/controls",
            "_view_module_version": "1.5.0",
            "_view_name": "ProgressView",
            "bar_style": "",
            "description": "",
            "description_tooltip": null,
            "layout": "IPY_MODEL_80634b7bf4194135883aa0e1407f8855",
            "max": 1193,
            "min": 0,
            "orientation": "horizontal",
            "style": "IPY_MODEL_eef85e446f1c4dea83b4da7d0a0e2296",
            "value": 1193
          }
        },
        "42ba2a6fc61346e99937a9a64499cb4f": {
          "model_module": "@jupyter-widgets/controls",
          "model_name": "HTMLModel",
          "model_module_version": "1.5.0",
          "state": {
            "_dom_classes": [],
            "_model_module": "@jupyter-widgets/controls",
            "_model_module_version": "1.5.0",
            "_model_name": "HTMLModel",
            "_view_count": null,
            "_view_module": "@jupyter-widgets/controls",
            "_view_module_version": "1.5.0",
            "_view_name": "HTMLView",
            "description": "",
            "description_tooltip": null,
            "layout": "IPY_MODEL_29fb27fdb75244ae92efc70f68c4a1e1",
            "placeholder": "​",
            "style": "IPY_MODEL_83d0ce94a63f44ecb36bc49e44aecbf6",
            "value": " 0/1193 [00:00&lt;?, ? examples/s]"
          }
        },
        "9c5db5ef5b974968810e9af2d59b0c19": {
          "model_module": "@jupyter-widgets/base",
          "model_name": "LayoutModel",
          "model_module_version": "1.2.0",
          "state": {
            "_model_module": "@jupyter-widgets/base",
            "_model_module_version": "1.2.0",
            "_model_name": "LayoutModel",
            "_view_count": null,
            "_view_module": "@jupyter-widgets/base",
            "_view_module_version": "1.2.0",
            "_view_name": "LayoutView",
            "align_content": null,
            "align_items": null,
            "align_self": null,
            "border": null,
            "bottom": null,
            "display": null,
            "flex": null,
            "flex_flow": null,
            "grid_area": null,
            "grid_auto_columns": null,
            "grid_auto_flow": null,
            "grid_auto_rows": null,
            "grid_column": null,
            "grid_gap": null,
            "grid_row": null,
            "grid_template_areas": null,
            "grid_template_columns": null,
            "grid_template_rows": null,
            "height": null,
            "justify_content": null,
            "justify_items": null,
            "left": null,
            "margin": null,
            "max_height": null,
            "max_width": null,
            "min_height": null,
            "min_width": null,
            "object_fit": null,
            "object_position": null,
            "order": null,
            "overflow": null,
            "overflow_x": null,
            "overflow_y": null,
            "padding": null,
            "right": null,
            "top": null,
            "visibility": "hidden",
            "width": null
          }
        },
        "cad59d9a066a485cbe0b571a4e841807": {
          "model_module": "@jupyter-widgets/base",
          "model_name": "LayoutModel",
          "model_module_version": "1.2.0",
          "state": {
            "_model_module": "@jupyter-widgets/base",
            "_model_module_version": "1.2.0",
            "_model_name": "LayoutModel",
            "_view_count": null,
            "_view_module": "@jupyter-widgets/base",
            "_view_module_version": "1.2.0",
            "_view_name": "LayoutView",
            "align_content": null,
            "align_items": null,
            "align_self": null,
            "border": null,
            "bottom": null,
            "display": null,
            "flex": null,
            "flex_flow": null,
            "grid_area": null,
            "grid_auto_columns": null,
            "grid_auto_flow": null,
            "grid_auto_rows": null,
            "grid_column": null,
            "grid_gap": null,
            "grid_row": null,
            "grid_template_areas": null,
            "grid_template_columns": null,
            "grid_template_rows": null,
            "height": null,
            "justify_content": null,
            "justify_items": null,
            "left": null,
            "margin": null,
            "max_height": null,
            "max_width": null,
            "min_height": null,
            "min_width": null,
            "object_fit": null,
            "object_position": null,
            "order": null,
            "overflow": null,
            "overflow_x": null,
            "overflow_y": null,
            "padding": null,
            "right": null,
            "top": null,
            "visibility": null,
            "width": null
          }
        },
        "9af83219abbd4650b40f11b4e6c941cf": {
          "model_module": "@jupyter-widgets/controls",
          "model_name": "DescriptionStyleModel",
          "model_module_version": "1.5.0",
          "state": {
            "_model_module": "@jupyter-widgets/controls",
            "_model_module_version": "1.5.0",
            "_model_name": "DescriptionStyleModel",
            "_view_count": null,
            "_view_module": "@jupyter-widgets/base",
            "_view_module_version": "1.2.0",
            "_view_name": "StyleView",
            "description_width": ""
          }
        },
        "80634b7bf4194135883aa0e1407f8855": {
          "model_module": "@jupyter-widgets/base",
          "model_name": "LayoutModel",
          "model_module_version": "1.2.0",
          "state": {
            "_model_module": "@jupyter-widgets/base",
            "_model_module_version": "1.2.0",
            "_model_name": "LayoutModel",
            "_view_count": null,
            "_view_module": "@jupyter-widgets/base",
            "_view_module_version": "1.2.0",
            "_view_name": "LayoutView",
            "align_content": null,
            "align_items": null,
            "align_self": null,
            "border": null,
            "bottom": null,
            "display": null,
            "flex": null,
            "flex_flow": null,
            "grid_area": null,
            "grid_auto_columns": null,
            "grid_auto_flow": null,
            "grid_auto_rows": null,
            "grid_column": null,
            "grid_gap": null,
            "grid_row": null,
            "grid_template_areas": null,
            "grid_template_columns": null,
            "grid_template_rows": null,
            "height": null,
            "justify_content": null,
            "justify_items": null,
            "left": null,
            "margin": null,
            "max_height": null,
            "max_width": null,
            "min_height": null,
            "min_width": null,
            "object_fit": null,
            "object_position": null,
            "order": null,
            "overflow": null,
            "overflow_x": null,
            "overflow_y": null,
            "padding": null,
            "right": null,
            "top": null,
            "visibility": null,
            "width": null
          }
        },
        "eef85e446f1c4dea83b4da7d0a0e2296": {
          "model_module": "@jupyter-widgets/controls",
          "model_name": "ProgressStyleModel",
          "model_module_version": "1.5.0",
          "state": {
            "_model_module": "@jupyter-widgets/controls",
            "_model_module_version": "1.5.0",
            "_model_name": "ProgressStyleModel",
            "_view_count": null,
            "_view_module": "@jupyter-widgets/base",
            "_view_module_version": "1.2.0",
            "_view_name": "StyleView",
            "bar_color": null,
            "description_width": ""
          }
        },
        "29fb27fdb75244ae92efc70f68c4a1e1": {
          "model_module": "@jupyter-widgets/base",
          "model_name": "LayoutModel",
          "model_module_version": "1.2.0",
          "state": {
            "_model_module": "@jupyter-widgets/base",
            "_model_module_version": "1.2.0",
            "_model_name": "LayoutModel",
            "_view_count": null,
            "_view_module": "@jupyter-widgets/base",
            "_view_module_version": "1.2.0",
            "_view_name": "LayoutView",
            "align_content": null,
            "align_items": null,
            "align_self": null,
            "border": null,
            "bottom": null,
            "display": null,
            "flex": null,
            "flex_flow": null,
            "grid_area": null,
            "grid_auto_columns": null,
            "grid_auto_flow": null,
            "grid_auto_rows": null,
            "grid_column": null,
            "grid_gap": null,
            "grid_row": null,
            "grid_template_areas": null,
            "grid_template_columns": null,
            "grid_template_rows": null,
            "height": null,
            "justify_content": null,
            "justify_items": null,
            "left": null,
            "margin": null,
            "max_height": null,
            "max_width": null,
            "min_height": null,
            "min_width": null,
            "object_fit": null,
            "object_position": null,
            "order": null,
            "overflow": null,
            "overflow_x": null,
            "overflow_y": null,
            "padding": null,
            "right": null,
            "top": null,
            "visibility": null,
            "width": null
          }
        },
        "83d0ce94a63f44ecb36bc49e44aecbf6": {
          "model_module": "@jupyter-widgets/controls",
          "model_name": "DescriptionStyleModel",
          "model_module_version": "1.5.0",
          "state": {
            "_model_module": "@jupyter-widgets/controls",
            "_model_module_version": "1.5.0",
            "_model_name": "DescriptionStyleModel",
            "_view_count": null,
            "_view_module": "@jupyter-widgets/base",
            "_view_module_version": "1.2.0",
            "_view_name": "StyleView",
            "description_width": ""
          }
        },
        "5008b67f34ce4d3ca69e060be4a014d4": {
          "model_module": "@jupyter-widgets/controls",
          "model_name": "HBoxModel",
          "model_module_version": "1.5.0",
          "state": {
            "_dom_classes": [],
            "_model_module": "@jupyter-widgets/controls",
            "_model_module_version": "1.5.0",
            "_model_name": "HBoxModel",
            "_view_count": null,
            "_view_module": "@jupyter-widgets/controls",
            "_view_module_version": "1.5.0",
            "_view_name": "HBoxView",
            "box_style": "",
            "children": [
              "IPY_MODEL_61475e42f4064231beb5851158c448a2",
              "IPY_MODEL_91947d2dc8bf4ae18f92136f4741656a",
              "IPY_MODEL_331a6288e6154abf9b2445dafa7daf0b"
            ],
            "layout": "IPY_MODEL_ef6ddae1b73f4c7f9b3f1704bd4bae12"
          }
        },
        "61475e42f4064231beb5851158c448a2": {
          "model_module": "@jupyter-widgets/controls",
          "model_name": "HTMLModel",
          "model_module_version": "1.5.0",
          "state": {
            "_dom_classes": [],
            "_model_module": "@jupyter-widgets/controls",
            "_model_module_version": "1.5.0",
            "_model_name": "HTMLModel",
            "_view_count": null,
            "_view_module": "@jupyter-widgets/controls",
            "_view_module_version": "1.5.0",
            "_view_name": "HTMLView",
            "description": "",
            "description_tooltip": null,
            "layout": "IPY_MODEL_8ee7e49cc76e412e97f865123098b6af",
            "placeholder": "​",
            "style": "IPY_MODEL_f4ce9122466a4404a7d7690c7d3d5a96",
            "value": "Generating test examples...:  79%"
          }
        },
        "91947d2dc8bf4ae18f92136f4741656a": {
          "model_module": "@jupyter-widgets/controls",
          "model_name": "FloatProgressModel",
          "model_module_version": "1.5.0",
          "state": {
            "_dom_classes": [],
            "_model_module": "@jupyter-widgets/controls",
            "_model_module_version": "1.5.0",
            "_model_name": "FloatProgressModel",
            "_view_count": null,
            "_view_module": "@jupyter-widgets/controls",
            "_view_module_version": "1.5.0",
            "_view_name": "ProgressView",
            "bar_style": "",
            "description": "",
            "description_tooltip": null,
            "layout": "IPY_MODEL_afe4653dc45e49d9b0e940f65de1610b",
            "max": 1803,
            "min": 0,
            "orientation": "horizontal",
            "style": "IPY_MODEL_e279c732286a4573a800fdd619da88bd",
            "value": 1803
          }
        },
        "331a6288e6154abf9b2445dafa7daf0b": {
          "model_module": "@jupyter-widgets/controls",
          "model_name": "HTMLModel",
          "model_module_version": "1.5.0",
          "state": {
            "_dom_classes": [],
            "_model_module": "@jupyter-widgets/controls",
            "_model_module_version": "1.5.0",
            "_model_name": "HTMLModel",
            "_view_count": null,
            "_view_module": "@jupyter-widgets/controls",
            "_view_module_version": "1.5.0",
            "_view_name": "HTMLView",
            "description": "",
            "description_tooltip": null,
            "layout": "IPY_MODEL_89e06b8662b0445797aa5053b52f78b8",
            "placeholder": "​",
            "style": "IPY_MODEL_e77b9cc108084c9bb439b90762d7763d",
            "value": " 1420/1803 [00:00&lt;00:00, 7962.33 examples/s]"
          }
        },
        "ef6ddae1b73f4c7f9b3f1704bd4bae12": {
          "model_module": "@jupyter-widgets/base",
          "model_name": "LayoutModel",
          "model_module_version": "1.2.0",
          "state": {
            "_model_module": "@jupyter-widgets/base",
            "_model_module_version": "1.2.0",
            "_model_name": "LayoutModel",
            "_view_count": null,
            "_view_module": "@jupyter-widgets/base",
            "_view_module_version": "1.2.0",
            "_view_name": "LayoutView",
            "align_content": null,
            "align_items": null,
            "align_self": null,
            "border": null,
            "bottom": null,
            "display": null,
            "flex": null,
            "flex_flow": null,
            "grid_area": null,
            "grid_auto_columns": null,
            "grid_auto_flow": null,
            "grid_auto_rows": null,
            "grid_column": null,
            "grid_gap": null,
            "grid_row": null,
            "grid_template_areas": null,
            "grid_template_columns": null,
            "grid_template_rows": null,
            "height": null,
            "justify_content": null,
            "justify_items": null,
            "left": null,
            "margin": null,
            "max_height": null,
            "max_width": null,
            "min_height": null,
            "min_width": null,
            "object_fit": null,
            "object_position": null,
            "order": null,
            "overflow": null,
            "overflow_x": null,
            "overflow_y": null,
            "padding": null,
            "right": null,
            "top": null,
            "visibility": "hidden",
            "width": null
          }
        },
        "8ee7e49cc76e412e97f865123098b6af": {
          "model_module": "@jupyter-widgets/base",
          "model_name": "LayoutModel",
          "model_module_version": "1.2.0",
          "state": {
            "_model_module": "@jupyter-widgets/base",
            "_model_module_version": "1.2.0",
            "_model_name": "LayoutModel",
            "_view_count": null,
            "_view_module": "@jupyter-widgets/base",
            "_view_module_version": "1.2.0",
            "_view_name": "LayoutView",
            "align_content": null,
            "align_items": null,
            "align_self": null,
            "border": null,
            "bottom": null,
            "display": null,
            "flex": null,
            "flex_flow": null,
            "grid_area": null,
            "grid_auto_columns": null,
            "grid_auto_flow": null,
            "grid_auto_rows": null,
            "grid_column": null,
            "grid_gap": null,
            "grid_row": null,
            "grid_template_areas": null,
            "grid_template_columns": null,
            "grid_template_rows": null,
            "height": null,
            "justify_content": null,
            "justify_items": null,
            "left": null,
            "margin": null,
            "max_height": null,
            "max_width": null,
            "min_height": null,
            "min_width": null,
            "object_fit": null,
            "object_position": null,
            "order": null,
            "overflow": null,
            "overflow_x": null,
            "overflow_y": null,
            "padding": null,
            "right": null,
            "top": null,
            "visibility": null,
            "width": null
          }
        },
        "f4ce9122466a4404a7d7690c7d3d5a96": {
          "model_module": "@jupyter-widgets/controls",
          "model_name": "DescriptionStyleModel",
          "model_module_version": "1.5.0",
          "state": {
            "_model_module": "@jupyter-widgets/controls",
            "_model_module_version": "1.5.0",
            "_model_name": "DescriptionStyleModel",
            "_view_count": null,
            "_view_module": "@jupyter-widgets/base",
            "_view_module_version": "1.2.0",
            "_view_name": "StyleView",
            "description_width": ""
          }
        },
        "afe4653dc45e49d9b0e940f65de1610b": {
          "model_module": "@jupyter-widgets/base",
          "model_name": "LayoutModel",
          "model_module_version": "1.2.0",
          "state": {
            "_model_module": "@jupyter-widgets/base",
            "_model_module_version": "1.2.0",
            "_model_name": "LayoutModel",
            "_view_count": null,
            "_view_module": "@jupyter-widgets/base",
            "_view_module_version": "1.2.0",
            "_view_name": "LayoutView",
            "align_content": null,
            "align_items": null,
            "align_self": null,
            "border": null,
            "bottom": null,
            "display": null,
            "flex": null,
            "flex_flow": null,
            "grid_area": null,
            "grid_auto_columns": null,
            "grid_auto_flow": null,
            "grid_auto_rows": null,
            "grid_column": null,
            "grid_gap": null,
            "grid_row": null,
            "grid_template_areas": null,
            "grid_template_columns": null,
            "grid_template_rows": null,
            "height": null,
            "justify_content": null,
            "justify_items": null,
            "left": null,
            "margin": null,
            "max_height": null,
            "max_width": null,
            "min_height": null,
            "min_width": null,
            "object_fit": null,
            "object_position": null,
            "order": null,
            "overflow": null,
            "overflow_x": null,
            "overflow_y": null,
            "padding": null,
            "right": null,
            "top": null,
            "visibility": null,
            "width": null
          }
        },
        "e279c732286a4573a800fdd619da88bd": {
          "model_module": "@jupyter-widgets/controls",
          "model_name": "ProgressStyleModel",
          "model_module_version": "1.5.0",
          "state": {
            "_model_module": "@jupyter-widgets/controls",
            "_model_module_version": "1.5.0",
            "_model_name": "ProgressStyleModel",
            "_view_count": null,
            "_view_module": "@jupyter-widgets/base",
            "_view_module_version": "1.2.0",
            "_view_name": "StyleView",
            "bar_color": null,
            "description_width": ""
          }
        },
        "89e06b8662b0445797aa5053b52f78b8": {
          "model_module": "@jupyter-widgets/base",
          "model_name": "LayoutModel",
          "model_module_version": "1.2.0",
          "state": {
            "_model_module": "@jupyter-widgets/base",
            "_model_module_version": "1.2.0",
            "_model_name": "LayoutModel",
            "_view_count": null,
            "_view_module": "@jupyter-widgets/base",
            "_view_module_version": "1.2.0",
            "_view_name": "LayoutView",
            "align_content": null,
            "align_items": null,
            "align_self": null,
            "border": null,
            "bottom": null,
            "display": null,
            "flex": null,
            "flex_flow": null,
            "grid_area": null,
            "grid_auto_columns": null,
            "grid_auto_flow": null,
            "grid_auto_rows": null,
            "grid_column": null,
            "grid_gap": null,
            "grid_row": null,
            "grid_template_areas": null,
            "grid_template_columns": null,
            "grid_template_rows": null,
            "height": null,
            "justify_content": null,
            "justify_items": null,
            "left": null,
            "margin": null,
            "max_height": null,
            "max_width": null,
            "min_height": null,
            "min_width": null,
            "object_fit": null,
            "object_position": null,
            "order": null,
            "overflow": null,
            "overflow_x": null,
            "overflow_y": null,
            "padding": null,
            "right": null,
            "top": null,
            "visibility": null,
            "width": null
          }
        },
        "e77b9cc108084c9bb439b90762d7763d": {
          "model_module": "@jupyter-widgets/controls",
          "model_name": "DescriptionStyleModel",
          "model_module_version": "1.5.0",
          "state": {
            "_model_module": "@jupyter-widgets/controls",
            "_model_module_version": "1.5.0",
            "_model_name": "DescriptionStyleModel",
            "_view_count": null,
            "_view_module": "@jupyter-widgets/base",
            "_view_module_version": "1.2.0",
            "_view_name": "StyleView",
            "description_width": ""
          }
        },
        "ca0947f5a13243c995c88f899fcf4dab": {
          "model_module": "@jupyter-widgets/controls",
          "model_name": "HBoxModel",
          "model_module_version": "1.5.0",
          "state": {
            "_dom_classes": [],
            "_model_module": "@jupyter-widgets/controls",
            "_model_module_version": "1.5.0",
            "_model_name": "HBoxModel",
            "_view_count": null,
            "_view_module": "@jupyter-widgets/controls",
            "_view_module_version": "1.5.0",
            "_view_name": "HBoxView",
            "box_style": "",
            "children": [
              "IPY_MODEL_a1e724db77534a578af8bf5a73736b15",
              "IPY_MODEL_81fc8eb3526e41ba8d0d54bdb0e9656a",
              "IPY_MODEL_262cf78010f44a55adbc488fce47f392"
            ],
            "layout": "IPY_MODEL_c3484a71682b40a98c7642de34e083c8"
          }
        },
        "a1e724db77534a578af8bf5a73736b15": {
          "model_module": "@jupyter-widgets/controls",
          "model_name": "HTMLModel",
          "model_module_version": "1.5.0",
          "state": {
            "_dom_classes": [],
            "_model_module": "@jupyter-widgets/controls",
            "_model_module_version": "1.5.0",
            "_model_name": "HTMLModel",
            "_view_count": null,
            "_view_module": "@jupyter-widgets/controls",
            "_view_module_version": "1.5.0",
            "_view_name": "HTMLView",
            "description": "",
            "description_tooltip": null,
            "layout": "IPY_MODEL_4304c0fd08e64c3e8f7dec7083f5183a",
            "placeholder": "​",
            "style": "IPY_MODEL_6e31ec32435442b8ae6ef842908e9484",
            "value": "Shuffling ~/tensorflow_datasets/ted_hrlr_translate/pt_to_en/1.0.0.incompleteWM7HJF/ted_hrlr_translate-test.tfrecord*...:   0%"
          }
        },
        "81fc8eb3526e41ba8d0d54bdb0e9656a": {
          "model_module": "@jupyter-widgets/controls",
          "model_name": "FloatProgressModel",
          "model_module_version": "1.5.0",
          "state": {
            "_dom_classes": [],
            "_model_module": "@jupyter-widgets/controls",
            "_model_module_version": "1.5.0",
            "_model_name": "FloatProgressModel",
            "_view_count": null,
            "_view_module": "@jupyter-widgets/controls",
            "_view_module_version": "1.5.0",
            "_view_name": "ProgressView",
            "bar_style": "",
            "description": "",
            "description_tooltip": null,
            "layout": "IPY_MODEL_242693db3af148779a565df20cfd796d",
            "max": 1803,
            "min": 0,
            "orientation": "horizontal",
            "style": "IPY_MODEL_e3f364c368c947e2b9b4d6e186f23293",
            "value": 1803
          }
        },
        "262cf78010f44a55adbc488fce47f392": {
          "model_module": "@jupyter-widgets/controls",
          "model_name": "HTMLModel",
          "model_module_version": "1.5.0",
          "state": {
            "_dom_classes": [],
            "_model_module": "@jupyter-widgets/controls",
            "_model_module_version": "1.5.0",
            "_model_name": "HTMLModel",
            "_view_count": null,
            "_view_module": "@jupyter-widgets/controls",
            "_view_module_version": "1.5.0",
            "_view_name": "HTMLView",
            "description": "",
            "description_tooltip": null,
            "layout": "IPY_MODEL_69f2ac8272554e099105d9a3bbd23ccf",
            "placeholder": "​",
            "style": "IPY_MODEL_80635ae4a54c418bb31e3f066ffe990a",
            "value": " 0/1803 [00:00&lt;?, ? examples/s]"
          }
        },
        "c3484a71682b40a98c7642de34e083c8": {
          "model_module": "@jupyter-widgets/base",
          "model_name": "LayoutModel",
          "model_module_version": "1.2.0",
          "state": {
            "_model_module": "@jupyter-widgets/base",
            "_model_module_version": "1.2.0",
            "_model_name": "LayoutModel",
            "_view_count": null,
            "_view_module": "@jupyter-widgets/base",
            "_view_module_version": "1.2.0",
            "_view_name": "LayoutView",
            "align_content": null,
            "align_items": null,
            "align_self": null,
            "border": null,
            "bottom": null,
            "display": null,
            "flex": null,
            "flex_flow": null,
            "grid_area": null,
            "grid_auto_columns": null,
            "grid_auto_flow": null,
            "grid_auto_rows": null,
            "grid_column": null,
            "grid_gap": null,
            "grid_row": null,
            "grid_template_areas": null,
            "grid_template_columns": null,
            "grid_template_rows": null,
            "height": null,
            "justify_content": null,
            "justify_items": null,
            "left": null,
            "margin": null,
            "max_height": null,
            "max_width": null,
            "min_height": null,
            "min_width": null,
            "object_fit": null,
            "object_position": null,
            "order": null,
            "overflow": null,
            "overflow_x": null,
            "overflow_y": null,
            "padding": null,
            "right": null,
            "top": null,
            "visibility": "hidden",
            "width": null
          }
        },
        "4304c0fd08e64c3e8f7dec7083f5183a": {
          "model_module": "@jupyter-widgets/base",
          "model_name": "LayoutModel",
          "model_module_version": "1.2.0",
          "state": {
            "_model_module": "@jupyter-widgets/base",
            "_model_module_version": "1.2.0",
            "_model_name": "LayoutModel",
            "_view_count": null,
            "_view_module": "@jupyter-widgets/base",
            "_view_module_version": "1.2.0",
            "_view_name": "LayoutView",
            "align_content": null,
            "align_items": null,
            "align_self": null,
            "border": null,
            "bottom": null,
            "display": null,
            "flex": null,
            "flex_flow": null,
            "grid_area": null,
            "grid_auto_columns": null,
            "grid_auto_flow": null,
            "grid_auto_rows": null,
            "grid_column": null,
            "grid_gap": null,
            "grid_row": null,
            "grid_template_areas": null,
            "grid_template_columns": null,
            "grid_template_rows": null,
            "height": null,
            "justify_content": null,
            "justify_items": null,
            "left": null,
            "margin": null,
            "max_height": null,
            "max_width": null,
            "min_height": null,
            "min_width": null,
            "object_fit": null,
            "object_position": null,
            "order": null,
            "overflow": null,
            "overflow_x": null,
            "overflow_y": null,
            "padding": null,
            "right": null,
            "top": null,
            "visibility": null,
            "width": null
          }
        },
        "6e31ec32435442b8ae6ef842908e9484": {
          "model_module": "@jupyter-widgets/controls",
          "model_name": "DescriptionStyleModel",
          "model_module_version": "1.5.0",
          "state": {
            "_model_module": "@jupyter-widgets/controls",
            "_model_module_version": "1.5.0",
            "_model_name": "DescriptionStyleModel",
            "_view_count": null,
            "_view_module": "@jupyter-widgets/base",
            "_view_module_version": "1.2.0",
            "_view_name": "StyleView",
            "description_width": ""
          }
        },
        "242693db3af148779a565df20cfd796d": {
          "model_module": "@jupyter-widgets/base",
          "model_name": "LayoutModel",
          "model_module_version": "1.2.0",
          "state": {
            "_model_module": "@jupyter-widgets/base",
            "_model_module_version": "1.2.0",
            "_model_name": "LayoutModel",
            "_view_count": null,
            "_view_module": "@jupyter-widgets/base",
            "_view_module_version": "1.2.0",
            "_view_name": "LayoutView",
            "align_content": null,
            "align_items": null,
            "align_self": null,
            "border": null,
            "bottom": null,
            "display": null,
            "flex": null,
            "flex_flow": null,
            "grid_area": null,
            "grid_auto_columns": null,
            "grid_auto_flow": null,
            "grid_auto_rows": null,
            "grid_column": null,
            "grid_gap": null,
            "grid_row": null,
            "grid_template_areas": null,
            "grid_template_columns": null,
            "grid_template_rows": null,
            "height": null,
            "justify_content": null,
            "justify_items": null,
            "left": null,
            "margin": null,
            "max_height": null,
            "max_width": null,
            "min_height": null,
            "min_width": null,
            "object_fit": null,
            "object_position": null,
            "order": null,
            "overflow": null,
            "overflow_x": null,
            "overflow_y": null,
            "padding": null,
            "right": null,
            "top": null,
            "visibility": null,
            "width": null
          }
        },
        "e3f364c368c947e2b9b4d6e186f23293": {
          "model_module": "@jupyter-widgets/controls",
          "model_name": "ProgressStyleModel",
          "model_module_version": "1.5.0",
          "state": {
            "_model_module": "@jupyter-widgets/controls",
            "_model_module_version": "1.5.0",
            "_model_name": "ProgressStyleModel",
            "_view_count": null,
            "_view_module": "@jupyter-widgets/base",
            "_view_module_version": "1.2.0",
            "_view_name": "StyleView",
            "bar_color": null,
            "description_width": ""
          }
        },
        "69f2ac8272554e099105d9a3bbd23ccf": {
          "model_module": "@jupyter-widgets/base",
          "model_name": "LayoutModel",
          "model_module_version": "1.2.0",
          "state": {
            "_model_module": "@jupyter-widgets/base",
            "_model_module_version": "1.2.0",
            "_model_name": "LayoutModel",
            "_view_count": null,
            "_view_module": "@jupyter-widgets/base",
            "_view_module_version": "1.2.0",
            "_view_name": "LayoutView",
            "align_content": null,
            "align_items": null,
            "align_self": null,
            "border": null,
            "bottom": null,
            "display": null,
            "flex": null,
            "flex_flow": null,
            "grid_area": null,
            "grid_auto_columns": null,
            "grid_auto_flow": null,
            "grid_auto_rows": null,
            "grid_column": null,
            "grid_gap": null,
            "grid_row": null,
            "grid_template_areas": null,
            "grid_template_columns": null,
            "grid_template_rows": null,
            "height": null,
            "justify_content": null,
            "justify_items": null,
            "left": null,
            "margin": null,
            "max_height": null,
            "max_width": null,
            "min_height": null,
            "min_width": null,
            "object_fit": null,
            "object_position": null,
            "order": null,
            "overflow": null,
            "overflow_x": null,
            "overflow_y": null,
            "padding": null,
            "right": null,
            "top": null,
            "visibility": null,
            "width": null
          }
        },
        "80635ae4a54c418bb31e3f066ffe990a": {
          "model_module": "@jupyter-widgets/controls",
          "model_name": "DescriptionStyleModel",
          "model_module_version": "1.5.0",
          "state": {
            "_model_module": "@jupyter-widgets/controls",
            "_model_module_version": "1.5.0",
            "_model_name": "DescriptionStyleModel",
            "_view_count": null,
            "_view_module": "@jupyter-widgets/base",
            "_view_module_version": "1.2.0",
            "_view_name": "StyleView",
            "description_width": ""
          }
        }
      }
    }
  },
  "cells": [
    {
      "cell_type": "markdown",
      "source": [
        "#### Refference :\n",
        "\n",
        "https://www.tensorflow.org/text/tutorials/transformer"
      ],
      "metadata": {
        "id": "K9LBNqvv7EDA"
      }
    },
    {
      "cell_type": "markdown",
      "source": [
        "## Imports"
      ],
      "metadata": {
        "id": "ExhtWMzU7S82"
      }
    },
    {
      "cell_type": "code",
      "source": [
        "!pip install tensorflow_text"
      ],
      "metadata": {
        "colab": {
          "base_uri": "https://localhost:8080/"
        },
        "id": "bm7I9Ejh7eae",
        "outputId": "9e317aa8-a95b-4b16-a46c-c31acd8e7722"
      },
      "execution_count": 1,
      "outputs": [
        {
          "output_type": "stream",
          "name": "stdout",
          "text": [
            "Looking in indexes: https://pypi.org/simple, https://us-python.pkg.dev/colab-wheels/public/simple/\n",
            "Collecting tensorflow_text\n",
            "  Downloading tensorflow_text-2.10.0-cp37-cp37m-manylinux_2_17_x86_64.manylinux2014_x86_64.whl (5.9 MB)\n",
            "\u001b[K     |████████████████████████████████| 5.9 MB 6.1 MB/s \n",
            "\u001b[?25hRequirement already satisfied: tensorflow-hub>=0.8.0 in /usr/local/lib/python3.7/dist-packages (from tensorflow_text) (0.12.0)\n",
            "Collecting tensorflow<2.11,>=2.10.0\n",
            "  Downloading tensorflow-2.10.0-cp37-cp37m-manylinux_2_17_x86_64.manylinux2014_x86_64.whl (578.0 MB)\n",
            "\u001b[K     |████████████████████████████████| 578.0 MB 16 kB/s \n",
            "\u001b[?25hRequirement already satisfied: libclang>=13.0.0 in /usr/local/lib/python3.7/dist-packages (from tensorflow<2.11,>=2.10.0->tensorflow_text) (14.0.6)\n",
            "Collecting tensorboard<2.11,>=2.10\n",
            "  Downloading tensorboard-2.10.0-py3-none-any.whl (5.9 MB)\n",
            "\u001b[K     |████████████████████████████████| 5.9 MB 51.5 MB/s \n",
            "\u001b[?25hRequirement already satisfied: keras-preprocessing>=1.1.1 in /usr/local/lib/python3.7/dist-packages (from tensorflow<2.11,>=2.10.0->tensorflow_text) (1.1.2)\n",
            "Requirement already satisfied: typing-extensions>=3.6.6 in /usr/local/lib/python3.7/dist-packages (from tensorflow<2.11,>=2.10.0->tensorflow_text) (4.1.1)\n",
            "Requirement already satisfied: h5py>=2.9.0 in /usr/local/lib/python3.7/dist-packages (from tensorflow<2.11,>=2.10.0->tensorflow_text) (3.1.0)\n",
            "Requirement already satisfied: numpy>=1.20 in /usr/local/lib/python3.7/dist-packages (from tensorflow<2.11,>=2.10.0->tensorflow_text) (1.21.6)\n",
            "Requirement already satisfied: packaging in /usr/local/lib/python3.7/dist-packages (from tensorflow<2.11,>=2.10.0->tensorflow_text) (21.3)\n",
            "Requirement already satisfied: wrapt>=1.11.0 in /usr/local/lib/python3.7/dist-packages (from tensorflow<2.11,>=2.10.0->tensorflow_text) (1.14.1)\n",
            "Collecting tensorflow-estimator<2.11,>=2.10.0\n",
            "  Downloading tensorflow_estimator-2.10.0-py2.py3-none-any.whl (438 kB)\n",
            "\u001b[K     |████████████████████████████████| 438 kB 67.7 MB/s \n",
            "\u001b[?25hRequirement already satisfied: grpcio<2.0,>=1.24.3 in /usr/local/lib/python3.7/dist-packages (from tensorflow<2.11,>=2.10.0->tensorflow_text) (1.48.1)\n",
            "Collecting gast<=0.4.0,>=0.2.1\n",
            "  Downloading gast-0.4.0-py3-none-any.whl (9.8 kB)\n",
            "Requirement already satisfied: opt-einsum>=2.3.2 in /usr/local/lib/python3.7/dist-packages (from tensorflow<2.11,>=2.10.0->tensorflow_text) (3.3.0)\n",
            "Requirement already satisfied: setuptools in /usr/local/lib/python3.7/dist-packages (from tensorflow<2.11,>=2.10.0->tensorflow_text) (57.4.0)\n",
            "Requirement already satisfied: termcolor>=1.1.0 in /usr/local/lib/python3.7/dist-packages (from tensorflow<2.11,>=2.10.0->tensorflow_text) (1.1.0)\n",
            "Collecting keras<2.11,>=2.10.0\n",
            "  Downloading keras-2.10.0-py2.py3-none-any.whl (1.7 MB)\n",
            "\u001b[K     |████████████████████████████████| 1.7 MB 55.9 MB/s \n",
            "\u001b[?25hRequirement already satisfied: absl-py>=1.0.0 in /usr/local/lib/python3.7/dist-packages (from tensorflow<2.11,>=2.10.0->tensorflow_text) (1.2.0)\n",
            "Requirement already satisfied: protobuf<3.20,>=3.9.2 in /usr/local/lib/python3.7/dist-packages (from tensorflow<2.11,>=2.10.0->tensorflow_text) (3.17.3)\n",
            "Requirement already satisfied: flatbuffers>=2.0 in /usr/local/lib/python3.7/dist-packages (from tensorflow<2.11,>=2.10.0->tensorflow_text) (2.0.7)\n",
            "Requirement already satisfied: google-pasta>=0.1.1 in /usr/local/lib/python3.7/dist-packages (from tensorflow<2.11,>=2.10.0->tensorflow_text) (0.2.0)\n",
            "Requirement already satisfied: astunparse>=1.6.0 in /usr/local/lib/python3.7/dist-packages (from tensorflow<2.11,>=2.10.0->tensorflow_text) (1.6.3)\n",
            "Requirement already satisfied: six>=1.12.0 in /usr/local/lib/python3.7/dist-packages (from tensorflow<2.11,>=2.10.0->tensorflow_text) (1.15.0)\n",
            "Requirement already satisfied: tensorflow-io-gcs-filesystem>=0.23.1 in /usr/local/lib/python3.7/dist-packages (from tensorflow<2.11,>=2.10.0->tensorflow_text) (0.26.0)\n",
            "Requirement already satisfied: wheel<1.0,>=0.23.0 in /usr/local/lib/python3.7/dist-packages (from astunparse>=1.6.0->tensorflow<2.11,>=2.10.0->tensorflow_text) (0.37.1)\n",
            "Requirement already satisfied: cached-property in /usr/local/lib/python3.7/dist-packages (from h5py>=2.9.0->tensorflow<2.11,>=2.10.0->tensorflow_text) (1.5.2)\n",
            "Requirement already satisfied: markdown>=2.6.8 in /usr/local/lib/python3.7/dist-packages (from tensorboard<2.11,>=2.10->tensorflow<2.11,>=2.10.0->tensorflow_text) (3.4.1)\n",
            "Requirement already satisfied: google-auth<3,>=1.6.3 in /usr/local/lib/python3.7/dist-packages (from tensorboard<2.11,>=2.10->tensorflow<2.11,>=2.10.0->tensorflow_text) (1.35.0)\n",
            "Requirement already satisfied: requests<3,>=2.21.0 in /usr/local/lib/python3.7/dist-packages (from tensorboard<2.11,>=2.10->tensorflow<2.11,>=2.10.0->tensorflow_text) (2.23.0)\n",
            "Requirement already satisfied: tensorboard-data-server<0.7.0,>=0.6.0 in /usr/local/lib/python3.7/dist-packages (from tensorboard<2.11,>=2.10->tensorflow<2.11,>=2.10.0->tensorflow_text) (0.6.1)\n",
            "Requirement already satisfied: werkzeug>=1.0.1 in /usr/local/lib/python3.7/dist-packages (from tensorboard<2.11,>=2.10->tensorflow<2.11,>=2.10.0->tensorflow_text) (1.0.1)\n",
            "Requirement already satisfied: tensorboard-plugin-wit>=1.6.0 in /usr/local/lib/python3.7/dist-packages (from tensorboard<2.11,>=2.10->tensorflow<2.11,>=2.10.0->tensorflow_text) (1.8.1)\n",
            "Requirement already satisfied: google-auth-oauthlib<0.5,>=0.4.1 in /usr/local/lib/python3.7/dist-packages (from tensorboard<2.11,>=2.10->tensorflow<2.11,>=2.10.0->tensorflow_text) (0.4.6)\n",
            "Requirement already satisfied: pyasn1-modules>=0.2.1 in /usr/local/lib/python3.7/dist-packages (from google-auth<3,>=1.6.3->tensorboard<2.11,>=2.10->tensorflow<2.11,>=2.10.0->tensorflow_text) (0.2.8)\n",
            "Requirement already satisfied: cachetools<5.0,>=2.0.0 in /usr/local/lib/python3.7/dist-packages (from google-auth<3,>=1.6.3->tensorboard<2.11,>=2.10->tensorflow<2.11,>=2.10.0->tensorflow_text) (4.2.4)\n",
            "Requirement already satisfied: rsa<5,>=3.1.4 in /usr/local/lib/python3.7/dist-packages (from google-auth<3,>=1.6.3->tensorboard<2.11,>=2.10->tensorflow<2.11,>=2.10.0->tensorflow_text) (4.9)\n",
            "Requirement already satisfied: requests-oauthlib>=0.7.0 in /usr/local/lib/python3.7/dist-packages (from google-auth-oauthlib<0.5,>=0.4.1->tensorboard<2.11,>=2.10->tensorflow<2.11,>=2.10.0->tensorflow_text) (1.3.1)\n",
            "Requirement already satisfied: importlib-metadata>=4.4 in /usr/local/lib/python3.7/dist-packages (from markdown>=2.6.8->tensorboard<2.11,>=2.10->tensorflow<2.11,>=2.10.0->tensorflow_text) (4.12.0)\n",
            "Requirement already satisfied: zipp>=0.5 in /usr/local/lib/python3.7/dist-packages (from importlib-metadata>=4.4->markdown>=2.6.8->tensorboard<2.11,>=2.10->tensorflow<2.11,>=2.10.0->tensorflow_text) (3.8.1)\n",
            "Requirement already satisfied: pyasn1<0.5.0,>=0.4.6 in /usr/local/lib/python3.7/dist-packages (from pyasn1-modules>=0.2.1->google-auth<3,>=1.6.3->tensorboard<2.11,>=2.10->tensorflow<2.11,>=2.10.0->tensorflow_text) (0.4.8)\n",
            "Requirement already satisfied: idna<3,>=2.5 in /usr/local/lib/python3.7/dist-packages (from requests<3,>=2.21.0->tensorboard<2.11,>=2.10->tensorflow<2.11,>=2.10.0->tensorflow_text) (2.10)\n",
            "Requirement already satisfied: certifi>=2017.4.17 in /usr/local/lib/python3.7/dist-packages (from requests<3,>=2.21.0->tensorboard<2.11,>=2.10->tensorflow<2.11,>=2.10.0->tensorflow_text) (2022.6.15)\n",
            "Requirement already satisfied: urllib3!=1.25.0,!=1.25.1,<1.26,>=1.21.1 in /usr/local/lib/python3.7/dist-packages (from requests<3,>=2.21.0->tensorboard<2.11,>=2.10->tensorflow<2.11,>=2.10.0->tensorflow_text) (1.24.3)\n",
            "Requirement already satisfied: chardet<4,>=3.0.2 in /usr/local/lib/python3.7/dist-packages (from requests<3,>=2.21.0->tensorboard<2.11,>=2.10->tensorflow<2.11,>=2.10.0->tensorflow_text) (3.0.4)\n",
            "Requirement already satisfied: oauthlib>=3.0.0 in /usr/local/lib/python3.7/dist-packages (from requests-oauthlib>=0.7.0->google-auth-oauthlib<0.5,>=0.4.1->tensorboard<2.11,>=2.10->tensorflow<2.11,>=2.10.0->tensorflow_text) (3.2.0)\n",
            "Requirement already satisfied: pyparsing!=3.0.5,>=2.0.2 in /usr/local/lib/python3.7/dist-packages (from packaging->tensorflow<2.11,>=2.10.0->tensorflow_text) (3.0.9)\n",
            "Installing collected packages: tensorflow-estimator, tensorboard, keras, gast, tensorflow, tensorflow-text\n",
            "  Attempting uninstall: tensorflow-estimator\n",
            "    Found existing installation: tensorflow-estimator 2.8.0\n",
            "    Uninstalling tensorflow-estimator-2.8.0:\n",
            "      Successfully uninstalled tensorflow-estimator-2.8.0\n",
            "  Attempting uninstall: tensorboard\n",
            "    Found existing installation: tensorboard 2.8.0\n",
            "    Uninstalling tensorboard-2.8.0:\n",
            "      Successfully uninstalled tensorboard-2.8.0\n",
            "  Attempting uninstall: keras\n",
            "    Found existing installation: keras 2.8.0\n",
            "    Uninstalling keras-2.8.0:\n",
            "      Successfully uninstalled keras-2.8.0\n",
            "  Attempting uninstall: gast\n",
            "    Found existing installation: gast 0.5.3\n",
            "    Uninstalling gast-0.5.3:\n",
            "      Successfully uninstalled gast-0.5.3\n",
            "  Attempting uninstall: tensorflow\n",
            "    Found existing installation: tensorflow 2.8.2+zzzcolab20220719082949\n",
            "    Uninstalling tensorflow-2.8.2+zzzcolab20220719082949:\n",
            "      Successfully uninstalled tensorflow-2.8.2+zzzcolab20220719082949\n",
            "Successfully installed gast-0.4.0 keras-2.10.0 tensorboard-2.10.0 tensorflow-2.10.0 tensorflow-estimator-2.10.0 tensorflow-text-2.10.0\n"
          ]
        }
      ]
    },
    {
      "cell_type": "code",
      "source": [
        "import logging\n",
        "import time\n",
        "\n",
        "import numpy as np\n",
        "import matplotlib.pyplot as plt\n",
        "\n",
        "import tensorflow_datasets as tfds\n",
        "import tensorflow as tf\n",
        "\n",
        "import tensorflow_text"
      ],
      "metadata": {
        "id": "dLGs_rEd7VIF"
      },
      "execution_count": 2,
      "outputs": []
    },
    {
      "cell_type": "markdown",
      "source": [
        "## Connect to Drive"
      ],
      "metadata": {
        "id": "9nbxXViO7Xm3"
      }
    },
    {
      "cell_type": "code",
      "source": [
        "from google.colab import drive\n",
        "drive.mount('/content/drive')"
      ],
      "metadata": {
        "colab": {
          "base_uri": "https://localhost:8080/"
        },
        "id": "C-aaCn4z7l0o",
        "outputId": "042ca1dc-6e47-442e-c0df-1be79acd788f"
      },
      "execution_count": 3,
      "outputs": [
        {
          "output_type": "stream",
          "name": "stdout",
          "text": [
            "Mounted at /content/drive\n"
          ]
        }
      ]
    },
    {
      "cell_type": "markdown",
      "source": [
        "## Perpare the data"
      ],
      "metadata": {
        "id": "s0rGIH1l7JdV"
      }
    },
    {
      "cell_type": "markdown",
      "source": [
        "Download the dataset"
      ],
      "metadata": {
        "id": "-eXt5SY-98c-"
      }
    },
    {
      "cell_type": "code",
      "execution_count": 4,
      "metadata": {
        "colab": {
          "base_uri": "https://localhost:8080/",
          "height": 148,
          "referenced_widgets": [
            "c054260b32e24c558f99f0305ed5db6c",
            "3e998556bf1f49c2ad9a5094a9758a24",
            "d7a251ee5b1242079c54bf36346fb17e",
            "5b01f8c848264d43901701d6d5a96909",
            "98d10edacf2f44cb8bf1cac54808f643",
            "29e795af4b9b4a13bda64f4615cfea92",
            "4ae65bd7802149d58c8f7dee37ab7b84",
            "c8188c64a2da4985b9785c94beb2d23d",
            "4a6bb7eec5f440308112b3112d250c0a",
            "8a7f522b8c494120956ecf6bb64f3ec2",
            "2ed61df875a34fe79f3aa277302498fa",
            "78358778e78e4c31976f3e5fc3d9206c",
            "512a6b2082704bbfa0f972026cf078ae",
            "cc9f552c545a4b91ab5604782208cf74",
            "d89eb89aa4ab4738b857cd799ef85d6c",
            "ce4077d9414846ac95803a56774806e2",
            "57fc89b4fb3c405f9f8ffc7ef7e63e54",
            "98adc1de936e485aa8f72c0d69d63801",
            "8cd56102929c4e25b6c662a143816b7f",
            "22b8a641d8084607bce5514853aa14f5",
            "1adeda6ed3c1408792196e17539d66a4",
            "753669620f7542c8a1496dae201d1d22",
            "b1e89e493ac04dee865d389667028a6e",
            "0d6ae88ef7354d7b8fd3bd393d715095",
            "9b1fd45cfc9446659c36a1ef1543c6da",
            "900326e7a74d43a2b568e13e06f0a309",
            "61525f6b3cfb4a2ca5ac4314cdcebf77",
            "816039549a4c4df780131415328f47e4",
            "f0930c2f800c4f10bb2c91760b0680c9",
            "521cb023d01041b49e1ec6935efe0f08",
            "7a4c4c00fbd84c4cb191680c803b4e14",
            "b7ef0ecd512d421dab97aad09d6aa494",
            "8adefd0ccf64425d8578bcb671213de6",
            "b274153dccf54924a2820564ded113fe",
            "a663b42b264849e58160d62b9cfef613",
            "9fbda9a63f804d54b1735cefacf93c21",
            "78e696ece83f43118b68fefeac6c030e",
            "ea3c026332ea47e388bed531dec8fe22",
            "230bde9026cb4cac89f19ce4610ababf",
            "88c6aeaf60854b708bd447ca09c180d9",
            "0e479c6edf754a089dfcc571e71f1ab3",
            "05ce9bd791054ba683882311b5fa0923",
            "a5dda230f51a49c0bd014a7d96850f53",
            "ea27c814270e48d6a518822814275863",
            "d54960258b2043efad0942a0c18e3a5a",
            "07fd22a1af034c33a83a3f04300b6340",
            "ebd4c528189848b6a9dd85bf61d1b152",
            "6ac624ac4225450b8adea4535f04bb4f",
            "763ebc32cd73432d80943924a48599ff",
            "4d53aa73542b4f1cb322eec8ba8975c7",
            "2b368f0453b6499abe070327b6861e91",
            "84a832e20ced4d6282c7a9da63cae22c",
            "3da23f5c691644e0857e20e17507b184",
            "f728689fbbfb4ef1ae5e7b98789d61de",
            "dfd886d3dd0c4ad7930e4e8839f80d86",
            "ec95206b0df94e81989c7ea503d33aa9",
            "21ad451026aa4e118eb4a5e9b02e5192",
            "fe43aabe7f5c44fb9fdbe3c16715a78e",
            "9929df680fd248058c20a6887ef3b11f",
            "eedc023071a54ee786f68975e568dcbc",
            "eccea93f8d2e4c4baecdda2e20356d97",
            "3c36c4b3cb1947d9b30a224c5f8f56e0",
            "121c023153c04990b998908cca3b7f94",
            "e65c8fbb1cc84db1b5c4307598390c51",
            "f8f772f803524d1faa08c8ec168e155c",
            "1cedc192601e49d7958e0175ac92c9af",
            "b45d48dfd7a74b47b1fcf1070a9b0d2c",
            "f18441a866ab46a7943d1e7ea4095d77",
            "2299965add164ea482b967ac15392b02",
            "c1bd374ac8c849df8ebbeb70d1aa7dcf",
            "2f56ddb09af4437f82d4051aeb3f5f2a",
            "33c9d4d695b14b52a2a0a1183b2ff5eb",
            "07ad123f644846f0aa27c8051e1e2e78",
            "2c54bec11d514597ae1c2d64dc85301f",
            "efca56d2311c459bbb67f2cc395028b0",
            "23795e1584ec430e98137dcb98958ce9",
            "1f127e529f2a414195d8115238deef8c",
            "3f953552f5ed415a8bb01a910957f017",
            "1ec1414474f6431db25e880aac12d059",
            "5d6bf71eb3a54fe899dece3c2fbac925",
            "42ba2a6fc61346e99937a9a64499cb4f",
            "9c5db5ef5b974968810e9af2d59b0c19",
            "cad59d9a066a485cbe0b571a4e841807",
            "9af83219abbd4650b40f11b4e6c941cf",
            "80634b7bf4194135883aa0e1407f8855",
            "eef85e446f1c4dea83b4da7d0a0e2296",
            "29fb27fdb75244ae92efc70f68c4a1e1",
            "83d0ce94a63f44ecb36bc49e44aecbf6",
            "5008b67f34ce4d3ca69e060be4a014d4",
            "61475e42f4064231beb5851158c448a2",
            "91947d2dc8bf4ae18f92136f4741656a",
            "331a6288e6154abf9b2445dafa7daf0b",
            "ef6ddae1b73f4c7f9b3f1704bd4bae12",
            "8ee7e49cc76e412e97f865123098b6af",
            "f4ce9122466a4404a7d7690c7d3d5a96",
            "afe4653dc45e49d9b0e940f65de1610b",
            "e279c732286a4573a800fdd619da88bd",
            "89e06b8662b0445797aa5053b52f78b8",
            "e77b9cc108084c9bb439b90762d7763d",
            "ca0947f5a13243c995c88f899fcf4dab",
            "a1e724db77534a578af8bf5a73736b15",
            "81fc8eb3526e41ba8d0d54bdb0e9656a",
            "262cf78010f44a55adbc488fce47f392",
            "c3484a71682b40a98c7642de34e083c8",
            "4304c0fd08e64c3e8f7dec7083f5183a",
            "6e31ec32435442b8ae6ef842908e9484",
            "242693db3af148779a565df20cfd796d",
            "e3f364c368c947e2b9b4d6e186f23293",
            "69f2ac8272554e099105d9a3bbd23ccf",
            "80635ae4a54c418bb31e3f066ffe990a"
          ]
        },
        "id": "huFCH3Ox6xUB",
        "outputId": "ed0bad7f-e9c4-4ada-e9a1-d8c9a32d1c91"
      },
      "outputs": [
        {
          "output_type": "stream",
          "name": "stdout",
          "text": [
            "\u001b[1mDownloading and preparing dataset 124.94 MiB (download: 124.94 MiB, generated: Unknown size, total: 124.94 MiB) to ~/tensorflow_datasets/ted_hrlr_translate/pt_to_en/1.0.0...\u001b[0m\n"
          ]
        },
        {
          "output_type": "display_data",
          "data": {
            "text/plain": [
              "Dl Completed...: 0 url [00:00, ? url/s]"
            ],
            "application/vnd.jupyter.widget-view+json": {
              "version_major": 2,
              "version_minor": 0,
              "model_id": "c054260b32e24c558f99f0305ed5db6c"
            }
          },
          "metadata": {}
        },
        {
          "output_type": "display_data",
          "data": {
            "text/plain": [
              "Dl Size...: 0 MiB [00:00, ? MiB/s]"
            ],
            "application/vnd.jupyter.widget-view+json": {
              "version_major": 2,
              "version_minor": 0,
              "model_id": "78358778e78e4c31976f3e5fc3d9206c"
            }
          },
          "metadata": {}
        },
        {
          "output_type": "display_data",
          "data": {
            "text/plain": [
              "Extraction completed...: 0 file [00:00, ? file/s]"
            ],
            "application/vnd.jupyter.widget-view+json": {
              "version_major": 2,
              "version_minor": 0,
              "model_id": "b1e89e493ac04dee865d389667028a6e"
            }
          },
          "metadata": {}
        },
        {
          "output_type": "display_data",
          "data": {
            "text/plain": [
              "Generating splits...:   0%|          | 0/3 [00:00<?, ? splits/s]"
            ],
            "application/vnd.jupyter.widget-view+json": {
              "version_major": 2,
              "version_minor": 0,
              "model_id": "b274153dccf54924a2820564ded113fe"
            }
          },
          "metadata": {}
        },
        {
          "output_type": "display_data",
          "data": {
            "text/plain": [
              "Generating train examples...:   0%|          | 0/51785 [00:00<?, ? examples/s]"
            ],
            "application/vnd.jupyter.widget-view+json": {
              "version_major": 2,
              "version_minor": 0,
              "model_id": "d54960258b2043efad0942a0c18e3a5a"
            }
          },
          "metadata": {}
        },
        {
          "output_type": "display_data",
          "data": {
            "text/plain": [
              "Shuffling ~/tensorflow_datasets/ted_hrlr_translate/pt_to_en/1.0.0.incompleteWM7HJF/ted_hrlr_translate-train.tf…"
            ],
            "application/vnd.jupyter.widget-view+json": {
              "version_major": 2,
              "version_minor": 0,
              "model_id": "ec95206b0df94e81989c7ea503d33aa9"
            }
          },
          "metadata": {}
        },
        {
          "output_type": "display_data",
          "data": {
            "text/plain": [
              "Generating validation examples...:   0%|          | 0/1193 [00:00<?, ? examples/s]"
            ],
            "application/vnd.jupyter.widget-view+json": {
              "version_major": 2,
              "version_minor": 0,
              "model_id": "b45d48dfd7a74b47b1fcf1070a9b0d2c"
            }
          },
          "metadata": {}
        },
        {
          "output_type": "display_data",
          "data": {
            "text/plain": [
              "Shuffling ~/tensorflow_datasets/ted_hrlr_translate/pt_to_en/1.0.0.incompleteWM7HJF/ted_hrlr_translate-validati…"
            ],
            "application/vnd.jupyter.widget-view+json": {
              "version_major": 2,
              "version_minor": 0,
              "model_id": "3f953552f5ed415a8bb01a910957f017"
            }
          },
          "metadata": {}
        },
        {
          "output_type": "display_data",
          "data": {
            "text/plain": [
              "Generating test examples...:   0%|          | 0/1803 [00:00<?, ? examples/s]"
            ],
            "application/vnd.jupyter.widget-view+json": {
              "version_major": 2,
              "version_minor": 0,
              "model_id": "5008b67f34ce4d3ca69e060be4a014d4"
            }
          },
          "metadata": {}
        },
        {
          "output_type": "display_data",
          "data": {
            "text/plain": [
              "Shuffling ~/tensorflow_datasets/ted_hrlr_translate/pt_to_en/1.0.0.incompleteWM7HJF/ted_hrlr_translate-test.tfr…"
            ],
            "application/vnd.jupyter.widget-view+json": {
              "version_major": 2,
              "version_minor": 0,
              "model_id": "ca0947f5a13243c995c88f899fcf4dab"
            }
          },
          "metadata": {}
        },
        {
          "output_type": "stream",
          "name": "stdout",
          "text": [
            "\u001b[1mDataset ted_hrlr_translate downloaded and prepared to ~/tensorflow_datasets/ted_hrlr_translate/pt_to_en/1.0.0. Subsequent calls will reuse this data.\u001b[0m\n"
          ]
        }
      ],
      "source": [
        "examples, metadata = tfds.load('ted_hrlr_translate/pt_to_en',\n",
        "                               with_info=True,\n",
        "                               as_supervised=True)\n",
        "\n",
        "train_examples, val_examples = examples['train'], examples['validation']"
      ]
    },
    {
      "cell_type": "code",
      "source": [
        "examples"
      ],
      "metadata": {
        "colab": {
          "base_uri": "https://localhost:8080/"
        },
        "id": "LWh6SRel9-5x",
        "outputId": "11eb0e39-1831-4be0-a7cc-16d3b886ab63"
      },
      "execution_count": 5,
      "outputs": [
        {
          "output_type": "execute_result",
          "data": {
            "text/plain": [
              "{Split('train'): <PrefetchDataset element_spec=(TensorSpec(shape=(), dtype=tf.string, name=None), TensorSpec(shape=(), dtype=tf.string, name=None))>,\n",
              " Split('validation'): <PrefetchDataset element_spec=(TensorSpec(shape=(), dtype=tf.string, name=None), TensorSpec(shape=(), dtype=tf.string, name=None))>,\n",
              " Split('test'): <PrefetchDataset element_spec=(TensorSpec(shape=(), dtype=tf.string, name=None), TensorSpec(shape=(), dtype=tf.string, name=None))>}"
            ]
          },
          "metadata": {},
          "execution_count": 5
        }
      ]
    },
    {
      "cell_type": "code",
      "source": [
        "metadata"
      ],
      "metadata": {
        "colab": {
          "base_uri": "https://localhost:8080/"
        },
        "id": "REN_87JN-NPw",
        "outputId": "d15f4be7-902d-4664-a1a9-539bf3be3331"
      },
      "execution_count": 6,
      "outputs": [
        {
          "output_type": "execute_result",
          "data": {
            "text/plain": [
              "tfds.core.DatasetInfo(\n",
              "    name='ted_hrlr_translate',\n",
              "    full_name='ted_hrlr_translate/pt_to_en/1.0.0',\n",
              "    description=\"\"\"\n",
              "    Data sets derived from TED talk transcripts for comparing similar language pairs\n",
              "    where one is high resource and the other is low resource.\n",
              "    \"\"\",\n",
              "    config_description=\"\"\"\n",
              "    Translation dataset from pt to en in plain text.\n",
              "    \"\"\",\n",
              "    homepage='https://github.com/neulab/word-embeddings-for-nmt',\n",
              "    data_path='~/tensorflow_datasets/ted_hrlr_translate/pt_to_en/1.0.0',\n",
              "    file_format=tfrecord,\n",
              "    download_size=124.94 MiB,\n",
              "    dataset_size=10.89 MiB,\n",
              "    features=Translation({\n",
              "        'en': Text(shape=(), dtype=tf.string),\n",
              "        'pt': Text(shape=(), dtype=tf.string),\n",
              "    }),\n",
              "    supervised_keys=('pt', 'en'),\n",
              "    disable_shuffling=False,\n",
              "    splits={\n",
              "        'test': <SplitInfo num_examples=1803, num_shards=1>,\n",
              "        'train': <SplitInfo num_examples=51785, num_shards=1>,\n",
              "        'validation': <SplitInfo num_examples=1193, num_shards=1>,\n",
              "    },\n",
              "    citation=\"\"\"@inproceedings{Ye2018WordEmbeddings,\n",
              "      author  = {Ye, Qi and Devendra, Sachan and Matthieu, Felix and Sarguna, Padmanabhan and Graham, Neubig},\n",
              "      title   = {When and Why are pre-trained word embeddings useful for Neural Machine Translation},\n",
              "      booktitle = {HLT-NAACL},\n",
              "      year    = {2018},\n",
              "      }\"\"\",\n",
              ")"
            ]
          },
          "metadata": {},
          "execution_count": 6
        }
      ]
    },
    {
      "cell_type": "code",
      "source": [
        "train_examples"
      ],
      "metadata": {
        "colab": {
          "base_uri": "https://localhost:8080/"
        },
        "id": "RP3uBOK1-OKT",
        "outputId": "8007a875-fbb5-4c09-df27-c7b9bbca21db"
      },
      "execution_count": 7,
      "outputs": [
        {
          "output_type": "execute_result",
          "data": {
            "text/plain": [
              "<PrefetchDataset element_spec=(TensorSpec(shape=(), dtype=tf.string, name=None), TensorSpec(shape=(), dtype=tf.string, name=None))>"
            ]
          },
          "metadata": {},
          "execution_count": 7
        }
      ]
    },
    {
      "cell_type": "code",
      "source": [
        "val_examples"
      ],
      "metadata": {
        "colab": {
          "base_uri": "https://localhost:8080/"
        },
        "id": "yhIbXzjx-VzO",
        "outputId": "4b6c0e8f-0d86-4196-809e-35ccdb5705d6"
      },
      "execution_count": 8,
      "outputs": [
        {
          "output_type": "execute_result",
          "data": {
            "text/plain": [
              "<PrefetchDataset element_spec=(TensorSpec(shape=(), dtype=tf.string, name=None), TensorSpec(shape=(), dtype=tf.string, name=None))>"
            ]
          },
          "metadata": {},
          "execution_count": 8
        }
      ]
    },
    {
      "cell_type": "code",
      "source": [
        "eng_examples = []\n",
        "portugese_examples = []\n",
        "\n",
        "for portugese_ex,eng_ex in train_examples.batch(3):\n",
        "  eng_examples = eng_ex\n",
        "  portugese_examples = portugese_ex\n",
        "  \n",
        "  print(f\"Portuguese samples in a batch \\n {portugese_ex}\")\n",
        "  \n",
        "  print(\"\\n\\n\")\n",
        "  print(f\"Enghlish samples in a batcb \\n {eng_ex}\")\n",
        "  break\n",
        "\n"
      ],
      "metadata": {
        "colab": {
          "base_uri": "https://localhost:8080/"
        },
        "id": "lEVB8BfM-Xt1",
        "outputId": "6e168d54-fdb0-4edc-f39b-208357d42626"
      },
      "execution_count": 9,
      "outputs": [
        {
          "output_type": "stream",
          "name": "stdout",
          "text": [
            "Portuguese samples in a batch \n",
            " [b'e quando melhoramos a procura , tiramos a \\xc3\\xbanica vantagem da impress\\xc3\\xa3o , que \\xc3\\xa9 a serendipidade .'\n",
            " b'mas e se estes fatores fossem ativos ?'\n",
            " b'mas eles n\\xc3\\xa3o tinham a curiosidade de me testar .']\n",
            "\n",
            "\n",
            "\n",
            "Enghlish samples in a batcb \n",
            " [b'and when you improve searchability , you actually take away the one advantage of print , which is serendipity .'\n",
            " b'but what if it were active ?' b\"but they did n't test for curiosity .\"]\n"
          ]
        }
      ]
    },
    {
      "cell_type": "markdown",
      "source": [
        "Set up the tokenizer\n",
        "\n",
        "Tokenization is the process of breaking up a sentence into smaller meaningful entities for the model:\n",
        "\n",
        "Here we use the bert tokenizer optimized for the current dataset \n",
        "BERT uses what is called a WordPiece tokenizer. It works by splitting words either into the full forms (e.g., one word becomes one token) or into word pieces — where one word can be broken into multiple tokens.\n",
        "\n",
        "\n",
        "Ex : surfing = [surf,###ing]"
      ],
      "metadata": {
        "id": "o4hBnU8-_dmQ"
      }
    },
    {
      "cell_type": "markdown",
      "source": [
        "Download and extract the model which will be used to tokenize"
      ],
      "metadata": {
        "id": "Hh1HwBy1O6Dx"
      }
    },
    {
      "cell_type": "code",
      "source": [
        "model_name = 'ted_hrlr_translate_pt_en_converter'\n",
        "tf.keras.utils.get_file(\n",
        "    f'{model_name}.zip',\n",
        "    f'https://storage.googleapis.com/download.tensorflow.org/models/{model_name}.zip',\n",
        "    cache_dir='.', cache_subdir='', extract=True\n",
        ")"
      ],
      "metadata": {
        "colab": {
          "base_uri": "https://localhost:8080/",
          "height": 70
        },
        "id": "zZ3NA42s_NFX",
        "outputId": "0443eea6-eeb4-48d9-f69f-f8147bd6173d"
      },
      "execution_count": 10,
      "outputs": [
        {
          "output_type": "stream",
          "name": "stdout",
          "text": [
            "Downloading data from https://storage.googleapis.com/download.tensorflow.org/models/ted_hrlr_translate_pt_en_converter.zip\n",
            "184801/184801 [==============================] - 0s 0us/step\n"
          ]
        },
        {
          "output_type": "execute_result",
          "data": {
            "text/plain": [
              "'./ted_hrlr_translate_pt_en_converter.zip'"
            ],
            "application/vnd.google.colaboratory.intrinsic+json": {
              "type": "string"
            }
          },
          "metadata": {},
          "execution_count": 10
        }
      ]
    },
    {
      "cell_type": "code",
      "source": [
        "tokenizers = tf.saved_model.load(model_name)"
      ],
      "metadata": {
        "id": "jC_ltfRiO_rB"
      },
      "execution_count": 11,
      "outputs": []
    },
    {
      "cell_type": "code",
      "source": [
        "dir(tokenizers)"
      ],
      "metadata": {
        "colab": {
          "base_uri": "https://localhost:8080/"
        },
        "id": "s-v4fRQjRsaJ",
        "outputId": "1fce7fe6-8bdc-41f8-c745-38fb0e926107"
      },
      "execution_count": 12,
      "outputs": [
        {
          "output_type": "execute_result",
          "data": {
            "text/plain": [
              "['__class__',\n",
              " '__delattr__',\n",
              " '__dict__',\n",
              " '__dir__',\n",
              " '__doc__',\n",
              " '__eq__',\n",
              " '__format__',\n",
              " '__ge__',\n",
              " '__getattribute__',\n",
              " '__gt__',\n",
              " '__hash__',\n",
              " '__init__',\n",
              " '__init_subclass__',\n",
              " '__le__',\n",
              " '__lt__',\n",
              " '__module__',\n",
              " '__ne__',\n",
              " '__new__',\n",
              " '__reduce__',\n",
              " '__reduce_ex__',\n",
              " '__repr__',\n",
              " '__setattr__',\n",
              " '__sizeof__',\n",
              " '__str__',\n",
              " '__subclasshook__',\n",
              " '__weakref__',\n",
              " '_add_trackable_child',\n",
              " '_add_variable_with_custom_getter',\n",
              " '_checkpoint_dependencies',\n",
              " '_deferred_dependencies',\n",
              " '_delete_tracking',\n",
              " '_deserialization_dependencies',\n",
              " '_deserialize_from_proto',\n",
              " '_export_to_saved_model_graph',\n",
              " '_gather_saveables_for_checkpoint',\n",
              " '_handle_deferred_dependencies',\n",
              " '_lookup_dependency',\n",
              " '_map_resources',\n",
              " '_maybe_initialize_trackable',\n",
              " '_name_based_attribute_restore',\n",
              " '_name_based_restores',\n",
              " '_no_dependency',\n",
              " '_object_identifier',\n",
              " '_preload_simple_restoration',\n",
              " '_restore_from_tensors',\n",
              " '_self_name_based_restores',\n",
              " '_self_saveable_object_factories',\n",
              " '_self_setattr_tracking',\n",
              " '_self_unconditional_checkpoint_dependencies',\n",
              " '_self_unconditional_deferred_dependencies',\n",
              " '_self_unconditional_dependency_names',\n",
              " '_self_update_uid',\n",
              " '_serialize_to_proto',\n",
              " '_serialize_to_tensors',\n",
              " '_setattr_tracking',\n",
              " '_tf_api_names',\n",
              " '_tf_api_names_v1',\n",
              " '_track_trackable',\n",
              " '_trackable_children',\n",
              " '_unconditional_checkpoint_dependencies',\n",
              " '_unconditional_dependency_names',\n",
              " '_update_uid',\n",
              " 'en',\n",
              " 'graph_debug_info',\n",
              " 'pt',\n",
              " 'signatures',\n",
              " 'tensorflow_git_version',\n",
              " 'tensorflow_version']"
            ]
          },
          "metadata": {},
          "execution_count": 12
        }
      ]
    },
    {
      "cell_type": "code",
      "source": [
        "[item for item in dir(tokenizers.en) if not item.startswith('_')]"
      ],
      "metadata": {
        "colab": {
          "base_uri": "https://localhost:8080/"
        },
        "id": "gsa7DZeGRf4o",
        "outputId": "1f57bdd7-421a-4090-b33f-6bf9f32bfab3"
      },
      "execution_count": 13,
      "outputs": [
        {
          "output_type": "execute_result",
          "data": {
            "text/plain": [
              "['detokenize',\n",
              " 'get_reserved_tokens',\n",
              " 'get_vocab_path',\n",
              " 'get_vocab_size',\n",
              " 'lookup',\n",
              " 'tokenize',\n",
              " 'tokenizer',\n",
              " 'vocab']"
            ]
          },
          "metadata": {},
          "execution_count": 13
        }
      ]
    },
    {
      "cell_type": "code",
      "source": [
        "eng_tokenizer = tokenizers.en.tokenize"
      ],
      "metadata": {
        "id": "zaIvoa-cReUj"
      },
      "execution_count": 14,
      "outputs": []
    },
    {
      "cell_type": "code",
      "source": [
        "prt_tokenizer = tokenizers.pt.tokenize"
      ],
      "metadata": {
        "id": "_OmdFSDNRwco"
      },
      "execution_count": 15,
      "outputs": []
    },
    {
      "cell_type": "markdown",
      "source": [
        "Visualizing the tokenizer"
      ],
      "metadata": {
        "id": "Dxr9krFNRFx_"
      }
    },
    {
      "cell_type": "code",
      "source": [
        "encoded_eng = eng_tokenizer(eng_examples)"
      ],
      "metadata": {
        "id": "UIN0SdxeQM1B"
      },
      "execution_count": 16,
      "outputs": []
    },
    {
      "cell_type": "code",
      "source": [
        "encoded_eng"
      ],
      "metadata": {
        "colab": {
          "base_uri": "https://localhost:8080/"
        },
        "id": "qj78l52MSAza",
        "outputId": "8898f08b-fa41-4074-d47f-50d0f2f674bc"
      },
      "execution_count": 17,
      "outputs": [
        {
          "output_type": "execute_result",
          "data": {
            "text/plain": [
              "<tf.RaggedTensor [[2, 72, 117, 79, 1259, 1491, 2362, 13, 79, 150, 184, 311, 71, 103, 2308,\n",
              "  74, 2679, 13, 148, 80, 55, 4840, 1434, 2423, 540, 15, 3]               ,\n",
              " [2, 87, 90, 107, 76, 129, 1852, 30, 3],\n",
              " [2, 87, 83, 149, 50, 9, 56, 664, 85, 2512, 15, 3]]>"
            ]
          },
          "metadata": {},
          "execution_count": 17
        }
      ]
    },
    {
      "cell_type": "markdown",
      "source": [
        "the detokenize converts the padded token ids to their english readbale form"
      ],
      "metadata": {
        "id": "aAeSEY9iSUHX"
      }
    },
    {
      "cell_type": "code",
      "source": [
        "decoded_eng = tokenizers.en.detokenize(encoded_eng)"
      ],
      "metadata": {
        "id": "INerVntYSOti"
      },
      "execution_count": 18,
      "outputs": []
    },
    {
      "cell_type": "code",
      "source": [
        "decoded_eng"
      ],
      "metadata": {
        "colab": {
          "base_uri": "https://localhost:8080/"
        },
        "id": "74brdzzYSmkz",
        "outputId": "f5366ab0-55b3-49c0-d210-1a3a7dd66560"
      },
      "execution_count": 19,
      "outputs": [
        {
          "output_type": "execute_result",
          "data": {
            "text/plain": [
              "<tf.Tensor: shape=(3,), dtype=string, numpy=\n",
              "array([b'and when you improve searchability , you actually take away the one advantage of print , which is serendipity .',\n",
              "       b'but what if it were active ?',\n",
              "       b\"but they did n ' t test for curiosity .\"], dtype=object)>"
            ]
          },
          "metadata": {},
          "execution_count": 19
        }
      ]
    },
    {
      "cell_type": "code",
      "source": [
        "print(\"Original sentences\")\n",
        "print(eng_examples)"
      ],
      "metadata": {
        "colab": {
          "base_uri": "https://localhost:8080/"
        },
        "id": "G4zhxavXSoBC",
        "outputId": "195cb879-b3f7-4f38-ab27-4f52f461c073"
      },
      "execution_count": 20,
      "outputs": [
        {
          "output_type": "stream",
          "name": "stdout",
          "text": [
            "Original sentences\n",
            "tf.Tensor(\n",
            "[b'and when you improve searchability , you actually take away the one advantage of print , which is serendipity .'\n",
            " b'but what if it were active ?' b\"but they did n't test for curiosity .\"], shape=(3,), dtype=string)\n"
          ]
        }
      ]
    },
    {
      "cell_type": "markdown",
      "source": [
        "use of lookup : Converts token ids to token text"
      ],
      "metadata": {
        "id": "zNENaYEZS9eB"
      }
    },
    {
      "cell_type": "code",
      "source": [
        "print('> This is the text split into tokens:')\n",
        "tokens = tokenizers.en.lookup(encoded_eng)\n",
        "tokens"
      ],
      "metadata": {
        "colab": {
          "base_uri": "https://localhost:8080/"
        },
        "id": "KLcYzoPPSxGZ",
        "outputId": "39b7d23b-af7c-4b61-ef30-2c00c0b689d8"
      },
      "execution_count": 21,
      "outputs": [
        {
          "output_type": "stream",
          "name": "stdout",
          "text": [
            "> This is the text split into tokens:\n"
          ]
        },
        {
          "output_type": "execute_result",
          "data": {
            "text/plain": [
              "<tf.RaggedTensor [[b'[START]', b'and', b'when', b'you', b'improve', b'search', b'##ability',\n",
              "  b',', b'you', b'actually', b'take', b'away', b'the', b'one', b'advantage',\n",
              "  b'of', b'print', b',', b'which', b'is', b's', b'##ere', b'##nd', b'##ip',\n",
              "  b'##ity', b'.', b'[END]']                                                 ,\n",
              " [b'[START]', b'but', b'what', b'if', b'it', b'were', b'active', b'?',\n",
              "  b'[END]']                                                           ,\n",
              " [b'[START]', b'but', b'they', b'did', b'n', b\"'\", b't', b'test', b'for',\n",
              "  b'curiosity', b'.', b'[END]']                                          ]>"
            ]
          },
          "metadata": {},
          "execution_count": 21
        }
      ]
    },
    {
      "cell_type": "markdown",
      "source": [
        "Finding the maximum number of tokens"
      ],
      "metadata": {
        "id": "zCJU55V5TnTw"
      }
    },
    {
      "cell_type": "code",
      "source": [
        "lengths = []\n",
        "\n",
        "for pt_ex,eng_ex in train_examples.batch(1024):\n",
        "  \n",
        "  pt_tokens = tokenizers.pt.tokenize(pt_ex) # this will return a list of list of token ids. we are passing 1024 pt data instances and each of which will result an individual list of token ids\n",
        "  \n",
        "  print(f\"Type of the tokenizer  {type(pt_tokens)}\")\n",
        "\n",
        "  break"
      ],
      "metadata": {
        "colab": {
          "base_uri": "https://localhost:8080/"
        },
        "id": "-w6cALx9TDVG",
        "outputId": "5c5734db-2d89-4e46-e5ab-c8b77c424840"
      },
      "execution_count": 22,
      "outputs": [
        {
          "output_type": "stream",
          "name": "stdout",
          "text": [
            "Type of the tokenizer  <class 'tensorflow.python.ops.ragged.ragged_tensor.RaggedTensor'>\n"
          ]
        }
      ]
    },
    {
      "cell_type": "markdown",
      "source": [
        "tensorflow ragged tensor : A RaggedTensor is a tensor with one or more ragged dimensions, which are dimensions whose slices may have different lengths. \n",
        "\n",
        "Dimensions "
      ],
      "metadata": {
        "id": "smb7sKaGU-dl"
      }
    },
    {
      "cell_type": "code",
      "source": [
        "lengths = []\n",
        "\n",
        "for pt_examples, en_examples in train_examples.batch(1024):\n",
        "  pt_tokens = tokenizers.en.tokenize(pt_examples)\n",
        "  lengths.append(pt_tokens.row_lengths())\n",
        "\n",
        "  en_tokens = tokenizers.en.tokenize(en_examples)\n",
        "  lengths.append(en_tokens.row_lengths())\n",
        "  print('.', end='', flush=True)"
      ],
      "metadata": {
        "colab": {
          "base_uri": "https://localhost:8080/"
        },
        "id": "pwficidrUgCD",
        "outputId": "faa4df69-b7b5-4773-a799-10f89d131cd1"
      },
      "execution_count": 23,
      "outputs": [
        {
          "output_type": "stream",
          "name": "stdout",
          "text": [
            "..................................................."
          ]
        }
      ]
    },
    {
      "cell_type": "code",
      "source": [
        "all_lengths = np.concatenate(lengths)\n",
        "\n",
        "plt.hist(all_lengths, np.linspace(0, 500, 101))\n",
        "\n",
        "plt.ylim(plt.ylim())\n",
        "\n",
        "max_length = max(all_lengths)\n",
        "\n",
        "plt.plot([max_length, max_length], plt.ylim())\n",
        "\n",
        "plt.title(f'Maximum tokens per example: {max_length}');"
      ],
      "metadata": {
        "colab": {
          "base_uri": "https://localhost:8080/",
          "height": 281
        },
        "id": "-YZx_N6cVWVV",
        "outputId": "8853a4bf-7461-4d2c-81b9-be7102962c0c"
      },
      "execution_count": 24,
      "outputs": [
        {
          "output_type": "display_data",
          "data": {
            "text/plain": [
              "<Figure size 432x288 with 1 Axes>"
            ],
            "image/png": "[encoded data removed]"
          },
          "metadata": {
            "needs_background": "light"
          }
        }
      ]
    },
    {
      "cell_type": "markdown",
      "source": [
        "### Set up a data pipeline\n",
        "\n",
        "1) It tokenizes each batch of text into ragged batches.\n",
        "\n",
        "2) It trims each to be no longer than MAX_TOKENS\n",
        "\n",
        "3) Splits the english tokens into inputs and labels.So that the label at each location is the id of the next token.\n",
        "\n",
        "4) Converts the raggedTensor to padded dense tensor\n",
        "\n",
        "5) Return an (inputs,labels) pair"
      ],
      "metadata": {
        "id": "C3jh5gJrVfgI"
      }
    },
    {
      "cell_type": "code",
      "source": [
        "MAX_TOKENS=128\n",
        "\n",
        "def prepare_batch(pt, en):\n",
        "    pt = tokenizers.pt.tokenize(pt)      # Output is ragged.\n",
        "    pt = pt[:, :MAX_TOKENS]    # Trim to MAX_TOKENS.\n",
        "    pt = pt.to_tensor()  # Convert to 0-padded dense Tensor\n",
        "\n",
        "    en = tokenizers.en.tokenize(en)\n",
        "    en = en[:, :(MAX_TOKENS+1)]\n",
        "    en_inputs = en[:, :-1].to_tensor()  # Drop the [END] tokens\n",
        "    en_labels = en[:, 1:].to_tensor()   # Drop the [START] tokens\n",
        "\n",
        "    return (pt, en_inputs), en_labels"
      ],
      "metadata": {
        "id": "lZAg38nnVamK"
      },
      "execution_count": 25,
      "outputs": []
    },
    {
      "cell_type": "code",
      "source": [
        "BUFFER_SIZE = 20000\n",
        "BATCH_SIZE = 64"
      ],
      "metadata": {
        "id": "0cDShTiOWdDb"
      },
      "execution_count": 26,
      "outputs": []
    },
    {
      "cell_type": "code",
      "source": [
        "def make_batches(ds):\n",
        "  return (\n",
        "      ds\n",
        "      .shuffle(BUFFER_SIZE)\n",
        "      .batch(BATCH_SIZE)\n",
        "      .map(prepare_batch, tf.data.AUTOTUNE)\n",
        "      .prefetch(buffer_size=tf.data.AUTOTUNE))\n"
      ],
      "metadata": {
        "id": "xxNBN2o0Xrlk"
      },
      "execution_count": 27,
      "outputs": []
    },
    {
      "cell_type": "code",
      "source": [
        "\n",
        "# Create training and validation set batches.\n",
        "train_batches = make_batches(train_examples)\n",
        "val_batches = make_batches(val_examples)"
      ],
      "metadata": {
        "id": "3CIwbp7uXtZU"
      },
      "execution_count": 28,
      "outputs": []
    },
    {
      "cell_type": "code",
      "source": [
        "for (pt, en), en_labels in train_batches.take(1):\n",
        "  print(pt.shape)\n",
        "  print(en.shape)"
      ],
      "metadata": {
        "colab": {
          "base_uri": "https://localhost:8080/"
        },
        "id": "g2Sq1y9HXvBm",
        "outputId": "d5ac5b38-f5a1-44ca-8df9-bb28d56195d3"
      },
      "execution_count": 29,
      "outputs": [
        {
          "output_type": "stream",
          "name": "stdout",
          "text": [
            "(64, 65)\n",
            "(64, 70)\n"
          ]
        }
      ]
    },
    {
      "cell_type": "markdown",
      "source": [
        "### Defning the components of the main model\n",
        "\n",
        "![Enc_dec_architecture.png](data:image/png;base64,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)"
      ],
      "metadata": {
        "id": "0Ahu7o-cX0eI"
      }
    },
    {
      "cell_type": "markdown",
      "source": [
        "Define the Embedding and Positional encoding"
      ],
      "metadata": {
        "id": "w5M0k3RpaWMm"
      }
    },
    {
      "cell_type": "code",
      "source": [
        "def positional_encoding(length, depth):\n",
        "  depth = depth/2\n",
        "\n",
        "  positions = np.arange(length)[:, np.newaxis]     # (seq, 1)\n",
        "  depths = np.arange(depth)[np.newaxis, :]/depth   # (1, depth)\n",
        "\n",
        "  angle_rates = 1 / (10000**depths)         # (1, depth)\n",
        "  angle_rads = positions * angle_rates      # (pos, depth)\n",
        "\n",
        "  pos_encoding = np.concatenate(\n",
        "      [np.sin(angle_rads), np.cos(angle_rads)],\n",
        "      axis=-1) \n",
        "\n",
        "  return tf.cast(pos_encoding, dtype=tf.float32)"
      ],
      "metadata": {
        "id": "BBXnTOTEXxGN"
      },
      "execution_count": 30,
      "outputs": []
    },
    {
      "cell_type": "code",
      "source": [
        "class PositionalEmbedding(tf.keras.layers.Layer):\n",
        "  def __init__(self, vocab_size, d_model):\n",
        "    super().__init__()\n",
        "    self.d_model = d_model\n",
        "    self.embedding = tf.keras.layers.Embedding(vocab_size, d_model, mask_zero=True) \n",
        "    self.pos_encoding = positional_encoding(length=2048, depth=d_model)\n",
        "\n",
        "  def compute_mask(self, *args, **kwargs):\n",
        "    return self.embedding.compute_mask(*args, **kwargs)\n",
        "\n",
        "  def call(self, x):\n",
        "    length = tf.shape(x)[1]\n",
        "    x = self.embedding(x)\n",
        "    x *= tf.math.sqrt(tf.cast(self.d_model, tf.float32))\n",
        "    x = x + self.pos_encoding[tf.newaxis, :length, :]\n",
        "    return x"
      ],
      "metadata": {
        "id": "GEDvQrK7aXys"
      },
      "execution_count": 31,
      "outputs": []
    },
    {
      "cell_type": "code",
      "source": [
        "embed_pt = PositionalEmbedding(vocab_size=tokenizers.pt.get_vocab_size(), d_model=512)\n",
        "embed_en = PositionalEmbedding(vocab_size=tokenizers.en.get_vocab_size(), d_model=512)\n",
        "\n",
        "pt_emb = embed_pt(pt)\n",
        "en_emb = embed_en(en)"
      ],
      "metadata": {
        "id": "7kS9Dt1xaaO5"
      },
      "execution_count": 32,
      "outputs": []
    },
    {
      "cell_type": "markdown",
      "source": [
        "Defning the feed forward network"
      ],
      "metadata": {
        "id": "1la8d94BanZY"
      }
    },
    {
      "cell_type": "code",
      "source": [
        "def point_wise_feed_forward_network(\n",
        "  d_model, # Input/output dimensionality.\n",
        "  dff # Inner-layer dimensionality.\n",
        "  ):\n",
        "\n",
        "  return tf.keras.Sequential([\n",
        "      tf.keras.layers.Dense(dff, activation='relu'),  # Shape `(batch_size, seq_len, dff)`.\n",
        "      tf.keras.layers.Dense(d_model)  # Shape `(batch_size, seq_len, d_model)`.\n",
        "  ])"
      ],
      "metadata": {
        "id": "56IBZ7DDajDG"
      },
      "execution_count": 33,
      "outputs": []
    },
    {
      "cell_type": "markdown",
      "source": [
        "## Define the encoder layer"
      ],
      "metadata": {
        "id": "losP3f5Datz3"
      }
    },
    {
      "cell_type": "code",
      "source": [
        "class EncoderLayer(tf.keras.layers.Layer):\n",
        "\n",
        "  def __init__(self,*,\n",
        "               d_model, # Input/output dimensionality.\n",
        "               num_attention_heads,\n",
        "               dff, # Inner-layer dimensionality.\n",
        "               dropout_rate=0.1\n",
        "               ):\n",
        "  \n",
        "    super().__init__()\n",
        "\n",
        "\n",
        "    # Multi-head self-attention.\n",
        "  \n",
        "    self.mha = tf.keras.layers.MultiHeadAttention(\n",
        "        num_heads=num_attention_heads,\n",
        "        key_dim=d_model, # Size of each attention head for query Q and key K.\n",
        "        dropout=dropout_rate,\n",
        "        )\n",
        "  \n",
        "    # Point-wise feed-forward network.\n",
        "    self.ffn = point_wise_feed_forward_network(d_model, dff)\n",
        "\n",
        "    # Layer normalization.\n",
        "    self.layernorm1 = tf.keras.layers.LayerNormalization(epsilon=1e-6)\n",
        "    self.layernorm2 = tf.keras.layers.LayerNormalization(epsilon=1e-6)\n",
        "\n",
        "    # Dropout for the point-wise feed-forward network.\n",
        "    self.dropout1 = tf.keras.layers.Dropout(dropout_rate)\n",
        "\n",
        "  \n",
        "  def call(self, x, training, mask):\n",
        "\n",
        "    # A boolean mask.\n",
        "  \n",
        "    if mask is not None:\n",
        "      mask1 = mask[:, :, None]\n",
        "      mask2 = mask[:, None, :]\n",
        "      attention_mask = mask1 & mask2\n",
        "  \n",
        "    else:\n",
        "      attention_mask = None\n",
        "\n",
        "    # Multi-head self-attention output (`tf.keras.layers.MultiHeadAttention `).\n",
        "  \n",
        "    attn_output = self.mha(\n",
        "        query=x,  # Query Q tensor.\n",
        "        value=x,  # Value V tensor.\n",
        "        key=x,  # Key K tensor.\n",
        "        attention_mask=attention_mask, # A boolean mask that prevents attention to certain positions.\n",
        "        training=training, # A boolean indicating whether the layer should behave in training mode.\n",
        "        )\n",
        "\n",
        "    # Multi-head self-attention output after layer normalization and a residual/skip connection.\n",
        "    out1 = self.layernorm1(x + attn_output)  # Shape `(batch_size, input_seq_len, d_model)`\n",
        "\n",
        "    # Point-wise feed-forward network output.\n",
        "    ffn_output = self.ffn(out1)  # Shape `(batch_size, input_seq_len, d_model)`\n",
        "    ffn_output = self.dropout1(ffn_output, training=training)\n",
        "  \n",
        "    # Point-wise feed-forward network output after layer normalization and a residual skip connection.\n",
        "    out2 = self.layernorm2(out1 + ffn_output)  # Shape `(batch_size, input_seq_len, d_model)`.\n",
        "\n",
        "    return out2"
      ],
      "metadata": {
        "id": "SrFZGcvxaqhN"
      },
      "execution_count": 34,
      "outputs": []
    },
    {
      "cell_type": "markdown",
      "source": [
        "Define the encoder"
      ],
      "metadata": {
        "id": "Gi4zWjghcZ4v"
      }
    },
    {
      "cell_type": "code",
      "source": [
        "class Encoder(tf.keras.layers.Layer):\n",
        "  def __init__(self,\n",
        "               *,\n",
        "               num_layers,\n",
        "               d_model, # Input/output dimensionality.\n",
        "               num_attention_heads,\n",
        "               dff, # Inner-layer dimensionality.\n",
        "               input_vocab_size, # Input (Portuguese) vocabulary size.\n",
        "               dropout_rate=0.1\n",
        "               ):\n",
        "    super().__init__()\n",
        "\n",
        "    self.d_model = d_model\n",
        "    self.num_layers = num_layers\n",
        "\n",
        "    # Embeddings + Positional encoding\n",
        "    self.pos_embedding = PositionalEmbedding(input_vocab_size, d_model)\n",
        "\n",
        "    # Encoder layers.\n",
        "    self.enc_layers = [\n",
        "        EncoderLayer(\n",
        "          d_model=d_model,\n",
        "          num_attention_heads=num_attention_heads,\n",
        "          dff=dff,\n",
        "          dropout_rate=dropout_rate)\n",
        "        for _ in range(num_layers)]\n",
        "    # Dropout.\n",
        "    self.dropout = tf.keras.layers.Dropout(dropout_rate)\n",
        "\n",
        "  # Masking.\n",
        "  def compute_mask(self, x, previous_mask=None):\n",
        "    return self.pos_embedding.compute_mask(x, previous_mask)\n",
        "\n",
        "  def call(self, x, training):\n",
        "\n",
        "    seq_len = tf.shape(x)[1]\n",
        "\n",
        "    # Sum up embeddings and positional encoding.\n",
        "    mask = self.compute_mask(x)\n",
        "    x = self.pos_embedding(x)  # Shape `(batch_size, input_seq_len, d_model)`.\n",
        "    # Add dropout.\n",
        "    x = self.dropout(x, training=training)\n",
        "\n",
        "    # N encoder layers.\n",
        "    for i in range(self.num_layers):\n",
        "      x = self.enc_layers[i](x, training, mask)\n",
        "\n",
        "    return x  # Shape `(batch_size, input_seq_len, d_model)`."
      ],
      "metadata": {
        "id": "fgiY8sb0bqRv"
      },
      "execution_count": 35,
      "outputs": []
    },
    {
      "cell_type": "markdown",
      "source": [
        "### Define the decoder layer"
      ],
      "metadata": {
        "id": "Z0wuAxCEcpam"
      }
    },
    {
      "cell_type": "code",
      "source": [
        "class DecoderLayer(tf.keras.layers.Layer):\n",
        "  def __init__(self,\n",
        "               *,\n",
        "               d_model, # Input/output dimensionality.\n",
        "               num_attention_heads,\n",
        "               dff, # Inner-layer dimensionality.\n",
        "               dropout_rate=0.1\n",
        "               ):\n",
        "    super().__init__()\n",
        "\n",
        "    # Masked multi-head self-attention.\n",
        "    self.mha_masked = tf.keras.layers.MultiHeadAttention(\n",
        "        num_heads=num_attention_heads,\n",
        "        key_dim=d_model, # Size of each attention head for query Q and key K.\n",
        "        dropout=dropout_rate\n",
        "    )\n",
        "    # Multi-head cross-attention.\n",
        "    self.mha_cross = tf.keras.layers.MultiHeadAttention(\n",
        "        num_heads=num_attention_heads,\n",
        "        key_dim=d_model, # Size of each attention head for query Q and key K.\n",
        "        dropout=dropout_rate\n",
        "    )\n",
        "\n",
        "    # Point-wise feed-forward network.\n",
        "    self.ffn = point_wise_feed_forward_network(d_model, dff)\n",
        "\n",
        "    # Layer normalization.\n",
        "    self.layernorm1 = tf.keras.layers.LayerNormalization(epsilon=1e-6)\n",
        "    self.layernorm2 = tf.keras.layers.LayerNormalization(epsilon=1e-6)\n",
        "    self.layernorm3 = tf.keras.layers.LayerNormalization(epsilon=1e-6)\n",
        "\n",
        "    # Dropout for the point-wise feed-forward network.\n",
        "    self.dropout1 = tf.keras.layers.Dropout(dropout_rate)\n",
        "\n",
        "  def call(self, x, mask, enc_output, enc_mask, training):\n",
        "    # The encoder output shape is `(batch_size, input_seq_len, d_model)`.\n",
        "\n",
        "    # A boolean mask.\n",
        "    self_attention_mask = None\n",
        "    if mask is not None:\n",
        "      mask1 = mask[:, :, None]\n",
        "      mask2 = mask[:, None, :]\n",
        "      self_attention_mask = mask1 & mask2\n",
        "\n",
        "    # Masked multi-head self-attention output (`tf.keras.layers.MultiHeadAttention`).\n",
        "    attn_masked, attn_weights_masked = self.mha_masked(\n",
        "        query=x,\n",
        "        value=x,\n",
        "        key=x,\n",
        "        attention_mask=self_attention_mask,  # A boolean mask that prevents attention to certain positions.\n",
        "        use_causal_mask=True,  # A boolean to indicate whether to apply a causal mask to prevent tokens from attending to future tokens.\n",
        "        return_attention_scores=True,  # Shape `(batch_size, target_seq_len, d_model)`.\n",
        "        training=training  # A boolean indicating whether the layer should behave in training mode.\n",
        "        )\n",
        "\n",
        "    # Masked multi-head self-attention output after layer normalization and a residual/skip connection.\n",
        "    out1 = self.layernorm1(attn_masked + x)\n",
        "\n",
        "    # A boolean mask.\n",
        "    attention_mask = None\n",
        "    if mask is not None and enc_mask is not None:\n",
        "      mask1 = mask[:, :, None]\n",
        "      mask2 = enc_mask[:, None, :]\n",
        "      attention_mask = mask1 & mask2\n",
        "\n",
        "    # Multi-head cross-attention output (`tf.keras.layers.MultiHeadAttention `).\n",
        "    attn_cross, attn_weights_cross = self.mha_cross(\n",
        "        query=out1,\n",
        "        value=enc_output,\n",
        "        key=enc_output,\n",
        "        attention_mask=attention_mask,  # A boolean mask that prevents attention to certain positions.\n",
        "        return_attention_scores=True,  # Shape `(batch_size, target_seq_len, d_model)`.\n",
        "        training=training  # A boolean indicating whether the layer should behave in training mode.\n",
        "    )\n",
        "\n",
        "    # Multi-head cross-attention output after layer normalization and a residual/skip connection.\n",
        "    out2 = self.layernorm2(attn_cross + out1)  # (batch_size, target_seq_len, d_model)\n",
        "\n",
        "    # Point-wise feed-forward network output.\n",
        "    ffn_output = self.ffn(out2)  # Shape `(batch_size, target_seq_len, d_model)`.\n",
        "    ffn_output = self.dropout1(ffn_output, training=training)\n",
        "    out3 = self.layernorm3(ffn_output + out2)  # Shape `(batch_size, target_seq_len, d_model)`.\n",
        "\n",
        "    return out3, attn_weights_masked, attn_weights_cross"
      ],
      "metadata": {
        "id": "vV3UVCUBcegT"
      },
      "execution_count": 36,
      "outputs": []
    },
    {
      "cell_type": "markdown",
      "source": [
        "## Define the decoder"
      ],
      "metadata": {
        "id": "aw52l3lBc2oP"
      }
    },
    {
      "cell_type": "code",
      "source": [
        "class Decoder(tf.keras.layers.Layer):\n",
        "  def __init__(self,\n",
        "               *,\n",
        "               num_layers,\n",
        "               d_model, # Input/output dimensionality.\n",
        "               num_attention_heads,\n",
        "               dff, # Inner-layer dimensionality.\n",
        "               target_vocab_size,\n",
        "               dropout_rate=0.1\n",
        "               ):\n",
        "    super().__init__()\n",
        "\n",
        "    self.d_model = d_model\n",
        "    self.num_layers = num_layers\n",
        "\n",
        "    self.pos_embedding = PositionalEmbedding(target_vocab_size, d_model)\n",
        "\n",
        "    self.dec_layers = [\n",
        "        DecoderLayer(\n",
        "          d_model=d_model,\n",
        "          num_attention_heads=num_attention_heads,\n",
        "          dff=dff,\n",
        "          dropout_rate=dropout_rate)\n",
        "        for _ in range(num_layers)\n",
        "    ]\n",
        "    self.dropout = tf.keras.layers.Dropout(dropout_rate)\n",
        "\n",
        "  def call(self, x, enc_output, enc_mask, training):\n",
        "    attention_weights = {}\n",
        "\n",
        "    mask = self.pos_embedding.compute_mask(x)\n",
        "    x = self.pos_embedding(x)  # Shape: `(batch_size, target_seq_len, d_model)`.\n",
        "\n",
        "    x = self.dropout(x, training=training)\n",
        "\n",
        "    for i in range(self.num_layers):\n",
        "      x, block1, block2  = self.dec_layers[i](x, mask, enc_output, enc_mask, training)\n",
        "\n",
        "      attention_weights[f'decoder_layer{i+1}_block1'] = block1\n",
        "      attention_weights[f'decoder_layer{i+1}_block2'] = block2\n",
        "\n",
        "    # The shape of x is `(batch_size, target_seq_len, d_model)`.\n",
        "    return x, attention_weights"
      ],
      "metadata": {
        "id": "E_mmGpu2c0-x"
      },
      "execution_count": 37,
      "outputs": []
    },
    {
      "cell_type": "markdown",
      "source": [
        "Setting up the Transformer"
      ],
      "metadata": {
        "id": "KKm9eiI1c8qJ"
      }
    },
    {
      "cell_type": "code",
      "source": [
        "class Transformer(tf.keras.Model):\n",
        "  def __init__(self,\n",
        "               *,\n",
        "               num_layers, # Number of decoder layers.\n",
        "               d_model, # Input/output dimensionality.\n",
        "               num_attention_heads,\n",
        "               dff, # Inner-layer dimensionality.\n",
        "               input_vocab_size, # Input (Portuguese) vocabulary size.\n",
        "               target_vocab_size, # Target (English) vocabulary size.\n",
        "               dropout_rate=0.1\n",
        "               ):\n",
        "    super().__init__()\n",
        "    # The encoder.\n",
        "    self.encoder = Encoder(\n",
        "      num_layers=num_layers,\n",
        "      d_model=d_model,\n",
        "      num_attention_heads=num_attention_heads,\n",
        "      dff=dff,\n",
        "      input_vocab_size=input_vocab_size,\n",
        "      dropout_rate=dropout_rate\n",
        "      )\n",
        "\n",
        "    # The decoder.\n",
        "    self.decoder = Decoder(\n",
        "      num_layers=num_layers,\n",
        "      d_model=d_model,\n",
        "      num_attention_heads=num_attention_heads,\n",
        "      dff=dff,\n",
        "      target_vocab_size=target_vocab_size,\n",
        "      dropout_rate=dropout_rate\n",
        "      )\n",
        "\n",
        "    # The final linear layer.\n",
        "    self.final_layer = tf.keras.layers.Dense(target_vocab_size)\n",
        "\n",
        "  def call(self, inputs, training):\n",
        "    # Keras models prefer if you pass all your inputs in the first argument.\n",
        "    # Portuguese is used as the input (`inp`) language.\n",
        "    # English is the target (`tar`) language.\n",
        "    inp, tar = inputs\n",
        "\n",
        "    # The encoder output.\n",
        "    enc_output = self.encoder(inp, training)  # `(batch_size, inp_seq_len, d_model)`\n",
        "    enc_mask = self.encoder.compute_mask(inp)\n",
        "\n",
        "    # The decoder output.\n",
        "    dec_output, attention_weights = self.decoder(\n",
        "        tar, enc_output, enc_mask, training)  # `(batch_size, tar_seq_len, d_model)`\n",
        "\n",
        "    # The final linear layer output.\n",
        "    final_output = self.final_layer(dec_output)  # Shape `(batch_size, tar_seq_len, target_vocab_size)`.\n",
        "\n",
        "    # Return the final output and the attention weights.\n",
        "    return final_output, attention_weights"
      ],
      "metadata": {
        "id": "JB-H3OF3c6QL"
      },
      "execution_count": 38,
      "outputs": []
    },
    {
      "cell_type": "markdown",
      "source": [
        "Set hyper pramaeters"
      ],
      "metadata": {
        "id": "kOoxg3vwdKHv"
      }
    },
    {
      "cell_type": "code",
      "source": [
        "num_layers = 4\n",
        "d_model = 128\n",
        "dff = 512\n",
        "num_attention_heads = 8\n",
        "dropout_rate = 0.1"
      ],
      "metadata": {
        "id": "Nvy34Eq9dAR3"
      },
      "execution_count": 39,
      "outputs": []
    },
    {
      "cell_type": "markdown",
      "source": [
        "## Training"
      ],
      "metadata": {
        "id": "A2f4FhmYdQFP"
      }
    },
    {
      "cell_type": "code",
      "source": [
        "class CustomSchedule(tf.keras.optimizers.schedules.LearningRateSchedule):\n",
        "  def __init__(self, d_model, warmup_steps=4000):\n",
        "    super().__init__()\n",
        "\n",
        "    self.d_model = d_model\n",
        "    self.d_model = tf.cast(self.d_model, tf.float32)\n",
        "\n",
        "    self.warmup_steps = warmup_steps\n",
        "\n",
        "  def __call__(self, step):\n",
        "    step = tf.cast(step, dtype=tf.float32)\n",
        "    arg1 = tf.math.rsqrt(step)\n",
        "    arg2 = step * (self.warmup_steps ** -1.5)\n",
        "\n",
        "    return tf.math.rsqrt(self.d_model) * tf.math.minimum(arg1, arg2)"
      ],
      "metadata": {
        "id": "HpGlXqLhdNpL"
      },
      "execution_count": 40,
      "outputs": []
    },
    {
      "cell_type": "code",
      "source": [
        "learning_rate = CustomSchedule(d_model)\n",
        "\n",
        "optimizer = tf.keras.optimizers.Adam(learning_rate, beta_1=0.9, beta_2=0.98,\n",
        "                                     epsilon=1e-9)"
      ],
      "metadata": {
        "id": "B7IrJdU5dSjc"
      },
      "execution_count": 41,
      "outputs": []
    },
    {
      "cell_type": "markdown",
      "source": [
        "## Define the loss function"
      ],
      "metadata": {
        "id": "i6hgy9HOdYJW"
      }
    },
    {
      "cell_type": "code",
      "source": [
        "loss_object = tf.keras.losses.SparseCategoricalCrossentropy(\n",
        "    from_logits=True, reduction='none')"
      ],
      "metadata": {
        "id": "hdjGL5ITdT48"
      },
      "execution_count": 42,
      "outputs": []
    },
    {
      "cell_type": "code",
      "source": [
        "def loss_function(real, pred):\n",
        "  mask = tf.math.logical_not(tf.math.equal(real, 0))\n",
        "  loss_ = loss_object(real, pred)\n",
        "\n",
        "  mask = tf.cast(mask, dtype=loss_.dtype)\n",
        "  loss_ *= mask\n",
        "\n",
        "  return tf.reduce_sum(loss_)/tf.reduce_sum(mask)\n",
        "\n",
        "\n",
        "def accuracy_function(real, pred):\n",
        "  accuracies = tf.equal(real, tf.argmax(pred, axis=2))\n",
        "\n",
        "  mask = tf.math.logical_not(tf.math.equal(real, 0))\n",
        "  accuracies = tf.math.logical_and(mask, accuracies)\n",
        "\n",
        "  accuracies = tf.cast(accuracies, dtype=tf.float32)\n",
        "  mask = tf.cast(mask, dtype=tf.float32)\n",
        "  return tf.reduce_sum(accuracies)/tf.reduce_sum(mask)"
      ],
      "metadata": {
        "id": "aTfmzdDfdcAL"
      },
      "execution_count": 43,
      "outputs": []
    },
    {
      "cell_type": "code",
      "source": [
        "train_loss = tf.keras.metrics.Mean(name='train_loss')\n",
        "train_accuracy = tf.keras.metrics.Mean(name='train_accuracy')"
      ],
      "metadata": {
        "id": "JXZJctyIddph"
      },
      "execution_count": 44,
      "outputs": []
    },
    {
      "cell_type": "markdown",
      "source": [
        "### instantiate the transformer model"
      ],
      "metadata": {
        "id": "pbbqoi2sd9QX"
      }
    },
    {
      "cell_type": "code",
      "source": [
        "transformer = Transformer(\n",
        "    num_layers=num_layers,\n",
        "    d_model=d_model,\n",
        "    num_attention_heads=num_attention_heads,\n",
        "    dff=dff,\n",
        "    input_vocab_size=tokenizers.pt.get_vocab_size().numpy(),\n",
        "    target_vocab_size=tokenizers.en.get_vocab_size().numpy(),\n",
        "    dropout_rate=dropout_rate)"
      ],
      "metadata": {
        "id": "C2LOwWJveADf"
      },
      "execution_count": 45,
      "outputs": []
    },
    {
      "cell_type": "markdown",
      "source": [
        "#### Checkpointing"
      ],
      "metadata": {
        "id": "Vj0FgKgcds3-"
      }
    },
    {
      "cell_type": "code",
      "source": [
        "checkpoint_path = './checkpoints/train'\n",
        "\n",
        "ckpt = tf.train.Checkpoint(transformer=transformer,\n",
        "                           optimizer=optimizer)\n",
        "\n",
        "ckpt_manager = tf.train.CheckpointManager(ckpt, checkpoint_path, max_to_keep=5)\n",
        "\n",
        "# If a checkpoint exists, restore the latest checkpoint.\n",
        "if ckpt_manager.latest_checkpoint:\n",
        "  ckpt.restore(ckpt_manager.latest_checkpoint)\n",
        "  print('Latest checkpoint restored!!')"
      ],
      "metadata": {
        "id": "7OK5BptOdwmu"
      },
      "execution_count": 46,
      "outputs": []
    },
    {
      "cell_type": "markdown",
      "source": [
        "## Traning the transformer"
      ],
      "metadata": {
        "id": "_iXMcVUtdk1O"
      }
    },
    {
      "cell_type": "code",
      "source": [
        "train_step_signature = [\n",
        "    (\n",
        "         tf.TensorSpec(shape=(None, None), dtype=tf.int64),\n",
        "         tf.TensorSpec(shape=(None, None), dtype=tf.int64)),\n",
        "    tf.TensorSpec(shape=(None, None), dtype=tf.int64),\n",
        "]\n",
        "\n",
        "# The `@tf.function` trace-compiles train_step into a TF graph for faster\n",
        "# execution. The function specializes to the precise shape of the argument\n",
        "# tensors. To avoid re-tracing due to the variable sequence lengths or variable\n",
        "# batch sizes (the last batch is smaller), use input_signature to specify\n",
        "# more generic shapes.\n",
        "\n",
        "@tf.function(input_signature=train_step_signature)\n",
        "def train_step(inputs, labels):\n",
        "  (inp, tar_inp) = inputs\n",
        "  tar_real = labels\n",
        "\n",
        "  with tf.GradientTape() as tape:\n",
        "    predictions, _ = transformer([inp, tar_inp],\n",
        "                                 training = True)\n",
        "    loss = loss_function(tar_real, predictions)\n",
        "\n",
        "  gradients = tape.gradient(loss, transformer.trainable_variables)\n",
        "  optimizer.apply_gradients(zip(gradients, transformer.trainable_variables))\n",
        "\n",
        "  train_loss(loss)\n",
        "  train_accuracy(accuracy_function(tar_real, predictions))"
      ],
      "metadata": {
        "id": "gg7WD5p_dfjP"
      },
      "execution_count": 47,
      "outputs": []
    },
    {
      "cell_type": "markdown",
      "source": [
        "Defining the epochs"
      ],
      "metadata": {
        "id": "D-ueeHhEeMIW"
      }
    },
    {
      "cell_type": "code",
      "source": [
        "EPOCHS = 10"
      ],
      "metadata": {
        "id": "QV6BbwW4ePKn"
      },
      "execution_count": 48,
      "outputs": []
    },
    {
      "cell_type": "code",
      "source": [
        "for epoch in range(EPOCHS):\n",
        "  start = time.time()\n",
        "\n",
        "  train_loss.reset_states()\n",
        "  train_accuracy.reset_states()\n",
        "\n",
        "  # inp -> portuguese, tar -> english\n",
        "  for (batch, (inp, tar)) in enumerate(train_batches):\n",
        "    train_step(inp, tar)\n",
        "\n",
        "    if batch % 50 == 0:\n",
        "      print(f'Epoch {epoch + 1} Batch {batch} Loss {train_loss.result():.4f} Accuracy {train_accuracy.result():.4f}')\n",
        "\n",
        "  if (epoch + 1) % 5 == 0:\n",
        "    ckpt_save_path = ckpt_manager.save()\n",
        "    print(f'Saving checkpoint for epoch {epoch+1} at {ckpt_save_path}')\n",
        "\n",
        "  print(f'Epoch {epoch + 1} Loss {train_loss.result():.4f} Accuracy {train_accuracy.result():.4f}')\n",
        "\n",
        "  print(f'Time taken for 1 epoch: {time.time() - start:.2f} secs\\n')"
      ],
      "metadata": {
        "colab": {
          "base_uri": "https://localhost:8080/"
        },
        "id": "tsKA_g1rdonj",
        "outputId": "1150382d-5b31-41a8-87b8-fec28612f801"
      },
      "execution_count": 49,
      "outputs": [
        {
          "output_type": "stream",
          "name": "stdout",
          "text": [
            "Epoch 1 Batch 0 Loss 8.8829 Accuracy 0.0007\n",
            "Epoch 1 Batch 50 Loss 8.8027 Accuracy 0.0083\n",
            "Epoch 1 Batch 100 Loss 8.6848 Accuracy 0.0334\n",
            "Epoch 1 Batch 150 Loss 8.5645 Accuracy 0.0469\n",
            "Epoch 1 Batch 200 Loss 8.4172 Accuracy 0.0564\n",
            "Epoch 1 Batch 250 Loss 8.2381 Accuracy 0.0631\n",
            "Epoch 1 Batch 300 Loss 8.0438 Accuracy 0.0673\n",
            "Epoch 1 Batch 350 Loss 7.8462 Accuracy 0.0709\n",
            "Epoch 1 Batch 400 Loss 7.6600 Accuracy 0.0749\n",
            "Epoch 1 Batch 450 Loss 7.4905 Accuracy 0.0835\n",
            "Epoch 1 Batch 500 Loss 7.3379 Accuracy 0.0927\n",
            "Epoch 1 Batch 550 Loss 7.1971 Accuracy 0.1013\n",
            "Epoch 1 Batch 600 Loss 7.0666 Accuracy 0.1088\n",
            "Epoch 1 Batch 650 Loss 6.9440 Accuracy 0.1161\n",
            "Epoch 1 Batch 700 Loss 6.8290 Accuracy 0.1232\n",
            "Epoch 1 Batch 750 Loss 6.7219 Accuracy 0.1303\n",
            "Epoch 1 Batch 800 Loss 6.6227 Accuracy 0.1372\n",
            "Epoch 1 Loss 6.6061 Accuracy 0.1383\n",
            "Time taken for 1 epoch: 193.02 secs\n",
            "\n",
            "Epoch 2 Batch 0 Loss 4.9746 Accuracy 0.2491\n",
            "Epoch 2 Batch 50 Loss 5.0311 Accuracy 0.2498\n",
            "Epoch 2 Batch 100 Loss 4.9794 Accuracy 0.2552\n",
            "Epoch 2 Batch 150 Loss 4.9534 Accuracy 0.2585\n",
            "Epoch 2 Batch 200 Loss 4.9166 Accuracy 0.2627\n",
            "Epoch 2 Batch 250 Loss 4.8784 Accuracy 0.2669\n",
            "Epoch 2 Batch 300 Loss 4.8397 Accuracy 0.2708\n",
            "Epoch 2 Batch 350 Loss 4.8102 Accuracy 0.2740\n",
            "Epoch 2 Batch 400 Loss 4.7756 Accuracy 0.2774\n",
            "Epoch 2 Batch 450 Loss 4.7444 Accuracy 0.2806\n",
            "Epoch 2 Batch 500 Loss 4.7178 Accuracy 0.2837\n",
            "Epoch 2 Batch 550 Loss 4.6883 Accuracy 0.2867\n",
            "Epoch 2 Batch 600 Loss 4.6640 Accuracy 0.2893\n",
            "Epoch 2 Batch 650 Loss 4.6386 Accuracy 0.2921\n",
            "Epoch 2 Batch 700 Loss 4.6113 Accuracy 0.2948\n",
            "Epoch 2 Batch 750 Loss 4.5837 Accuracy 0.2981\n",
            "Epoch 2 Batch 800 Loss 4.5564 Accuracy 0.3012\n",
            "Epoch 2 Loss 4.5516 Accuracy 0.3018\n",
            "Time taken for 1 epoch: 181.15 secs\n",
            "\n",
            "Epoch 3 Batch 0 Loss 3.9823 Accuracy 0.3589\n",
            "Epoch 3 Batch 50 Loss 4.0628 Accuracy 0.3539\n",
            "Epoch 3 Batch 100 Loss 4.0614 Accuracy 0.3543\n",
            "Epoch 3 Batch 150 Loss 4.0453 Accuracy 0.3561\n",
            "Epoch 3 Batch 200 Loss 4.0327 Accuracy 0.3569\n",
            "Epoch 3 Batch 250 Loss 4.0069 Accuracy 0.3597\n",
            "Epoch 3 Batch 300 Loss 3.9902 Accuracy 0.3615\n",
            "Epoch 3 Batch 350 Loss 3.9677 Accuracy 0.3642\n",
            "Epoch 3 Batch 400 Loss 3.9503 Accuracy 0.3657\n",
            "Epoch 3 Batch 450 Loss 3.9275 Accuracy 0.3683\n",
            "Epoch 3 Batch 500 Loss 3.9066 Accuracy 0.3707\n",
            "Epoch 3 Batch 550 Loss 3.8881 Accuracy 0.3727\n",
            "Epoch 3 Batch 600 Loss 3.8720 Accuracy 0.3745\n",
            "Epoch 3 Batch 650 Loss 3.8574 Accuracy 0.3760\n",
            "Epoch 3 Batch 700 Loss 3.8385 Accuracy 0.3784\n",
            "Epoch 3 Batch 750 Loss 3.8219 Accuracy 0.3803\n",
            "Epoch 3 Batch 800 Loss 3.8080 Accuracy 0.3819\n",
            "Epoch 3 Loss 3.8052 Accuracy 0.3822\n",
            "Time taken for 1 epoch: 182.62 secs\n",
            "\n",
            "Epoch 4 Batch 0 Loss 3.3129 Accuracy 0.4374\n",
            "Epoch 4 Batch 50 Loss 3.5080 Accuracy 0.4101\n",
            "Epoch 4 Batch 100 Loss 3.4601 Accuracy 0.4183\n",
            "Epoch 4 Batch 150 Loss 3.4245 Accuracy 0.4228\n",
            "Epoch 4 Batch 200 Loss 3.4114 Accuracy 0.4241\n",
            "Epoch 4 Batch 250 Loss 3.4071 Accuracy 0.4242\n",
            "Epoch 4 Batch 300 Loss 3.3863 Accuracy 0.4269\n",
            "Epoch 4 Batch 350 Loss 3.3720 Accuracy 0.4285\n",
            "Epoch 4 Batch 400 Loss 3.3604 Accuracy 0.4299\n",
            "Epoch 4 Batch 450 Loss 3.3488 Accuracy 0.4313\n",
            "Epoch 4 Batch 500 Loss 3.3374 Accuracy 0.4327\n",
            "Epoch 4 Batch 550 Loss 3.3246 Accuracy 0.4343\n",
            "Epoch 4 Batch 600 Loss 3.3113 Accuracy 0.4359\n",
            "Epoch 4 Batch 650 Loss 3.2990 Accuracy 0.4374\n",
            "Epoch 4 Batch 700 Loss 3.2874 Accuracy 0.4387\n",
            "Epoch 4 Batch 750 Loss 3.2756 Accuracy 0.4400\n",
            "Epoch 4 Batch 800 Loss 3.2644 Accuracy 0.4413\n",
            "Epoch 4 Loss 3.2627 Accuracy 0.4416\n",
            "Time taken for 1 epoch: 180.98 secs\n",
            "\n",
            "Epoch 5 Batch 0 Loss 2.8506 Accuracy 0.4945\n",
            "Epoch 5 Batch 50 Loss 2.9464 Accuracy 0.4758\n",
            "Epoch 5 Batch 100 Loss 2.9533 Accuracy 0.4752\n",
            "Epoch 5 Batch 150 Loss 2.9600 Accuracy 0.4749\n",
            "Epoch 5 Batch 200 Loss 2.9489 Accuracy 0.4756\n",
            "Epoch 5 Batch 250 Loss 2.9349 Accuracy 0.4772\n",
            "Epoch 5 Batch 300 Loss 2.9252 Accuracy 0.4790\n",
            "Epoch 5 Batch 350 Loss 2.9174 Accuracy 0.4800\n",
            "Epoch 5 Batch 400 Loss 2.9130 Accuracy 0.4808\n",
            "Epoch 5 Batch 450 Loss 2.9136 Accuracy 0.4805\n",
            "Epoch 5 Batch 500 Loss 2.9053 Accuracy 0.4812\n",
            "Epoch 5 Batch 550 Loss 2.8972 Accuracy 0.4823\n",
            "Epoch 5 Batch 600 Loss 2.8901 Accuracy 0.4832\n",
            "Epoch 5 Batch 650 Loss 2.8836 Accuracy 0.4842\n",
            "Epoch 5 Batch 700 Loss 2.8776 Accuracy 0.4849\n",
            "Epoch 5 Batch 750 Loss 2.8714 Accuracy 0.4858\n",
            "Epoch 5 Batch 800 Loss 2.8654 Accuracy 0.4866\n",
            "Saving checkpoint for epoch 5 at ./checkpoints/train/ckpt-1\n",
            "Epoch 5 Loss 2.8647 Accuracy 0.4867\n",
            "Time taken for 1 epoch: 182.79 secs\n",
            "\n",
            "Epoch 6 Batch 0 Loss 2.4852 Accuracy 0.5241\n",
            "Epoch 6 Batch 50 Loss 2.6574 Accuracy 0.5083\n",
            "Epoch 6 Batch 100 Loss 2.6226 Accuracy 0.5141\n",
            "Epoch 6 Batch 150 Loss 2.6262 Accuracy 0.5141\n",
            "Epoch 6 Batch 200 Loss 2.6279 Accuracy 0.5142\n",
            "Epoch 6 Batch 250 Loss 2.6195 Accuracy 0.5150\n",
            "Epoch 6 Batch 300 Loss 2.6062 Accuracy 0.5167\n",
            "Epoch 6 Batch 350 Loss 2.6020 Accuracy 0.5171\n",
            "Epoch 6 Batch 400 Loss 2.5982 Accuracy 0.5177\n",
            "Epoch 6 Batch 450 Loss 2.5928 Accuracy 0.5186\n",
            "Epoch 6 Batch 500 Loss 2.5858 Accuracy 0.5197\n",
            "Epoch 6 Batch 550 Loss 2.5793 Accuracy 0.5204\n",
            "Epoch 6 Batch 600 Loss 2.5755 Accuracy 0.5208\n",
            "Epoch 6 Batch 650 Loss 2.5705 Accuracy 0.5215\n",
            "Epoch 6 Batch 700 Loss 2.5644 Accuracy 0.5223\n",
            "Epoch 6 Batch 750 Loss 2.5586 Accuracy 0.5232\n",
            "Epoch 6 Batch 800 Loss 2.5535 Accuracy 0.5240\n",
            "Epoch 6 Loss 2.5538 Accuracy 0.5240\n",
            "Time taken for 1 epoch: 183.74 secs\n",
            "\n",
            "Epoch 7 Batch 0 Loss 2.3976 Accuracy 0.5272\n",
            "Epoch 7 Batch 50 Loss 2.3245 Accuracy 0.5528\n",
            "Epoch 7 Batch 100 Loss 2.3081 Accuracy 0.5549\n",
            "Epoch 7 Batch 150 Loss 2.3167 Accuracy 0.5543\n",
            "Epoch 7 Batch 200 Loss 2.3195 Accuracy 0.5539\n",
            "Epoch 7 Batch 250 Loss 2.3110 Accuracy 0.5551\n",
            "Epoch 7 Batch 300 Loss 2.3143 Accuracy 0.5544\n",
            "Epoch 7 Batch 350 Loss 2.3102 Accuracy 0.5550\n",
            "Epoch 7 Batch 400 Loss 2.3093 Accuracy 0.5552\n",
            "Epoch 7 Batch 450 Loss 2.3034 Accuracy 0.5559\n",
            "Epoch 7 Batch 500 Loss 2.2994 Accuracy 0.5565\n",
            "Epoch 7 Batch 550 Loss 2.2967 Accuracy 0.5570\n",
            "Epoch 7 Batch 600 Loss 2.2966 Accuracy 0.5569\n",
            "Epoch 7 Batch 650 Loss 2.2929 Accuracy 0.5575\n",
            "Epoch 7 Batch 700 Loss 2.2950 Accuracy 0.5573\n",
            "Epoch 7 Batch 750 Loss 2.2946 Accuracy 0.5575\n",
            "Epoch 7 Batch 800 Loss 2.2919 Accuracy 0.5580\n",
            "Epoch 7 Loss 2.2912 Accuracy 0.5581\n",
            "Time taken for 1 epoch: 182.21 secs\n",
            "\n",
            "Epoch 8 Batch 0 Loss 2.2262 Accuracy 0.5519\n",
            "Epoch 8 Batch 50 Loss 2.1180 Accuracy 0.5822\n",
            "Epoch 8 Batch 100 Loss 2.1013 Accuracy 0.5833\n",
            "Epoch 8 Batch 150 Loss 2.1094 Accuracy 0.5817\n",
            "Epoch 8 Batch 200 Loss 2.1048 Accuracy 0.5824\n",
            "Epoch 8 Batch 250 Loss 2.1057 Accuracy 0.5821\n",
            "Epoch 8 Batch 300 Loss 2.1016 Accuracy 0.5826\n",
            "Epoch 8 Batch 350 Loss 2.1036 Accuracy 0.5827\n",
            "Epoch 8 Batch 400 Loss 2.1008 Accuracy 0.5834\n",
            "Epoch 8 Batch 450 Loss 2.0999 Accuracy 0.5835\n",
            "Epoch 8 Batch 500 Loss 2.0984 Accuracy 0.5836\n",
            "Epoch 8 Batch 550 Loss 2.0955 Accuracy 0.5842\n",
            "Epoch 8 Batch 600 Loss 2.0980 Accuracy 0.5841\n",
            "Epoch 8 Batch 650 Loss 2.0982 Accuracy 0.5841\n",
            "Epoch 8 Batch 700 Loss 2.0988 Accuracy 0.5840\n",
            "Epoch 8 Batch 750 Loss 2.0992 Accuracy 0.5841\n",
            "Epoch 8 Batch 800 Loss 2.1001 Accuracy 0.5840\n",
            "Epoch 8 Loss 2.1005 Accuracy 0.5840\n",
            "Time taken for 1 epoch: 181.65 secs\n",
            "\n",
            "Epoch 9 Batch 0 Loss 1.9438 Accuracy 0.6093\n",
            "Epoch 9 Batch 50 Loss 1.9351 Accuracy 0.6044\n",
            "Epoch 9 Batch 100 Loss 1.9318 Accuracy 0.6057\n",
            "Epoch 9 Batch 150 Loss 1.9242 Accuracy 0.6076\n",
            "Epoch 9 Batch 200 Loss 1.9411 Accuracy 0.6048\n",
            "Epoch 9 Batch 250 Loss 1.9476 Accuracy 0.6042\n",
            "Epoch 9 Batch 300 Loss 1.9526 Accuracy 0.6033\n",
            "Epoch 9 Batch 350 Loss 1.9543 Accuracy 0.6031\n",
            "Epoch 9 Batch 400 Loss 1.9520 Accuracy 0.6036\n",
            "Epoch 9 Batch 450 Loss 1.9527 Accuracy 0.6038\n",
            "Epoch 9 Batch 500 Loss 1.9541 Accuracy 0.6036\n",
            "Epoch 9 Batch 550 Loss 1.9524 Accuracy 0.6039\n",
            "Epoch 9 Batch 600 Loss 1.9523 Accuracy 0.6041\n",
            "Epoch 9 Batch 650 Loss 1.9515 Accuracy 0.6044\n",
            "Epoch 9 Batch 700 Loss 1.9531 Accuracy 0.6040\n",
            "Epoch 9 Batch 750 Loss 1.9543 Accuracy 0.6039\n",
            "Epoch 9 Batch 800 Loss 1.9566 Accuracy 0.6037\n",
            "Epoch 9 Loss 1.9566 Accuracy 0.6037\n",
            "Time taken for 1 epoch: 181.13 secs\n",
            "\n",
            "Epoch 10 Batch 0 Loss 1.9675 Accuracy 0.6110\n",
            "Epoch 10 Batch 50 Loss 1.8048 Accuracy 0.6244\n",
            "Epoch 10 Batch 100 Loss 1.8061 Accuracy 0.6238\n",
            "Epoch 10 Batch 150 Loss 1.8129 Accuracy 0.6236\n",
            "Epoch 10 Batch 200 Loss 1.8207 Accuracy 0.6230\n",
            "Epoch 10 Batch 250 Loss 1.8242 Accuracy 0.6224\n",
            "Epoch 10 Batch 300 Loss 1.8232 Accuracy 0.6228\n",
            "Epoch 10 Batch 350 Loss 1.8278 Accuracy 0.6224\n",
            "Epoch 10 Batch 400 Loss 1.8319 Accuracy 0.6217\n",
            "Epoch 10 Batch 450 Loss 1.8348 Accuracy 0.6212\n",
            "Epoch 10 Batch 500 Loss 1.8365 Accuracy 0.6209\n",
            "Epoch 10 Batch 550 Loss 1.8369 Accuracy 0.6208\n",
            "Epoch 10 Batch 600 Loss 1.8355 Accuracy 0.6210\n",
            "Epoch 10 Batch 650 Loss 1.8366 Accuracy 0.6208\n",
            "Epoch 10 Batch 700 Loss 1.8382 Accuracy 0.6207\n",
            "Epoch 10 Batch 750 Loss 1.8396 Accuracy 0.6205\n",
            "Epoch 10 Batch 800 Loss 1.8400 Accuracy 0.6207\n",
            "Saving checkpoint for epoch 10 at ./checkpoints/train/ckpt-2\n",
            "Epoch 10 Loss 1.8402 Accuracy 0.6206\n",
            "Time taken for 1 epoch: 184.28 secs\n",
            "\n"
          ]
        }
      ]
    },
    {
      "cell_type": "markdown",
      "source": [
        "### Run inference"
      ],
      "metadata": {
        "id": "q0E4pt7I6fBg"
      }
    },
    {
      "cell_type": "code",
      "source": [
        "class Translator(tf.Module):\n",
        "  def __init__(self, tokenizers, transformer):\n",
        "    self.tokenizers = tokenizers\n",
        "    self.transformer = transformer\n",
        "\n",
        "  def __call__(self, sentence, max_length=MAX_TOKENS):\n",
        "    # The input sentence is Portuguese, hence adding the `[START]` and `[END]` tokens.\n",
        "    assert isinstance(sentence, tf.Tensor)\n",
        "    if len(sentence.shape) == 0:\n",
        "      sentence = sentence[tf.newaxis]\n",
        "\n",
        "    sentence = self.tokenizers.pt.tokenize(sentence).to_tensor()\n",
        "\n",
        "    encoder_input = sentence\n",
        "\n",
        "    # As the output language is English, initialize the output with the\n",
        "    # English `[START]` token.\n",
        "    start_end = self.tokenizers.en.tokenize([''])[0]\n",
        "    start = start_end[0][tf.newaxis]\n",
        "    end = start_end[1][tf.newaxis]\n",
        "\n",
        "    # `tf.TensorArray` is required here (instead of a Python list), so that the\n",
        "    # dynamic-loop can be traced by `tf.function`.\n",
        "    output_array = tf.TensorArray(dtype=tf.int64, size=0, dynamic_size=True)\n",
        "    output_array = output_array.write(0, start)\n",
        "\n",
        "    for i in tf.range(max_length):\n",
        "      output = tf.transpose(output_array.stack())\n",
        "      predictions, _ = self.transformer([encoder_input, output], training=False)\n",
        "\n",
        "      # Select the last token from the `seq_len` dimension.\n",
        "      predictions = predictions[:, -1:, :]  # Shape `(batch_size, 1, vocab_size)`.\n",
        "\n",
        "      predicted_id = tf.argmax(predictions, axis=-1)\n",
        "\n",
        "      # Concatenate the `predicted_id` to the output which is given to the\n",
        "      # decoder as its input.\n",
        "      output_array = output_array.write(i+1, predicted_id[0])\n",
        "\n",
        "      if predicted_id == end:\n",
        "        break\n",
        "\n",
        "    output = tf.transpose(output_array.stack())\n",
        "    # The output shape is `(1, tokens)`.\n",
        "    text = tokenizers.en.detokenize(output)[0]  # Shape: `()`.\n",
        "\n",
        "    tokens = tokenizers.en.lookup(output)[0]\n",
        "\n",
        "    # `tf.function` prevents us from using the attention_weights that were\n",
        "    # calculated on the last iteration of the loop.\n",
        "    # Therefore, recalculate them outside the loop.\n",
        "    _, attention_weights = self.transformer([encoder_input, output[:,:-1]], training=False)\n",
        "\n",
        "    return text, tokens, attention_weights"
      ],
      "metadata": {
        "id": "mlYDVIhvePb-"
      },
      "execution_count": 50,
      "outputs": []
    },
    {
      "cell_type": "code",
      "source": [
        "translator = Translator(tokenizers, transformer)"
      ],
      "metadata": {
        "id": "iokAVp-V6iln"
      },
      "execution_count": 51,
      "outputs": []
    },
    {
      "cell_type": "code",
      "source": [
        "def print_translation(sentence, tokens, ground_truth):\n",
        "  print(f'{\"Input:\":15s}: {sentence}')\n",
        "  print(f'{\"Prediction\":15s}: {tokens.numpy().decode(\"utf-8\")}')\n",
        "  print(f'{\"Ground truth\":15s}: {ground_truth}')\n"
      ],
      "metadata": {
        "id": "tFWMQZSG6kOj"
      },
      "execution_count": 52,
      "outputs": []
    },
    {
      "cell_type": "code",
      "source": [
        "sentence = 'este é um problema que temos que resolver.'\n",
        "ground_truth = 'this is a problem we have to solve .'\n",
        "\n",
        "translated_text, translated_tokens, attention_weights = translator(\n",
        "    tf.constant(sentence))\n",
        "print_translation(sentence, translated_text, ground_truth)"
      ],
      "metadata": {
        "colab": {
          "base_uri": "https://localhost:8080/"
        },
        "id": "AkYxpfz56nQr",
        "outputId": "2ffba3f9-9b0d-49e0-d43d-bb63ea3a95da"
      },
      "execution_count": 53,
      "outputs": [
        {
          "output_type": "stream",
          "name": "stdout",
          "text": [
            "Input:         : este é um problema que temos que resolver.\n",
            "Prediction     : this is a problem that we have to solve .\n",
            "Ground truth   : this is a problem we have to solve .\n"
          ]
        }
      ]
    },
    {
      "cell_type": "code",
      "source": [
        "sentence = 'os meus vizinhos ouviram sobre esta ideia.'\n",
        "ground_truth = 'and my neighboring homes heard about this idea .'\n",
        "\n",
        "translated_text, translated_tokens, attention_weights = translator(\n",
        "    tf.constant(sentence))\n",
        "print_translation(sentence, translated_text, ground_truth)"
      ],
      "metadata": {
        "colab": {
          "base_uri": "https://localhost:8080/"
        },
        "id": "QwZ9XMMI6o4x",
        "outputId": "a9476974-cc81-444c-bdbf-b9bb3b8ef534"
      },
      "execution_count": 54,
      "outputs": [
        {
          "output_type": "stream",
          "name": "stdout",
          "text": [
            "Input:         : os meus vizinhos ouviram sobre esta ideia.\n",
            "Prediction     : my neighbors heard about this idea .\n",
            "Ground truth   : and my neighboring homes heard about this idea .\n"
          ]
        }
      ]
    },
    {
      "cell_type": "code",
      "source": [],
      "metadata": {
        "id": "0D4RvjxU6q0W"
      },
      "execution_count": null,
      "outputs": []
    }
  ]
}