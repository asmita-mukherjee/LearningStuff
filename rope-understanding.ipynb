{
 "cells": [
  {
   "cell_type": "code",
   "execution_count": 1,
   "id": "8b47f763",
   "metadata": {
    "execution": {
     "iopub.execute_input": "2024-01-07T13:08:04.049413Z",
     "iopub.status.busy": "2024-01-07T13:08:04.049053Z",
     "iopub.status.idle": "2024-01-07T13:08:07.370648Z",
     "shell.execute_reply": "2024-01-07T13:08:07.369667Z"
    },
    "papermill": {
     "duration": 3.335156,
     "end_time": "2024-01-07T13:08:07.373151",
     "exception": false,
     "start_time": "2024-01-07T13:08:04.037995",
     "status": "completed"
    },
    "tags": []
   },
   "outputs": [],
   "source": [
    "import torch\n",
    "import torch.nn as nn\n",
    "import numpy as np\n",
    "import matplotlib.pyplot as plt"
   ]
  },
  {
   "cell_type": "markdown",
   "id": "770c8f11",
   "metadata": {
    "papermill": {
     "duration": 0.005153,
     "end_time": "2024-01-07T13:08:07.384237",
     "exception": false,
     "start_time": "2024-01-07T13:08:07.379084",
     "status": "completed"
    },
    "tags": []
   },
   "source": [
    "## As an example let us consider a sequence of 3"
   ]
  },
  {
   "cell_type": "code",
   "execution_count": 2,
   "id": "70d85c4a",
   "metadata": {
    "execution": {
     "iopub.execute_input": "2024-01-07T13:08:07.396560Z",
     "iopub.status.busy": "2024-01-07T13:08:07.396065Z",
     "iopub.status.idle": "2024-01-07T13:08:07.405319Z",
     "shell.execute_reply": "2024-01-07T13:08:07.404202Z"
    },
    "papermill": {
     "duration": 0.017953,
     "end_time": "2024-01-07T13:08:07.407430",
     "exception": false,
     "start_time": "2024-01-07T13:08:07.389477",
     "status": "completed"
    },
    "tags": []
   },
   "outputs": [
    {
     "data": {
      "text/plain": [
       "array([0, 1, 2])"
      ]
     },
     "execution_count": 2,
     "metadata": {},
     "output_type": "execute_result"
    }
   ],
   "source": [
    "# let the seq be of 3 token. Ex: Apple is Red\n",
    "seq= np.arange(3)\n",
    "seq"
   ]
  },
  {
   "cell_type": "markdown",
   "id": "fc237179",
   "metadata": {
    "papermill": {
     "duration": 0.005375,
     "end_time": "2024-01-07T13:08:07.418514",
     "exception": false,
     "start_time": "2024-01-07T13:08:07.413139",
     "status": "completed"
    },
    "tags": []
   },
   "source": [
    "Let each term of the sequence have a random embedding associated with it"
   ]
  },
  {
   "cell_type": "code",
   "execution_count": 3,
   "id": "793cd040",
   "metadata": {
    "execution": {
     "iopub.execute_input": "2024-01-07T13:08:07.431606Z",
     "iopub.status.busy": "2024-01-07T13:08:07.431239Z",
     "iopub.status.idle": "2024-01-07T13:08:07.437945Z",
     "shell.execute_reply": "2024-01-07T13:08:07.436745Z"
    },
    "papermill": {
     "duration": 0.016063,
     "end_time": "2024-01-07T13:08:07.440202",
     "exception": false,
     "start_time": "2024-01-07T13:08:07.424139",
     "status": "completed"
    },
    "tags": []
   },
   "outputs": [
    {
     "name": "stdout",
     "output_type": "stream",
     "text": [
      "{0: array([-0.35109261, -1.05745995]), 1: array([0.27771255, 1.53500773]), 2: array([-2.24266332,  0.12438091])}\n"
     ]
    }
   ],
   "source": [
    "seq_embeddings = {}\n",
    "\n",
    "for token in seq:\n",
    "    seq_embeddings[token] = np.random.randn(2)\n",
    "print(seq_embeddings)"
   ]
  },
  {
   "cell_type": "markdown",
   "id": "f198a720",
   "metadata": {
    "papermill": {
     "duration": 0.00551,
     "end_time": "2024-01-07T13:08:07.451519",
     "exception": false,
     "start_time": "2024-01-07T13:08:07.446009",
     "status": "completed"
    },
    "tags": []
   },
   "source": [
    "## 2D ROPE"
   ]
  },
  {
   "cell_type": "markdown",
   "id": "5e1cf5ec",
   "metadata": {
    "papermill": {
     "duration": 0.005369,
     "end_time": "2024-01-07T13:08:07.462596",
     "exception": false,
     "start_time": "2024-01-07T13:08:07.457227",
     "status": "completed"
    },
    "tags": []
   },
   "source": [
    "theta_i = 10000^(-2(i-1)/d) where i = {1,2,..,d/2} "
   ]
  },
  {
   "cell_type": "code",
   "execution_count": 4,
   "id": "09feb4fa",
   "metadata": {
    "execution": {
     "iopub.execute_input": "2024-01-07T13:08:07.476282Z",
     "iopub.status.busy": "2024-01-07T13:08:07.475570Z",
     "iopub.status.idle": "2024-01-07T13:08:07.481757Z",
     "shell.execute_reply": "2024-01-07T13:08:07.480996Z"
    },
    "papermill": {
     "duration": 0.015143,
     "end_time": "2024-01-07T13:08:07.483638",
     "exception": false,
     "start_time": "2024-01-07T13:08:07.468495",
     "status": "completed"
    },
    "tags": []
   },
   "outputs": [],
   "source": [
    "def rotate(tensor,seq_pos):\n",
    "    '''\n",
    "        Rotates the tensor by seq_pos*theta\n",
    "    '''\n",
    "    i = 1 #the relevance of this value will become more clear in the n-d part. but basically it indicates the number of theta in a vector. for 2d vector there is only 1 theta so d = 1\n",
    "    d = 2 #dimension of the embedding matrix\n",
    "    theta = 10000**(-2*(i-1)/d) # since we have only 2D embedding vector hence there will be 1 theta, for n dimensional vector theta will be list of n/2 values\n",
    "    \n",
    "    rotation_angle = seq_pos*theta\n",
    "    cos_val = np.cos(rotation_angle)\n",
    "    sin_val = np.sin(rotation_angle)\n",
    "    rotation_matrix = np.array([[cos_val,-sin_val],[sin_val,cos_val]])#[[cos_theta -sin_theta  ][sin_theta cos_theta]]\n",
    "    rope = np.matmul(tensor,rotation_matrix)\n",
    "    return rope\n",
    "    \n",
    "    "
   ]
  },
  {
   "cell_type": "code",
   "execution_count": 5,
   "id": "71cae8da",
   "metadata": {
    "execution": {
     "iopub.execute_input": "2024-01-07T13:08:07.496960Z",
     "iopub.status.busy": "2024-01-07T13:08:07.496303Z",
     "iopub.status.idle": "2024-01-07T13:08:07.500803Z",
     "shell.execute_reply": "2024-01-07T13:08:07.500052Z"
    },
    "papermill": {
     "duration": 0.013289,
     "end_time": "2024-01-07T13:08:07.502709",
     "exception": false,
     "start_time": "2024-01-07T13:08:07.489420",
     "status": "completed"
    },
    "tags": []
   },
   "outputs": [],
   "source": [
    "def cal_attn_score(key,query,seq_pos_key,seq_pos_query):\n",
    "    rope_key = rotate(key,seq_pos_key)\n",
    "    rope_query = rotate(query,seq_pos_query)\n",
    "    return np.dot(rope_key,rope_query)"
   ]
  },
  {
   "cell_type": "markdown",
   "id": "7902cd72",
   "metadata": {
    "papermill": {
     "duration": 0.005495,
     "end_time": "2024-01-07T13:08:07.514080",
     "exception": false,
     "start_time": "2024-01-07T13:08:07.508585",
     "status": "completed"
    },
    "tags": []
   },
   "source": [
    "## the property of RoPE is to capture the relative pos between two tokens during attention:\n",
    "\n",
    "as per the paper :\n",
    "\n",
    "attention_score(RoPE(key,seq_pos_key),RoPE(query,seq_pos_query)) \n",
    "= dot_product(RoPE(key,(seq_pos_key-seq_pos_query),RoPE(query,0))"
   ]
  },
  {
   "cell_type": "markdown",
   "id": "d59e7b4a",
   "metadata": {
    "papermill": {
     "duration": 0.005456,
     "end_time": "2024-01-07T13:08:07.525179",
     "exception": false,
     "start_time": "2024-01-07T13:08:07.519723",
     "status": "completed"
    },
    "tags": []
   },
   "source": [
    "> hence lets check if our implementation is correct"
   ]
  },
  {
   "cell_type": "code",
   "execution_count": 6,
   "id": "c9ce87bb",
   "metadata": {
    "execution": {
     "iopub.execute_input": "2024-01-07T13:08:07.538895Z",
     "iopub.status.busy": "2024-01-07T13:08:07.538051Z",
     "iopub.status.idle": "2024-01-07T13:08:07.544458Z",
     "shell.execute_reply": "2024-01-07T13:08:07.543409Z"
    },
    "papermill": {
     "duration": 0.015741,
     "end_time": "2024-01-07T13:08:07.546594",
     "exception": false,
     "start_time": "2024-01-07T13:08:07.530853",
     "status": "completed"
    },
    "tags": []
   },
   "outputs": [],
   "source": [
    "#lets calculate the attention score between token 1 and token 2\n",
    "attn_score = cal_attn_score(key=seq_embeddings[1],\n",
    "               query=seq_embeddings[2],\n",
    "               seq_pos_key=1,\n",
    "               seq_pos_query=2)"
   ]
  },
  {
   "cell_type": "code",
   "execution_count": 7,
   "id": "d5be18ba",
   "metadata": {
    "execution": {
     "iopub.execute_input": "2024-01-07T13:08:07.560490Z",
     "iopub.status.busy": "2024-01-07T13:08:07.560072Z",
     "iopub.status.idle": "2024-01-07T13:08:07.565454Z",
     "shell.execute_reply": "2024-01-07T13:08:07.564443Z"
    },
    "papermill": {
     "duration": 0.015068,
     "end_time": "2024-01-07T13:08:07.567709",
     "exception": false,
     "start_time": "2024-01-07T13:08:07.552641",
     "status": "completed"
    },
    "tags": []
   },
   "outputs": [],
   "source": [
    "#lets get RoPE(key,(seq_pos_key-seq_pos_query)\n",
    "rotate_key_relative = rotate(seq_embeddings[1],1-2)\n",
    "#lets get RoPE(query,0)\n",
    "rotate_query_0 = rotate(seq_embeddings[2],0)\n",
    "#get dot product \n",
    "dot_prod_val = np.dot(rotate_key_relative,rotate_query_0)"
   ]
  },
  {
   "cell_type": "code",
   "execution_count": 8,
   "id": "8d60d34b",
   "metadata": {
    "execution": {
     "iopub.execute_input": "2024-01-07T13:08:07.581698Z",
     "iopub.status.busy": "2024-01-07T13:08:07.580968Z",
     "iopub.status.idle": "2024-01-07T13:08:07.945767Z",
     "shell.execute_reply": "2024-01-07T13:08:07.944678Z"
    },
    "papermill": {
     "duration": 0.374684,
     "end_time": "2024-01-07T13:08:07.948286",
     "exception": false,
     "start_time": "2024-01-07T13:08:07.573602",
     "status": "completed"
    },
    "tags": []
   },
   "outputs": [
    {
     "name": "stdout",
     "output_type": "stream",
     "text": [
      "Attention score 2.6924835215605047 and dot prod val 2.6924835215605047\n"
     ]
    },
    {
     "data": {
      "text/plain": [
       "<matplotlib.legend.Legend at 0x79bdff33ab90>"
      ]
     },
     "execution_count": 8,
     "metadata": {},
     "output_type": "execute_result"
    },
    {
     "data": {
      "image/png": "[encoded data removed]",
      "text/plain": [
       "<Figure size 800x800 with 1 Axes>"
      ]
     },
     "metadata": {},
     "output_type": "display_data"
    }
   ],
   "source": [
    "#lets check, since floating point calculation will not be exact, we can round to 8\n",
    "assert round(attn_score,8)==round(dot_prod_val,8)\n",
    "print(f\"Attention score {attn_score} and dot prod val {dot_prod_val}\")\n",
    "\n",
    "\n",
    "#visualize the rotation\n",
    "\n",
    "fig,ax = plt.subplots(figsize=(8,8))\n",
    "rotate_key = rotate(seq_embeddings[1],1)\n",
    "rotate_query = rotate(seq_embeddings[2],2)\n",
    "\n",
    "ax.arrow(0,0,rotate_key[0],rotate_key[1],ec=\"red\",label=\"RoPE key\",head_width = 0.05,length_includes_head=True)\n",
    "ax.arrow(0,0,rotate_query[0],rotate_query[1],ec=\"green\",label=\"RoPE query\",head_width = 0.05,length_includes_head=True)\n",
    "ax.arrow(0,0,rotate_key_relative[0],rotate_key_relative[1],ec=\"orange\",label=\"RoPE of relative pos\",head_width = 0.05,length_includes_head=True)\n",
    "ax.legend()\n"
   ]
  },
  {
   "cell_type": "markdown",
   "id": "ff467f19",
   "metadata": {
    "papermill": {
     "duration": 0.006812,
     "end_time": "2024-01-07T13:08:07.961944",
     "exception": false,
     "start_time": "2024-01-07T13:08:07.955132",
     "status": "completed"
    },
    "tags": []
   },
   "source": [
    "## Now that we understand how RoPE works for 2D embedding vectors , lets move onto nD vectors"
   ]
  },
  {
   "cell_type": "markdown",
   "id": "4a46aafb",
   "metadata": {
    "papermill": {
     "duration": 0.00643,
     "end_time": "2024-01-07T13:08:07.974914",
     "exception": false,
     "start_time": "2024-01-07T13:08:07.968484",
     "status": "completed"
    },
    "tags": []
   },
   "source": [
    "> Nothing crazy here, just the nd vector is divided into n/2 parts and each of the n/2 part is treated like the 2d vector that we saw above\n",
    "\n",
    "> hence for rope it is a requirement for the embedding vector to be multiple of 2"
   ]
  },
  {
   "cell_type": "code",
   "execution_count": 9,
   "id": "51e8ca53",
   "metadata": {
    "execution": {
     "iopub.execute_input": "2024-01-07T13:08:07.989763Z",
     "iopub.status.busy": "2024-01-07T13:08:07.989357Z",
     "iopub.status.idle": "2024-01-07T13:08:07.993834Z",
     "shell.execute_reply": "2024-01-07T13:08:07.992755Z"
    },
    "papermill": {
     "duration": 0.014477,
     "end_time": "2024-01-07T13:08:07.995852",
     "exception": false,
     "start_time": "2024-01-07T13:08:07.981375",
     "status": "completed"
    },
    "tags": []
   },
   "outputs": [],
   "source": [
    "d = 16 #let each embedding vector be of dim 16"
   ]
  },
  {
   "cell_type": "code",
   "execution_count": 10,
   "id": "b42af5a1",
   "metadata": {
    "execution": {
     "iopub.execute_input": "2024-01-07T13:08:08.011548Z",
     "iopub.status.busy": "2024-01-07T13:08:08.010802Z",
     "iopub.status.idle": "2024-01-07T13:08:08.018919Z",
     "shell.execute_reply": "2024-01-07T13:08:08.017957Z"
    },
    "papermill": {
     "duration": 0.018115,
     "end_time": "2024-01-07T13:08:08.020912",
     "exception": false,
     "start_time": "2024-01-07T13:08:08.002797",
     "status": "completed"
    },
    "tags": []
   },
   "outputs": [
    {
     "data": {
      "text/plain": [
       "{0: array([-0.28995817, -0.46783317, -0.57677614, -0.33055751,  0.32583219,\n",
       "         0.58227453, -1.52858365,  0.93483445, -0.44814248,  1.21091794,\n",
       "         0.10272833,  1.5006872 , -0.55439145, -1.63818388, -1.62434592,\n",
       "        -0.57641164]),\n",
       " 1: array([ 1.17960805, -0.6309661 ,  1.34291297,  0.44029472, -0.46861914,\n",
       "         0.09005546,  2.1253865 , -1.12219735,  0.51959046, -0.69338408,\n",
       "         0.27455583, -0.21022263,  0.42839665, -0.28840528, -0.66262147,\n",
       "         1.18848728]),\n",
       " 2: array([ 0.98842776,  0.30124654,  0.27680599, -0.17167663,  0.4245087 ,\n",
       "         0.46592125, -1.13874902, -1.06454504, -0.18840422, -0.53678396,\n",
       "         1.90661765, -0.41921273,  0.65951122, -0.22987691, -0.27090335,\n",
       "         0.04484568])}"
      ]
     },
     "execution_count": 10,
     "metadata": {},
     "output_type": "execute_result"
    }
   ],
   "source": [
    "\n",
    "seq_embeddings_nd = dict()\n",
    "for token in seq:\n",
    "    seq_embeddings_nd[token] = np.random.randn(d)\n",
    "\n",
    "seq_embeddings_nd"
   ]
  },
  {
   "cell_type": "code",
   "execution_count": 11,
   "id": "2a79d1e7",
   "metadata": {
    "execution": {
     "iopub.execute_input": "2024-01-07T13:08:08.036895Z",
     "iopub.status.busy": "2024-01-07T13:08:08.036165Z",
     "iopub.status.idle": "2024-01-07T13:08:08.042702Z",
     "shell.execute_reply": "2024-01-07T13:08:08.041849Z"
    },
    "papermill": {
     "duration": 0.016925,
     "end_time": "2024-01-07T13:08:08.044681",
     "exception": false,
     "start_time": "2024-01-07T13:08:08.027756",
     "status": "completed"
    },
    "tags": []
   },
   "outputs": [
    {
     "data": {
      "text/plain": [
       "16"
      ]
     },
     "execution_count": 11,
     "metadata": {},
     "output_type": "execute_result"
    }
   ],
   "source": [
    "seq_embeddings_nd[0].shape[-1]"
   ]
  },
  {
   "cell_type": "markdown",
   "id": "112152c4",
   "metadata": {
    "papermill": {
     "duration": 0.00667,
     "end_time": "2024-01-07T13:08:08.058236",
     "exception": false,
     "start_time": "2024-01-07T13:08:08.051566",
     "status": "completed"
    },
    "tags": []
   },
   "source": [
    "> if you compare rotate_nd with the above rotate, you will observe both are exactly the same except rotate_nd has for loops now"
   ]
  },
  {
   "cell_type": "code",
   "execution_count": 12,
   "id": "d1047698",
   "metadata": {
    "execution": {
     "iopub.execute_input": "2024-01-07T13:08:08.074187Z",
     "iopub.status.busy": "2024-01-07T13:08:08.073355Z",
     "iopub.status.idle": "2024-01-07T13:08:08.081100Z",
     "shell.execute_reply": "2024-01-07T13:08:08.079923Z"
    },
    "papermill": {
     "duration": 0.018268,
     "end_time": "2024-01-07T13:08:08.083377",
     "exception": false,
     "start_time": "2024-01-07T13:08:08.065109",
     "status": "completed"
    },
    "tags": []
   },
   "outputs": [],
   "source": [
    "def rotate_nd(tensor,seq_pos):\n",
    "    dim_of_tensor = tensor.shape[-1]\n",
    "    \n",
    "    #dividing the tensor into groups of 2\n",
    "    tensor_divided = np.array_split(tensor,dim_of_tensor//2)\n",
    "    \n",
    "    #theta will be a list of size dim_of_tensor/2\n",
    "    theta= []\n",
    "    for i in range(dim_of_tensor//2):\n",
    "        rotation_angle = seq_pos * 10000**(-2*(i-1)/d)  \n",
    "        theta.append(rotation_angle)\n",
    "    \n",
    "    rotated_tensor = []\n",
    "    for tensor,angle in zip(tensor_divided,theta):\n",
    "        cos_val = np.cos(angle)\n",
    "        sin_val = np.sin(angle)\n",
    "        rotation_matrix = np.array([[cos_val,-sin_val],[sin_val,cos_val]])\n",
    "        rotated_tensor.append(np.matmul(tensor,rotation_matrix))\n",
    "    \n",
    "    #after rotation of each group of size 2, lets make the tensor 1 again\n",
    "    rotated_tensor = np.array(rotated_tensor)\n",
    "    rotated_tensor = rotated_tensor.reshape(dim_of_tensor)\n",
    "    \n",
    "    return rotated_tensor\n",
    "    "
   ]
  },
  {
   "cell_type": "markdown",
   "id": "909d6494",
   "metadata": {
    "papermill": {
     "duration": 0.00695,
     "end_time": "2024-01-07T13:08:08.097489",
     "exception": false,
     "start_time": "2024-01-07T13:08:08.090539",
     "status": "completed"
    },
    "tags": []
   },
   "source": [
    "> there you Go ! you have the rope of nd vectors"
   ]
  },
  {
   "cell_type": "code",
   "execution_count": 13,
   "id": "91f945fd",
   "metadata": {
    "execution": {
     "iopub.execute_input": "2024-01-07T13:08:08.113591Z",
     "iopub.status.busy": "2024-01-07T13:08:08.113214Z",
     "iopub.status.idle": "2024-01-07T13:08:08.120023Z",
     "shell.execute_reply": "2024-01-07T13:08:08.118951Z"
    },
    "papermill": {
     "duration": 0.017568,
     "end_time": "2024-01-07T13:08:08.122150",
     "exception": false,
     "start_time": "2024-01-07T13:08:08.104582",
     "status": "completed"
    },
    "tags": []
   },
   "outputs": [
    {
     "data": {
      "text/plain": [
       "array([-1.16630509,  0.65522958,  1.0960742 , -0.89213005, -0.41737702,\n",
       "        0.23132295,  2.00273563, -1.32877563,  0.49740761, -0.70946557,\n",
       "        0.27243991, -0.21295763,  0.42748249, -0.28975854, -0.66143265,\n",
       "        1.18914931])"
      ]
     },
     "execution_count": 13,
     "metadata": {},
     "output_type": "execute_result"
    }
   ],
   "source": [
    "rotate_nd(seq_embeddings_nd[1],1)"
   ]
  },
  {
   "cell_type": "code",
   "execution_count": 14,
   "id": "a8bcd4a7",
   "metadata": {
    "execution": {
     "iopub.execute_input": "2024-01-07T13:08:08.138720Z",
     "iopub.status.busy": "2024-01-07T13:08:08.138146Z",
     "iopub.status.idle": "2024-01-07T13:08:08.143357Z",
     "shell.execute_reply": "2024-01-07T13:08:08.142440Z"
    },
    "papermill": {
     "duration": 0.015882,
     "end_time": "2024-01-07T13:08:08.145281",
     "exception": false,
     "start_time": "2024-01-07T13:08:08.129399",
     "status": "completed"
    },
    "tags": []
   },
   "outputs": [],
   "source": [
    "def cal_attn_score_nd(key,query,seq_pos_key,seq_pos_query):\n",
    "    rope_key = rotate_nd(key,seq_pos_key)\n",
    "    rope_query = rotate_nd(query,seq_pos_query)\n",
    "    attn_score = np.dot(rope_key,rope_query)\n",
    "    return attn_score"
   ]
  },
  {
   "cell_type": "code",
   "execution_count": 15,
   "id": "3a56ebd2",
   "metadata": {
    "execution": {
     "iopub.execute_input": "2024-01-07T13:08:08.161559Z",
     "iopub.status.busy": "2024-01-07T13:08:08.160643Z",
     "iopub.status.idle": "2024-01-07T13:08:08.165689Z",
     "shell.execute_reply": "2024-01-07T13:08:08.164986Z"
    },
    "papermill": {
     "duration": 0.015116,
     "end_time": "2024-01-07T13:08:08.167641",
     "exception": false,
     "start_time": "2024-01-07T13:08:08.152525",
     "status": "completed"
    },
    "tags": []
   },
   "outputs": [],
   "source": [
    "#let token 1 be the key and token 2 be the query\n",
    "attn_score_nd = cal_attn_score_nd(key = seq_embeddings[1],query = seq_embeddings[2],seq_pos_key=1,seq_pos_query=2)"
   ]
  },
  {
   "cell_type": "markdown",
   "id": "b416f225",
   "metadata": {
    "papermill": {
     "duration": 0.007132,
     "end_time": "2024-01-07T13:08:08.182074",
     "exception": false,
     "start_time": "2024-01-07T13:08:08.174942",
     "status": "completed"
    },
    "tags": []
   },
   "source": [
    "#### Lets verify this too!"
   ]
  },
  {
   "cell_type": "code",
   "execution_count": 16,
   "id": "31e42fe3",
   "metadata": {
    "execution": {
     "iopub.execute_input": "2024-01-07T13:08:08.199740Z",
     "iopub.status.busy": "2024-01-07T13:08:08.199346Z",
     "iopub.status.idle": "2024-01-07T13:08:08.205110Z",
     "shell.execute_reply": "2024-01-07T13:08:08.203953Z"
    },
    "papermill": {
     "duration": 0.017401,
     "end_time": "2024-01-07T13:08:08.207350",
     "exception": false,
     "start_time": "2024-01-07T13:08:08.189949",
     "status": "completed"
    },
    "tags": []
   },
   "outputs": [],
   "source": [
    "#lets get RoPE(key,(seq_pos_key-seq_pos_query)\n",
    "rotate_key_relative = rotate_nd(seq_embeddings[1],1-2)\n",
    "#lets get RoPE(query,0)\n",
    "rotate_query_0 = rotate_nd(seq_embeddings[2],0)\n",
    "#get dot product \n",
    "dot_prod_val = np.dot(rotate_key_relative,rotate_query_0)"
   ]
  },
  {
   "cell_type": "code",
   "execution_count": 17,
   "id": "a5e3d28c",
   "metadata": {
    "execution": {
     "iopub.execute_input": "2024-01-07T13:08:08.224003Z",
     "iopub.status.busy": "2024-01-07T13:08:08.223607Z",
     "iopub.status.idle": "2024-01-07T13:08:08.229014Z",
     "shell.execute_reply": "2024-01-07T13:08:08.228034Z"
    },
    "papermill": {
     "duration": 0.016373,
     "end_time": "2024-01-07T13:08:08.231376",
     "exception": false,
     "start_time": "2024-01-07T13:08:08.215003",
     "status": "completed"
    },
    "tags": []
   },
   "outputs": [
    {
     "name": "stdout",
     "output_type": "stream",
     "text": [
      "Attention score 0.35988005661782324 and dot prod val 0.35988005661782324\n"
     ]
    }
   ],
   "source": [
    "#lets check, since floating point calculation will not be exact, we can round to 8\n",
    "assert round(attn_score_nd,8)==round(dot_prod_val,8)\n",
    "print(f\"Attention score {attn_score_nd} and dot prod val {dot_prod_val}\")"
   ]
  },
  {
   "cell_type": "markdown",
   "id": "bba1ef23",
   "metadata": {
    "papermill": {
     "duration": 0.007359,
     "end_time": "2024-01-07T13:08:08.246416",
     "exception": false,
     "start_time": "2024-01-07T13:08:08.239057",
     "status": "completed"
    },
    "tags": []
   },
   "source": [
    ">> Wohoo! now you know all there is to know about ROPE\n"
   ]
  },
  {
   "cell_type": "code",
   "execution_count": null,
   "id": "aeec77c5",
   "metadata": {
    "papermill": {
     "duration": 0.007194,
     "end_time": "2024-01-07T13:08:08.261146",
     "exception": false,
     "start_time": "2024-01-07T13:08:08.253952",
     "status": "completed"
    },
    "tags": []
   },
   "outputs": [],
   "source": []
  }
 ],
 "metadata": {
  "kaggle": {
   "accelerator": "none",
   "dataSources": [],
   "dockerImageVersionId": 30626,
   "isGpuEnabled": false,
   "isInternetEnabled": true,
   "language": "python",
   "sourceType": "notebook"
  },
  "kernelspec": {
   "display_name": "Python 3",
   "language": "python",
   "name": "python3"
  },
  "language_info": {
   "codemirror_mode": {
    "name": "ipython",
    "version": 3
   },
   "file_extension": ".py",
   "mimetype": "text/x-python",
   "name": "python",
   "nbconvert_exporter": "python",
   "pygments_lexer": "ipython3",
   "version": "3.10.12"
  },
  "papermill": {
   "default_parameters": {},
   "duration": 8.062444,
   "end_time": "2024-01-07T13:08:09.090367",
   "environment_variables": {},
   "exception": null,
   "input_path": "__notebook__.ipynb",
   "output_path": "__notebook__.ipynb",
   "parameters": {},
   "start_time": "2024-01-07T13:08:01.027923",
   "version": "2.4.0"
  }
 },
 "nbformat": 4,
 "nbformat_minor": 5
}
